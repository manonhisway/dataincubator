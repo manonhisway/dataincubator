{
 "cells": [
  {
   "cell_type": "markdown",
   "metadata": {
    "extensions": {
     "jupyter_dashboards": {
      "version": 1,
      "views": {
       "grid_default": {
        "col": 4,
        "height": 4,
        "hidden": false,
        "row": 23,
        "width": 4
       },
       "report_default": {
        "hidden": false
       }
      }
     }
    }
   },
   "source": [
    "## TDI Project Part 1: Drug utilization by drug name"
   ]
  },
  {
   "cell_type": "markdown",
   "metadata": {
    "extensions": {
     "jupyter_dashboards": {
      "version": 1,
      "views": {
       "grid_default": {
        "hidden": true
       },
       "report_default": {
        "hidden": false
       }
      }
     }
    }
   },
   "source": [
    "Objective: Develop a dashboard app that enables us to browse through drugs and assess the level of prescription compared to other drugs in the same category over time.\n",
    "\n",
    "Deliverables:\n",
    "1. A method of displaying the level of prescription for every drug in a given category over the years, so that we can observe population-wide trends over time.\n",
    "\n",
    "2. Ability to identify the most prescribed drugs based on the level of prescription, so that we know which drugs we are interested in focusing on for further study.\n",
    "\n",
    "3. A method of visualizing trends for a specific drug.\n",
    "\n",
    "Approach:\n",
    "- We will use pandas module in Python to perform data manipulations for this app.\n",
    "- We will use seaborn module in Python to visualize our data in a box-and-whisker plot.\n",
    "- We will use a swarm plot overlay to identify outliers.\n",
    "- We will implement several UI controls to allow ease of selecting our variables of interest. \n",
    "- We will use the Medicare Part D Prescriber dataset, a publicly available dataset.\n",
    "\n",
    "This dataset is from the Center for Medicare and Medicaid Services website (https://www.cms.gov/Research-Statistics-Data-and-Systems/Statistics-Trends-and-Reports/Medicare-Provider-Charge-Data/Part-D-Prescriber.html). The shape of dataset from each year is as follows:\n",
    "\n",
    "2013: (3447, 17)\n",
    "2014: (3362, 17)\n",
    "2015: (3395, 17)\n",
    "2016: (3393, 19)"
   ]
  },
  {
   "cell_type": "code",
   "execution_count": 10,
   "metadata": {
    "extensions": {
     "jupyter_dashboards": {
      "version": 1,
      "views": {
       "grid_default": {
        "hidden": true
       },
       "report_default": {
        "hidden": true
       }
      }
     }
    }
   },
   "outputs": [],
   "source": [
    "# import modules, read data and create a dict of data\n",
    "%matplotlib inline\n",
    "import seaborn as sns\n",
    "import numpy as np\n",
    "import pandas as pd\n",
    "from ipywidgets import interact\n",
    "\n",
    "data_2013=pd.read_csv('Part_D_Prescriber_National_Summary_Report__Calendar_Year_2013.csv')\n",
    "data_2014=pd.read_csv('Part_D_Prescriber_National_Summary_Report__Calendar_Year_2014.csv')\n",
    "data_2015=pd.read_csv('Part_D_Prescriber_National_Summary_Report__Calendar_Year_2015.csv')\n",
    "data_2016=pd.read_csv('Part_D_Prescriber_National_Summary_Report__Calendar_Year_2016.csv')\n",
    "\n",
    "data = {2013: data_2013,\n",
    "        2014: data_2014,\n",
    "        2015: data_2015,\n",
    "        2016: data_2016}"
   ]
  },
  {
   "cell_type": "code",
   "execution_count": 11,
   "metadata": {
    "extensions": {
     "jupyter_dashboards": {
      "version": 1,
      "views": {
       "grid_default": {
        "col": 0,
        "height": 4,
        "hidden": false,
        "row": 0,
        "width": 4
       },
       "report_default": {
        "hidden": false
       }
      }
     }
    }
   },
   "outputs": [
    {
     "name": "stdout",
     "output_type": "stream",
     "text": [
      "(3393, 19) (3395, 17) (3362, 17) (3447, 17)\n"
     ]
    }
   ],
   "source": [
    "print(data_2016.shape, data_2015.shape, data_2014.shape, data_2013.shape)"
   ]
  },
  {
   "cell_type": "code",
   "execution_count": 12,
   "metadata": {
    "extensions": {
     "jupyter_dashboards": {
      "version": 1,
      "views": {
       "grid_default": {
        "hidden": true
       },
       "report_default": {
        "hidden": true
       }
      }
     }
    }
   },
   "outputs": [],
   "source": [
    "# relabel columns for ease of use\n",
    "col_mapper= {\n",
    "    'Drug Name': 'drug_name',\n",
    "    'Generic Name': 'generic_name',\n",
    "    ' Number of Prescribers ': 'num_rx',\n",
    "    ' Number of Medicare Part D Claims ': 'num_claims',\n",
    "    ' Number of Standardized 30-Day Part D Fills ': 'num_30d_fills',\n",
    "    'Aggregate Cost Paid for Part D Claims':'agg_cost_paid_claims',\n",
    "    ' Number of Medicare Beneficiaries ': 'num_bene',\n",
    "    ' GE65 Suppression Flag ': 'ge65_flag',\n",
    "    ' Number of Medicare Part D Claims for Beneficiaries 65+ ': 'claims_65',\n",
    "    ' Number of Standardized 30-Day Part D Fills for Beneficiaries 65+ ': 'num_30d_fills_65',\n",
    "    'Aggregate Cost Paid for Part D Claims for Beneficiaries 65+': 'agg_paid_claims_65',\n",
    "    ' Beneficiary 65+ Suppression Flag ': 'bene_65_flag',\n",
    "    ' Number of Medicare Beneficiaries 65+ ': 'num_bene_65',\n",
    "    'Aggregate Cost Share for Beneficiaries with Low Income Subsidy': 'agg_share_subsidy',\n",
    "    'Aggregate Cost Share for Beneficiaries with No Low Income Subsidy': 'agg_share_no_subsidy',\n",
    "    ' Opioid Drug Flag ': 'opioid',\n",
    "    'Extended-Release Opioid Drug Flag': 'er_opioid',\n",
    "    ' Antibiotic Drug Flag ':'abx',\n",
    "    ' Antipsychotic Drug Flag ':'apsy',\n",
    "    ' High Risk Medication (HRM) Drug Flag ':'hrm'\n",
    "}\n",
    "for y in [2013, 2014, 2015, 2016]:\n",
    "    data[y] = data[y].rename(col_mapper, axis='columns')"
   ]
  },
  {
   "cell_type": "code",
   "execution_count": 15,
   "metadata": {
    "extensions": {
     "jupyter_dashboards": {
      "version": 1,
      "views": {
       "grid_default": {
        "col": 7,
        "height": 23,
        "hidden": false,
        "row": 0,
        "width": 5
       },
       "report_default": {
        "hidden": false
       }
      }
     }
    },
    "scrolled": false
   },
   "outputs": [
    {
     "data": {
      "application/vnd.jupyter.widget-view+json": {
       "model_id": "663afe7f34c140f78de774bd4959631e",
       "version_major": 2,
       "version_minor": 0
      },
      "text/plain": [
       "interactive(children=(Dropdown(description='drug_type', options=('Opioid', 'Antibiotics', 'Antipsychotic'), va…"
      ]
     },
     "metadata": {},
     "output_type": "display_data"
    }
   ],
   "source": [
    "# In this section, I created an interactive code to compare the ratio of prescribed drugs to beneficiaries over the years.\n",
    "data_storage={}\n",
    "year = [2013, 2014, 2015, 2016]\n",
    "\n",
    "# function generates a swarmplot of a single drug in the observed category selected by the user\n",
    "def g(drug_name):\n",
    "    df_sum = pd.DataFrame()\n",
    "    if drug_name == 'all':\n",
    "        return\n",
    "    else:\n",
    "        # handles spacing issues in index labels\n",
    "        for y in year:\n",
    "            try:\n",
    "                df_sum = pd.concat([df_sum, data_storage[y].loc[drug_name.strip()]], axis=1, sort=False)\n",
    "            except:\n",
    "                try:\n",
    "                    df_sum = pd.concat([df_sum, data_storage[y].loc[drug_name.strip()+\" \"]], axis=1, sort=False)\n",
    "                except:\n",
    "                    df_sum\n",
    "            finally:\n",
    "                df_sum\n",
    "        if len(df_sum)>0:\n",
    "            df_sum = df_sum.transpose()\n",
    "            ax = sns.swarmplot(x='year',y='ratio', data=df_sum,\n",
    "                          color='red', size=6)\n",
    "            ax.set_ylabel('Drugs-to-beneficiaries ratio')\n",
    "            ax.set_xlabel('Year')\n",
    "            ax.set_title('Drug supplied over time for {}'.format(drug_name))\n",
    "        return\n",
    "\n",
    "# function returns a table of drugs based on the observation threshold set by the user    \n",
    "def h(threshold):\n",
    "    df_sum = pd.DataFrame()\n",
    "    for y in year:\n",
    "        df_sum = pd.concat([df_sum, data_storage[y][data_storage[y]['ratio']>threshold]], axis=0, sort=False)\n",
    "    return df_sum\n",
    "    \n",
    "# function generates a boxplot of a drug category selected by the user\n",
    "def f(drug_type):\n",
    "    d = {'Opioid': 'opioid', 'Antibiotics': 'abx', 'Antipsychotic': 'apsy', 'all':'all'}\n",
    "    dx = d[drug_type]\n",
    "    df_sum = pd.DataFrame()\n",
    "    data_print=pd.DataFrame()\n",
    "    for y in year:\n",
    "        if dx == 'all':\n",
    "            data_print = data[y]\n",
    "        else:\n",
    "            data_print = data[y][data[y][dx].str.strip()=='Y']\n",
    "        data_print = data_print.pivot_table(index = 'generic_name', aggfunc = np.sum)\n",
    "        data_print = data_print.dropna(axis=0)[data_print.num_bene>0]\n",
    "        df = pd.DataFrame()\n",
    "        df['ratio'] = data_print['num_30d_fills']/data_print['num_bene']\n",
    "        df['year'] = y\n",
    "        data_print=pd.concat([data_print,df],axis=1, sort=False)\n",
    "        data_storage[y] = data_print.loc[:,['ratio','year']]\n",
    "        df_sum = pd.concat([df_sum, df], axis=0, sort=False)\n",
    "        \n",
    "    sns.set(style='whitegrid')\n",
    "    ax = sns.boxplot(x='year', y='ratio', data=df_sum, palette = 'vlag')\n",
    "    ax = sns.swarmplot(x='year',y='ratio', data=df_sum,\n",
    "                      color='black', size=5)\n",
    "    ax.set_ylabel('Drugs-to-beneficiaries ratio')\n",
    "    #ax.set_yscale('log')\n",
    "    ax.set_xlabel('Year')\n",
    "    ax.set_title('Drug supplied over time for {} class'.format(drug_type))\n",
    "    \n",
    "    ax = interact(g, drug_name=['all'] + list(data_print.index))\n",
    "    interact(h, threshold = (0.0, df_sum.ratio.max()+1))\n",
    "    return\n",
    "\n",
    "interact(f, drug_type=['Opioid', 'Antibiotics', 'Antipsychotic']);"
   ]
  },
  {
   "cell_type": "markdown",
   "metadata": {},
   "source": [
    "Using the interactive dashboard above, we can make the following observations:\n",
    "\n",
    "1. Among opioids, methadone, butorphanol tartrate and nalbuphine lead the category.\n",
    "\n",
    "2. Among antibiotics, trimethoprim, demeclocycline and erythromycin lead the category.\n",
    "\n",
    "3. Among antipsychotics, common medications such as clozapine (Clozaril) and risperidone microspheres (Risperdal) lead the category."
   ]
  },
  {
   "cell_type": "code",
   "execution_count": 6,
   "metadata": {
    "extensions": {
     "jupyter_dashboards": {
      "version": 1,
      "views": {
       "grid_default": {},
       "report_default": {
        "hidden": true
       }
      }
     }
    }
   },
   "outputs": [
    {
     "data": {
      "text/html": [
       "<div>\n",
       "<style scoped>\n",
       "    .dataframe tbody tr th:only-of-type {\n",
       "        vertical-align: middle;\n",
       "    }\n",
       "\n",
       "    .dataframe tbody tr th {\n",
       "        vertical-align: top;\n",
       "    }\n",
       "\n",
       "    .dataframe thead th {\n",
       "        text-align: right;\n",
       "    }\n",
       "</style>\n",
       "<table border=\"1\" class=\"dataframe\">\n",
       "  <thead>\n",
       "    <tr style=\"text-align: right;\">\n",
       "      <th></th>\n",
       "      <th>num_rx</th>\n",
       "      <th>num_claims</th>\n",
       "      <th>num_30d_fills</th>\n",
       "      <th>agg_cost_paid_claims</th>\n",
       "      <th>num_bene</th>\n",
       "      <th>claims_65</th>\n",
       "      <th>num_30d_fills_65</th>\n",
       "      <th>agg_paid_claims_65</th>\n",
       "      <th>num_bene_65</th>\n",
       "      <th>agg_share_subsidy</th>\n",
       "      <th>agg_share_no_subsidy</th>\n",
       "    </tr>\n",
       "  </thead>\n",
       "  <tbody>\n",
       "    <tr>\n",
       "      <th>count</th>\n",
       "      <td>3233.000000</td>\n",
       "      <td>3.393000e+03</td>\n",
       "      <td>3.393000e+03</td>\n",
       "      <td>3.393000e+03</td>\n",
       "      <td>3.236000e+03</td>\n",
       "      <td>3.082000e+03</td>\n",
       "      <td>3.082000e+03</td>\n",
       "      <td>3.082000e+03</td>\n",
       "      <td>2.784000e+03</td>\n",
       "      <td>3.393000e+03</td>\n",
       "      <td>3.393000e+03</td>\n",
       "    </tr>\n",
       "    <tr>\n",
       "      <th>mean</th>\n",
       "      <td>25748.654500</td>\n",
       "      <td>4.367964e+05</td>\n",
       "      <td>6.563077e+05</td>\n",
       "      <td>4.306785e+07</td>\n",
       "      <td>1.172238e+05</td>\n",
       "      <td>3.716120e+05</td>\n",
       "      <td>5.864185e+05</td>\n",
       "      <td>3.252470e+07</td>\n",
       "      <td>1.090286e+05</td>\n",
       "      <td>2.891249e+05</td>\n",
       "      <td>4.358735e+06</td>\n",
       "    </tr>\n",
       "    <tr>\n",
       "      <th>std</th>\n",
       "      <td>71271.002618</td>\n",
       "      <td>2.362425e+06</td>\n",
       "      <td>3.990124e+06</td>\n",
       "      <td>1.861502e+08</td>\n",
       "      <td>5.558343e+05</td>\n",
       "      <td>2.019011e+06</td>\n",
       "      <td>3.591753e+06</td>\n",
       "      <td>1.402510e+08</td>\n",
       "      <td>4.939454e+05</td>\n",
       "      <td>1.235104e+06</td>\n",
       "      <td>1.733599e+07</td>\n",
       "    </tr>\n",
       "    <tr>\n",
       "      <th>min</th>\n",
       "      <td>11.000000</td>\n",
       "      <td>1.100000e+01</td>\n",
       "      <td>1.100000e+01</td>\n",
       "      <td>1.122600e+02</td>\n",
       "      <td>1.100000e+01</td>\n",
       "      <td>0.000000e+00</td>\n",
       "      <td>0.000000e+00</td>\n",
       "      <td>0.000000e+00</td>\n",
       "      <td>0.000000e+00</td>\n",
       "      <td>0.000000e+00</td>\n",
       "      <td>0.000000e+00</td>\n",
       "    </tr>\n",
       "    <tr>\n",
       "      <th>25%</th>\n",
       "      <td>145.000000</td>\n",
       "      <td>3.170000e+02</td>\n",
       "      <td>3.707000e+02</td>\n",
       "      <td>7.525630e+04</td>\n",
       "      <td>1.547500e+02</td>\n",
       "      <td>2.745000e+02</td>\n",
       "      <td>3.397750e+02</td>\n",
       "      <td>8.258295e+04</td>\n",
       "      <td>1.967500e+02</td>\n",
       "      <td>3.076000e+02</td>\n",
       "      <td>5.861810e+03</td>\n",
       "    </tr>\n",
       "    <tr>\n",
       "      <th>50%</th>\n",
       "      <td>1118.000000</td>\n",
       "      <td>3.423000e+03</td>\n",
       "      <td>4.316300e+03</td>\n",
       "      <td>1.176917e+06</td>\n",
       "      <td>1.263500e+03</td>\n",
       "      <td>2.947500e+03</td>\n",
       "      <td>3.706500e+03</td>\n",
       "      <td>1.102936e+06</td>\n",
       "      <td>1.436500e+03</td>\n",
       "      <td>4.427410e+03</td>\n",
       "      <td>9.704488e+04</td>\n",
       "    </tr>\n",
       "    <tr>\n",
       "      <th>75%</th>\n",
       "      <td>10382.000000</td>\n",
       "      <td>4.904600e+04</td>\n",
       "      <td>6.030690e+04</td>\n",
       "      <td>1.439267e+07</td>\n",
       "      <td>1.633325e+04</td>\n",
       "      <td>4.202175e+04</td>\n",
       "      <td>5.424095e+04</td>\n",
       "      <td>1.153013e+07</td>\n",
       "      <td>1.836175e+04</td>\n",
       "      <td>5.409299e+04</td>\n",
       "      <td>1.264731e+06</td>\n",
       "    </tr>\n",
       "    <tr>\n",
       "      <th>max</th>\n",
       "      <td>622206.000000</td>\n",
       "      <td>4.447331e+07</td>\n",
       "      <td>8.483562e+07</td>\n",
       "      <td>4.398534e+09</td>\n",
       "      <td>9.405696e+06</td>\n",
       "      <td>3.817320e+07</td>\n",
       "      <td>7.501537e+07</td>\n",
       "      <td>2.359691e+09</td>\n",
       "      <td>8.187209e+06</td>\n",
       "      <td>1.996467e+07</td>\n",
       "      <td>2.649509e+08</td>\n",
       "    </tr>\n",
       "  </tbody>\n",
       "</table>\n",
       "</div>"
      ],
      "text/plain": [
       "              num_rx    num_claims  num_30d_fills  agg_cost_paid_claims  \\\n",
       "count    3233.000000  3.393000e+03   3.393000e+03          3.393000e+03   \n",
       "mean    25748.654500  4.367964e+05   6.563077e+05          4.306785e+07   \n",
       "std     71271.002618  2.362425e+06   3.990124e+06          1.861502e+08   \n",
       "min        11.000000  1.100000e+01   1.100000e+01          1.122600e+02   \n",
       "25%       145.000000  3.170000e+02   3.707000e+02          7.525630e+04   \n",
       "50%      1118.000000  3.423000e+03   4.316300e+03          1.176917e+06   \n",
       "75%     10382.000000  4.904600e+04   6.030690e+04          1.439267e+07   \n",
       "max    622206.000000  4.447331e+07   8.483562e+07          4.398534e+09   \n",
       "\n",
       "           num_bene     claims_65  num_30d_fills_65  agg_paid_claims_65  \\\n",
       "count  3.236000e+03  3.082000e+03      3.082000e+03        3.082000e+03   \n",
       "mean   1.172238e+05  3.716120e+05      5.864185e+05        3.252470e+07   \n",
       "std    5.558343e+05  2.019011e+06      3.591753e+06        1.402510e+08   \n",
       "min    1.100000e+01  0.000000e+00      0.000000e+00        0.000000e+00   \n",
       "25%    1.547500e+02  2.745000e+02      3.397750e+02        8.258295e+04   \n",
       "50%    1.263500e+03  2.947500e+03      3.706500e+03        1.102936e+06   \n",
       "75%    1.633325e+04  4.202175e+04      5.424095e+04        1.153013e+07   \n",
       "max    9.405696e+06  3.817320e+07      7.501537e+07        2.359691e+09   \n",
       "\n",
       "        num_bene_65  agg_share_subsidy  agg_share_no_subsidy  \n",
       "count  2.784000e+03       3.393000e+03          3.393000e+03  \n",
       "mean   1.090286e+05       2.891249e+05          4.358735e+06  \n",
       "std    4.939454e+05       1.235104e+06          1.733599e+07  \n",
       "min    0.000000e+00       0.000000e+00          0.000000e+00  \n",
       "25%    1.967500e+02       3.076000e+02          5.861810e+03  \n",
       "50%    1.436500e+03       4.427410e+03          9.704488e+04  \n",
       "75%    1.836175e+04       5.409299e+04          1.264731e+06  \n",
       "max    8.187209e+06       1.996467e+07          2.649509e+08  "
      ]
     },
     "execution_count": 6,
     "metadata": {},
     "output_type": "execute_result"
    }
   ],
   "source": []
  },
  {
   "cell_type": "code",
   "execution_count": null,
   "metadata": {},
   "outputs": [],
   "source": []
  }
 ],
 "metadata": {
  "extensions": {
   "jupyter_dashboards": {
    "activeView": "report_default",
    "version": 1,
    "views": {
     "grid_default": {
      "cellMargin": 10,
      "defaultCellHeight": 20,
      "maxColumns": 12,
      "name": "grid",
      "type": "grid"
     },
     "report_default": {
      "name": "report",
      "type": "report"
     }
    }
   }
  },
  "kernelspec": {
   "display_name": "Python 3",
   "language": "python",
   "name": "python3"
  },
  "language_info": {
   "codemirror_mode": {
    "name": "ipython",
    "version": 3
   },
   "file_extension": ".py",
   "mimetype": "text/x-python",
   "name": "python",
   "nbconvert_exporter": "python",
   "pygments_lexer": "ipython3",
   "version": "3.6.5"
  },
  "widgets": {
   "application/vnd.jupyter.widget-state+json": {
    "state": {
     "028baa8ad8b34fb99307078ba1be89cf": {
      "model_module": "@jupyter-widgets/base",
      "model_module_version": "1.0.0",
      "model_name": "LayoutModel",
      "state": {}
     },
     "03ca4d25ed3d4611aa45b6e0a8aade90": {
      "model_module": "@jupyter-widgets/controls",
      "model_module_version": "1.2.0",
      "model_name": "FloatSliderModel",
      "state": {
       "description": "threshold",
       "layout": "IPY_MODEL_39a6cad2b9ac4311982035bb2d635ee9",
       "max": 19.141369443025038,
       "step": 0.1,
       "style": "IPY_MODEL_1c94d86b65c54c81b09907cb51fe564e",
       "value": 2.4
      }
     },
     "045e31ca76294ed48d20967e4a799672": {
      "model_module": "@jupyter-widgets/base",
      "model_module_version": "1.0.0",
      "model_name": "LayoutModel",
      "state": {}
     },
     "0467ea0ee6774a70bf8861d7dd562e80": {
      "model_module": "@jupyter-widgets/base",
      "model_module_version": "1.0.0",
      "model_name": "LayoutModel",
      "state": {}
     },
     "04720490da394ea294cb3486aa0d0f2f": {
      "model_module": "@jupyter-widgets/base",
      "model_module_version": "1.0.0",
      "model_name": "LayoutModel",
      "state": {}
     },
     "04ca5b20c07641179c2107aa7f6c1caa": {
      "model_module": "@jupyter-widgets/output",
      "model_module_version": "1.0.0",
      "model_name": "OutputModel",
      "state": {
       "layout": "IPY_MODEL_c39ab8de22ae402eaeb4f8328e9598c9",
       "outputs": [
        {
         "data": {
          "text/html": "<div>\n<style scoped>\n    .dataframe tbody tr th:only-of-type {\n        vertical-align: middle;\n    }\n\n    .dataframe tbody tr th {\n        vertical-align: top;\n    }\n\n    .dataframe thead th {\n        text-align: right;\n    }\n</style>\n<table border=\"1\" class=\"dataframe\">\n  <thead>\n    <tr style=\"text-align: right;\">\n      <th></th>\n      <th>ratio</th>\n      <th>year</th>\n    </tr>\n    <tr>\n      <th>generic_name</th>\n      <th></th>\n      <th></th>\n    </tr>\n  </thead>\n  <tbody>\n    <tr>\n      <th>BUTORPHANOL TARTRATE</th>\n      <td>8.428499</td>\n      <td>2013</td>\n    </tr>\n    <tr>\n      <th>METHADONE HCL</th>\n      <td>8.479963</td>\n      <td>2013</td>\n    </tr>\n    <tr>\n      <th>NALBUPHINE HCL</th>\n      <td>10.666384</td>\n      <td>2013</td>\n    </tr>\n    <tr>\n      <th>BUTORPHANOL TARTRATE</th>\n      <td>8.569593</td>\n      <td>2014</td>\n    </tr>\n    <tr>\n      <th>METHADONE HCL</th>\n      <td>8.580774</td>\n      <td>2014</td>\n    </tr>\n    <tr>\n      <th>NALBUPHINE HCL</th>\n      <td>11.088998</td>\n      <td>2014</td>\n    </tr>\n    <tr>\n      <th>BUTORPHANOL TARTRATE</th>\n      <td>8.581697</td>\n      <td>2015</td>\n    </tr>\n    <tr>\n      <th>METHADONE HCL</th>\n      <td>8.781248</td>\n      <td>2015</td>\n    </tr>\n    <tr>\n      <th>NALBUPHINE HCL</th>\n      <td>10.955906</td>\n      <td>2015</td>\n    </tr>\n    <tr>\n      <th>BUTORPHANOL TARTRATE</th>\n      <td>9.039714</td>\n      <td>2016</td>\n    </tr>\n    <tr>\n      <th>METHADONE HCL</th>\n      <td>9.021810</td>\n      <td>2016</td>\n    </tr>\n  </tbody>\n</table>\n</div>",
          "text/plain": "                           ratio  year\ngeneric_name                          \nBUTORPHANOL TARTRATE    8.428499  2013\nMETHADONE HCL           8.479963  2013\nNALBUPHINE HCL         10.666384  2013\nBUTORPHANOL TARTRATE    8.569593  2014\nMETHADONE HCL           8.580774  2014\nNALBUPHINE HCL         11.088998  2014\nBUTORPHANOL TARTRATE    8.581697  2015\nMETHADONE HCL           8.781248  2015\nNALBUPHINE HCL         10.955906  2015\nBUTORPHANOL TARTRATE    9.039714  2016\nMETHADONE HCL           9.021810  2016"
         },
         "metadata": {},
         "output_type": "display_data"
        }
       ]
      }
     },
     "04d393b4cd3040658b9cf43b89f71190": {
      "model_module": "@jupyter-widgets/base",
      "model_module_version": "1.0.0",
      "model_name": "LayoutModel",
      "state": {}
     },
     "04fcc3d1901147199cec210aaef3cd28": {
      "model_module": "@jupyter-widgets/output",
      "model_module_version": "1.0.0",
      "model_name": "OutputModel",
      "state": {
       "layout": "IPY_MODEL_67d46370628d4b05a86f6a55e1778265",
       "outputs": [
        {
         "data": {
          "image/png": "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\n",
          "text/plain": "<Figure size 432x288 with 1 Axes>"
         },
         "metadata": {},
         "output_type": "display_data"
        },
        {
         "data": {
          "application/vnd.jupyter.widget-view+json": {
           "model_id": "d1292d8a45694b6e8335339b43e061dc",
           "version_major": 2,
           "version_minor": 0
          },
          "text/plain": "interactive(children=(Dropdown(description='drug_name', options=('all', 'ARIPIPRAZOLE', 'ARIPIPRAZOLE LAUROXIL…"
         },
         "metadata": {},
         "output_type": "display_data"
        },
        {
         "data": {
          "application/vnd.jupyter.widget-view+json": {
           "model_id": "4f94450a42cf454ba753b45c74590af2",
           "version_major": 2,
           "version_minor": 0
          },
          "text/plain": "interactive(children=(FloatSlider(value=9.570684721512519, description='threshold', max=19.141369443025038), O…"
         },
         "metadata": {},
         "output_type": "display_data"
        }
       ]
      }
     },
     "0555dc892e8f47daad098edda398f89c": {
      "model_module": "@jupyter-widgets/controls",
      "model_module_version": "1.2.0",
      "model_name": "SliderStyleModel",
      "state": {
       "description_width": ""
      }
     },
     "07328731452345efa9eaa690961277a6": {
      "model_module": "@jupyter-widgets/controls",
      "model_module_version": "1.2.0",
      "model_name": "DropdownModel",
      "state": {
       "_options_labels": [
        "all",
        "ARIPIPRAZOLE",
        "ARIPIPRAZOLE LAUROXIL",
        "ASENAPINE MALEATE",
        "BREXPIPRAZOLE",
        "CARIPRAZINE HCL",
        "CHLORPROMAZINE HCL",
        "CLOZAPINE",
        "FLUPHENAZINE DECANOATE",
        "FLUPHENAZINE HCL",
        "HALOPERIDOL",
        "HALOPERIDOL DECANOATE",
        "HALOPERIDOL LACTATE",
        "ILOPERIDONE",
        "LOXAPINE SUCCINATE",
        "LURASIDONE HCL",
        "MOLINDONE HCL",
        "OLANZAPINE",
        "OLANZAPINE PAMOATE",
        "OLANZAPINE/FLUOXETINE HCL",
        "PALIPERIDONE",
        "PALIPERIDONE PALMITATE",
        "PERPHENAZINE",
        "PERPHENAZINE/AMITRIPTYLINE HCL",
        "PIMAVANSERIN TARTRATE",
        "PIMOZIDE",
        "QUETIAPINE FUMARATE",
        "RISPERIDONE",
        "RISPERIDONE MICROSPHERES",
        "THIORIDAZINE HCL",
        "THIOTHIXENE",
        "TRIFLUOPERAZINE HCL",
        "ZIPRASIDONE HCL",
        "ZIPRASIDONE MESYLATE"
       ],
       "description": "drug_name",
       "index": 0,
       "layout": "IPY_MODEL_db04c7365b064c108aa0381f965c399b",
       "style": "IPY_MODEL_0c32b20b2abc4324ab3c436b9f7ed98b"
      }
     },
     "07c5213f07314fd5a0153d2615014b76": {
      "model_module": "@jupyter-widgets/base",
      "model_module_version": "1.0.0",
      "model_name": "LayoutModel",
      "state": {}
     },
     "08cfe9612e99494aad1b82d834af1d45": {
      "model_module": "@jupyter-widgets/controls",
      "model_module_version": "1.2.0",
      "model_name": "VBoxModel",
      "state": {
       "_dom_classes": [
        "widget-interact"
       ],
       "children": [
        "IPY_MODEL_cad6c041e2054558a8ce5d981ed4c617",
        "IPY_MODEL_402b8834f72e4715856d995a55e321d8"
       ],
       "layout": "IPY_MODEL_a345dea38535442f8d098403e53abdf1"
      }
     },
     "09c8113bb49b41f9b6d58b953b078b50": {
      "model_module": "@jupyter-widgets/base",
      "model_module_version": "1.0.0",
      "model_name": "LayoutModel",
      "state": {}
     },
     "0a3c2d195f7a4e57adab4dc34e35396b": {
      "model_module": "@jupyter-widgets/base",
      "model_module_version": "1.0.0",
      "model_name": "LayoutModel",
      "state": {}
     },
     "0b433e46dbcf4924944732a1bdca1a51": {
      "model_module": "@jupyter-widgets/controls",
      "model_module_version": "1.2.0",
      "model_name": "VBoxModel",
      "state": {
       "_dom_classes": [
        "widget-interact"
       ],
       "children": [
        "IPY_MODEL_4847a48c79dc4950b7532c0bd1450b72",
        "IPY_MODEL_a4cf54283f354efaae6587bae0ed9775"
       ],
       "layout": "IPY_MODEL_4f732c25f20b4513b96ec0cc2ebc937e"
      }
     },
     "0b53c3443ed34e10901d1fe3b1ff6620": {
      "model_module": "@jupyter-widgets/controls",
      "model_module_version": "1.2.0",
      "model_name": "FloatSliderModel",
      "state": {
       "description": "threshold",
       "layout": "IPY_MODEL_76f9cc05402746e6a94d5c1dcb3bf536",
       "max": 6.913043478260869,
       "step": 0.1,
       "style": "IPY_MODEL_a1bfc2f640c445baa8836c1975438ff4",
       "value": 5.2
      }
     },
     "0bc6faf9df914a5482fd8997502cf2a7": {
      "model_module": "@jupyter-widgets/controls",
      "model_module_version": "1.2.0",
      "model_name": "VBoxModel",
      "state": {
       "_dom_classes": [
        "widget-interact"
       ],
       "children": [
        "IPY_MODEL_e0cf8e6c0ae446a4af87190582062587",
        "IPY_MODEL_4c5594ac6965418782aec7ad0bf1bbdf"
       ],
       "layout": "IPY_MODEL_79f539b31d2347d68bd41cdb18e43838"
      }
     },
     "0bcc7aa5610646cfb198bb92b094cc6a": {
      "model_module": "@jupyter-widgets/base",
      "model_module_version": "1.0.0",
      "model_name": "LayoutModel",
      "state": {}
     },
     "0c32b20b2abc4324ab3c436b9f7ed98b": {
      "model_module": "@jupyter-widgets/controls",
      "model_module_version": "1.2.0",
      "model_name": "DescriptionStyleModel",
      "state": {
       "description_width": ""
      }
     },
     "0d1b4721871148989e262acdb8ddfa7f": {
      "model_module": "@jupyter-widgets/base",
      "model_module_version": "1.0.0",
      "model_name": "LayoutModel",
      "state": {}
     },
     "0dad8548eba541f88097d221a692e587": {
      "model_module": "@jupyter-widgets/base",
      "model_module_version": "1.0.0",
      "model_name": "LayoutModel",
      "state": {}
     },
     "0faa67b2b929467789c14d8ab5035e4d": {
      "model_module": "@jupyter-widgets/base",
      "model_module_version": "1.0.0",
      "model_name": "LayoutModel",
      "state": {}
     },
     "10643cf083994da9bce2b6b0ecf88e7e": {
      "model_module": "@jupyter-widgets/controls",
      "model_module_version": "1.2.0",
      "model_name": "DescriptionStyleModel",
      "state": {
       "description_width": ""
      }
     },
     "106ac6ed451a47dabc8d88362d995ecf": {
      "model_module": "@jupyter-widgets/controls",
      "model_module_version": "1.2.0",
      "model_name": "FloatSliderModel",
      "state": {
       "description": "threshold",
       "layout": "IPY_MODEL_028baa8ad8b34fb99307078ba1be89cf",
       "max": 11199044.716295814,
       "step": 0.1,
       "style": "IPY_MODEL_e6dbc99ea894443092275d5a73231a04",
       "value": 10241702.6
      }
     },
     "110784d6176b4fcf8d138f6e48c63676": {
      "model_module": "@jupyter-widgets/output",
      "model_module_version": "1.0.0",
      "model_name": "OutputModel",
      "state": {
       "layout": "IPY_MODEL_07c5213f07314fd5a0153d2615014b76",
       "outputs": [
        {
         "data": {
          "text/html": "<div>\n<style scoped>\n    .dataframe tbody tr th:only-of-type {\n        vertical-align: middle;\n    }\n\n    .dataframe tbody tr th {\n        vertical-align: top;\n    }\n\n    .dataframe thead th {\n        text-align: right;\n    }\n</style>\n<table border=\"1\" class=\"dataframe\">\n  <thead>\n    <tr style=\"text-align: right;\">\n      <th></th>\n      <th>ratio</th>\n      <th>year</th>\n    </tr>\n    <tr>\n      <th>generic_name</th>\n      <th></th>\n      <th></th>\n    </tr>\n  </thead>\n  <tbody>\n    <tr>\n      <th>DEMECLOCYCLINE HCL</th>\n      <td>5.222255</td>\n      <td>2014</td>\n    </tr>\n    <tr>\n      <th>TRIMETHOPRIM</th>\n      <td>5.325239</td>\n      <td>2014</td>\n    </tr>\n    <tr>\n      <th>DEMECLOCYCLINE HCL</th>\n      <td>5.408544</td>\n      <td>2015</td>\n    </tr>\n    <tr>\n      <th>ERYTHROMYCIN LACTOBIONATE</th>\n      <td>5.913043</td>\n      <td>2015</td>\n    </tr>\n    <tr>\n      <th>TRIMETHOPRIM</th>\n      <td>5.425891</td>\n      <td>2015</td>\n    </tr>\n    <tr>\n      <th>DEMECLOCYCLINE HCL</th>\n      <td>5.897848</td>\n      <td>2016</td>\n    </tr>\n    <tr>\n      <th>ERYTHROMYCIN LACTOBIONATE</th>\n      <td>5.315789</td>\n      <td>2016</td>\n    </tr>\n    <tr>\n      <th>TRIMETHOPRIM</th>\n      <td>5.542666</td>\n      <td>2016</td>\n    </tr>\n  </tbody>\n</table>\n</div>",
          "text/plain": "                               ratio  year\ngeneric_name                              \nDEMECLOCYCLINE HCL          5.222255  2014\nTRIMETHOPRIM                5.325239  2014\nDEMECLOCYCLINE HCL          5.408544  2015\nERYTHROMYCIN LACTOBIONATE   5.913043  2015\nTRIMETHOPRIM                5.425891  2015\nDEMECLOCYCLINE HCL          5.897848  2016\nERYTHROMYCIN LACTOBIONATE   5.315789  2016\nTRIMETHOPRIM                5.542666  2016"
         },
         "metadata": {},
         "output_type": "display_data"
        }
       ]
      }
     },
     "11a7ed7d1fe94d23bc855614c6689df5": {
      "model_module": "@jupyter-widgets/output",
      "model_module_version": "1.0.0",
      "model_name": "OutputModel",
      "state": {
       "layout": "IPY_MODEL_81f65d7b7276442a931efa8b96e03802",
       "outputs": [
        {
         "data": {
          "text/html": "<div>\n<style scoped>\n    .dataframe tbody tr th:only-of-type {\n        vertical-align: middle;\n    }\n\n    .dataframe tbody tr th {\n        vertical-align: top;\n    }\n\n    .dataframe thead th {\n        text-align: right;\n    }\n</style>\n<table border=\"1\" class=\"dataframe\">\n  <thead>\n    <tr style=\"text-align: right;\">\n      <th></th>\n      <th>ratio</th>\n      <th>year</th>\n    </tr>\n    <tr>\n      <th>generic_name</th>\n      <th></th>\n      <th></th>\n    </tr>\n  </thead>\n  <tbody>\n    <tr>\n      <th>BUPRENORPHINE HCL</th>\n      <td>6.660687</td>\n      <td>2013</td>\n    </tr>\n    <tr>\n      <th>BUTORPHANOL TARTRATE</th>\n      <td>8.428499</td>\n      <td>2013</td>\n    </tr>\n    <tr>\n      <th>FENTANYL</th>\n      <td>6.774570</td>\n      <td>2013</td>\n    </tr>\n    <tr>\n      <th>FENTANYL CITRATE</th>\n      <td>6.896615</td>\n      <td>2013</td>\n    </tr>\n    <tr>\n      <th>HYDROMORPHONE HCL/PF</th>\n      <td>6.706160</td>\n      <td>2013</td>\n    </tr>\n    <tr>\n      <th>METHADONE HCL</th>\n      <td>8.479963</td>\n      <td>2013</td>\n    </tr>\n    <tr>\n      <th>NALBUPHINE HCL</th>\n      <td>10.666384</td>\n      <td>2013</td>\n    </tr>\n    <tr>\n      <th>BUPRENORPHINE HCL</th>\n      <td>7.250282</td>\n      <td>2014</td>\n    </tr>\n    <tr>\n      <th>BUTORPHANOL TARTRATE</th>\n      <td>8.569593</td>\n      <td>2014</td>\n    </tr>\n    <tr>\n      <th>FENTANYL</th>\n      <td>6.929670</td>\n      <td>2014</td>\n    </tr>\n    <tr>\n      <th>HYDROMORPHONE HCL/PF</th>\n      <td>6.518480</td>\n      <td>2014</td>\n    </tr>\n    <tr>\n      <th>METHADONE HCL</th>\n      <td>8.580774</td>\n      <td>2014</td>\n    </tr>\n    <tr>\n      <th>NALBUPHINE HCL</th>\n      <td>11.088998</td>\n      <td>2014</td>\n    </tr>\n    <tr>\n      <th>BUPRENORPHINE HCL</th>\n      <td>7.571632</td>\n      <td>2015</td>\n    </tr>\n    <tr>\n      <th>BUTORPHANOL TARTRATE</th>\n      <td>8.581697</td>\n      <td>2015</td>\n    </tr>\n    <tr>\n      <th>FENTANYL</th>\n      <td>7.022526</td>\n      <td>2015</td>\n    </tr>\n    <tr>\n      <th>FENTANYL CITRATE</th>\n      <td>6.214330</td>\n      <td>2015</td>\n    </tr>\n    <tr>\n      <th>HYDROMORPHONE HCL/PF</th>\n      <td>7.679341</td>\n      <td>2015</td>\n    </tr>\n    <tr>\n      <th>METHADONE HCL</th>\n      <td>8.781248</td>\n      <td>2015</td>\n    </tr>\n    <tr>\n      <th>NALBUPHINE HCL</th>\n      <td>10.955906</td>\n      <td>2015</td>\n    </tr>\n    <tr>\n      <th>BUPRENORPHINE HCL</th>\n      <td>6.972986</td>\n      <td>2016</td>\n    </tr>\n    <tr>\n      <th>BUTORPHANOL TARTRATE</th>\n      <td>9.039714</td>\n      <td>2016</td>\n    </tr>\n    <tr>\n      <th>FENTANYL</th>\n      <td>7.311540</td>\n      <td>2016</td>\n    </tr>\n    <tr>\n      <th>FENTANYL CITRATE</th>\n      <td>6.727981</td>\n      <td>2016</td>\n    </tr>\n    <tr>\n      <th>METHADONE HCL</th>\n      <td>9.021810</td>\n      <td>2016</td>\n    </tr>\n    <tr>\n      <th>MORPHINE SULFATE</th>\n      <td>6.069203</td>\n      <td>2016</td>\n    </tr>\n    <tr>\n      <th>OXYMORPHONE HCL</th>\n      <td>6.249675</td>\n      <td>2016</td>\n    </tr>\n  </tbody>\n</table>\n</div>",
          "text/plain": "                           ratio  year\ngeneric_name                          \nBUPRENORPHINE HCL       6.660687  2013\nBUTORPHANOL TARTRATE    8.428499  2013\nFENTANYL                6.774570  2013\nFENTANYL CITRATE        6.896615  2013\nHYDROMORPHONE HCL/PF    6.706160  2013\nMETHADONE HCL           8.479963  2013\nNALBUPHINE HCL         10.666384  2013\nBUPRENORPHINE HCL       7.250282  2014\nBUTORPHANOL TARTRATE    8.569593  2014\nFENTANYL                6.929670  2014\nHYDROMORPHONE HCL/PF    6.518480  2014\nMETHADONE HCL           8.580774  2014\nNALBUPHINE HCL         11.088998  2014\nBUPRENORPHINE HCL       7.571632  2015\nBUTORPHANOL TARTRATE    8.581697  2015\nFENTANYL                7.022526  2015\nFENTANYL CITRATE        6.214330  2015\nHYDROMORPHONE HCL/PF    7.679341  2015\nMETHADONE HCL           8.781248  2015\nNALBUPHINE HCL         10.955906  2015\nBUPRENORPHINE HCL       6.972986  2016\nBUTORPHANOL TARTRATE    9.039714  2016\nFENTANYL                7.311540  2016\nFENTANYL CITRATE        6.727981  2016\nMETHADONE HCL           9.021810  2016\nMORPHINE SULFATE        6.069203  2016\nOXYMORPHONE HCL         6.249675  2016"
         },
         "metadata": {},
         "output_type": "display_data"
        }
       ]
      }
     },
     "12566d18d9d24fa7a0d891147028cf4d": {
      "model_module": "@jupyter-widgets/controls",
      "model_module_version": "1.2.0",
      "model_name": "VBoxModel",
      "state": {
       "_dom_classes": [
        "widget-interact"
       ],
       "children": [
        "IPY_MODEL_03ca4d25ed3d4611aa45b6e0a8aade90",
        "IPY_MODEL_460f8f36691c4bc1a88103a489f243c7"
       ],
       "layout": "IPY_MODEL_f36561ff34d343649c4b343beb0798ce"
      }
     },
     "1303f31283b0476bb3851e961f25a9c0": {
      "model_module": "@jupyter-widgets/base",
      "model_module_version": "1.0.0",
      "model_name": "LayoutModel",
      "state": {}
     },
     "13bf4d4289af4c12abf77cdf69a937f2": {
      "model_module": "@jupyter-widgets/controls",
      "model_module_version": "1.2.0",
      "model_name": "DropdownModel",
      "state": {
       "_options_labels": [
        "all",
        "AMIKACIN SULFATE",
        "AMOXICILLIN",
        "AMOXICILLIN/POTASSIUM CLAV",
        "AMPICILLIN SODIUM",
        "AMPICILLIN SODIUM/SULBACTAM NA",
        "AMPICILLIN TRIHYDRATE",
        "AZITHROMYCIN",
        "AZTREONAM",
        "AZTREONAM/DEXTROSE-WATER",
        "CEFACLOR",
        "CEFADROXIL",
        "CEFAZOLIN SODIUM",
        "CEFAZOLIN SODIUM/DEXTROSE,ISO",
        "CEFDINIR",
        "CEFEPIME HCL",
        "CEFEPIME HCL IN DEXTROSE 5 %",
        "CEFEPIME IN ISO-OSM DEXTROSE",
        "CEFIXIME",
        "CEFOTAXIME SODIUM",
        "CEFOTETAN DISOD/ISOSM DEXTROSE",
        "CEFOTETAN DISODIUM",
        "CEFOXITIN SODIUM",
        "CEFOXITIN SODIUM/DEXTROSE,ISO",
        "CEFPODOXIME PROXETIL",
        "CEFPROZIL",
        "CEFTAROLINE FOSAMIL ACETATE",
        "CEFTAZIDIME",
        "CEFTAZIDIME IN DEXTROSE5%WATER",
        "CEFTAZIDIME IN IS-OSM DEXTROSE",
        "CEFTAZIDIME/AVIBACTAM",
        "CEFTIBUTEN",
        "CEFTOLOZANE/TAZOBACTAM",
        "CEFTRIAXONE IN IS-OSM DEXTROSE",
        "CEFTRIAXONE SODIUM",
        "CEFUROXIME AXETIL",
        "CEFUROXIME SODIUM",
        "CEPHALEXIN",
        "CIPROFLOXACIN",
        "CIPROFLOXACIN HCL",
        "CIPROFLOXACIN LACTATE",
        "CIPROFLOXACIN LACTATE/D5W",
        "CIPROFLOXACIN/CIPROFLOXA HCL",
        "CLARITHROMYCIN",
        "CLINDAMYCIN HCL",
        "CLINDAMYCIN PALMITATE HCL",
        "CLINDAMYCIN PHOSPHATE",
        "CLINDAMYCIN PHOSPHATE/D5W",
        "DALBAVANCIN HCL",
        "DAPTOMYCIN",
        "DEMECLOCYCLINE HCL",
        "DICLOXACILLIN SODIUM",
        "DORIPENEM",
        "DOXYCYCLINE CALCIUM",
        "DOXYCYCLINE HYCLATE",
        "DOXYCYCLINE MONOHYDRATE",
        "ERTAPENEM SODIUM",
        "ERYTHROMYCIN BASE",
        "ERYTHROMYCIN ETHYLSUCCINATE",
        "ERYTHROMYCIN LACTOBIONATE",
        "ERYTHROMYCIN STEARATE",
        "FIDAXOMICIN",
        "FOSFOMYCIN TROMETHAMINE",
        "GENTAMICIN IN NACL, ISO-OSM",
        "GENTAMICIN SULFATE",
        "GENTAMICIN SULFATE/PF",
        "IMIPENEM/CILASTATIN SODIUM",
        "LEVOFLOXACIN",
        "LEVOFLOXACIN/D5W",
        "LINCOMYCIN HCL",
        "LINEZOLID",
        "LINEZOLID-0.9% SODIUM CHLORIDE",
        "MEROPENEM",
        "MEROPENEM-0.9% SODIUM CHLORIDE",
        "METRONIDAZOLE",
        "METRONIDAZOLE/SODIUM CHLORIDE",
        "MINOCYCLINE HCL",
        "MOXIFLOXACIN HCL",
        "MOXIFLOXACIN IN NACL (ISO-OSM)",
        "MOXIFLOXACIN/SOD.ACE,SUL/WATER",
        "NAFCILLIN IN DEXTROSE,ISO-OSM",
        "NAFCILLIN SODIUM",
        "NEOMYCIN SULFATE",
        "NITROFURANTOIN",
        "NITROFURANTOIN MACROCRYSTAL",
        "NITROFURANTOIN MONOHYD/M-CRYST",
        "OFLOXACIN",
        "ORITAVANCIN DIPHOSPHATE",
        "OXACILLIN IN DEXTROSE(ISO-OSM)",
        "OXACILLIN SODIUM",
        "PEN G BENZ/PEN G PROCAINE",
        "PEN G POT/DEXTROSE-WATER",
        "PENICILLIN G BENZATHINE",
        "PENICILLIN G POTASSIUM",
        "PENICILLIN G PROCAINE",
        "PENICILLIN G SODIUM",
        "PENICILLIN V POTASSIUM",
        "PIPERACILLIN SODIUM/TAZOBACTAM",
        "PIPERACILLIN-TAZO-DEXTROSE,ISO",
        "QUINUPRISTIN/DALFOPRISTIN",
        "RIFAXIMIN",
        "STREPTOMYCIN SULFATE",
        "SULFADIAZINE",
        "SULFAMETHOXAZOLE/TRIMETHOPRIM",
        "TEDIZOLID PHOSPHATE",
        "TETRACYCLINE HCL",
        "TIGECYCLINE",
        "TOBRAMYCIN SULFATE",
        "TRIMETHOPRIM",
        "VANCOMYCIN HCL",
        "VANCOMYCIN HCL IN DEXTROSE 5 %",
        "VANCOMYCIN/0.9 % SOD CHLORIDE"
       ],
       "description": "drug_name",
       "index": 0,
       "layout": "IPY_MODEL_fc339192266b4537a7526fd2ab6bc656",
       "style": "IPY_MODEL_410ecfdbc0e64f92b2086e2d09b6b055"
      }
     },
     "13f4437f68594c35afb63eb56a99fc01": {
      "model_module": "@jupyter-widgets/output",
      "model_module_version": "1.0.0",
      "model_name": "OutputModel",
      "state": {
       "layout": "IPY_MODEL_a8b305bb3d3c4e5e8d53ed7570af6181"
      }
     },
     "140fbf83e82d4813bd96eb340ff2243b": {
      "model_module": "@jupyter-widgets/base",
      "model_module_version": "1.0.0",
      "model_name": "LayoutModel",
      "state": {}
     },
     "15ce8ef59f494e0a9a229856b815692c": {
      "model_module": "@jupyter-widgets/output",
      "model_module_version": "1.0.0",
      "model_name": "OutputModel",
      "state": {
       "layout": "IPY_MODEL_fc0af1aaa6df4f93abfea9af693f4186",
       "outputs": [
        {
         "data": {
          "text/html": "<div>\n<style scoped>\n    .dataframe tbody tr th:only-of-type {\n        vertical-align: middle;\n    }\n\n    .dataframe tbody tr th {\n        vertical-align: top;\n    }\n\n    .dataframe thead th {\n        text-align: right;\n    }\n</style>\n<table border=\"1\" class=\"dataframe\">\n  <thead>\n    <tr style=\"text-align: right;\">\n      <th></th>\n      <th>ratio</th>\n      <th>year</th>\n    </tr>\n    <tr>\n      <th>generic_name</th>\n      <th></th>\n      <th></th>\n    </tr>\n  </thead>\n  <tbody>\n    <tr>\n      <th>CLOZAPINE</th>\n      <td>17.970055</td>\n      <td>2013</td>\n    </tr>\n    <tr>\n      <th>RISPERIDONE MICROSPHERES</th>\n      <td>10.814915</td>\n      <td>2013</td>\n    </tr>\n    <tr>\n      <th>THIORIDAZINE HCL</th>\n      <td>10.173941</td>\n      <td>2013</td>\n    </tr>\n    <tr>\n      <th>CLOZAPINE</th>\n      <td>18.141369</td>\n      <td>2014</td>\n    </tr>\n    <tr>\n      <th>OLANZAPINE PAMOATE</th>\n      <td>9.854184</td>\n      <td>2014</td>\n    </tr>\n    <tr>\n      <th>RISPERIDONE MICROSPHERES</th>\n      <td>11.035812</td>\n      <td>2014</td>\n    </tr>\n    <tr>\n      <th>THIORIDAZINE HCL</th>\n      <td>10.247685</td>\n      <td>2014</td>\n    </tr>\n    <tr>\n      <th>CLOZAPINE</th>\n      <td>18.076115</td>\n      <td>2015</td>\n    </tr>\n    <tr>\n      <th>ILOPERIDONE</th>\n      <td>9.663766</td>\n      <td>2015</td>\n    </tr>\n    <tr>\n      <th>OLANZAPINE PAMOATE</th>\n      <td>10.791449</td>\n      <td>2015</td>\n    </tr>\n    <tr>\n      <th>RISPERIDONE MICROSPHERES</th>\n      <td>11.241899</td>\n      <td>2015</td>\n    </tr>\n    <tr>\n      <th>THIORIDAZINE HCL</th>\n      <td>10.498580</td>\n      <td>2015</td>\n    </tr>\n    <tr>\n      <th>CLOZAPINE</th>\n      <td>17.919076</td>\n      <td>2016</td>\n    </tr>\n    <tr>\n      <th>ILOPERIDONE</th>\n      <td>10.180692</td>\n      <td>2016</td>\n    </tr>\n    <tr>\n      <th>OLANZAPINE PAMOATE</th>\n      <td>10.942883</td>\n      <td>2016</td>\n    </tr>\n    <tr>\n      <th>RISPERIDONE MICROSPHERES</th>\n      <td>11.419924</td>\n      <td>2016</td>\n    </tr>\n    <tr>\n      <th>THIORIDAZINE HCL</th>\n      <td>10.772658</td>\n      <td>2016</td>\n    </tr>\n  </tbody>\n</table>\n</div>",
          "text/plain": "                               ratio  year\ngeneric_name                              \nCLOZAPINE                  17.970055  2013\nRISPERIDONE MICROSPHERES   10.814915  2013\nTHIORIDAZINE HCL           10.173941  2013\nCLOZAPINE                  18.141369  2014\nOLANZAPINE PAMOATE          9.854184  2014\nRISPERIDONE MICROSPHERES   11.035812  2014\nTHIORIDAZINE HCL           10.247685  2014\nCLOZAPINE                  18.076115  2015\nILOPERIDONE                 9.663766  2015\nOLANZAPINE PAMOATE         10.791449  2015\nRISPERIDONE MICROSPHERES   11.241899  2015\nTHIORIDAZINE HCL           10.498580  2015\nCLOZAPINE                  17.919076  2016\nILOPERIDONE                10.180692  2016\nOLANZAPINE PAMOATE         10.942883  2016\nRISPERIDONE MICROSPHERES   11.419924  2016\nTHIORIDAZINE HCL           10.772658  2016"
         },
         "metadata": {},
         "output_type": "display_data"
        }
       ]
      }
     },
     "15dfa2e31b5643c18e54ec5129f3c8f5": {
      "model_module": "@jupyter-widgets/base",
      "model_module_version": "1.0.0",
      "model_name": "LayoutModel",
      "state": {}
     },
     "160bd03f871446af9351c8d344cdecd0": {
      "model_module": "@jupyter-widgets/base",
      "model_module_version": "1.0.0",
      "model_name": "LayoutModel",
      "state": {}
     },
     "16acc74390ea41ddbb36fc92b17c8f1b": {
      "model_module": "@jupyter-widgets/controls",
      "model_module_version": "1.2.0",
      "model_name": "VBoxModel",
      "state": {
       "_dom_classes": [
        "widget-interact"
       ],
       "children": [
        "IPY_MODEL_fac81c797a6a42cab7616e5878c45061",
        "IPY_MODEL_19a1b088e286471f8901e469a23d44a1"
       ],
       "layout": "IPY_MODEL_4da25333e87c4903aacafc7a7e79317d"
      }
     },
     "16aebd3713a44f1eb686323ed9bad2d2": {
      "model_module": "@jupyter-widgets/base",
      "model_module_version": "1.0.0",
      "model_name": "LayoutModel",
      "state": {}
     },
     "17fed87e5e3f43ea87ddefc3bf010ef9": {
      "model_module": "@jupyter-widgets/output",
      "model_module_version": "1.0.0",
      "model_name": "OutputModel",
      "state": {
       "layout": "IPY_MODEL_9c519c6e2e9f4ecd80c4e4968a7d4901",
       "outputs": [
        {
         "data": {
          "text/html": "<div>\n<style scoped>\n    .dataframe tbody tr th:only-of-type {\n        vertical-align: middle;\n    }\n\n    .dataframe tbody tr th {\n        vertical-align: top;\n    }\n\n    .dataframe thead th {\n        text-align: right;\n    }\n</style>\n<table border=\"1\" class=\"dataframe\">\n  <thead>\n    <tr style=\"text-align: right;\">\n      <th></th>\n      <th>ratio</th>\n      <th>year</th>\n    </tr>\n    <tr>\n      <th>generic_name</th>\n      <th></th>\n      <th></th>\n    </tr>\n  </thead>\n  <tbody>\n    <tr>\n      <th>AMPICILLIN SODIUM</th>\n      <td>4.313636</td>\n      <td>2013</td>\n    </tr>\n    <tr>\n      <th>AMPICILLIN SODIUM/SULBACTAM NA</th>\n      <td>3.831211</td>\n      <td>2013</td>\n    </tr>\n    <tr>\n      <th>CEFTAROLINE FOSAMIL ACETATE</th>\n      <td>3.943135</td>\n      <td>2013</td>\n    </tr>\n    <tr>\n      <th>CEFTAZIDIME NA/DEXTROSE,ISO</th>\n      <td>3.700000</td>\n      <td>2013</td>\n    </tr>\n    <tr>\n      <th>DAPTOMYCIN</th>\n      <td>4.285596</td>\n      <td>2013</td>\n    </tr>\n    <tr>\n      <th>DEMECLOCYCLINE HCL</th>\n      <td>5.157789</td>\n      <td>2013</td>\n    </tr>\n    <tr>\n      <th>NAFCILLIN IN DEXTROSE,ISO-OSM</th>\n      <td>3.602490</td>\n      <td>2013</td>\n    </tr>\n    <tr>\n      <th>NAFCILLIN SODIUM</th>\n      <td>4.081959</td>\n      <td>2013</td>\n    </tr>\n    <tr>\n      <th>OXACILLIN SODIUM</th>\n      <td>3.877448</td>\n      <td>2013</td>\n    </tr>\n    <tr>\n      <th>PEN G POT/DEXTROSE-WATER</th>\n      <td>3.487805</td>\n      <td>2013</td>\n    </tr>\n    <tr>\n      <th>PENICILLIN G POTASSIUM</th>\n      <td>3.478587</td>\n      <td>2013</td>\n    </tr>\n    <tr>\n      <th>QUINUPRISTIN/DALFOPRISTIN</th>\n      <td>3.470588</td>\n      <td>2013</td>\n    </tr>\n    <tr>\n      <th>RIFAXIMIN</th>\n      <td>4.043919</td>\n      <td>2013</td>\n    </tr>\n    <tr>\n      <th>STREPTOMYCIN SULFATE</th>\n      <td>3.706757</td>\n      <td>2013</td>\n    </tr>\n    <tr>\n      <th>SULFADIAZINE</th>\n      <td>3.807084</td>\n      <td>2013</td>\n    </tr>\n    <tr>\n      <th>TIGECYCLINE</th>\n      <td>3.505778</td>\n      <td>2013</td>\n    </tr>\n    <tr>\n      <th>TOBRAMYCIN/SODIUM CHLORIDE</th>\n      <td>4.578947</td>\n      <td>2013</td>\n    </tr>\n    <tr>\n      <th>TRIMETHOPRIM</th>\n      <td>5.168219</td>\n      <td>2013</td>\n    </tr>\n    <tr>\n      <th>AMPICILLIN SODIUM</th>\n      <td>4.175677</td>\n      <td>2014</td>\n    </tr>\n    <tr>\n      <th>AMPICILLIN SODIUM/SULBACTAM NA</th>\n      <td>3.824224</td>\n      <td>2014</td>\n    </tr>\n    <tr>\n      <th>CEFOXITIN SODIUM</th>\n      <td>3.559375</td>\n      <td>2014</td>\n    </tr>\n    <tr>\n      <th>CEFTAROLINE FOSAMIL ACETATE</th>\n      <td>3.769164</td>\n      <td>2014</td>\n    </tr>\n    <tr>\n      <th>CEFTAZIDIME IN DEXTROSE5%WATER</th>\n      <td>3.666667</td>\n      <td>2014</td>\n    </tr>\n    <tr>\n      <th>DAPTOMYCIN</th>\n      <td>4.299185</td>\n      <td>2014</td>\n    </tr>\n    <tr>\n      <th>DEMECLOCYCLINE HCL</th>\n      <td>5.222255</td>\n      <td>2014</td>\n    </tr>\n    <tr>\n      <th>DORIPENEM</th>\n      <td>3.726190</td>\n      <td>2014</td>\n    </tr>\n    <tr>\n      <th>NAFCILLIN SODIUM</th>\n      <td>4.073505</td>\n      <td>2014</td>\n    </tr>\n    <tr>\n      <th>OXACILLIN SODIUM</th>\n      <td>4.307574</td>\n      <td>2014</td>\n    </tr>\n    <tr>\n      <th>OXACILLIN SODIUM/DEXTROSE,ISO</th>\n      <td>3.932039</td>\n      <td>2014</td>\n    </tr>\n    <tr>\n      <th>PENICILLIN G POTASSIUM</th>\n      <td>3.585005</td>\n      <td>2014</td>\n    </tr>\n    <tr>\n      <th>...</th>\n      <td>...</td>\n      <td>...</td>\n    </tr>\n    <tr>\n      <th>ERYTHROMYCIN LACTOBIONATE</th>\n      <td>5.913043</td>\n      <td>2015</td>\n    </tr>\n    <tr>\n      <th>NAFCILLIN SODIUM</th>\n      <td>4.208362</td>\n      <td>2015</td>\n    </tr>\n    <tr>\n      <th>OXACILLIN SODIUM</th>\n      <td>4.253370</td>\n      <td>2015</td>\n    </tr>\n    <tr>\n      <th>OXACILLIN SODIUM/DEXTROSE,ISO</th>\n      <td>3.728477</td>\n      <td>2015</td>\n    </tr>\n    <tr>\n      <th>PENICILLIN G POTASSIUM</th>\n      <td>3.507589</td>\n      <td>2015</td>\n    </tr>\n    <tr>\n      <th>QUINUPRISTIN/DALFOPRISTIN</th>\n      <td>4.250000</td>\n      <td>2015</td>\n    </tr>\n    <tr>\n      <th>RIFAXIMIN</th>\n      <td>4.424787</td>\n      <td>2015</td>\n    </tr>\n    <tr>\n      <th>STREPTOMYCIN SULFATE</th>\n      <td>4.302985</td>\n      <td>2015</td>\n    </tr>\n    <tr>\n      <th>SULFADIAZINE</th>\n      <td>3.723745</td>\n      <td>2015</td>\n    </tr>\n    <tr>\n      <th>TELAVANCIN HCL</th>\n      <td>3.882353</td>\n      <td>2015</td>\n    </tr>\n    <tr>\n      <th>TIGECYCLINE</th>\n      <td>3.798691</td>\n      <td>2015</td>\n    </tr>\n    <tr>\n      <th>TRIMETHOPRIM</th>\n      <td>5.425891</td>\n      <td>2015</td>\n    </tr>\n    <tr>\n      <th>AMPICILLIN SODIUM</th>\n      <td>4.850468</td>\n      <td>2016</td>\n    </tr>\n    <tr>\n      <th>AMPICILLIN SODIUM/SULBACTAM NA</th>\n      <td>3.873637</td>\n      <td>2016</td>\n    </tr>\n    <tr>\n      <th>CEFAZOLIN SODIUM</th>\n      <td>3.487598</td>\n      <td>2016</td>\n    </tr>\n    <tr>\n      <th>CEFOXITIN SODIUM</th>\n      <td>3.827727</td>\n      <td>2016</td>\n    </tr>\n    <tr>\n      <th>CEFTAROLINE FOSAMIL ACETATE</th>\n      <td>3.826634</td>\n      <td>2016</td>\n    </tr>\n    <tr>\n      <th>CEFTAZIDIME IN IS-OSM DEXTROSE</th>\n      <td>5.095238</td>\n      <td>2016</td>\n    </tr>\n    <tr>\n      <th>CEFTOLOZANE/TAZOBACTAM</th>\n      <td>4.181467</td>\n      <td>2016</td>\n    </tr>\n    <tr>\n      <th>DAPTOMYCIN</th>\n      <td>4.126323</td>\n      <td>2016</td>\n    </tr>\n    <tr>\n      <th>DEMECLOCYCLINE HCL</th>\n      <td>5.897848</td>\n      <td>2016</td>\n    </tr>\n    <tr>\n      <th>DORIPENEM</th>\n      <td>4.253165</td>\n      <td>2016</td>\n    </tr>\n    <tr>\n      <th>ERYTHROMYCIN LACTOBIONATE</th>\n      <td>5.315789</td>\n      <td>2016</td>\n    </tr>\n    <tr>\n      <th>NAFCILLIN SODIUM</th>\n      <td>4.052414</td>\n      <td>2016</td>\n    </tr>\n    <tr>\n      <th>OXACILLIN SODIUM</th>\n      <td>4.330372</td>\n      <td>2016</td>\n    </tr>\n    <tr>\n      <th>QUINUPRISTIN/DALFOPRISTIN</th>\n      <td>3.727273</td>\n      <td>2016</td>\n    </tr>\n    <tr>\n      <th>RIFAXIMIN</th>\n      <td>4.033157</td>\n      <td>2016</td>\n    </tr>\n    <tr>\n      <th>SULFADIAZINE</th>\n      <td>3.792054</td>\n      <td>2016</td>\n    </tr>\n    <tr>\n      <th>TIGECYCLINE</th>\n      <td>3.931023</td>\n      <td>2016</td>\n    </tr>\n    <tr>\n      <th>TRIMETHOPRIM</th>\n      <td>5.542666</td>\n      <td>2016</td>\n    </tr>\n  </tbody>\n</table>\n<p>76 rows × 2 columns</p>\n</div>",
          "text/plain": "                                    ratio  year\ngeneric_name                                   \nAMPICILLIN SODIUM                4.313636  2013\nAMPICILLIN SODIUM/SULBACTAM NA   3.831211  2013\nCEFTAROLINE FOSAMIL ACETATE      3.943135  2013\nCEFTAZIDIME NA/DEXTROSE,ISO      3.700000  2013\nDAPTOMYCIN                       4.285596  2013\nDEMECLOCYCLINE HCL               5.157789  2013\nNAFCILLIN IN DEXTROSE,ISO-OSM    3.602490  2013\nNAFCILLIN SODIUM                 4.081959  2013\nOXACILLIN SODIUM                 3.877448  2013\nPEN G POT/DEXTROSE-WATER         3.487805  2013\nPENICILLIN G POTASSIUM           3.478587  2013\nQUINUPRISTIN/DALFOPRISTIN        3.470588  2013\nRIFAXIMIN                        4.043919  2013\nSTREPTOMYCIN SULFATE             3.706757  2013\nSULFADIAZINE                     3.807084  2013\nTIGECYCLINE                      3.505778  2013\nTOBRAMYCIN/SODIUM CHLORIDE       4.578947  2013\nTRIMETHOPRIM                     5.168219  2013\nAMPICILLIN SODIUM                4.175677  2014\nAMPICILLIN SODIUM/SULBACTAM NA   3.824224  2014\nCEFOXITIN SODIUM                 3.559375  2014\nCEFTAROLINE FOSAMIL ACETATE      3.769164  2014\nCEFTAZIDIME IN DEXTROSE5%WATER   3.666667  2014\nDAPTOMYCIN                       4.299185  2014\nDEMECLOCYCLINE HCL               5.222255  2014\nDORIPENEM                        3.726190  2014\nNAFCILLIN SODIUM                 4.073505  2014\nOXACILLIN SODIUM                 4.307574  2014\nOXACILLIN SODIUM/DEXTROSE,ISO    3.932039  2014\nPENICILLIN G POTASSIUM           3.585005  2014\n...                                   ...   ...\nERYTHROMYCIN LACTOBIONATE        5.913043  2015\nNAFCILLIN SODIUM                 4.208362  2015\nOXACILLIN SODIUM                 4.253370  2015\nOXACILLIN SODIUM/DEXTROSE,ISO    3.728477  2015\nPENICILLIN G POTASSIUM           3.507589  2015\nQUINUPRISTIN/DALFOPRISTIN        4.250000  2015\nRIFAXIMIN                        4.424787  2015\nSTREPTOMYCIN SULFATE             4.302985  2015\nSULFADIAZINE                     3.723745  2015\nTELAVANCIN HCL                   3.882353  2015\nTIGECYCLINE                      3.798691  2015\nTRIMETHOPRIM                     5.425891  2015\nAMPICILLIN SODIUM                4.850468  2016\nAMPICILLIN SODIUM/SULBACTAM NA   3.873637  2016\nCEFAZOLIN SODIUM                 3.487598  2016\nCEFOXITIN SODIUM                 3.827727  2016\nCEFTAROLINE FOSAMIL ACETATE      3.826634  2016\nCEFTAZIDIME IN IS-OSM DEXTROSE   5.095238  2016\nCEFTOLOZANE/TAZOBACTAM           4.181467  2016\nDAPTOMYCIN                       4.126323  2016\nDEMECLOCYCLINE HCL               5.897848  2016\nDORIPENEM                        4.253165  2016\nERYTHROMYCIN LACTOBIONATE        5.315789  2016\nNAFCILLIN SODIUM                 4.052414  2016\nOXACILLIN SODIUM                 4.330372  2016\nQUINUPRISTIN/DALFOPRISTIN        3.727273  2016\nRIFAXIMIN                        4.033157  2016\nSULFADIAZINE                     3.792054  2016\nTIGECYCLINE                      3.931023  2016\nTRIMETHOPRIM                     5.542666  2016\n\n[76 rows x 2 columns]"
         },
         "metadata": {},
         "output_type": "display_data"
        }
       ]
      }
     },
     "182800fc34e2449395b234bf0390c487": {
      "model_module": "@jupyter-widgets/base",
      "model_module_version": "1.0.0",
      "model_name": "LayoutModel",
      "state": {}
     },
     "19a1b088e286471f8901e469a23d44a1": {
      "model_module": "@jupyter-widgets/output",
      "model_module_version": "1.0.0",
      "model_name": "OutputModel",
      "state": {
       "layout": "IPY_MODEL_23a8380ddcef47f2b33239afec007f3d"
      }
     },
     "1b37dfa2319f4e03a9ef60d7eb12dbb5": {
      "model_module": "@jupyter-widgets/controls",
      "model_module_version": "1.2.0",
      "model_name": "VBoxModel",
      "state": {
       "_dom_classes": [
        "widget-interact"
       ],
       "children": [
        "IPY_MODEL_314920514eec4a718dec0d4847720608",
        "IPY_MODEL_8ac6a5b097eb46c6a8af9783dd732644"
       ],
       "layout": "IPY_MODEL_846e2453238e4fd5af7d0d89a78102ca"
      }
     },
     "1b47c7146a4047849d040884bcd6113b": {
      "model_module": "@jupyter-widgets/controls",
      "model_module_version": "1.2.0",
      "model_name": "DropdownModel",
      "state": {
       "_options_labels": [
        "all",
        "ACETAMINOPHEN WITH CODEINE",
        "ACETAMINOPHEN/CAFF/DIHYDROCOD",
        "ASPIRIN/CAFFEIN/DIHYDROCODEINE",
        "BUPRENORPHINE",
        "BUPRENORPHINE HCL",
        "BUTALBIT/ACETAMIN/CAFF/CODEINE",
        "BUTORPHANOL TARTRATE",
        "CARISOPRODOL/ASPIRIN/CODEINE",
        "CODEINE SULFATE",
        "CODEINE/BUTALBITAL/ASA/CAFFEIN",
        "FENTANYL",
        "FENTANYL CITRATE",
        "HYDROCODONE BITARTRATE",
        "HYDROCODONE/ACETAMINOPHEN",
        "HYDROCODONE/IBUPROFEN",
        "HYDROMORPHONE HCL",
        "IBUPROFEN/OXYCODONE HCL",
        "LEVORPHANOL TARTRATE",
        "MEPERIDINE HCL",
        "METHADONE HCL",
        "MORPHINE SULFATE",
        "MORPHINE SULFATE/NALTREXONE",
        "OPIUM TINCTURE",
        "OPIUM/BELLADONNA ALKALOIDS",
        "OXYCODONE HCL",
        "OXYCODONE HCL/ACETAMINOPHEN",
        "OXYCODONE HCL/ASPIRIN",
        "OXYCODONE MYRISTATE",
        "OXYMORPHONE HCL",
        "PENTAZOCINE HCL/NALOXONE HCL",
        "TAPENTADOL HCL",
        "TRAMADOL HCL",
        "TRAMADOL HCL/ACETAMINOPHEN"
       ],
       "description": "drug_name",
       "index": 0,
       "layout": "IPY_MODEL_68ad3b85e8f74cafbbaf1cdf5893d14d",
       "style": "IPY_MODEL_d42b7715edaa4c38b8b12be753ec8a9e"
      }
     },
     "1ba61a5cba8c4ad7af6e113f2f21d35c": {
      "model_module": "@jupyter-widgets/base",
      "model_module_version": "1.0.0",
      "model_name": "LayoutModel",
      "state": {}
     },
     "1bc0baab9b7a43648ab04e386c43365f": {
      "model_module": "@jupyter-widgets/base",
      "model_module_version": "1.0.0",
      "model_name": "LayoutModel",
      "state": {}
     },
     "1c51b70746dd4eac8fee5dfff8b736ea": {
      "model_module": "@jupyter-widgets/base",
      "model_module_version": "1.0.0",
      "model_name": "LayoutModel",
      "state": {}
     },
     "1c86dffd8f884bf199ab7c902939ac22": {
      "model_module": "@jupyter-widgets/base",
      "model_module_version": "1.0.0",
      "model_name": "LayoutModel",
      "state": {}
     },
     "1c94d86b65c54c81b09907cb51fe564e": {
      "model_module": "@jupyter-widgets/controls",
      "model_module_version": "1.2.0",
      "model_name": "SliderStyleModel",
      "state": {
       "description_width": ""
      }
     },
     "1d3bbbbdadef416398d5f2e297405741": {
      "model_module": "@jupyter-widgets/controls",
      "model_module_version": "1.2.0",
      "model_name": "VBoxModel",
      "state": {
       "_dom_classes": [
        "widget-interact"
       ],
       "children": [
        "IPY_MODEL_900a03175c1d44bd809777a8a83c154b",
        "IPY_MODEL_c1dc4e56e6da43fdb27ff1105fbe656c"
       ],
       "layout": "IPY_MODEL_182800fc34e2449395b234bf0390c487"
      }
     },
     "1dba92fd54a1449fa5811ffe53c4a06d": {
      "model_module": "@jupyter-widgets/base",
      "model_module_version": "1.0.0",
      "model_name": "LayoutModel",
      "state": {}
     },
     "1f820802a42c4ba29d379bd7f7b08f4e": {
      "model_module": "@jupyter-widgets/base",
      "model_module_version": "1.0.0",
      "model_name": "LayoutModel",
      "state": {}
     },
     "1fc68e2902a24bc4b7e45a9ffa227b4d": {
      "model_module": "@jupyter-widgets/base",
      "model_module_version": "1.0.0",
      "model_name": "LayoutModel",
      "state": {}
     },
     "20e4cd1c489645a5916b7dd2d28e4357": {
      "model_module": "@jupyter-widgets/base",
      "model_module_version": "1.0.0",
      "model_name": "LayoutModel",
      "state": {}
     },
     "21a109a2522a44e0b032f9ea591df347": {
      "model_module": "@jupyter-widgets/base",
      "model_module_version": "1.0.0",
      "model_name": "LayoutModel",
      "state": {}
     },
     "225f2fa3b2b4442ea1a15886c2632adb": {
      "model_module": "@jupyter-widgets/base",
      "model_module_version": "1.0.0",
      "model_name": "LayoutModel",
      "state": {}
     },
     "234b78e94f104e51a090507b58290f8e": {
      "model_module": "@jupyter-widgets/controls",
      "model_module_version": "1.2.0",
      "model_name": "SliderStyleModel",
      "state": {
       "description_width": ""
      }
     },
     "235f654cda194f06938da3f479a25bcc": {
      "model_module": "@jupyter-widgets/controls",
      "model_module_version": "1.2.0",
      "model_name": "VBoxModel",
      "state": {
       "_dom_classes": [
        "widget-interact"
       ],
       "children": [
        "IPY_MODEL_ed8cd63dd90d4fb4a588351ee29cc4ed",
        "IPY_MODEL_44f793d4937d46f78a77e85e79d07ad0"
       ],
       "layout": "IPY_MODEL_82da58852f014a6cbb2b7c9b7f77a9c6"
      }
     },
     "2391ca43943f4172be570116d28cf930": {
      "model_module": "@jupyter-widgets/base",
      "model_module_version": "1.0.0",
      "model_name": "LayoutModel",
      "state": {}
     },
     "23a8380ddcef47f2b33239afec007f3d": {
      "model_module": "@jupyter-widgets/base",
      "model_module_version": "1.0.0",
      "model_name": "LayoutModel",
      "state": {}
     },
     "24aa30b4784e4204a55650fba537c7a4": {
      "model_module": "@jupyter-widgets/base",
      "model_module_version": "1.0.0",
      "model_name": "LayoutModel",
      "state": {}
     },
     "2702823d594646e28a924516cd890188": {
      "model_module": "@jupyter-widgets/controls",
      "model_module_version": "1.2.0",
      "model_name": "FloatSliderModel",
      "state": {
       "description": "threshold",
       "layout": "IPY_MODEL_74a6ebdc97b64c42b0a03c2460f80764",
       "max": 6.913043478260869,
       "step": 0.1,
       "style": "IPY_MODEL_36833bcc4b344d568b9cce0975fa66b8",
       "value": 1.1
      }
     },
     "2ac9d630d68641169388ae8c91142c93": {
      "model_module": "@jupyter-widgets/controls",
      "model_module_version": "1.2.0",
      "model_name": "FloatSliderModel",
      "state": {
       "description": "threshold",
       "layout": "IPY_MODEL_666e9cdcb242401fa9e93b91ad82d621",
       "max": 12.088997555012224,
       "step": 0.1,
       "style": "IPY_MODEL_410acc21c42740d98f01f3ab923f4b62",
       "value": 7.9
      }
     },
     "2bf5fd959c0240038df5d603cfd2f8eb": {
      "model_module": "@jupyter-widgets/base",
      "model_module_version": "1.0.0",
      "model_name": "LayoutModel",
      "state": {}
     },
     "2c4a4cc0100a49328e0995e26ff3182a": {
      "model_module": "@jupyter-widgets/output",
      "model_module_version": "1.0.0",
      "model_name": "OutputModel",
      "state": {
       "layout": "IPY_MODEL_d09ec7e63ae641c380d9005b43e229c8"
      }
     },
     "2c746d34ceea43d78e1e1d3cd83c61f7": {
      "model_module": "@jupyter-widgets/controls",
      "model_module_version": "1.2.0",
      "model_name": "FloatSliderModel",
      "state": {
       "description": "threshold",
       "layout": "IPY_MODEL_83ecd1c214004d1abf719385d5e98c9b",
       "max": 12.088997555012224,
       "step": 0.1,
       "style": "IPY_MODEL_95047b43d45546bf864964b3c83ce570",
       "value": 8
      }
     },
     "2f33910fcaf243e98c5452bfe677e160": {
      "model_module": "@jupyter-widgets/controls",
      "model_module_version": "1.2.0",
      "model_name": "DescriptionStyleModel",
      "state": {
       "description_width": ""
      }
     },
     "305ef6925b424c23bb04b408f9cd468a": {
      "model_module": "@jupyter-widgets/base",
      "model_module_version": "1.0.0",
      "model_name": "LayoutModel",
      "state": {}
     },
     "311738bd56be4b5d91e8ceffb7c3c5e8": {
      "model_module": "@jupyter-widgets/base",
      "model_module_version": "1.0.0",
      "model_name": "LayoutModel",
      "state": {}
     },
     "314920514eec4a718dec0d4847720608": {
      "model_module": "@jupyter-widgets/controls",
      "model_module_version": "1.2.0",
      "model_name": "DropdownModel",
      "state": {
       "_options_labels": [
        "Opioid",
        "Antibiotics",
        "Antipsychotic"
       ],
       "description": "drug_type",
       "index": 2,
       "layout": "IPY_MODEL_ab74a8decb5c43a39bd869d7a9584fa2",
       "style": "IPY_MODEL_64fa2c7ae74d4e7691b18971fb0d4896"
      }
     },
     "33d6590eadcc4823abe2ed31544ac15a": {
      "model_module": "@jupyter-widgets/controls",
      "model_module_version": "1.2.0",
      "model_name": "FloatSliderModel",
      "state": {
       "description": "threshold",
       "layout": "IPY_MODEL_cbf5d2231731461593270e8c9e6befc0",
       "max": 152360496.54090068,
       "step": 0.1,
       "style": "IPY_MODEL_0555dc892e8f47daad098edda398f89c",
       "value": 76180248.27045034
      }
     },
     "34652c90ec674d8f9517506ecb02dcaf": {
      "model_module": "@jupyter-widgets/output",
      "model_module_version": "1.0.0",
      "model_name": "OutputModel",
      "state": {
       "layout": "IPY_MODEL_867bc28e5d274810a3ed59dc6302fc24",
       "outputs": [
        {
         "data": {
          "text/html": "<div>\n<style scoped>\n    .dataframe tbody tr th:only-of-type {\n        vertical-align: middle;\n    }\n\n    .dataframe tbody tr th {\n        vertical-align: top;\n    }\n\n    .dataframe thead th {\n        text-align: right;\n    }\n</style>\n<table border=\"1\" class=\"dataframe\">\n  <thead>\n    <tr style=\"text-align: right;\">\n      <th></th>\n      <th>ratio</th>\n      <th>year</th>\n    </tr>\n    <tr>\n      <th>generic_name</th>\n      <th></th>\n      <th></th>\n    </tr>\n  </thead>\n  <tbody>\n    <tr>\n      <th>BUTORPHANOL TARTRATE</th>\n      <td>8.428499</td>\n      <td>2013</td>\n    </tr>\n    <tr>\n      <th>METHADONE HCL</th>\n      <td>8.479963</td>\n      <td>2013</td>\n    </tr>\n    <tr>\n      <th>NALBUPHINE HCL</th>\n      <td>10.666384</td>\n      <td>2013</td>\n    </tr>\n    <tr>\n      <th>BUTORPHANOL TARTRATE</th>\n      <td>8.569593</td>\n      <td>2014</td>\n    </tr>\n    <tr>\n      <th>METHADONE HCL</th>\n      <td>8.580774</td>\n      <td>2014</td>\n    </tr>\n    <tr>\n      <th>NALBUPHINE HCL</th>\n      <td>11.088998</td>\n      <td>2014</td>\n    </tr>\n    <tr>\n      <th>BUTORPHANOL TARTRATE</th>\n      <td>8.581697</td>\n      <td>2015</td>\n    </tr>\n    <tr>\n      <th>METHADONE HCL</th>\n      <td>8.781248</td>\n      <td>2015</td>\n    </tr>\n    <tr>\n      <th>NALBUPHINE HCL</th>\n      <td>10.955906</td>\n      <td>2015</td>\n    </tr>\n    <tr>\n      <th>BUTORPHANOL TARTRATE</th>\n      <td>9.039714</td>\n      <td>2016</td>\n    </tr>\n    <tr>\n      <th>METHADONE HCL</th>\n      <td>9.021810</td>\n      <td>2016</td>\n    </tr>\n  </tbody>\n</table>\n</div>",
          "text/plain": "                           ratio  year\ngeneric_name                          \nBUTORPHANOL TARTRATE    8.428499  2013\nMETHADONE HCL           8.479963  2013\nNALBUPHINE HCL         10.666384  2013\nBUTORPHANOL TARTRATE    8.569593  2014\nMETHADONE HCL           8.580774  2014\nNALBUPHINE HCL         11.088998  2014\nBUTORPHANOL TARTRATE    8.581697  2015\nMETHADONE HCL           8.781248  2015\nNALBUPHINE HCL         10.955906  2015\nBUTORPHANOL TARTRATE    9.039714  2016\nMETHADONE HCL           9.021810  2016"
         },
         "metadata": {},
         "output_type": "display_data"
        }
       ]
      }
     },
     "34f125bb67754333857e6ca1e12ee96b": {
      "model_module": "@jupyter-widgets/controls",
      "model_module_version": "1.2.0",
      "model_name": "VBoxModel",
      "state": {
       "_dom_classes": [
        "widget-interact"
       ],
       "children": [
        "IPY_MODEL_4754b2404a014d5cbad35f63bbd92afc",
        "IPY_MODEL_74e660fd8ee14883bc0586daf89d8f93"
       ],
       "layout": "IPY_MODEL_1c51b70746dd4eac8fee5dfff8b736ea"
      }
     },
     "3620a9541f784e31810f42b7f6059d66": {
      "model_module": "@jupyter-widgets/controls",
      "model_module_version": "1.2.0",
      "model_name": "SliderStyleModel",
      "state": {
       "description_width": ""
      }
     },
     "36833bcc4b344d568b9cce0975fa66b8": {
      "model_module": "@jupyter-widgets/controls",
      "model_module_version": "1.2.0",
      "model_name": "SliderStyleModel",
      "state": {
       "description_width": ""
      }
     },
     "36913dfd6d5046e9a65b6aa931d8e5eb": {
      "model_module": "@jupyter-widgets/base",
      "model_module_version": "1.0.0",
      "model_name": "LayoutModel",
      "state": {}
     },
     "3697f0e098c843ef969c8514c43ac657": {
      "model_module": "@jupyter-widgets/controls",
      "model_module_version": "1.2.0",
      "model_name": "DescriptionStyleModel",
      "state": {
       "description_width": ""
      }
     },
     "3755e37373d4464cabcaa89e8f1f7e8a": {
      "model_module": "@jupyter-widgets/base",
      "model_module_version": "1.0.0",
      "model_name": "LayoutModel",
      "state": {}
     },
     "37c7b60f9a2d454b8a0caf4dedca2d58": {
      "model_module": "@jupyter-widgets/output",
      "model_module_version": "1.0.0",
      "model_name": "OutputModel",
      "state": {
       "layout": "IPY_MODEL_df8d736f32f24208b7b992e501135825"
      }
     },
     "381e1da545ce49e48ed02500258d574b": {
      "model_module": "@jupyter-widgets/base",
      "model_module_version": "1.0.0",
      "model_name": "LayoutModel",
      "state": {}
     },
     "395a04b64c294df5a89e9c33eb912432": {
      "model_module": "@jupyter-widgets/controls",
      "model_module_version": "1.2.0",
      "model_name": "VBoxModel",
      "state": {
       "_dom_classes": [
        "widget-interact"
       ],
       "children": [
        "IPY_MODEL_39d8c038d7b9466aac7a0ea786eb3957",
        "IPY_MODEL_90fd66d014cd44dc84a2602192ee421d"
       ],
       "layout": "IPY_MODEL_9ded4bd1432b429b8194b91768c43024"
      }
     },
     "399f82e4a9414643a2eacf2ede77977f": {
      "model_module": "@jupyter-widgets/base",
      "model_module_version": "1.0.0",
      "model_name": "LayoutModel",
      "state": {}
     },
     "39a431b7445e4feb886a1ad413ec2483": {
      "model_module": "@jupyter-widgets/base",
      "model_module_version": "1.0.0",
      "model_name": "LayoutModel",
      "state": {}
     },
     "39a6cad2b9ac4311982035bb2d635ee9": {
      "model_module": "@jupyter-widgets/base",
      "model_module_version": "1.0.0",
      "model_name": "LayoutModel",
      "state": {}
     },
     "39b1970ff69746ec8ecdf517a1adc8c6": {
      "model_module": "@jupyter-widgets/base",
      "model_module_version": "1.0.0",
      "model_name": "LayoutModel",
      "state": {}
     },
     "39d8c038d7b9466aac7a0ea786eb3957": {
      "model_module": "@jupyter-widgets/controls",
      "model_module_version": "1.2.0",
      "model_name": "DropdownModel",
      "state": {
       "_options_labels": [
        "all",
        "AMIKACIN SULFATE",
        "AMOXICILLIN",
        "AMOXICILLIN/POTASSIUM CLAV",
        "AMPICILLIN SODIUM",
        "AMPICILLIN SODIUM/SULBACTAM NA",
        "AMPICILLIN TRIHYDRATE",
        "AZITHROMYCIN",
        "AZTREONAM",
        "AZTREONAM/DEXTROSE-WATER",
        "CEFACLOR",
        "CEFADROXIL",
        "CEFAZOLIN SODIUM",
        "CEFAZOLIN SODIUM/DEXTROSE,ISO",
        "CEFDINIR",
        "CEFEPIME HCL",
        "CEFEPIME HCL IN DEXTROSE 5 %",
        "CEFEPIME IN ISO-OSM DEXTROSE",
        "CEFIXIME",
        "CEFOTAXIME SODIUM",
        "CEFOTETAN DISOD/ISOSM DEXTROSE",
        "CEFOTETAN DISODIUM",
        "CEFOXITIN SODIUM",
        "CEFOXITIN SODIUM/DEXTROSE,ISO",
        "CEFPODOXIME PROXETIL",
        "CEFPROZIL",
        "CEFTAROLINE FOSAMIL ACETATE",
        "CEFTAZIDIME",
        "CEFTAZIDIME IN DEXTROSE5%WATER",
        "CEFTAZIDIME IN IS-OSM DEXTROSE",
        "CEFTAZIDIME/AVIBACTAM",
        "CEFTIBUTEN",
        "CEFTOLOZANE/TAZOBACTAM",
        "CEFTRIAXONE IN IS-OSM DEXTROSE",
        "CEFTRIAXONE SODIUM",
        "CEFUROXIME AXETIL",
        "CEFUROXIME SODIUM",
        "CEPHALEXIN",
        "CIPROFLOXACIN",
        "CIPROFLOXACIN HCL",
        "CIPROFLOXACIN LACTATE",
        "CIPROFLOXACIN LACTATE/D5W",
        "CIPROFLOXACIN/CIPROFLOXA HCL",
        "CLARITHROMYCIN",
        "CLINDAMYCIN HCL",
        "CLINDAMYCIN PALMITATE HCL",
        "CLINDAMYCIN PHOSPHATE",
        "CLINDAMYCIN PHOSPHATE/D5W",
        "DALBAVANCIN HCL",
        "DAPTOMYCIN",
        "DEMECLOCYCLINE HCL",
        "DICLOXACILLIN SODIUM",
        "DORIPENEM",
        "DOXYCYCLINE CALCIUM",
        "DOXYCYCLINE HYCLATE",
        "DOXYCYCLINE MONOHYDRATE",
        "ERTAPENEM SODIUM",
        "ERYTHROMYCIN BASE",
        "ERYTHROMYCIN ETHYLSUCCINATE",
        "ERYTHROMYCIN LACTOBIONATE",
        "ERYTHROMYCIN STEARATE",
        "FIDAXOMICIN",
        "FOSFOMYCIN TROMETHAMINE",
        "GENTAMICIN IN NACL, ISO-OSM",
        "GENTAMICIN SULFATE",
        "GENTAMICIN SULFATE/PF",
        "IMIPENEM/CILASTATIN SODIUM",
        "LEVOFLOXACIN",
        "LEVOFLOXACIN/D5W",
        "LINCOMYCIN HCL",
        "LINEZOLID",
        "LINEZOLID-0.9% SODIUM CHLORIDE",
        "MEROPENEM",
        "MEROPENEM-0.9% SODIUM CHLORIDE",
        "METRONIDAZOLE",
        "METRONIDAZOLE/SODIUM CHLORIDE",
        "MINOCYCLINE HCL",
        "MOXIFLOXACIN HCL",
        "MOXIFLOXACIN IN NACL (ISO-OSM)",
        "MOXIFLOXACIN/SOD.ACE,SUL/WATER",
        "NAFCILLIN IN DEXTROSE,ISO-OSM",
        "NAFCILLIN SODIUM",
        "NEOMYCIN SULFATE",
        "NITROFURANTOIN",
        "NITROFURANTOIN MACROCRYSTAL",
        "NITROFURANTOIN MONOHYD/M-CRYST",
        "OFLOXACIN",
        "ORITAVANCIN DIPHOSPHATE",
        "OXACILLIN IN DEXTROSE(ISO-OSM)",
        "OXACILLIN SODIUM",
        "PEN G BENZ/PEN G PROCAINE",
        "PEN G POT/DEXTROSE-WATER",
        "PENICILLIN G BENZATHINE",
        "PENICILLIN G POTASSIUM",
        "PENICILLIN G PROCAINE",
        "PENICILLIN G SODIUM",
        "PENICILLIN V POTASSIUM",
        "PIPERACILLIN SODIUM/TAZOBACTAM",
        "PIPERACILLIN-TAZO-DEXTROSE,ISO",
        "QUINUPRISTIN/DALFOPRISTIN",
        "RIFAXIMIN",
        "STREPTOMYCIN SULFATE",
        "SULFADIAZINE",
        "SULFAMETHOXAZOLE/TRIMETHOPRIM",
        "TEDIZOLID PHOSPHATE",
        "TETRACYCLINE HCL",
        "TIGECYCLINE",
        "TOBRAMYCIN SULFATE",
        "TRIMETHOPRIM",
        "VANCOMYCIN HCL",
        "VANCOMYCIN HCL IN DEXTROSE 5 %",
        "VANCOMYCIN/0.9 % SOD CHLORIDE"
       ],
       "description": "drug_name",
       "index": 0,
       "layout": "IPY_MODEL_225f2fa3b2b4442ea1a15886c2632adb",
       "style": "IPY_MODEL_9f0f547b2e0d455a93be70c4fd082ad0"
      }
     },
     "3b18c8715a3a47998bcc3ded13ae5c9f": {
      "model_module": "@jupyter-widgets/controls",
      "model_module_version": "1.2.0",
      "model_name": "VBoxModel",
      "state": {
       "_dom_classes": [
        "widget-interact"
       ],
       "children": [
        "IPY_MODEL_f15de3079d544dad97bb2be828e9c5af",
        "IPY_MODEL_80ab0332dfe343f2a504ae113802f07a"
       ],
       "layout": "IPY_MODEL_6ec6bde877634f13a0689818472f4336"
      }
     },
     "3cce3983c8014291a825561347bf165f": {
      "model_module": "@jupyter-widgets/base",
      "model_module_version": "1.0.0",
      "model_name": "LayoutModel",
      "state": {}
     },
     "3cd6b41e22c449b880781c4b639da4fe": {
      "model_module": "@jupyter-widgets/base",
      "model_module_version": "1.0.0",
      "model_name": "LayoutModel",
      "state": {}
     },
     "3d5d753c73d743ee90aed563555b5366": {
      "model_module": "@jupyter-widgets/controls",
      "model_module_version": "1.2.0",
      "model_name": "FloatSliderModel",
      "state": {
       "description": "threshold",
       "layout": "IPY_MODEL_83e690024faa4e728327e13940396bd0",
       "max": 152360496.54090068,
       "step": 0.1,
       "style": "IPY_MODEL_234b78e94f104e51a090507b58290f8e",
       "value": 76180248.27045034
      }
     },
     "3e3bdebf7a5b4cf1a782ad5ae3255538": {
      "model_module": "@jupyter-widgets/base",
      "model_module_version": "1.0.0",
      "model_name": "LayoutModel",
      "state": {}
     },
     "3f74fec499114dbda199a170368f0601": {
      "model_module": "@jupyter-widgets/output",
      "model_module_version": "1.0.0",
      "model_name": "OutputModel",
      "state": {
       "layout": "IPY_MODEL_d9e5acfa0bc44bb18ce158a318547be6",
       "outputs": [
        {
         "data": {
          "text/html": "<div>\n<style scoped>\n    .dataframe tbody tr th:only-of-type {\n        vertical-align: middle;\n    }\n\n    .dataframe tbody tr th {\n        vertical-align: top;\n    }\n\n    .dataframe thead th {\n        text-align: right;\n    }\n</style>\n<table border=\"1\" class=\"dataframe\">\n  <thead>\n    <tr style=\"text-align: right;\">\n      <th></th>\n      <th>ratio</th>\n      <th>year</th>\n    </tr>\n    <tr>\n      <th>generic_name</th>\n      <th></th>\n      <th></th>\n    </tr>\n  </thead>\n  <tbody>\n    <tr>\n      <th>OLANZAPINE</th>\n      <td>2.653509e+07</td>\n      <td>2013</td>\n    </tr>\n    <tr>\n      <th>QUETIAPINE FUMARATE</th>\n      <td>6.158522e+07</td>\n      <td>2013</td>\n    </tr>\n    <tr>\n      <th>RISPERIDONE</th>\n      <td>4.194355e+07</td>\n      <td>2013</td>\n    </tr>\n    <tr>\n      <th>ARIPIPRAZOLE</th>\n      <td>2.379656e+07</td>\n      <td>2014</td>\n    </tr>\n    <tr>\n      <th>OLANZAPINE</th>\n      <td>2.755897e+07</td>\n      <td>2014</td>\n    </tr>\n    <tr>\n      <th>QUETIAPINE FUMARATE</th>\n      <td>6.515685e+07</td>\n      <td>2014</td>\n    </tr>\n    <tr>\n      <th>RISPERIDONE</th>\n      <td>4.145343e+07</td>\n      <td>2014</td>\n    </tr>\n    <tr>\n      <th>OLANZAPINE</th>\n      <td>2.851785e+07</td>\n      <td>2015</td>\n    </tr>\n    <tr>\n      <th>QUETIAPINE FUMARATE</th>\n      <td>6.871494e+07</td>\n      <td>2015</td>\n    </tr>\n    <tr>\n      <th>RISPERIDONE</th>\n      <td>4.066531e+07</td>\n      <td>2015</td>\n    </tr>\n    <tr>\n      <th>OLANZAPINE</th>\n      <td>2.973811e+07</td>\n      <td>2016</td>\n    </tr>\n    <tr>\n      <th>QUETIAPINE FUMARATE</th>\n      <td>7.116453e+07</td>\n      <td>2016</td>\n    </tr>\n    <tr>\n      <th>RISPERIDONE</th>\n      <td>4.065512e+07</td>\n      <td>2016</td>\n    </tr>\n  </tbody>\n</table>\n</div>",
          "text/plain": "                             ratio  year\ngeneric_name                            \nOLANZAPINE            2.653509e+07  2013\nQUETIAPINE FUMARATE   6.158522e+07  2013\nRISPERIDONE           4.194355e+07  2013\nARIPIPRAZOLE          2.379656e+07  2014\nOLANZAPINE            2.755897e+07  2014\nQUETIAPINE FUMARATE   6.515685e+07  2014\nRISPERIDONE           4.145343e+07  2014\nOLANZAPINE            2.851785e+07  2015\nQUETIAPINE FUMARATE   6.871494e+07  2015\nRISPERIDONE           4.066531e+07  2015\nOLANZAPINE            2.973811e+07  2016\nQUETIAPINE FUMARATE   7.116453e+07  2016\nRISPERIDONE           4.065512e+07  2016"
         },
         "metadata": {},
         "output_type": "display_data"
        }
       ]
      }
     },
     "3f9386cc07f54cd29115da9a8348e46f": {
      "model_module": "@jupyter-widgets/output",
      "model_module_version": "1.0.0",
      "model_name": "OutputModel",
      "state": {
       "layout": "IPY_MODEL_b58016876eb946ac974313538a2a6c1c",
       "outputs": [
        {
         "data": {
          "text/html": "<div>\n<style scoped>\n    .dataframe tbody tr th:only-of-type {\n        vertical-align: middle;\n    }\n\n    .dataframe tbody tr th {\n        vertical-align: top;\n    }\n\n    .dataframe thead th {\n        text-align: right;\n    }\n</style>\n<table border=\"1\" class=\"dataframe\">\n  <thead>\n    <tr style=\"text-align: right;\">\n      <th></th>\n      <th>ratio</th>\n      <th>year</th>\n    </tr>\n    <tr>\n      <th>generic_name</th>\n      <th></th>\n      <th></th>\n    </tr>\n  </thead>\n  <tbody>\n    <tr>\n      <th>CLOZAPINE</th>\n      <td>17.970055</td>\n      <td>2013</td>\n    </tr>\n    <tr>\n      <th>RISPERIDONE MICROSPHERES</th>\n      <td>10.814915</td>\n      <td>2013</td>\n    </tr>\n    <tr>\n      <th>THIORIDAZINE HCL</th>\n      <td>10.173941</td>\n      <td>2013</td>\n    </tr>\n    <tr>\n      <th>CLOZAPINE</th>\n      <td>18.141369</td>\n      <td>2014</td>\n    </tr>\n    <tr>\n      <th>OLANZAPINE PAMOATE</th>\n      <td>9.854184</td>\n      <td>2014</td>\n    </tr>\n    <tr>\n      <th>RISPERIDONE MICROSPHERES</th>\n      <td>11.035812</td>\n      <td>2014</td>\n    </tr>\n    <tr>\n      <th>THIORIDAZINE HCL</th>\n      <td>10.247685</td>\n      <td>2014</td>\n    </tr>\n    <tr>\n      <th>CLOZAPINE</th>\n      <td>18.076115</td>\n      <td>2015</td>\n    </tr>\n    <tr>\n      <th>ILOPERIDONE</th>\n      <td>9.663766</td>\n      <td>2015</td>\n    </tr>\n    <tr>\n      <th>OLANZAPINE PAMOATE</th>\n      <td>10.791449</td>\n      <td>2015</td>\n    </tr>\n    <tr>\n      <th>RISPERIDONE MICROSPHERES</th>\n      <td>11.241899</td>\n      <td>2015</td>\n    </tr>\n    <tr>\n      <th>THIORIDAZINE HCL</th>\n      <td>10.498580</td>\n      <td>2015</td>\n    </tr>\n    <tr>\n      <th>CLOZAPINE</th>\n      <td>17.919076</td>\n      <td>2016</td>\n    </tr>\n    <tr>\n      <th>ILOPERIDONE</th>\n      <td>10.180692</td>\n      <td>2016</td>\n    </tr>\n    <tr>\n      <th>OLANZAPINE PAMOATE</th>\n      <td>10.942883</td>\n      <td>2016</td>\n    </tr>\n    <tr>\n      <th>RISPERIDONE MICROSPHERES</th>\n      <td>11.419924</td>\n      <td>2016</td>\n    </tr>\n    <tr>\n      <th>THIORIDAZINE HCL</th>\n      <td>10.772658</td>\n      <td>2016</td>\n    </tr>\n  </tbody>\n</table>\n</div>",
          "text/plain": "                               ratio  year\ngeneric_name                              \nCLOZAPINE                  17.970055  2013\nRISPERIDONE MICROSPHERES   10.814915  2013\nTHIORIDAZINE HCL           10.173941  2013\nCLOZAPINE                  18.141369  2014\nOLANZAPINE PAMOATE          9.854184  2014\nRISPERIDONE MICROSPHERES   11.035812  2014\nTHIORIDAZINE HCL           10.247685  2014\nCLOZAPINE                  18.076115  2015\nILOPERIDONE                 9.663766  2015\nOLANZAPINE PAMOATE         10.791449  2015\nRISPERIDONE MICROSPHERES   11.241899  2015\nTHIORIDAZINE HCL           10.498580  2015\nCLOZAPINE                  17.919076  2016\nILOPERIDONE                10.180692  2016\nOLANZAPINE PAMOATE         10.942883  2016\nRISPERIDONE MICROSPHERES   11.419924  2016\nTHIORIDAZINE HCL           10.772658  2016"
         },
         "metadata": {},
         "output_type": "display_data"
        }
       ]
      }
     },
     "402b8834f72e4715856d995a55e321d8": {
      "model_module": "@jupyter-widgets/output",
      "model_module_version": "1.0.0",
      "model_name": "OutputModel",
      "state": {
       "layout": "IPY_MODEL_95d3b8260c3740f3a355b453b79f61f8",
       "outputs": [
        {
         "data": {
          "image/png": "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\n",
          "text/plain": "<Figure size 432x288 with 1 Axes>"
         },
         "metadata": {},
         "output_type": "display_data"
        },
        {
         "data": {
          "application/vnd.jupyter.widget-view+json": {
           "model_id": "98759dc4d4154a778e8cb36255fac91c",
           "version_major": 2,
           "version_minor": 0
          },
          "text/plain": "interactive(children=(Dropdown(description='drug_name', options=('all', 'ACETAMINOPHEN WITH CODEINE', 'ACETAMI…"
         },
         "metadata": {},
         "output_type": "display_data"
        },
        {
         "data": {
          "application/vnd.jupyter.widget-view+json": {
           "model_id": "34f125bb67754333857e6ca1e12ee96b",
           "version_major": 2,
           "version_minor": 0
          },
          "text/plain": "interactive(children=(FloatSlider(value=6.044498777506112, description='threshold', max=12.088997555012224), O…"
         },
         "metadata": {},
         "output_type": "display_data"
        }
       ]
      }
     },
     "409ab6f45dea4f0eb6e4c3a8e07ea840": {
      "model_module": "@jupyter-widgets/controls",
      "model_module_version": "1.2.0",
      "model_name": "DropdownModel",
      "state": {
       "_options_labels": [
        "all",
        "ACETAMINOPHEN WITH CODEINE",
        "ACETAMINOPHEN/CAFF/DIHYDROCOD",
        "ASPIRIN/CAFFEIN/DIHYDROCODEINE",
        "BUPRENORPHINE",
        "BUPRENORPHINE HCL",
        "BUTALBIT/ACETAMIN/CAFF/CODEINE",
        "BUTORPHANOL TARTRATE",
        "CARISOPRODOL/ASPIRIN/CODEINE",
        "CODEINE SULFATE",
        "CODEINE/BUTALBITAL/ASA/CAFFEIN",
        "FENTANYL",
        "FENTANYL CITRATE",
        "HYDROCODONE BITARTRATE",
        "HYDROCODONE/ACETAMINOPHEN",
        "HYDROCODONE/IBUPROFEN",
        "HYDROMORPHONE HCL",
        "IBUPROFEN/OXYCODONE HCL",
        "LEVORPHANOL TARTRATE",
        "MEPERIDINE HCL",
        "METHADONE HCL",
        "MORPHINE SULFATE",
        "MORPHINE SULFATE/NALTREXONE",
        "OPIUM TINCTURE",
        "OPIUM/BELLADONNA ALKALOIDS",
        "OXYCODONE HCL",
        "OXYCODONE HCL/ACETAMINOPHEN",
        "OXYCODONE HCL/ASPIRIN",
        "OXYCODONE MYRISTATE",
        "OXYMORPHONE HCL",
        "PENTAZOCINE HCL/NALOXONE HCL",
        "TAPENTADOL HCL",
        "TRAMADOL HCL",
        "TRAMADOL HCL/ACETAMINOPHEN"
       ],
       "description": "drug_name",
       "index": 0,
       "layout": "IPY_MODEL_9477560fcb44471e9bf9d50c3dfdff10",
       "style": "IPY_MODEL_6207cfb4c8454a1f9848a5d33d915d15"
      }
     },
     "40d7998b238c448cb530df7b5f169736": {
      "model_module": "@jupyter-widgets/base",
      "model_module_version": "1.0.0",
      "model_name": "LayoutModel",
      "state": {}
     },
     "410acc21c42740d98f01f3ab923f4b62": {
      "model_module": "@jupyter-widgets/controls",
      "model_module_version": "1.2.0",
      "model_name": "SliderStyleModel",
      "state": {
       "description_width": ""
      }
     },
     "410ecfdbc0e64f92b2086e2d09b6b055": {
      "model_module": "@jupyter-widgets/controls",
      "model_module_version": "1.2.0",
      "model_name": "DescriptionStyleModel",
      "state": {
       "description_width": ""
      }
     },
     "41369fb9468246348596697c48868dc9": {
      "model_module": "@jupyter-widgets/controls",
      "model_module_version": "1.2.0",
      "model_name": "DescriptionStyleModel",
      "state": {
       "description_width": ""
      }
     },
     "43830a0a80ef48cc949c30a98c535e3d": {
      "model_module": "@jupyter-widgets/output",
      "model_module_version": "1.0.0",
      "model_name": "OutputModel",
      "state": {
       "layout": "IPY_MODEL_c7b3a5abf9f04558b0bc541cdd2b4f0e",
       "outputs": [
        {
         "name": "stderr",
         "output_type": "stream",
         "text": "C:\\Users\\shind\\Anaconda3\\lib\\site-packages\\ipykernel_launcher.py:14: FutureWarning: Sorting because non-concatenation axis is not aligned. A future version\nof pandas will change to not sort by default.\n\nTo accept the future behavior, pass 'sort=True'.\n\nTo retain the current behavior and silence the warning, pass sort=False\n\n  \n"
        },
        {
         "data": {
          "image/png": "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\n",
          "text/plain": "<Figure size 432x288 with 1 Axes>"
         },
         "metadata": {},
         "output_type": "display_data"
        }
       ]
      }
     },
     "43e01411660c4ab5acb1ddac00bc13fb": {
      "model_module": "@jupyter-widgets/base",
      "model_module_version": "1.0.0",
      "model_name": "LayoutModel",
      "state": {}
     },
     "4422e9565b8c4e3c9e41ebe9830bbca9": {
      "model_module": "@jupyter-widgets/controls",
      "model_module_version": "1.2.0",
      "model_name": "FloatSliderModel",
      "state": {
       "description": "threshold",
       "layout": "IPY_MODEL_4a0d67555901423ca9f45e259fb6f531",
       "max": 19.141369443025038,
       "step": 0.1,
       "style": "IPY_MODEL_c80be8875f0f46989be121bd17a898d4",
       "value": 9.570684721512519
      }
     },
     "445983e130df4803b713df0299eb8eae": {
      "model_module": "@jupyter-widgets/base",
      "model_module_version": "1.0.0",
      "model_name": "LayoutModel",
      "state": {}
     },
     "44f793d4937d46f78a77e85e79d07ad0": {
      "model_module": "@jupyter-widgets/output",
      "model_module_version": "1.0.0",
      "model_name": "OutputModel",
      "state": {
       "layout": "IPY_MODEL_8286b970c41a4bdebf9546fed017497c",
       "outputs": [
        {
         "data": {
          "text/html": "<div>\n<style scoped>\n    .dataframe tbody tr th:only-of-type {\n        vertical-align: middle;\n    }\n\n    .dataframe tbody tr th {\n        vertical-align: top;\n    }\n\n    .dataframe thead th {\n        text-align: right;\n    }\n</style>\n<table border=\"1\" class=\"dataframe\">\n  <thead>\n    <tr style=\"text-align: right;\">\n      <th></th>\n      <th>ratio</th>\n      <th>year</th>\n    </tr>\n    <tr>\n      <th>generic_name</th>\n      <th></th>\n      <th></th>\n    </tr>\n  </thead>\n  <tbody>\n    <tr>\n      <th>DEMECLOCYCLINE HCL</th>\n      <td>5.157789</td>\n      <td>2013</td>\n    </tr>\n    <tr>\n      <th>TOBRAMYCIN/SODIUM CHLORIDE</th>\n      <td>4.578947</td>\n      <td>2013</td>\n    </tr>\n    <tr>\n      <th>TRIMETHOPRIM</th>\n      <td>5.168219</td>\n      <td>2013</td>\n    </tr>\n    <tr>\n      <th>DEMECLOCYCLINE HCL</th>\n      <td>5.222255</td>\n      <td>2014</td>\n    </tr>\n    <tr>\n      <th>STREPTOMYCIN SULFATE</th>\n      <td>4.776667</td>\n      <td>2014</td>\n    </tr>\n    <tr>\n      <th>TRIMETHOPRIM</th>\n      <td>5.325239</td>\n      <td>2014</td>\n    </tr>\n    <tr>\n      <th>DEMECLOCYCLINE HCL</th>\n      <td>5.408544</td>\n      <td>2015</td>\n    </tr>\n    <tr>\n      <th>ERYTHROMYCIN LACTOBIONATE</th>\n      <td>5.913043</td>\n      <td>2015</td>\n    </tr>\n    <tr>\n      <th>TRIMETHOPRIM</th>\n      <td>5.425891</td>\n      <td>2015</td>\n    </tr>\n    <tr>\n      <th>AMPICILLIN SODIUM</th>\n      <td>4.850468</td>\n      <td>2016</td>\n    </tr>\n    <tr>\n      <th>CEFTAZIDIME IN IS-OSM DEXTROSE</th>\n      <td>5.095238</td>\n      <td>2016</td>\n    </tr>\n    <tr>\n      <th>DEMECLOCYCLINE HCL</th>\n      <td>5.897848</td>\n      <td>2016</td>\n    </tr>\n    <tr>\n      <th>ERYTHROMYCIN LACTOBIONATE</th>\n      <td>5.315789</td>\n      <td>2016</td>\n    </tr>\n    <tr>\n      <th>TRIMETHOPRIM</th>\n      <td>5.542666</td>\n      <td>2016</td>\n    </tr>\n  </tbody>\n</table>\n</div>",
          "text/plain": "                                   ratio  year\ngeneric_name                                  \nDEMECLOCYCLINE HCL              5.157789  2013\nTOBRAMYCIN/SODIUM CHLORIDE      4.578947  2013\nTRIMETHOPRIM                    5.168219  2013\nDEMECLOCYCLINE HCL              5.222255  2014\nSTREPTOMYCIN SULFATE            4.776667  2014\nTRIMETHOPRIM                    5.325239  2014\nDEMECLOCYCLINE HCL              5.408544  2015\nERYTHROMYCIN LACTOBIONATE       5.913043  2015\nTRIMETHOPRIM                    5.425891  2015\nAMPICILLIN SODIUM               4.850468  2016\nCEFTAZIDIME IN IS-OSM DEXTROSE  5.095238  2016\nDEMECLOCYCLINE HCL              5.897848  2016\nERYTHROMYCIN LACTOBIONATE       5.315789  2016\nTRIMETHOPRIM                    5.542666  2016"
         },
         "metadata": {},
         "output_type": "display_data"
        }
       ]
      }
     },
     "4526a19541d142c38aeeb3eaa4a52365": {
      "model_module": "@jupyter-widgets/base",
      "model_module_version": "1.0.0",
      "model_name": "LayoutModel",
      "state": {}
     },
     "460f8f36691c4bc1a88103a489f243c7": {
      "model_module": "@jupyter-widgets/output",
      "model_module_version": "1.0.0",
      "model_name": "OutputModel",
      "state": {
       "layout": "IPY_MODEL_ed61f1c8dca44fd89ef302bdc88f8712",
       "outputs": [
        {
         "data": {
          "text/html": "<div>\n<style scoped>\n    .dataframe tbody tr th:only-of-type {\n        vertical-align: middle;\n    }\n\n    .dataframe tbody tr th {\n        vertical-align: top;\n    }\n\n    .dataframe thead th {\n        text-align: right;\n    }\n</style>\n<table border=\"1\" class=\"dataframe\">\n  <thead>\n    <tr style=\"text-align: right;\">\n      <th></th>\n      <th>ratio</th>\n      <th>year</th>\n    </tr>\n    <tr>\n      <th>generic_name</th>\n      <th></th>\n      <th></th>\n    </tr>\n  </thead>\n  <tbody>\n    <tr>\n      <th>HALOPERIDOL LACTATE</th>\n      <td>2.233441</td>\n      <td>2013</td>\n    </tr>\n    <tr>\n      <th>ZIPRASIDONE MESYLATE</th>\n      <td>2.386467</td>\n      <td>2013</td>\n    </tr>\n    <tr>\n      <th>HALOPERIDOL LACTATE</th>\n      <td>2.166363</td>\n      <td>2014</td>\n    </tr>\n    <tr>\n      <th>ARIPIPRAZOLE LAUROXIL</th>\n      <td>1.537705</td>\n      <td>2015</td>\n    </tr>\n    <tr>\n      <th>BREXPIPRAZOLE</th>\n      <td>2.162755</td>\n      <td>2015</td>\n    </tr>\n    <tr>\n      <th>HALOPERIDOL LACTATE</th>\n      <td>2.141962</td>\n      <td>2015</td>\n    </tr>\n    <tr>\n      <th>ZIPRASIDONE MESYLATE</th>\n      <td>2.353365</td>\n      <td>2015</td>\n    </tr>\n    <tr>\n      <th>HALOPERIDOL LACTATE</th>\n      <td>2.136615</td>\n      <td>2016</td>\n    </tr>\n    <tr>\n      <th>ZIPRASIDONE MESYLATE</th>\n      <td>2.395433</td>\n      <td>2016</td>\n    </tr>\n  </tbody>\n</table>\n</div>",
          "text/plain": "                           ratio  year\ngeneric_name                          \nHALOPERIDOL LACTATE     2.233441  2013\nZIPRASIDONE MESYLATE    2.386467  2013\nHALOPERIDOL LACTATE     2.166363  2014\nARIPIPRAZOLE LAUROXIL   1.537705  2015\nBREXPIPRAZOLE           2.162755  2015\nHALOPERIDOL LACTATE     2.141962  2015\nZIPRASIDONE MESYLATE    2.353365  2015\nHALOPERIDOL LACTATE     2.136615  2016\nZIPRASIDONE MESYLATE    2.395433  2016"
         },
         "metadata": {},
         "output_type": "display_data"
        }
       ]
      }
     },
     "464d7f97a293445d80900f51f7bad550": {
      "model_module": "@jupyter-widgets/controls",
      "model_module_version": "1.2.0",
      "model_name": "VBoxModel",
      "state": {
       "_dom_classes": [
        "widget-interact"
       ],
       "children": [
        "IPY_MODEL_aa0b3aa2234c41f8a06f04b7eeafac15",
        "IPY_MODEL_739cdab629f147d5802393858369ce5a"
       ],
       "layout": "IPY_MODEL_d8ff9c4de3ab4d469ccfdaa6a102c8f7"
      }
     },
     "46649fd18f5e4485b056a0cc1121b288": {
      "model_module": "@jupyter-widgets/base",
      "model_module_version": "1.0.0",
      "model_name": "LayoutModel",
      "state": {}
     },
     "4754b2404a014d5cbad35f63bbd92afc": {
      "model_module": "@jupyter-widgets/controls",
      "model_module_version": "1.2.0",
      "model_name": "FloatSliderModel",
      "state": {
       "description": "threshold",
       "layout": "IPY_MODEL_3e3bdebf7a5b4cf1a782ad5ae3255538",
       "max": 12.088997555012224,
       "step": 0.1,
       "style": "IPY_MODEL_b22cfca92d664cf3a5ecb0afdbfa3bbb",
       "value": 6.044498777506112
      }
     },
     "4847a48c79dc4950b7532c0bd1450b72": {
      "model_module": "@jupyter-widgets/controls",
      "model_module_version": "1.2.0",
      "model_name": "DropdownModel",
      "state": {
       "_options_labels": [
        "all",
        "AMIKACIN SULFATE",
        "AMOXICILLIN",
        "AMOXICILLIN/POTASSIUM CLAV",
        "AMPICILLIN SODIUM",
        "AMPICILLIN SODIUM/SULBACTAM NA",
        "AMPICILLIN TRIHYDRATE",
        "AZITHROMYCIN",
        "AZTREONAM",
        "AZTREONAM/DEXTROSE-WATER",
        "CEFACLOR",
        "CEFADROXIL",
        "CEFAZOLIN SODIUM",
        "CEFAZOLIN SODIUM/DEXTROSE,ISO",
        "CEFDINIR",
        "CEFEPIME HCL",
        "CEFEPIME HCL IN DEXTROSE 5 %",
        "CEFEPIME IN ISO-OSM DEXTROSE",
        "CEFIXIME",
        "CEFOTAXIME SODIUM",
        "CEFOTETAN DISOD/ISOSM DEXTROSE",
        "CEFOTETAN DISODIUM",
        "CEFOXITIN SODIUM",
        "CEFOXITIN SODIUM/DEXTROSE,ISO",
        "CEFPODOXIME PROXETIL",
        "CEFPROZIL",
        "CEFTAROLINE FOSAMIL ACETATE",
        "CEFTAZIDIME",
        "CEFTAZIDIME IN DEXTROSE5%WATER",
        "CEFTAZIDIME IN IS-OSM DEXTROSE",
        "CEFTAZIDIME/AVIBACTAM",
        "CEFTIBUTEN",
        "CEFTOLOZANE/TAZOBACTAM",
        "CEFTRIAXONE IN IS-OSM DEXTROSE",
        "CEFTRIAXONE SODIUM",
        "CEFUROXIME AXETIL",
        "CEFUROXIME SODIUM",
        "CEPHALEXIN",
        "CIPROFLOXACIN",
        "CIPROFLOXACIN HCL",
        "CIPROFLOXACIN LACTATE",
        "CIPROFLOXACIN LACTATE/D5W",
        "CIPROFLOXACIN/CIPROFLOXA HCL",
        "CLARITHROMYCIN",
        "CLINDAMYCIN HCL",
        "CLINDAMYCIN PALMITATE HCL",
        "CLINDAMYCIN PHOSPHATE",
        "CLINDAMYCIN PHOSPHATE/D5W",
        "DALBAVANCIN HCL",
        "DAPTOMYCIN",
        "DEMECLOCYCLINE HCL",
        "DICLOXACILLIN SODIUM",
        "DORIPENEM",
        "DOXYCYCLINE CALCIUM",
        "DOXYCYCLINE HYCLATE",
        "DOXYCYCLINE MONOHYDRATE",
        "ERTAPENEM SODIUM",
        "ERYTHROMYCIN BASE",
        "ERYTHROMYCIN ETHYLSUCCINATE",
        "ERYTHROMYCIN LACTOBIONATE",
        "ERYTHROMYCIN STEARATE",
        "FIDAXOMICIN",
        "FOSFOMYCIN TROMETHAMINE",
        "GENTAMICIN IN NACL, ISO-OSM",
        "GENTAMICIN SULFATE",
        "GENTAMICIN SULFATE/PF",
        "IMIPENEM/CILASTATIN SODIUM",
        "LEVOFLOXACIN",
        "LEVOFLOXACIN/D5W",
        "LINCOMYCIN HCL",
        "LINEZOLID",
        "LINEZOLID-0.9% SODIUM CHLORIDE",
        "MEROPENEM",
        "MEROPENEM-0.9% SODIUM CHLORIDE",
        "METRONIDAZOLE",
        "METRONIDAZOLE/SODIUM CHLORIDE",
        "MINOCYCLINE HCL",
        "MOXIFLOXACIN HCL",
        "MOXIFLOXACIN IN NACL (ISO-OSM)",
        "MOXIFLOXACIN/SOD.ACE,SUL/WATER",
        "NAFCILLIN IN DEXTROSE,ISO-OSM",
        "NAFCILLIN SODIUM",
        "NEOMYCIN SULFATE",
        "NITROFURANTOIN",
        "NITROFURANTOIN MACROCRYSTAL",
        "NITROFURANTOIN MONOHYD/M-CRYST",
        "OFLOXACIN",
        "ORITAVANCIN DIPHOSPHATE",
        "OXACILLIN IN DEXTROSE(ISO-OSM)",
        "OXACILLIN SODIUM",
        "PEN G BENZ/PEN G PROCAINE",
        "PEN G POT/DEXTROSE-WATER",
        "PENICILLIN G BENZATHINE",
        "PENICILLIN G POTASSIUM",
        "PENICILLIN G PROCAINE",
        "PENICILLIN G SODIUM",
        "PENICILLIN V POTASSIUM",
        "PIPERACILLIN SODIUM/TAZOBACTAM",
        "PIPERACILLIN-TAZO-DEXTROSE,ISO",
        "QUINUPRISTIN/DALFOPRISTIN",
        "RIFAXIMIN",
        "STREPTOMYCIN SULFATE",
        "SULFADIAZINE",
        "SULFAMETHOXAZOLE/TRIMETHOPRIM",
        "TEDIZOLID PHOSPHATE",
        "TETRACYCLINE HCL",
        "TIGECYCLINE",
        "TOBRAMYCIN SULFATE",
        "TRIMETHOPRIM",
        "VANCOMYCIN HCL",
        "VANCOMYCIN HCL IN DEXTROSE 5 %",
        "VANCOMYCIN/0.9 % SOD CHLORIDE"
       ],
       "description": "drug_name",
       "index": 0,
       "layout": "IPY_MODEL_bc0b4b779e1549689e210e59849d6dd0",
       "style": "IPY_MODEL_cf8d70677f444fc08617db2aa986a5f0"
      }
     },
     "4a0d67555901423ca9f45e259fb6f531": {
      "model_module": "@jupyter-widgets/base",
      "model_module_version": "1.0.0",
      "model_name": "LayoutModel",
      "state": {}
     },
     "4a0dbf8863f64b61a9af549fdccb5e71": {
      "model_module": "@jupyter-widgets/base",
      "model_module_version": "1.0.0",
      "model_name": "LayoutModel",
      "state": {}
     },
     "4a4873bf91894688b26179e81ee24d42": {
      "model_module": "@jupyter-widgets/controls",
      "model_module_version": "1.2.0",
      "model_name": "DropdownModel",
      "state": {
       "_options_labels": [
        "all",
        "AMIKACIN SULFATE",
        "AMOXICILLIN",
        "AMOXICILLIN/POTASSIUM CLAV",
        "AMPICILLIN SODIUM",
        "AMPICILLIN SODIUM/SULBACTAM NA",
        "AMPICILLIN TRIHYDRATE",
        "AZITHROMYCIN",
        "AZTREONAM",
        "AZTREONAM/DEXTROSE-WATER",
        "CEFACLOR",
        "CEFADROXIL",
        "CEFAZOLIN SODIUM",
        "CEFAZOLIN SODIUM/DEXTROSE,ISO",
        "CEFDINIR",
        "CEFEPIME HCL",
        "CEFEPIME HCL IN DEXTROSE 5 %",
        "CEFEPIME IN ISO-OSM DEXTROSE",
        "CEFIXIME",
        "CEFOTAXIME SODIUM",
        "CEFOTETAN DISOD/ISOSM DEXTROSE",
        "CEFOTETAN DISODIUM",
        "CEFOXITIN SODIUM",
        "CEFOXITIN SODIUM/DEXTROSE,ISO",
        "CEFPODOXIME PROXETIL",
        "CEFPROZIL",
        "CEFTAROLINE FOSAMIL ACETATE",
        "CEFTAZIDIME",
        "CEFTAZIDIME IN DEXTROSE5%WATER",
        "CEFTAZIDIME IN IS-OSM DEXTROSE",
        "CEFTAZIDIME/AVIBACTAM",
        "CEFTIBUTEN",
        "CEFTOLOZANE/TAZOBACTAM",
        "CEFTRIAXONE IN IS-OSM DEXTROSE",
        "CEFTRIAXONE SODIUM",
        "CEFUROXIME AXETIL",
        "CEFUROXIME SODIUM",
        "CEPHALEXIN",
        "CIPROFLOXACIN",
        "CIPROFLOXACIN HCL",
        "CIPROFLOXACIN LACTATE",
        "CIPROFLOXACIN LACTATE/D5W",
        "CIPROFLOXACIN/CIPROFLOXA HCL",
        "CLARITHROMYCIN",
        "CLINDAMYCIN HCL",
        "CLINDAMYCIN PALMITATE HCL",
        "CLINDAMYCIN PHOSPHATE",
        "CLINDAMYCIN PHOSPHATE/D5W",
        "DALBAVANCIN HCL",
        "DAPTOMYCIN",
        "DEMECLOCYCLINE HCL",
        "DICLOXACILLIN SODIUM",
        "DORIPENEM",
        "DOXYCYCLINE CALCIUM",
        "DOXYCYCLINE HYCLATE",
        "DOXYCYCLINE MONOHYDRATE",
        "ERTAPENEM SODIUM",
        "ERYTHROMYCIN BASE",
        "ERYTHROMYCIN ETHYLSUCCINATE",
        "ERYTHROMYCIN LACTOBIONATE",
        "ERYTHROMYCIN STEARATE",
        "FIDAXOMICIN",
        "FOSFOMYCIN TROMETHAMINE",
        "GENTAMICIN IN NACL, ISO-OSM",
        "GENTAMICIN SULFATE",
        "GENTAMICIN SULFATE/PF",
        "IMIPENEM/CILASTATIN SODIUM",
        "LEVOFLOXACIN",
        "LEVOFLOXACIN/D5W",
        "LINCOMYCIN HCL",
        "LINEZOLID",
        "LINEZOLID-0.9% SODIUM CHLORIDE",
        "MEROPENEM",
        "MEROPENEM-0.9% SODIUM CHLORIDE",
        "METRONIDAZOLE",
        "METRONIDAZOLE/SODIUM CHLORIDE",
        "MINOCYCLINE HCL",
        "MOXIFLOXACIN HCL",
        "MOXIFLOXACIN IN NACL (ISO-OSM)",
        "MOXIFLOXACIN/SOD.ACE,SUL/WATER",
        "NAFCILLIN IN DEXTROSE,ISO-OSM",
        "NAFCILLIN SODIUM",
        "NEOMYCIN SULFATE",
        "NITROFURANTOIN",
        "NITROFURANTOIN MACROCRYSTAL",
        "NITROFURANTOIN MONOHYD/M-CRYST",
        "OFLOXACIN",
        "ORITAVANCIN DIPHOSPHATE",
        "OXACILLIN IN DEXTROSE(ISO-OSM)",
        "OXACILLIN SODIUM",
        "PEN G BENZ/PEN G PROCAINE",
        "PEN G POT/DEXTROSE-WATER",
        "PENICILLIN G BENZATHINE",
        "PENICILLIN G POTASSIUM",
        "PENICILLIN G PROCAINE",
        "PENICILLIN G SODIUM",
        "PENICILLIN V POTASSIUM",
        "PIPERACILLIN SODIUM/TAZOBACTAM",
        "PIPERACILLIN-TAZO-DEXTROSE,ISO",
        "QUINUPRISTIN/DALFOPRISTIN",
        "RIFAXIMIN",
        "STREPTOMYCIN SULFATE",
        "SULFADIAZINE",
        "SULFAMETHOXAZOLE/TRIMETHOPRIM",
        "TEDIZOLID PHOSPHATE",
        "TETRACYCLINE HCL",
        "TIGECYCLINE",
        "TOBRAMYCIN SULFATE",
        "TRIMETHOPRIM",
        "VANCOMYCIN HCL",
        "VANCOMYCIN HCL IN DEXTROSE 5 %",
        "VANCOMYCIN/0.9 % SOD CHLORIDE"
       ],
       "description": "drug_name",
       "index": 0,
       "layout": "IPY_MODEL_d23137e47b404f649e2003580a1f66ff",
       "style": "IPY_MODEL_53522aca1ba64719a7d393126d270e07"
      }
     },
     "4b47e286c7904766a511c2a572379f75": {
      "model_module": "@jupyter-widgets/output",
      "model_module_version": "1.0.0",
      "model_name": "OutputModel",
      "state": {
       "layout": "IPY_MODEL_ecde07604ecd44edb4087e634cb6e3a7"
      }
     },
     "4c5594ac6965418782aec7ad0bf1bbdf": {
      "model_module": "@jupyter-widgets/output",
      "model_module_version": "1.0.0",
      "model_name": "OutputModel",
      "state": {
       "layout": "IPY_MODEL_5e924c997d5147aa8cb857f5c611b7d1",
       "outputs": [
        {
         "name": "stderr",
         "output_type": "stream",
         "text": "C:\\Users\\shind\\Anaconda3\\lib\\site-packages\\ipykernel_launcher.py:17: FutureWarning: Sorting because non-concatenation axis is not aligned. A future version\nof pandas will change to not sort by default.\n\nTo accept the future behavior, pass 'sort=True'.\n\nTo retain the current behavior and silence the warning, pass sort=False\n\n"
        },
        {
         "data": {
          "image/png": "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\n",
          "text/plain": "<Figure size 432x288 with 1 Axes>"
         },
         "metadata": {},
         "output_type": "display_data"
        }
       ]
      }
     },
     "4cf1c0e052434af1b1e830a6b403d710": {
      "model_module": "@jupyter-widgets/output",
      "model_module_version": "1.0.0",
      "model_name": "OutputModel",
      "state": {
       "layout": "IPY_MODEL_3755e37373d4464cabcaa89e8f1f7e8a",
       "outputs": [
        {
         "data": {
          "text/html": "<div>\n<style scoped>\n    .dataframe tbody tr th:only-of-type {\n        vertical-align: middle;\n    }\n\n    .dataframe tbody tr th {\n        vertical-align: top;\n    }\n\n    .dataframe thead th {\n        text-align: right;\n    }\n</style>\n<table border=\"1\" class=\"dataframe\">\n  <thead>\n    <tr style=\"text-align: right;\">\n      <th></th>\n      <th>ratio</th>\n      <th>year</th>\n    </tr>\n    <tr>\n      <th>generic_name</th>\n      <th></th>\n      <th></th>\n    </tr>\n  </thead>\n  <tbody>\n    <tr>\n      <th>GEMIFLOXACIN MESYLATE</th>\n      <td>1.0</td>\n      <td>2015</td>\n    </tr>\n  </tbody>\n</table>\n</div>",
          "text/plain": "                        ratio  year\ngeneric_name                       \nGEMIFLOXACIN MESYLATE     1.0  2015"
         },
         "metadata": {},
         "output_type": "display_data"
        }
       ]
      }
     },
     "4d87a006cc0c487a9c52d0ce2fa3f212": {
      "model_module": "@jupyter-widgets/base",
      "model_module_version": "1.0.0",
      "model_name": "LayoutModel",
      "state": {}
     },
     "4da25333e87c4903aacafc7a7e79317d": {
      "model_module": "@jupyter-widgets/base",
      "model_module_version": "1.0.0",
      "model_name": "LayoutModel",
      "state": {}
     },
     "4e0aa5e6d1c344378c565741b5547c8c": {
      "model_module": "@jupyter-widgets/base",
      "model_module_version": "1.0.0",
      "model_name": "LayoutModel",
      "state": {}
     },
     "4e113daaf10d4de19f44afc85dc6df6b": {
      "model_module": "@jupyter-widgets/controls",
      "model_module_version": "1.2.0",
      "model_name": "DescriptionStyleModel",
      "state": {
       "description_width": ""
      }
     },
     "4efa223736cf42d5a1079c7891b50bae": {
      "model_module": "@jupyter-widgets/base",
      "model_module_version": "1.0.0",
      "model_name": "LayoutModel",
      "state": {}
     },
     "4f1dd8a48a884677b8a0459e24b591c2": {
      "model_module": "@jupyter-widgets/base",
      "model_module_version": "1.0.0",
      "model_name": "LayoutModel",
      "state": {}
     },
     "4f732c25f20b4513b96ec0cc2ebc937e": {
      "model_module": "@jupyter-widgets/base",
      "model_module_version": "1.0.0",
      "model_name": "LayoutModel",
      "state": {}
     },
     "4f94450a42cf454ba753b45c74590af2": {
      "model_module": "@jupyter-widgets/controls",
      "model_module_version": "1.2.0",
      "model_name": "VBoxModel",
      "state": {
       "_dom_classes": [
        "widget-interact"
       ],
       "children": [
        "IPY_MODEL_4422e9565b8c4e3c9e41ebe9830bbca9",
        "IPY_MODEL_3f9386cc07f54cd29115da9a8348e46f"
       ],
       "layout": "IPY_MODEL_1f820802a42c4ba29d379bd7f7b08f4e"
      }
     },
     "5065ed0612f440219b16700c3488c932": {
      "model_module": "@jupyter-widgets/base",
      "model_module_version": "1.0.0",
      "model_name": "LayoutModel",
      "state": {}
     },
     "50f5245b36644de3b1a1745fc2ee45db": {
      "model_module": "@jupyter-widgets/controls",
      "model_module_version": "1.2.0",
      "model_name": "DescriptionStyleModel",
      "state": {
       "description_width": ""
      }
     },
     "53522aca1ba64719a7d393126d270e07": {
      "model_module": "@jupyter-widgets/controls",
      "model_module_version": "1.2.0",
      "model_name": "DescriptionStyleModel",
      "state": {
       "description_width": ""
      }
     },
     "542161c0c73441a6907e0a58d22ae332": {
      "model_module": "@jupyter-widgets/controls",
      "model_module_version": "1.2.0",
      "model_name": "VBoxModel",
      "state": {
       "_dom_classes": [
        "widget-interact"
       ],
       "children": [
        "IPY_MODEL_bfc12220776748ef94a7dd7e5b2be304",
        "IPY_MODEL_92adb1bd9be44d66953d1b321d854371"
       ],
       "layout": "IPY_MODEL_0a3c2d195f7a4e57adab4dc34e35396b"
      }
     },
     "565faf0f3b7f4698a4ccaf14f8d059ff": {
      "model_module": "@jupyter-widgets/controls",
      "model_module_version": "1.2.0",
      "model_name": "SliderStyleModel",
      "state": {
       "description_width": ""
      }
     },
     "57ae3432eab044788e361bacdc924584": {
      "model_module": "@jupyter-widgets/base",
      "model_module_version": "1.0.0",
      "model_name": "LayoutModel",
      "state": {}
     },
     "57c4891ea62b4884a41d07684db7aeda": {
      "model_module": "@jupyter-widgets/controls",
      "model_module_version": "1.2.0",
      "model_name": "DescriptionStyleModel",
      "state": {
       "description_width": ""
      }
     },
     "57c6376e761749eaaabbc4b9df95ea1c": {
      "model_module": "@jupyter-widgets/controls",
      "model_module_version": "1.2.0",
      "model_name": "DropdownModel",
      "state": {
       "_options_labels": [
        "all",
        "ARIPIPRAZOLE",
        "ARIPIPRAZOLE LAUROXIL",
        "ASENAPINE MALEATE",
        "BREXPIPRAZOLE",
        "CARIPRAZINE HCL",
        "CHLORPROMAZINE HCL",
        "CLOZAPINE",
        "FLUPHENAZINE DECANOATE",
        "FLUPHENAZINE HCL",
        "HALOPERIDOL",
        "HALOPERIDOL DECANOATE",
        "HALOPERIDOL LACTATE",
        "ILOPERIDONE",
        "LOXAPINE SUCCINATE",
        "LURASIDONE HCL",
        "MOLINDONE HCL",
        "OLANZAPINE",
        "OLANZAPINE PAMOATE",
        "OLANZAPINE/FLUOXETINE HCL",
        "PALIPERIDONE",
        "PALIPERIDONE PALMITATE",
        "PERPHENAZINE",
        "PERPHENAZINE/AMITRIPTYLINE HCL",
        "PIMAVANSERIN TARTRATE",
        "PIMOZIDE",
        "QUETIAPINE FUMARATE",
        "RISPERIDONE",
        "RISPERIDONE MICROSPHERES",
        "THIORIDAZINE HCL",
        "THIOTHIXENE",
        "TRIFLUOPERAZINE HCL",
        "ZIPRASIDONE HCL",
        "ZIPRASIDONE MESYLATE"
       ],
       "description": "drug_name",
       "index": 0,
       "layout": "IPY_MODEL_4526a19541d142c38aeeb3eaa4a52365",
       "style": "IPY_MODEL_b1d4b81abe36483bbbf439a3e7c8cfdd"
      }
     },
     "581072a351fa496399f56f6371cc1ee5": {
      "model_module": "@jupyter-widgets/base",
      "model_module_version": "1.0.0",
      "model_name": "LayoutModel",
      "state": {}
     },
     "581fcd8300e94837accccab0d5014a2d": {
      "model_module": "@jupyter-widgets/base",
      "model_module_version": "1.0.0",
      "model_name": "LayoutModel",
      "state": {}
     },
     "58e9c0464ad541a6ac8aadff4dc6559e": {
      "model_module": "@jupyter-widgets/output",
      "model_module_version": "1.0.0",
      "model_name": "OutputModel",
      "state": {
       "layout": "IPY_MODEL_a0dd51f6cda84fbe92afc9d047ea6eea",
       "outputs": [
        {
         "ename": "ValueError",
         "evalue": "min() arg is an empty sequence",
         "output_type": "error",
         "traceback": [
          "\u001b[1;31m---------------------------------------------------------------------------\u001b[0m",
          "\u001b[1;31mValueError\u001b[0m                                Traceback (most recent call last)",
          "\u001b[1;32m~\\Anaconda3\\lib\\site-packages\\ipywidgets\\widgets\\interaction.py\u001b[0m in \u001b[0;36mupdate\u001b[1;34m(self, *args)\u001b[0m\n\u001b[0;32m    249\u001b[0m                     \u001b[0mvalue\u001b[0m \u001b[1;33m=\u001b[0m \u001b[0mwidget\u001b[0m\u001b[1;33m.\u001b[0m\u001b[0mget_interact_value\u001b[0m\u001b[1;33m(\u001b[0m\u001b[1;33m)\u001b[0m\u001b[1;33m\u001b[0m\u001b[0m\n\u001b[0;32m    250\u001b[0m                     \u001b[0mself\u001b[0m\u001b[1;33m.\u001b[0m\u001b[0mkwargs\u001b[0m\u001b[1;33m[\u001b[0m\u001b[0mwidget\u001b[0m\u001b[1;33m.\u001b[0m\u001b[0m_kwarg\u001b[0m\u001b[1;33m]\u001b[0m \u001b[1;33m=\u001b[0m \u001b[0mvalue\u001b[0m\u001b[1;33m\u001b[0m\u001b[0m\n\u001b[1;32m--> 251\u001b[1;33m                 \u001b[0mself\u001b[0m\u001b[1;33m.\u001b[0m\u001b[0mresult\u001b[0m \u001b[1;33m=\u001b[0m \u001b[0mself\u001b[0m\u001b[1;33m.\u001b[0m\u001b[0mf\u001b[0m\u001b[1;33m(\u001b[0m\u001b[1;33m**\u001b[0m\u001b[0mself\u001b[0m\u001b[1;33m.\u001b[0m\u001b[0mkwargs\u001b[0m\u001b[1;33m)\u001b[0m\u001b[1;33m\u001b[0m\u001b[0m\n\u001b[0m\u001b[0;32m    252\u001b[0m                 \u001b[0mshow_inline_matplotlib_plots\u001b[0m\u001b[1;33m(\u001b[0m\u001b[1;33m)\u001b[0m\u001b[1;33m\u001b[0m\u001b[0m\n\u001b[0;32m    253\u001b[0m                 \u001b[1;32mif\u001b[0m \u001b[0mself\u001b[0m\u001b[1;33m.\u001b[0m\u001b[0mauto_display\u001b[0m \u001b[1;32mand\u001b[0m \u001b[0mself\u001b[0m\u001b[1;33m.\u001b[0m\u001b[0mresult\u001b[0m \u001b[1;32mis\u001b[0m \u001b[1;32mnot\u001b[0m \u001b[1;32mNone\u001b[0m\u001b[1;33m:\u001b[0m\u001b[1;33m\u001b[0m\u001b[0m\n",
          "\u001b[1;32m<ipython-input-9-376922338f06>\u001b[0m in \u001b[0;36mf\u001b[1;34m(drug_type)\u001b[0m\n\u001b[0;32m     57\u001b[0m \u001b[1;33m\u001b[0m\u001b[0m\n\u001b[0;32m     58\u001b[0m     \u001b[0msns\u001b[0m\u001b[1;33m.\u001b[0m\u001b[0mset\u001b[0m\u001b[1;33m(\u001b[0m\u001b[0mstyle\u001b[0m\u001b[1;33m=\u001b[0m\u001b[1;34m'whitegrid'\u001b[0m\u001b[1;33m)\u001b[0m\u001b[1;33m\u001b[0m\u001b[0m\n\u001b[1;32m---> 59\u001b[1;33m     \u001b[0max\u001b[0m \u001b[1;33m=\u001b[0m \u001b[0msns\u001b[0m\u001b[1;33m.\u001b[0m\u001b[0mboxplot\u001b[0m\u001b[1;33m(\u001b[0m\u001b[0mx\u001b[0m\u001b[1;33m=\u001b[0m\u001b[1;34m'year'\u001b[0m\u001b[1;33m,\u001b[0m \u001b[0my\u001b[0m\u001b[1;33m=\u001b[0m\u001b[1;34m'ratio'\u001b[0m\u001b[1;33m,\u001b[0m \u001b[0mdata\u001b[0m\u001b[1;33m=\u001b[0m\u001b[0mdf_sum\u001b[0m\u001b[1;33m,\u001b[0m \u001b[0mpalette\u001b[0m \u001b[1;33m=\u001b[0m \u001b[1;34m'vlag'\u001b[0m\u001b[1;33m)\u001b[0m\u001b[1;33m\u001b[0m\u001b[0m\n\u001b[0m\u001b[0;32m     60\u001b[0m     ax = sns.swarmplot(x='year',y='ratio', data=df_sum,\n\u001b[0;32m     61\u001b[0m                       color='black', size=5)\n",
          "\u001b[1;32m~\\Anaconda3\\lib\\site-packages\\seaborn\\categorical.py\u001b[0m in \u001b[0;36mboxplot\u001b[1;34m(x, y, hue, data, order, hue_order, orient, color, palette, saturation, width, dodge, fliersize, linewidth, whis, notch, ax, **kwargs)\u001b[0m\n\u001b[0;32m   2209\u001b[0m     plotter = _BoxPlotter(x, y, hue, data, order, hue_order,\n\u001b[0;32m   2210\u001b[0m                           \u001b[0morient\u001b[0m\u001b[1;33m,\u001b[0m \u001b[0mcolor\u001b[0m\u001b[1;33m,\u001b[0m \u001b[0mpalette\u001b[0m\u001b[1;33m,\u001b[0m \u001b[0msaturation\u001b[0m\u001b[1;33m,\u001b[0m\u001b[1;33m\u001b[0m\u001b[0m\n\u001b[1;32m-> 2211\u001b[1;33m                           width, dodge, fliersize, linewidth)\n\u001b[0m\u001b[0;32m   2212\u001b[0m \u001b[1;33m\u001b[0m\u001b[0m\n\u001b[0;32m   2213\u001b[0m     \u001b[1;32mif\u001b[0m \u001b[0max\u001b[0m \u001b[1;32mis\u001b[0m \u001b[1;32mNone\u001b[0m\u001b[1;33m:\u001b[0m\u001b[1;33m\u001b[0m\u001b[0m\n",
          "\u001b[1;32m~\\Anaconda3\\lib\\site-packages\\seaborn\\categorical.py\u001b[0m in \u001b[0;36m__init__\u001b[1;34m(self, x, y, hue, data, order, hue_order, orient, color, palette, saturation, width, dodge, fliersize, linewidth)\u001b[0m\n\u001b[0;32m    440\u001b[0m \u001b[1;33m\u001b[0m\u001b[0m\n\u001b[0;32m    441\u001b[0m         \u001b[0mself\u001b[0m\u001b[1;33m.\u001b[0m\u001b[0mestablish_variables\u001b[0m\u001b[1;33m(\u001b[0m\u001b[0mx\u001b[0m\u001b[1;33m,\u001b[0m \u001b[0my\u001b[0m\u001b[1;33m,\u001b[0m \u001b[0mhue\u001b[0m\u001b[1;33m,\u001b[0m \u001b[0mdata\u001b[0m\u001b[1;33m,\u001b[0m \u001b[0morient\u001b[0m\u001b[1;33m,\u001b[0m \u001b[0morder\u001b[0m\u001b[1;33m,\u001b[0m \u001b[0mhue_order\u001b[0m\u001b[1;33m)\u001b[0m\u001b[1;33m\u001b[0m\u001b[0m\n\u001b[1;32m--> 442\u001b[1;33m         \u001b[0mself\u001b[0m\u001b[1;33m.\u001b[0m\u001b[0mestablish_colors\u001b[0m\u001b[1;33m(\u001b[0m\u001b[0mcolor\u001b[0m\u001b[1;33m,\u001b[0m \u001b[0mpalette\u001b[0m\u001b[1;33m,\u001b[0m \u001b[0msaturation\u001b[0m\u001b[1;33m)\u001b[0m\u001b[1;33m\u001b[0m\u001b[0m\n\u001b[0m\u001b[0;32m    443\u001b[0m \u001b[1;33m\u001b[0m\u001b[0m\n\u001b[0;32m    444\u001b[0m         \u001b[0mself\u001b[0m\u001b[1;33m.\u001b[0m\u001b[0mdodge\u001b[0m \u001b[1;33m=\u001b[0m \u001b[0mdodge\u001b[0m\u001b[1;33m\u001b[0m\u001b[0m\n",
          "\u001b[1;32m~\\Anaconda3\\lib\\site-packages\\seaborn\\categorical.py\u001b[0m in \u001b[0;36mestablish_colors\u001b[1;34m(self, color, palette, saturation)\u001b[0m\n\u001b[0;32m    309\u001b[0m         \u001b[1;31m# Determine the gray color to use for the lines framing the plot\u001b[0m\u001b[1;33m\u001b[0m\u001b[1;33m\u001b[0m\u001b[0m\n\u001b[0;32m    310\u001b[0m         \u001b[0mlight_vals\u001b[0m \u001b[1;33m=\u001b[0m \u001b[1;33m[\u001b[0m\u001b[0mcolorsys\u001b[0m\u001b[1;33m.\u001b[0m\u001b[0mrgb_to_hls\u001b[0m\u001b[1;33m(\u001b[0m\u001b[1;33m*\u001b[0m\u001b[0mc\u001b[0m\u001b[1;33m)\u001b[0m\u001b[1;33m[\u001b[0m\u001b[1;36m1\u001b[0m\u001b[1;33m]\u001b[0m \u001b[1;32mfor\u001b[0m \u001b[0mc\u001b[0m \u001b[1;32min\u001b[0m \u001b[0mrgb_colors\u001b[0m\u001b[1;33m]\u001b[0m\u001b[1;33m\u001b[0m\u001b[0m\n\u001b[1;32m--> 311\u001b[1;33m         \u001b[0ml\u001b[0m \u001b[1;33m=\u001b[0m \u001b[0mmin\u001b[0m\u001b[1;33m(\u001b[0m\u001b[0mlight_vals\u001b[0m\u001b[1;33m)\u001b[0m \u001b[1;33m*\u001b[0m \u001b[1;36m.6\u001b[0m\u001b[1;33m\u001b[0m\u001b[0m\n\u001b[0m\u001b[0;32m    312\u001b[0m         \u001b[0mgray\u001b[0m \u001b[1;33m=\u001b[0m \u001b[0mmpl\u001b[0m\u001b[1;33m.\u001b[0m\u001b[0mcolors\u001b[0m\u001b[1;33m.\u001b[0m\u001b[0mrgb2hex\u001b[0m\u001b[1;33m(\u001b[0m\u001b[1;33m(\u001b[0m\u001b[0ml\u001b[0m\u001b[1;33m,\u001b[0m \u001b[0ml\u001b[0m\u001b[1;33m,\u001b[0m \u001b[0ml\u001b[0m\u001b[1;33m)\u001b[0m\u001b[1;33m)\u001b[0m\u001b[1;33m\u001b[0m\u001b[0m\n\u001b[0;32m    313\u001b[0m \u001b[1;33m\u001b[0m\u001b[0m\n",
          "\u001b[1;31mValueError\u001b[0m: min() arg is an empty sequence"
         ]
        }
       ]
      }
     },
     "59258d59800344dcadcf70ea98c48ae1": {
      "model_module": "@jupyter-widgets/base",
      "model_module_version": "1.0.0",
      "model_name": "LayoutModel",
      "state": {}
     },
     "593480b6fa3d4cc69fbc0a58d94b4c5a": {
      "model_module": "@jupyter-widgets/controls",
      "model_module_version": "1.2.0",
      "model_name": "SliderStyleModel",
      "state": {
       "description_width": ""
      }
     },
     "595eba3caa6d4ee0925a05c35ebe1f3e": {
      "model_module": "@jupyter-widgets/controls",
      "model_module_version": "1.2.0",
      "model_name": "VBoxModel",
      "state": {
       "_dom_classes": [
        "widget-interact"
       ],
       "children": [
        "IPY_MODEL_3d5d753c73d743ee90aed563555b5366",
        "IPY_MODEL_64eb762c80184c2c9ae467c9b2a4a3b8"
       ],
       "layout": "IPY_MODEL_ab23ec8df8b34b97a23558c7aeab8b6c"
      }
     },
     "59686d5b64fd4f8a85ab2620dbb7355e": {
      "model_module": "@jupyter-widgets/base",
      "model_module_version": "1.0.0",
      "model_name": "LayoutModel",
      "state": {}
     },
     "598c0bd636e6469dbc2f6a25f79fbbc3": {
      "model_module": "@jupyter-widgets/controls",
      "model_module_version": "1.2.0",
      "model_name": "FloatSliderModel",
      "state": {
       "description": "threshold",
       "layout": "IPY_MODEL_f7a0378b1c42413ca7a77aab24ee5e7c",
       "max": 12.088997555012224,
       "step": 0.1,
       "style": "IPY_MODEL_593480b6fa3d4cc69fbc0a58d94b4c5a",
       "value": 6.044498777506112
      }
     },
     "5a5c2a6c4cbe4e918af4b25c3e3c20fa": {
      "model_module": "@jupyter-widgets/base",
      "model_module_version": "1.0.0",
      "model_name": "LayoutModel",
      "state": {}
     },
     "5cb52ca953aa4ef8b9564260d6508741": {
      "model_module": "@jupyter-widgets/output",
      "model_module_version": "1.0.0",
      "model_name": "OutputModel",
      "state": {
       "layout": "IPY_MODEL_e483f01ef70944b3aaa9b5b36455e33a"
      }
     },
     "5e924c997d5147aa8cb857f5c611b7d1": {
      "model_module": "@jupyter-widgets/base",
      "model_module_version": "1.0.0",
      "model_name": "LayoutModel",
      "state": {}
     },
     "5eaee66cfa284a0b93d543afcc11c7b0": {
      "model_module": "@jupyter-widgets/base",
      "model_module_version": "1.0.0",
      "model_name": "LayoutModel",
      "state": {}
     },
     "608c33bf25e64d4ea6c6f31e6d688c0a": {
      "model_module": "@jupyter-widgets/controls",
      "model_module_version": "1.2.0",
      "model_name": "VBoxModel",
      "state": {
       "_dom_classes": [
        "widget-interact"
       ],
       "children": [
        "IPY_MODEL_2702823d594646e28a924516cd890188",
        "IPY_MODEL_4cf1c0e052434af1b1e830a6b403d710"
       ],
       "layout": "IPY_MODEL_eed22f7d72ab4a2faac127619308ed20"
      }
     },
     "615266f83911490ca3bd395b2e5949d1": {
      "model_module": "@jupyter-widgets/controls",
      "model_module_version": "1.2.0",
      "model_name": "VBoxModel",
      "state": {
       "_dom_classes": [
        "widget-interact"
       ],
       "children": [
        "IPY_MODEL_6c72efbd7e8045d7890e8fc00f0b58dd",
        "IPY_MODEL_bfcdada302d34af198339b3067e1399b"
       ],
       "layout": "IPY_MODEL_40d7998b238c448cb530df7b5f169736"
      }
     },
     "6207cfb4c8454a1f9848a5d33d915d15": {
      "model_module": "@jupyter-widgets/controls",
      "model_module_version": "1.2.0",
      "model_name": "DescriptionStyleModel",
      "state": {
       "description_width": ""
      }
     },
     "64eb762c80184c2c9ae467c9b2a4a3b8": {
      "model_module": "@jupyter-widgets/output",
      "model_module_version": "1.0.0",
      "model_name": "OutputModel",
      "state": {
       "layout": "IPY_MODEL_7f45c0b313ee4150979f9d466c58c739",
       "outputs": [
        {
         "data": {
          "text/html": "<div>\n<style scoped>\n    .dataframe tbody tr th:only-of-type {\n        vertical-align: middle;\n    }\n\n    .dataframe tbody tr th {\n        vertical-align: top;\n    }\n\n    .dataframe thead th {\n        text-align: right;\n    }\n</style>\n<table border=\"1\" class=\"dataframe\">\n  <thead>\n    <tr style=\"text-align: right;\">\n      <th></th>\n      <th>ratio</th>\n      <th>year</th>\n    </tr>\n    <tr>\n      <th>generic_name</th>\n      <th></th>\n      <th></th>\n    </tr>\n  </thead>\n  <tbody>\n    <tr>\n      <th>HYDROCODONE/ACETAMINOPHEN</th>\n      <td>1.523605e+08</td>\n      <td>2013</td>\n    </tr>\n    <tr>\n      <th>HYDROCODONE/ACETAMINOPHEN</th>\n      <td>1.419633e+08</td>\n      <td>2014</td>\n    </tr>\n    <tr>\n      <th>HYDROCODONE/ACETAMINOPHEN</th>\n      <td>1.180416e+08</td>\n      <td>2015</td>\n    </tr>\n    <tr>\n      <th>HYDROCODONE/ACETAMINOPHEN</th>\n      <td>1.138375e+08</td>\n      <td>2016</td>\n    </tr>\n  </tbody>\n</table>\n</div>",
          "text/plain": "                                   ratio  year\ngeneric_name                                  \nHYDROCODONE/ACETAMINOPHEN   1.523605e+08  2013\nHYDROCODONE/ACETAMINOPHEN   1.419633e+08  2014\nHYDROCODONE/ACETAMINOPHEN   1.180416e+08  2015\nHYDROCODONE/ACETAMINOPHEN   1.138375e+08  2016"
         },
         "metadata": {},
         "output_type": "display_data"
        }
       ]
      }
     },
     "64fa2c7ae74d4e7691b18971fb0d4896": {
      "model_module": "@jupyter-widgets/controls",
      "model_module_version": "1.2.0",
      "model_name": "DescriptionStyleModel",
      "state": {
       "description_width": ""
      }
     },
     "653f36210ee9412f89b49c8054b01766": {
      "model_module": "@jupyter-widgets/output",
      "model_module_version": "1.0.0",
      "model_name": "OutputModel",
      "state": {
       "layout": "IPY_MODEL_5065ed0612f440219b16700c3488c932",
       "outputs": [
        {
         "data": {
          "image/png": "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\n",
          "text/plain": "<Figure size 432x288 with 1 Axes>"
         },
         "metadata": {},
         "output_type": "display_data"
        },
        {
         "data": {
          "application/vnd.jupyter.widget-view+json": {
           "model_id": "b1f6af6f1d364ac2b6e8698b2f6dbbef",
           "version_major": 2,
           "version_minor": 0
          },
          "text/plain": "interactive(children=(Dropdown(description='drug_name', options=('all', 'ARIPIPRAZOLE', 'ARIPIPRAZOLE LAUROXIL…"
         },
         "metadata": {},
         "output_type": "display_data"
        },
        {
         "data": {
          "application/vnd.jupyter.widget-view+json": {
           "model_id": "a248753990b648f6ac3c290c3342dfaa",
           "version_major": 2,
           "version_minor": 0
          },
          "text/plain": "interactive(children=(FloatSlider(value=35582267.00518626, description='threshold', max=71164534.01037252), Ou…"
         },
         "metadata": {},
         "output_type": "display_data"
        }
       ]
      }
     },
     "661e04d970a84eceb6a979adb2ada021": {
      "model_module": "@jupyter-widgets/base",
      "model_module_version": "1.0.0",
      "model_name": "LayoutModel",
      "state": {}
     },
     "663afe7f34c140f78de774bd4959631e": {
      "model_module": "@jupyter-widgets/controls",
      "model_module_version": "1.2.0",
      "model_name": "VBoxModel",
      "state": {
       "_dom_classes": [
        "widget-interact"
       ],
       "children": [
        "IPY_MODEL_9a1d821780da4e1bb137bfccbd5ea7b9",
        "IPY_MODEL_ed86f9392d674278b55b3d683ba2ea9a"
       ],
       "layout": "IPY_MODEL_907676fa1d464604a82e747e12827dab"
      }
     },
     "666e9cdcb242401fa9e93b91ad82d621": {
      "model_module": "@jupyter-widgets/base",
      "model_module_version": "1.0.0",
      "model_name": "LayoutModel",
      "state": {}
     },
     "67d46370628d4b05a86f6a55e1778265": {
      "model_module": "@jupyter-widgets/base",
      "model_module_version": "1.0.0",
      "model_name": "LayoutModel",
      "state": {}
     },
     "6891139848354dda84713873d02269b1": {
      "model_module": "@jupyter-widgets/base",
      "model_module_version": "1.0.0",
      "model_name": "LayoutModel",
      "state": {}
     },
     "68ad3b85e8f74cafbbaf1cdf5893d14d": {
      "model_module": "@jupyter-widgets/base",
      "model_module_version": "1.0.0",
      "model_name": "LayoutModel",
      "state": {}
     },
     "699a2cc792964b7bb5e13a4c2bc3674b": {
      "model_module": "@jupyter-widgets/controls",
      "model_module_version": "1.2.0",
      "model_name": "FloatSliderModel",
      "state": {
       "description": "threshold",
       "layout": "IPY_MODEL_fb3fbf1e46874cd486c64783996c36b3",
       "max": 19.141369443025038,
       "step": 0.1,
       "style": "IPY_MODEL_7a26636850394a8296d1fd932617badf",
       "value": 9.570684721512519
      }
     },
     "69b40bd951e04b26992867f686ab95fe": {
      "model_module": "@jupyter-widgets/base",
      "model_module_version": "1.0.0",
      "model_name": "LayoutModel",
      "state": {}
     },
     "69e443f7765a4ea7a4d54f611096b03e": {
      "model_module": "@jupyter-widgets/base",
      "model_module_version": "1.0.0",
      "model_name": "LayoutModel",
      "state": {}
     },
     "6a75a31332e1408a81fa4017f3a6a3f2": {
      "model_module": "@jupyter-widgets/base",
      "model_module_version": "1.0.0",
      "model_name": "LayoutModel",
      "state": {}
     },
     "6ba38d81b33f4469b573ddab3f8378dd": {
      "model_module": "@jupyter-widgets/base",
      "model_module_version": "1.0.0",
      "model_name": "LayoutModel",
      "state": {}
     },
     "6c72efbd7e8045d7890e8fc00f0b58dd": {
      "model_module": "@jupyter-widgets/controls",
      "model_module_version": "1.2.0",
      "model_name": "DropdownModel",
      "state": {
       "_options_labels": [
        "all",
        "ARIPIPRAZOLE",
        "ARIPIPRAZOLE LAUROXIL",
        "ASENAPINE MALEATE",
        "BREXPIPRAZOLE",
        "CARIPRAZINE HCL",
        "CHLORPROMAZINE HCL",
        "CLOZAPINE",
        "FLUPHENAZINE DECANOATE",
        "FLUPHENAZINE HCL",
        "HALOPERIDOL",
        "HALOPERIDOL DECANOATE",
        "HALOPERIDOL LACTATE",
        "ILOPERIDONE",
        "LOXAPINE SUCCINATE",
        "LURASIDONE HCL",
        "MOLINDONE HCL",
        "OLANZAPINE",
        "OLANZAPINE PAMOATE",
        "OLANZAPINE/FLUOXETINE HCL",
        "PALIPERIDONE",
        "PALIPERIDONE PALMITATE",
        "PERPHENAZINE",
        "PERPHENAZINE/AMITRIPTYLINE HCL",
        "PIMAVANSERIN TARTRATE",
        "PIMOZIDE",
        "QUETIAPINE FUMARATE",
        "RISPERIDONE",
        "RISPERIDONE MICROSPHERES",
        "THIORIDAZINE HCL",
        "THIOTHIXENE",
        "TRIFLUOPERAZINE HCL",
        "ZIPRASIDONE HCL",
        "ZIPRASIDONE MESYLATE"
       ],
       "description": "drug_name",
       "index": 0,
       "layout": "IPY_MODEL_4efa223736cf42d5a1079c7891b50bae",
       "style": "IPY_MODEL_b41b22b9423845aa8c744928be311e16"
      }
     },
     "6c916cda088744c898706486bb106dd6": {
      "model_module": "@jupyter-widgets/controls",
      "model_module_version": "1.2.0",
      "model_name": "FloatSliderModel",
      "state": {
       "description": "threshold",
       "layout": "IPY_MODEL_7cfc7668db9144f1a320b919b7e60d6e",
       "max": 6.913043478260869,
       "step": 0.1,
       "style": "IPY_MODEL_9bc65c6aca004c7e975270d6e3156ddd",
       "value": 3.4565217391304346
      }
     },
     "6cae29b21b8f4adb989a27b1f015cf7f": {
      "model_module": "@jupyter-widgets/controls",
      "model_module_version": "1.2.0",
      "model_name": "DropdownModel",
      "state": {
       "_options_labels": [
        "Opioid",
        "Antibiotics",
        "Antipsychotic"
       ],
       "description": "drug_type",
       "index": 2,
       "layout": "IPY_MODEL_21a109a2522a44e0b032f9ea591df347",
       "style": "IPY_MODEL_88a1431cd32b422b9fa2d186098cfd6b"
      }
     },
     "6dd56420bf844fb49f098b612758d4bb": {
      "model_module": "@jupyter-widgets/controls",
      "model_module_version": "1.2.0",
      "model_name": "FloatSliderModel",
      "state": {
       "description": "threshold",
       "layout": "IPY_MODEL_445983e130df4803b713df0299eb8eae",
       "max": 152360496.54090068,
       "step": 0.1,
       "style": "IPY_MODEL_c2639c869d5a4e92ad95465234d63ad5",
       "value": 76180248.27045034
      }
     },
     "6ec6bde877634f13a0689818472f4336": {
      "model_module": "@jupyter-widgets/base",
      "model_module_version": "1.0.0",
      "model_name": "LayoutModel",
      "state": {}
     },
     "7042434dac7c40dd975e34817a2615df": {
      "model_module": "@jupyter-widgets/controls",
      "model_module_version": "1.2.0",
      "model_name": "DropdownModel",
      "state": {
       "_options_labels": [
        "Opioid",
        "Antibiotics",
        "Antipsychotic"
       ],
       "description": "drug_type",
       "index": 2,
       "layout": "IPY_MODEL_160bd03f871446af9351c8d344cdecd0",
       "style": "IPY_MODEL_d1c76d1a4b3b47e4b3e8d76d6bbee7d8"
      }
     },
     "72801670ca214c30ad2a178dbcfaab86": {
      "model_module": "@jupyter-widgets/output",
      "model_module_version": "1.0.0",
      "model_name": "OutputModel",
      "state": {
       "layout": "IPY_MODEL_fcde1aa6c0c24c928b390dcabc47c3f5"
      }
     },
     "7324d9abe080417c9af7bb103bdd4c76": {
      "model_module": "@jupyter-widgets/base",
      "model_module_version": "1.0.0",
      "model_name": "LayoutModel",
      "state": {}
     },
     "739cdab629f147d5802393858369ce5a": {
      "model_module": "@jupyter-widgets/output",
      "model_module_version": "1.0.0",
      "model_name": "OutputModel",
      "state": {
       "layout": "IPY_MODEL_5eaee66cfa284a0b93d543afcc11c7b0"
      }
     },
     "74a6ebdc97b64c42b0a03c2460f80764": {
      "model_module": "@jupyter-widgets/base",
      "model_module_version": "1.0.0",
      "model_name": "LayoutModel",
      "state": {}
     },
     "74b8a596cba9432f99ede1bd0657bd91": {
      "model_module": "@jupyter-widgets/controls",
      "model_module_version": "1.2.0",
      "model_name": "DescriptionStyleModel",
      "state": {
       "description_width": ""
      }
     },
     "74e660fd8ee14883bc0586daf89d8f93": {
      "model_module": "@jupyter-widgets/output",
      "model_module_version": "1.0.0",
      "model_name": "OutputModel",
      "state": {
       "layout": "IPY_MODEL_9ed79913a0e7400090b08e8f89b2524a",
       "outputs": [
        {
         "data": {
          "text/html": "<div>\n<style scoped>\n    .dataframe tbody tr th:only-of-type {\n        vertical-align: middle;\n    }\n\n    .dataframe tbody tr th {\n        vertical-align: top;\n    }\n\n    .dataframe thead th {\n        text-align: right;\n    }\n</style>\n<table border=\"1\" class=\"dataframe\">\n  <thead>\n    <tr style=\"text-align: right;\">\n      <th></th>\n      <th>ratio</th>\n      <th>year</th>\n    </tr>\n    <tr>\n      <th>generic_name</th>\n      <th></th>\n      <th></th>\n    </tr>\n  </thead>\n  <tbody>\n    <tr>\n      <th>ACETAMINOPHEN WITH CODEINE</th>\n      <td>2.296064</td>\n      <td>2013</td>\n    </tr>\n    <tr>\n      <th>BUPRENORPHINE</th>\n      <td>3.787563</td>\n      <td>2013</td>\n    </tr>\n    <tr>\n      <th>BUTALBIT/ACETAMIN/CAFF/CODEINE</th>\n      <td>4.465614</td>\n      <td>2013</td>\n    </tr>\n    <tr>\n      <th>CODEINE SULFATE</th>\n      <td>3.397810</td>\n      <td>2013</td>\n    </tr>\n    <tr>\n      <th>CODEINE/BUTALBITAL/ASA/CAFFEIN</th>\n      <td>4.559167</td>\n      <td>2013</td>\n    </tr>\n    <tr>\n      <th>CODEINE/CARISOPRODOL/ASPIRIN</th>\n      <td>3.757143</td>\n      <td>2013</td>\n    </tr>\n    <tr>\n      <th>DHCODEINE BT/ACETAMINOPHN/CAFF</th>\n      <td>2.938783</td>\n      <td>2013</td>\n    </tr>\n    <tr>\n      <th>DIHYDROCODEINE/ASPIRIN/CAFFEIN</th>\n      <td>2.954545</td>\n      <td>2013</td>\n    </tr>\n    <tr>\n      <th>HYDROCODONE/ACETAMINOPHEN</th>\n      <td>4.364880</td>\n      <td>2013</td>\n    </tr>\n    <tr>\n      <th>HYDROCODONE/IBUPROFEN</th>\n      <td>2.646102</td>\n      <td>2013</td>\n    </tr>\n    <tr>\n      <th>HYDROMORPHONE HCL</th>\n      <td>3.828790</td>\n      <td>2013</td>\n    </tr>\n    <tr>\n      <th>IBUPROFEN/OXYCODONE HCL</th>\n      <td>3.127895</td>\n      <td>2013</td>\n    </tr>\n    <tr>\n      <th>LEVORPHANOL TARTRATE</th>\n      <td>4.993148</td>\n      <td>2013</td>\n    </tr>\n    <tr>\n      <th>MEPERIDINE HCL</th>\n      <td>2.750710</td>\n      <td>2013</td>\n    </tr>\n    <tr>\n      <th>MEPERIDINE HCL/PF</th>\n      <td>1.755363</td>\n      <td>2013</td>\n    </tr>\n    <tr>\n      <th>MORPHINE SULFATE</th>\n      <td>5.671511</td>\n      <td>2013</td>\n    </tr>\n    <tr>\n      <th>MORPHINE SULFATE/PF</th>\n      <td>2.603448</td>\n      <td>2013</td>\n    </tr>\n    <tr>\n      <th>OPIUM TINCTURE</th>\n      <td>4.088541</td>\n      <td>2013</td>\n    </tr>\n    <tr>\n      <th>OPIUM/BELLADONNA ALKALOIDS</th>\n      <td>1.817757</td>\n      <td>2013</td>\n    </tr>\n    <tr>\n      <th>OXYCODONE HCL</th>\n      <td>5.602444</td>\n      <td>2013</td>\n    </tr>\n    <tr>\n      <th>OXYCODONE HCL/ACETAMINOPHEN</th>\n      <td>3.156125</td>\n      <td>2013</td>\n    </tr>\n    <tr>\n      <th>OXYCODONE HCL/ASPIRIN</th>\n      <td>3.334127</td>\n      <td>2013</td>\n    </tr>\n    <tr>\n      <th>OXYCODONE HCL/OXYCODON TER/ASA</th>\n      <td>1.070000</td>\n      <td>2013</td>\n    </tr>\n    <tr>\n      <th>OXYMORPHONE HCL</th>\n      <td>5.146275</td>\n      <td>2013</td>\n    </tr>\n    <tr>\n      <th>PENTAZOCINE HCL/ACETAMINOPHEN</th>\n      <td>3.840881</td>\n      <td>2013</td>\n    </tr>\n    <tr>\n      <th>PENTAZOCINE HCL/NALOXONE HCL</th>\n      <td>4.119419</td>\n      <td>2013</td>\n    </tr>\n    <tr>\n      <th>TAPENTADOL HCL</th>\n      <td>3.491125</td>\n      <td>2013</td>\n    </tr>\n    <tr>\n      <th>TRAMADOL HCL</th>\n      <td>3.710026</td>\n      <td>2013</td>\n    </tr>\n    <tr>\n      <th>TRAMADOL HCL/ACETAMINOPHEN</th>\n      <td>3.001195</td>\n      <td>2013</td>\n    </tr>\n    <tr>\n      <th>ACETAMINOPHEN WITH CODEINE</th>\n      <td>2.168103</td>\n      <td>2014</td>\n    </tr>\n    <tr>\n      <th>...</th>\n      <td>...</td>\n      <td>...</td>\n    </tr>\n    <tr>\n      <th>PENTAZOCINE HCL/NALOXONE HCL</th>\n      <td>4.014359</td>\n      <td>2015</td>\n    </tr>\n    <tr>\n      <th>TAPENTADOL HCL</th>\n      <td>3.989566</td>\n      <td>2015</td>\n    </tr>\n    <tr>\n      <th>TRAMADOL HCL</th>\n      <td>3.519497</td>\n      <td>2015</td>\n    </tr>\n    <tr>\n      <th>TRAMADOL HCL/ACETAMINOPHEN</th>\n      <td>2.745623</td>\n      <td>2015</td>\n    </tr>\n    <tr>\n      <th>ACETAMINOPHEN WITH CODEINE</th>\n      <td>2.195083</td>\n      <td>2016</td>\n    </tr>\n    <tr>\n      <th>ACETAMINOPHEN/CAFF/DIHYDROCOD</th>\n      <td>2.007051</td>\n      <td>2016</td>\n    </tr>\n    <tr>\n      <th>ASPIRIN/CAFFEIN/DIHYDROCODEINE</th>\n      <td>3.234146</td>\n      <td>2016</td>\n    </tr>\n    <tr>\n      <th>BUPRENORPHINE</th>\n      <td>4.442661</td>\n      <td>2016</td>\n    </tr>\n    <tr>\n      <th>BUTALBIT/ACETAMIN/CAFF/CODEINE</th>\n      <td>4.120011</td>\n      <td>2016</td>\n    </tr>\n    <tr>\n      <th>CARISOPRODOL/ASPIRIN/CODEINE</th>\n      <td>4.137000</td>\n      <td>2016</td>\n    </tr>\n    <tr>\n      <th>CODEINE SULFATE</th>\n      <td>3.733924</td>\n      <td>2016</td>\n    </tr>\n    <tr>\n      <th>CODEINE/BUTALBITAL/ASA/CAFFEIN</th>\n      <td>4.936305</td>\n      <td>2016</td>\n    </tr>\n    <tr>\n      <th>HYDROCODONE BITARTRATE</th>\n      <td>3.760934</td>\n      <td>2016</td>\n    </tr>\n    <tr>\n      <th>HYDROCODONE/ACETAMINOPHEN</th>\n      <td>3.981006</td>\n      <td>2016</td>\n    </tr>\n    <tr>\n      <th>HYDROCODONE/IBUPROFEN</th>\n      <td>2.712200</td>\n      <td>2016</td>\n    </tr>\n    <tr>\n      <th>HYDROMORPHONE HCL</th>\n      <td>4.036224</td>\n      <td>2016</td>\n    </tr>\n    <tr>\n      <th>IBUPROFEN/OXYCODONE HCL</th>\n      <td>2.858824</td>\n      <td>2016</td>\n    </tr>\n    <tr>\n      <th>LEVORPHANOL TARTRATE</th>\n      <td>3.812403</td>\n      <td>2016</td>\n    </tr>\n    <tr>\n      <th>MEPERIDINE HCL</th>\n      <td>2.773368</td>\n      <td>2016</td>\n    </tr>\n    <tr>\n      <th>MORPHINE SULFATE/NALTREXONE</th>\n      <td>3.340169</td>\n      <td>2016</td>\n    </tr>\n    <tr>\n      <th>OPIUM TINCTURE</th>\n      <td>4.708873</td>\n      <td>2016</td>\n    </tr>\n    <tr>\n      <th>OPIUM/BELLADONNA ALKALOIDS</th>\n      <td>2.024466</td>\n      <td>2016</td>\n    </tr>\n    <tr>\n      <th>OXYCODONE HCL</th>\n      <td>5.306905</td>\n      <td>2016</td>\n    </tr>\n    <tr>\n      <th>OXYCODONE HCL/ACETAMINOPHEN</th>\n      <td>3.678576</td>\n      <td>2016</td>\n    </tr>\n    <tr>\n      <th>OXYCODONE HCL/ASPIRIN</th>\n      <td>4.725419</td>\n      <td>2016</td>\n    </tr>\n    <tr>\n      <th>OXYCODONE MYRISTATE</th>\n      <td>1.850695</td>\n      <td>2016</td>\n    </tr>\n    <tr>\n      <th>PENTAZOCINE HCL/NALOXONE HCL</th>\n      <td>4.047414</td>\n      <td>2016</td>\n    </tr>\n    <tr>\n      <th>TAPENTADOL HCL</th>\n      <td>3.934943</td>\n      <td>2016</td>\n    </tr>\n    <tr>\n      <th>TRAMADOL HCL</th>\n      <td>3.530013</td>\n      <td>2016</td>\n    </tr>\n    <tr>\n      <th>TRAMADOL HCL/ACETAMINOPHEN</th>\n      <td>2.749128</td>\n      <td>2016</td>\n    </tr>\n  </tbody>\n</table>\n<p>114 rows × 2 columns</p>\n</div>",
          "text/plain": "                                    ratio  year\ngeneric_name                                   \nACETAMINOPHEN WITH CODEINE       2.296064  2013\nBUPRENORPHINE                    3.787563  2013\nBUTALBIT/ACETAMIN/CAFF/CODEINE   4.465614  2013\nCODEINE SULFATE                  3.397810  2013\nCODEINE/BUTALBITAL/ASA/CAFFEIN   4.559167  2013\nCODEINE/CARISOPRODOL/ASPIRIN     3.757143  2013\nDHCODEINE BT/ACETAMINOPHN/CAFF   2.938783  2013\nDIHYDROCODEINE/ASPIRIN/CAFFEIN   2.954545  2013\nHYDROCODONE/ACETAMINOPHEN        4.364880  2013\nHYDROCODONE/IBUPROFEN            2.646102  2013\nHYDROMORPHONE HCL                3.828790  2013\nIBUPROFEN/OXYCODONE HCL          3.127895  2013\nLEVORPHANOL TARTRATE             4.993148  2013\nMEPERIDINE HCL                   2.750710  2013\nMEPERIDINE HCL/PF                1.755363  2013\nMORPHINE SULFATE                 5.671511  2013\nMORPHINE SULFATE/PF              2.603448  2013\nOPIUM TINCTURE                   4.088541  2013\nOPIUM/BELLADONNA ALKALOIDS       1.817757  2013\nOXYCODONE HCL                    5.602444  2013\nOXYCODONE HCL/ACETAMINOPHEN      3.156125  2013\nOXYCODONE HCL/ASPIRIN            3.334127  2013\nOXYCODONE HCL/OXYCODON TER/ASA   1.070000  2013\nOXYMORPHONE HCL                  5.146275  2013\nPENTAZOCINE HCL/ACETAMINOPHEN    3.840881  2013\nPENTAZOCINE HCL/NALOXONE HCL     4.119419  2013\nTAPENTADOL HCL                   3.491125  2013\nTRAMADOL HCL                     3.710026  2013\nTRAMADOL HCL/ACETAMINOPHEN       3.001195  2013\nACETAMINOPHEN WITH CODEINE       2.168103  2014\n...                                   ...   ...\nPENTAZOCINE HCL/NALOXONE HCL     4.014359  2015\nTAPENTADOL HCL                   3.989566  2015\nTRAMADOL HCL                     3.519497  2015\nTRAMADOL HCL/ACETAMINOPHEN       2.745623  2015\nACETAMINOPHEN WITH CODEINE       2.195083  2016\nACETAMINOPHEN/CAFF/DIHYDROCOD    2.007051  2016\nASPIRIN/CAFFEIN/DIHYDROCODEINE   3.234146  2016\nBUPRENORPHINE                    4.442661  2016\nBUTALBIT/ACETAMIN/CAFF/CODEINE   4.120011  2016\nCARISOPRODOL/ASPIRIN/CODEINE     4.137000  2016\nCODEINE SULFATE                  3.733924  2016\nCODEINE/BUTALBITAL/ASA/CAFFEIN   4.936305  2016\nHYDROCODONE BITARTRATE           3.760934  2016\nHYDROCODONE/ACETAMINOPHEN        3.981006  2016\nHYDROCODONE/IBUPROFEN            2.712200  2016\nHYDROMORPHONE HCL                4.036224  2016\nIBUPROFEN/OXYCODONE HCL          2.858824  2016\nLEVORPHANOL TARTRATE             3.812403  2016\nMEPERIDINE HCL                   2.773368  2016\nMORPHINE SULFATE/NALTREXONE      3.340169  2016\nOPIUM TINCTURE                   4.708873  2016\nOPIUM/BELLADONNA ALKALOIDS       2.024466  2016\nOXYCODONE HCL                    5.306905  2016\nOXYCODONE HCL/ACETAMINOPHEN      3.678576  2016\nOXYCODONE HCL/ASPIRIN            4.725419  2016\nOXYCODONE MYRISTATE              1.850695  2016\nPENTAZOCINE HCL/NALOXONE HCL     4.047414  2016\nTAPENTADOL HCL                   3.934943  2016\nTRAMADOL HCL                     3.530013  2016\nTRAMADOL HCL/ACETAMINOPHEN       2.749128  2016\n\n[114 rows x 2 columns]"
         },
         "metadata": {},
         "output_type": "display_data"
        }
       ]
      }
     },
     "76f9cc05402746e6a94d5c1dcb3bf536": {
      "model_module": "@jupyter-widgets/base",
      "model_module_version": "1.0.0",
      "model_name": "LayoutModel",
      "state": {}
     },
     "778a76a88caa4391a6e157317601ef2f": {
      "model_module": "@jupyter-widgets/base",
      "model_module_version": "1.0.0",
      "model_name": "LayoutModel",
      "state": {}
     },
     "77b01d44f043414d99d55db9f8c6fd0d": {
      "model_module": "@jupyter-widgets/controls",
      "model_module_version": "1.2.0",
      "model_name": "FloatSliderModel",
      "state": {
       "description": "threshold",
       "layout": "IPY_MODEL_04d393b4cd3040658b9cf43b89f71190",
       "max": 12.088997555012224,
       "step": 0.1,
       "style": "IPY_MODEL_d91295077ebb4737a50989ae1eb68402",
       "value": 7.7
      }
     },
     "787b14905bdc436b88ee3b909fe3d3d4": {
      "model_module": "@jupyter-widgets/base",
      "model_module_version": "1.0.0",
      "model_name": "LayoutModel",
      "state": {}
     },
     "788ad3e6326648fbaa1d3f753406210a": {
      "model_module": "@jupyter-widgets/controls",
      "model_module_version": "1.2.0",
      "model_name": "SliderStyleModel",
      "state": {
       "description_width": ""
      }
     },
     "79f539b31d2347d68bd41cdb18e43838": {
      "model_module": "@jupyter-widgets/base",
      "model_module_version": "1.0.0",
      "model_name": "LayoutModel",
      "state": {}
     },
     "7a1aada1eaa1478ab2af9f2ee4be6ef6": {
      "model_module": "@jupyter-widgets/controls",
      "model_module_version": "1.2.0",
      "model_name": "VBoxModel",
      "state": {
       "_dom_classes": [
        "widget-interact"
       ],
       "children": [
        "IPY_MODEL_77b01d44f043414d99d55db9f8c6fd0d",
        "IPY_MODEL_7ac9f428cd7c4026ad1695f472f35c64"
       ],
       "layout": "IPY_MODEL_39b1970ff69746ec8ecdf517a1adc8c6"
      }
     },
     "7a26636850394a8296d1fd932617badf": {
      "model_module": "@jupyter-widgets/controls",
      "model_module_version": "1.2.0",
      "model_name": "SliderStyleModel",
      "state": {
       "description_width": ""
      }
     },
     "7ac9f428cd7c4026ad1695f472f35c64": {
      "model_module": "@jupyter-widgets/output",
      "model_module_version": "1.0.0",
      "model_name": "OutputModel",
      "state": {
       "layout": "IPY_MODEL_0d1b4721871148989e262acdb8ddfa7f",
       "outputs": [
        {
         "data": {
          "text/html": "<div>\n<style scoped>\n    .dataframe tbody tr th:only-of-type {\n        vertical-align: middle;\n    }\n\n    .dataframe tbody tr th {\n        vertical-align: top;\n    }\n\n    .dataframe thead th {\n        text-align: right;\n    }\n</style>\n<table border=\"1\" class=\"dataframe\">\n  <thead>\n    <tr style=\"text-align: right;\">\n      <th></th>\n      <th>ratio</th>\n      <th>year</th>\n    </tr>\n    <tr>\n      <th>generic_name</th>\n      <th></th>\n      <th></th>\n    </tr>\n  </thead>\n  <tbody>\n    <tr>\n      <th>BUTORPHANOL TARTRATE</th>\n      <td>8.428499</td>\n      <td>2013</td>\n    </tr>\n    <tr>\n      <th>METHADONE HCL</th>\n      <td>8.479963</td>\n      <td>2013</td>\n    </tr>\n    <tr>\n      <th>NALBUPHINE HCL</th>\n      <td>10.666384</td>\n      <td>2013</td>\n    </tr>\n    <tr>\n      <th>BUTORPHANOL TARTRATE</th>\n      <td>8.569593</td>\n      <td>2014</td>\n    </tr>\n    <tr>\n      <th>METHADONE HCL</th>\n      <td>8.580774</td>\n      <td>2014</td>\n    </tr>\n    <tr>\n      <th>NALBUPHINE HCL</th>\n      <td>11.088998</td>\n      <td>2014</td>\n    </tr>\n    <tr>\n      <th>BUTORPHANOL TARTRATE</th>\n      <td>8.581697</td>\n      <td>2015</td>\n    </tr>\n    <tr>\n      <th>METHADONE HCL</th>\n      <td>8.781248</td>\n      <td>2015</td>\n    </tr>\n    <tr>\n      <th>NALBUPHINE HCL</th>\n      <td>10.955906</td>\n      <td>2015</td>\n    </tr>\n    <tr>\n      <th>BUTORPHANOL TARTRATE</th>\n      <td>9.039714</td>\n      <td>2016</td>\n    </tr>\n    <tr>\n      <th>METHADONE HCL</th>\n      <td>9.021810</td>\n      <td>2016</td>\n    </tr>\n  </tbody>\n</table>\n</div>",
          "text/plain": "                           ratio  year\ngeneric_name                          \nBUTORPHANOL TARTRATE    8.428499  2013\nMETHADONE HCL           8.479963  2013\nNALBUPHINE HCL         10.666384  2013\nBUTORPHANOL TARTRATE    8.569593  2014\nMETHADONE HCL           8.580774  2014\nNALBUPHINE HCL         11.088998  2014\nBUTORPHANOL TARTRATE    8.581697  2015\nMETHADONE HCL           8.781248  2015\nNALBUPHINE HCL         10.955906  2015\nBUTORPHANOL TARTRATE    9.039714  2016\nMETHADONE HCL           9.021810  2016"
         },
         "metadata": {},
         "output_type": "display_data"
        }
       ]
      }
     },
     "7b4947655d8f40aeb0f4652adbf5fa1c": {
      "model_module": "@jupyter-widgets/controls",
      "model_module_version": "1.2.0",
      "model_name": "VBoxModel",
      "state": {
       "_dom_classes": [
        "widget-interact"
       ],
       "children": [
        "IPY_MODEL_598c0bd636e6469dbc2f6a25f79fbbc3",
        "IPY_MODEL_11a7ed7d1fe94d23bc855614c6689df5"
       ],
       "layout": "IPY_MODEL_6a75a31332e1408a81fa4017f3a6a3f2"
      }
     },
     "7b62909af4d74f81b2016caaad2858ea": {
      "model_module": "@jupyter-widgets/base",
      "model_module_version": "1.0.0",
      "model_name": "LayoutModel",
      "state": {}
     },
     "7c21a2132ba84ef9b6417a7a2ace684d": {
      "model_module": "@jupyter-widgets/base",
      "model_module_version": "1.0.0",
      "model_name": "LayoutModel",
      "state": {}
     },
     "7c8cc2db29b44b49ae81f8546d220a6c": {
      "model_module": "@jupyter-widgets/controls",
      "model_module_version": "1.2.0",
      "model_name": "VBoxModel",
      "state": {
       "_dom_classes": [
        "widget-interact"
       ],
       "children": [
        "IPY_MODEL_b385263e7b054b1292f823f6bf4915c4",
        "IPY_MODEL_cb408a39c1124c8da4ceba87ee5fa00a"
       ],
       "layout": "IPY_MODEL_f5ef194890ac4ea0845c08012cdbcf64"
      }
     },
     "7cfc7668db9144f1a320b919b7e60d6e": {
      "model_module": "@jupyter-widgets/base",
      "model_module_version": "1.0.0",
      "model_name": "LayoutModel",
      "state": {}
     },
     "7d3d2b7ed44748428640e67c432ac8e1": {
      "model_module": "@jupyter-widgets/controls",
      "model_module_version": "1.2.0",
      "model_name": "VBoxModel",
      "state": {
       "_dom_classes": [
        "widget-interact"
       ],
       "children": [
        "IPY_MODEL_b5bb79475c974ce780e953f6515abb37",
        "IPY_MODEL_c051caff84704dedb2f3ca5bdf3e3b40"
       ],
       "layout": "IPY_MODEL_c0e2ce2848304dc78f0d179ecbe945ea"
      }
     },
     "7e92c4c204a44b46836edaa90569dfee": {
      "model_module": "@jupyter-widgets/controls",
      "model_module_version": "1.2.0",
      "model_name": "VBoxModel",
      "state": {
       "_dom_classes": [
        "widget-interact"
       ],
       "children": [
        "IPY_MODEL_6c916cda088744c898706486bb106dd6",
        "IPY_MODEL_17fed87e5e3f43ea87ddefc3bf010ef9"
       ],
       "layout": "IPY_MODEL_46649fd18f5e4485b056a0cc1121b288"
      }
     },
     "7f45c0b313ee4150979f9d466c58c739": {
      "model_module": "@jupyter-widgets/base",
      "model_module_version": "1.0.0",
      "model_name": "LayoutModel",
      "state": {}
     },
     "80ab0332dfe343f2a504ae113802f07a": {
      "model_module": "@jupyter-widgets/output",
      "model_module_version": "1.0.0",
      "model_name": "OutputModel",
      "state": {
       "layout": "IPY_MODEL_59258d59800344dcadcf70ea98c48ae1",
       "outputs": [
        {
         "data": {
          "text/html": "<div>\n<style scoped>\n    .dataframe tbody tr th:only-of-type {\n        vertical-align: middle;\n    }\n\n    .dataframe tbody tr th {\n        vertical-align: top;\n    }\n\n    .dataframe thead th {\n        text-align: right;\n    }\n</style>\n<table border=\"1\" class=\"dataframe\">\n  <thead>\n    <tr style=\"text-align: right;\">\n      <th></th>\n      <th>ratio</th>\n      <th>year</th>\n    </tr>\n    <tr>\n      <th>generic_name</th>\n      <th></th>\n      <th></th>\n    </tr>\n  </thead>\n  <tbody>\n    <tr>\n      <th>CLOZAPINE</th>\n      <td>17.970055</td>\n      <td>2013</td>\n    </tr>\n    <tr>\n      <th>CLOZAPINE</th>\n      <td>18.141369</td>\n      <td>2014</td>\n    </tr>\n    <tr>\n      <th>RISPERIDONE MICROSPHERES</th>\n      <td>11.035812</td>\n      <td>2014</td>\n    </tr>\n    <tr>\n      <th>CLOZAPINE</th>\n      <td>18.076115</td>\n      <td>2015</td>\n    </tr>\n    <tr>\n      <th>RISPERIDONE MICROSPHERES</th>\n      <td>11.241899</td>\n      <td>2015</td>\n    </tr>\n    <tr>\n      <th>CLOZAPINE</th>\n      <td>17.919076</td>\n      <td>2016</td>\n    </tr>\n    <tr>\n      <th>RISPERIDONE MICROSPHERES</th>\n      <td>11.419924</td>\n      <td>2016</td>\n    </tr>\n  </tbody>\n</table>\n</div>",
          "text/plain": "                               ratio  year\ngeneric_name                              \nCLOZAPINE                  17.970055  2013\nCLOZAPINE                  18.141369  2014\nRISPERIDONE MICROSPHERES   11.035812  2014\nCLOZAPINE                  18.076115  2015\nRISPERIDONE MICROSPHERES   11.241899  2015\nCLOZAPINE                  17.919076  2016\nRISPERIDONE MICROSPHERES   11.419924  2016"
         },
         "metadata": {},
         "output_type": "display_data"
        }
       ]
      }
     },
     "81f65d7b7276442a931efa8b96e03802": {
      "model_module": "@jupyter-widgets/base",
      "model_module_version": "1.0.0",
      "model_name": "LayoutModel",
      "state": {}
     },
     "8286b970c41a4bdebf9546fed017497c": {
      "model_module": "@jupyter-widgets/base",
      "model_module_version": "1.0.0",
      "model_name": "LayoutModel",
      "state": {}
     },
     "82da58852f014a6cbb2b7c9b7f77a9c6": {
      "model_module": "@jupyter-widgets/base",
      "model_module_version": "1.0.0",
      "model_name": "LayoutModel",
      "state": {}
     },
     "8383543cf34945678dbb71b953a99f3d": {
      "model_module": "@jupyter-widgets/controls",
      "model_module_version": "1.2.0",
      "model_name": "SliderStyleModel",
      "state": {
       "description_width": ""
      }
     },
     "83aa011b080f4f82a2a4f328aa7bfa83": {
      "model_module": "@jupyter-widgets/controls",
      "model_module_version": "1.2.0",
      "model_name": "DescriptionStyleModel",
      "state": {
       "description_width": ""
      }
     },
     "83e690024faa4e728327e13940396bd0": {
      "model_module": "@jupyter-widgets/base",
      "model_module_version": "1.0.0",
      "model_name": "LayoutModel",
      "state": {}
     },
     "83ecd1c214004d1abf719385d5e98c9b": {
      "model_module": "@jupyter-widgets/base",
      "model_module_version": "1.0.0",
      "model_name": "LayoutModel",
      "state": {}
     },
     "846e2453238e4fd5af7d0d89a78102ca": {
      "model_module": "@jupyter-widgets/base",
      "model_module_version": "1.0.0",
      "model_name": "LayoutModel",
      "state": {}
     },
     "8476c841ebe5492bb122273d6d9d6f66": {
      "model_module": "@jupyter-widgets/output",
      "model_module_version": "1.0.0",
      "model_name": "OutputModel",
      "state": {
       "layout": "IPY_MODEL_1dba92fd54a1449fa5811ffe53c4a06d"
      }
     },
     "85286b9d0696443cadc46a3fbb21cd71": {
      "model_module": "@jupyter-widgets/base",
      "model_module_version": "1.0.0",
      "model_name": "LayoutModel",
      "state": {}
     },
     "85865d770c574ca78e582c2e22e05b50": {
      "model_module": "@jupyter-widgets/output",
      "model_module_version": "1.0.0",
      "model_name": "OutputModel",
      "state": {
       "layout": "IPY_MODEL_85c0e2d0fb5348b48d6056fcb9d0b44c"
      }
     },
     "85c0e2d0fb5348b48d6056fcb9d0b44c": {
      "model_module": "@jupyter-widgets/base",
      "model_module_version": "1.0.0",
      "model_name": "LayoutModel",
      "state": {}
     },
     "867bc28e5d274810a3ed59dc6302fc24": {
      "model_module": "@jupyter-widgets/base",
      "model_module_version": "1.0.0",
      "model_name": "LayoutModel",
      "state": {}
     },
     "87d4cd9536a84f9ab46354f427102327": {
      "model_module": "@jupyter-widgets/controls",
      "model_module_version": "1.2.0",
      "model_name": "VBoxModel",
      "state": {
       "_dom_classes": [
        "widget-interact"
       ],
       "children": [
        "IPY_MODEL_2c746d34ceea43d78e1e1d3cd83c61f7",
        "IPY_MODEL_04ca5b20c07641179c2107aa7f6c1caa"
       ],
       "layout": "IPY_MODEL_045e31ca76294ed48d20967e4a799672"
      }
     },
     "88a1431cd32b422b9fa2d186098cfd6b": {
      "model_module": "@jupyter-widgets/controls",
      "model_module_version": "1.2.0",
      "model_name": "DescriptionStyleModel",
      "state": {
       "description_width": ""
      }
     },
     "89070415eade4bc4933e8180dc5e1b01": {
      "model_module": "@jupyter-widgets/base",
      "model_module_version": "1.0.0",
      "model_name": "LayoutModel",
      "state": {}
     },
     "89a18e8e1892467eb4c5e69834a86d06": {
      "model_module": "@jupyter-widgets/controls",
      "model_module_version": "1.2.0",
      "model_name": "VBoxModel",
      "state": {
       "_dom_classes": [
        "widget-interact"
       ],
       "children": [
        "IPY_MODEL_07328731452345efa9eaa690961277a6",
        "IPY_MODEL_d931a338bc3d45bfa7cf0447bcaf8e42"
       ],
       "layout": "IPY_MODEL_787b14905bdc436b88ee3b909fe3d3d4"
      }
     },
     "89fb5a72c8da45718b9c2a953bb20451": {
      "model_module": "@jupyter-widgets/controls",
      "model_module_version": "1.2.0",
      "model_name": "VBoxModel",
      "state": {
       "_dom_classes": [
        "widget-interact"
       ],
       "children": [
        "IPY_MODEL_4a4873bf91894688b26179e81ee24d42",
        "IPY_MODEL_ff5cbf7e75634371b7aee29ab34d7594"
       ],
       "layout": "IPY_MODEL_39a431b7445e4feb886a1ad413ec2483"
      }
     },
     "8a1677bfcb894edfb948ce86af566925": {
      "model_module": "@jupyter-widgets/controls",
      "model_module_version": "1.2.0",
      "model_name": "VBoxModel",
      "state": {
       "_dom_classes": [
        "widget-interact"
       ],
       "children": [
        "IPY_MODEL_f2a8c379985f44cbbe29d22c11836dde",
        "IPY_MODEL_43830a0a80ef48cc949c30a98c535e3d"
       ],
       "layout": "IPY_MODEL_0dad8548eba541f88097d221a692e587"
      }
     },
     "8ac6a5b097eb46c6a8af9783dd732644": {
      "model_module": "@jupyter-widgets/output",
      "model_module_version": "1.0.0",
      "model_name": "OutputModel",
      "state": {
       "layout": "IPY_MODEL_15dfa2e31b5643c18e54ec5129f3c8f5",
       "outputs": [
        {
         "data": {
          "image/png": "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\n",
          "text/plain": "<Figure size 432x288 with 1 Axes>"
         },
         "metadata": {},
         "output_type": "display_data"
        },
        {
         "data": {
          "application/vnd.jupyter.widget-view+json": {
           "model_id": "89a18e8e1892467eb4c5e69834a86d06",
           "version_major": 2,
           "version_minor": 0
          },
          "text/plain": "interactive(children=(Dropdown(description='drug_name', options=('all', 'ARIPIPRAZOLE', 'ARIPIPRAZOLE LAUROXIL…"
         },
         "metadata": {},
         "output_type": "display_data"
        },
        {
         "data": {
          "application/vnd.jupyter.widget-view+json": {
           "model_id": "12566d18d9d24fa7a0d891147028cf4d",
           "version_major": 2,
           "version_minor": 0
          },
          "text/plain": "interactive(children=(FloatSlider(value=9.570684721512519, description='threshold', max=19.141369443025038), O…"
         },
         "metadata": {},
         "output_type": "display_data"
        }
       ]
      }
     },
     "900a03175c1d44bd809777a8a83c154b": {
      "model_module": "@jupyter-widgets/controls",
      "model_module_version": "1.2.0",
      "model_name": "FloatSliderModel",
      "state": {
       "description": "threshold",
       "layout": "IPY_MODEL_d30b3dc99dea4c38900bd2d788b58102",
       "max": 12.088997555012224,
       "step": 0.1,
       "style": "IPY_MODEL_565faf0f3b7f4698a4ccaf14f8d059ff"
      }
     },
     "907676fa1d464604a82e747e12827dab": {
      "model_module": "@jupyter-widgets/base",
      "model_module_version": "1.0.0",
      "model_name": "LayoutModel",
      "state": {}
     },
     "90fd66d014cd44dc84a2602192ee421d": {
      "model_module": "@jupyter-widgets/output",
      "model_module_version": "1.0.0",
      "model_name": "OutputModel",
      "state": {
       "layout": "IPY_MODEL_6ba38d81b33f4469b573ddab3f8378dd"
      }
     },
     "91bbefc72ff24909807fa726dd96fd07": {
      "model_module": "@jupyter-widgets/controls",
      "model_module_version": "1.2.0",
      "model_name": "VBoxModel",
      "state": {
       "_dom_classes": [
        "widget-interact"
       ],
       "children": [
        "IPY_MODEL_6cae29b21b8f4adb989a27b1f015cf7f",
        "IPY_MODEL_653f36210ee9412f89b49c8054b01766"
       ],
       "layout": "IPY_MODEL_16aebd3713a44f1eb686323ed9bad2d2"
      }
     },
     "92adb1bd9be44d66953d1b321d854371": {
      "model_module": "@jupyter-widgets/output",
      "model_module_version": "1.0.0",
      "model_name": "OutputModel",
      "state": {
       "layout": "IPY_MODEL_1ba61a5cba8c4ad7af6e113f2f21d35c",
       "outputs": [
        {
         "data": {
          "image/png": "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\n",
          "text/plain": "<Figure size 432x288 with 1 Axes>"
         },
         "metadata": {},
         "output_type": "display_data"
        }
       ]
      }
     },
     "9477560fcb44471e9bf9d50c3dfdff10": {
      "model_module": "@jupyter-widgets/base",
      "model_module_version": "1.0.0",
      "model_name": "LayoutModel",
      "state": {}
     },
     "95047b43d45546bf864964b3c83ce570": {
      "model_module": "@jupyter-widgets/controls",
      "model_module_version": "1.2.0",
      "model_name": "SliderStyleModel",
      "state": {
       "description_width": ""
      }
     },
     "95d3b8260c3740f3a355b453b79f61f8": {
      "model_module": "@jupyter-widgets/base",
      "model_module_version": "1.0.0",
      "model_name": "LayoutModel",
      "state": {}
     },
     "978416e68bb840e5b4a0428b8d9f826b": {
      "model_module": "@jupyter-widgets/output",
      "model_module_version": "1.0.0",
      "model_name": "OutputModel",
      "state": {
       "layout": "IPY_MODEL_69e443f7765a4ea7a4d54f611096b03e",
       "outputs": [
        {
         "ename": "ValueError",
         "evalue": "min() arg is an empty sequence",
         "output_type": "error",
         "traceback": [
          "\u001b[1;31m---------------------------------------------------------------------------\u001b[0m",
          "\u001b[1;31mValueError\u001b[0m                                Traceback (most recent call last)",
          "\u001b[1;32m~\\Anaconda3\\lib\\site-packages\\ipywidgets\\widgets\\interaction.py\u001b[0m in \u001b[0;36mupdate\u001b[1;34m(self, *args)\u001b[0m\n\u001b[0;32m    249\u001b[0m                     \u001b[0mvalue\u001b[0m \u001b[1;33m=\u001b[0m \u001b[0mwidget\u001b[0m\u001b[1;33m.\u001b[0m\u001b[0mget_interact_value\u001b[0m\u001b[1;33m(\u001b[0m\u001b[1;33m)\u001b[0m\u001b[1;33m\u001b[0m\u001b[0m\n\u001b[0;32m    250\u001b[0m                     \u001b[0mself\u001b[0m\u001b[1;33m.\u001b[0m\u001b[0mkwargs\u001b[0m\u001b[1;33m[\u001b[0m\u001b[0mwidget\u001b[0m\u001b[1;33m.\u001b[0m\u001b[0m_kwarg\u001b[0m\u001b[1;33m]\u001b[0m \u001b[1;33m=\u001b[0m \u001b[0mvalue\u001b[0m\u001b[1;33m\u001b[0m\u001b[0m\n\u001b[1;32m--> 251\u001b[1;33m                 \u001b[0mself\u001b[0m\u001b[1;33m.\u001b[0m\u001b[0mresult\u001b[0m \u001b[1;33m=\u001b[0m \u001b[0mself\u001b[0m\u001b[1;33m.\u001b[0m\u001b[0mf\u001b[0m\u001b[1;33m(\u001b[0m\u001b[1;33m**\u001b[0m\u001b[0mself\u001b[0m\u001b[1;33m.\u001b[0m\u001b[0mkwargs\u001b[0m\u001b[1;33m)\u001b[0m\u001b[1;33m\u001b[0m\u001b[0m\n\u001b[0m\u001b[0;32m    252\u001b[0m                 \u001b[0mshow_inline_matplotlib_plots\u001b[0m\u001b[1;33m(\u001b[0m\u001b[1;33m)\u001b[0m\u001b[1;33m\u001b[0m\u001b[0m\n\u001b[0;32m    253\u001b[0m                 \u001b[1;32mif\u001b[0m \u001b[0mself\u001b[0m\u001b[1;33m.\u001b[0m\u001b[0mauto_display\u001b[0m \u001b[1;32mand\u001b[0m \u001b[0mself\u001b[0m\u001b[1;33m.\u001b[0m\u001b[0mresult\u001b[0m \u001b[1;32mis\u001b[0m \u001b[1;32mnot\u001b[0m \u001b[1;32mNone\u001b[0m\u001b[1;33m:\u001b[0m\u001b[1;33m\u001b[0m\u001b[0m\n",
          "\u001b[1;32m<ipython-input-13-376922338f06>\u001b[0m in \u001b[0;36mf\u001b[1;34m(drug_type)\u001b[0m\n\u001b[0;32m     57\u001b[0m \u001b[1;33m\u001b[0m\u001b[0m\n\u001b[0;32m     58\u001b[0m     \u001b[0msns\u001b[0m\u001b[1;33m.\u001b[0m\u001b[0mset\u001b[0m\u001b[1;33m(\u001b[0m\u001b[0mstyle\u001b[0m\u001b[1;33m=\u001b[0m\u001b[1;34m'whitegrid'\u001b[0m\u001b[1;33m)\u001b[0m\u001b[1;33m\u001b[0m\u001b[0m\n\u001b[1;32m---> 59\u001b[1;33m     \u001b[0max\u001b[0m \u001b[1;33m=\u001b[0m \u001b[0msns\u001b[0m\u001b[1;33m.\u001b[0m\u001b[0mboxplot\u001b[0m\u001b[1;33m(\u001b[0m\u001b[0mx\u001b[0m\u001b[1;33m=\u001b[0m\u001b[1;34m'year'\u001b[0m\u001b[1;33m,\u001b[0m \u001b[0my\u001b[0m\u001b[1;33m=\u001b[0m\u001b[1;34m'ratio'\u001b[0m\u001b[1;33m,\u001b[0m \u001b[0mdata\u001b[0m\u001b[1;33m=\u001b[0m\u001b[0mdf_sum\u001b[0m\u001b[1;33m,\u001b[0m \u001b[0mpalette\u001b[0m \u001b[1;33m=\u001b[0m \u001b[1;34m'vlag'\u001b[0m\u001b[1;33m)\u001b[0m\u001b[1;33m\u001b[0m\u001b[0m\n\u001b[0m\u001b[0;32m     60\u001b[0m     ax = sns.swarmplot(x='year',y='ratio', data=df_sum,\n\u001b[0;32m     61\u001b[0m                       color='black', size=5)\n",
          "\u001b[1;32m~\\Anaconda3\\lib\\site-packages\\seaborn\\categorical.py\u001b[0m in \u001b[0;36mboxplot\u001b[1;34m(x, y, hue, data, order, hue_order, orient, color, palette, saturation, width, dodge, fliersize, linewidth, whis, notch, ax, **kwargs)\u001b[0m\n\u001b[0;32m   2209\u001b[0m     plotter = _BoxPlotter(x, y, hue, data, order, hue_order,\n\u001b[0;32m   2210\u001b[0m                           \u001b[0morient\u001b[0m\u001b[1;33m,\u001b[0m \u001b[0mcolor\u001b[0m\u001b[1;33m,\u001b[0m \u001b[0mpalette\u001b[0m\u001b[1;33m,\u001b[0m \u001b[0msaturation\u001b[0m\u001b[1;33m,\u001b[0m\u001b[1;33m\u001b[0m\u001b[0m\n\u001b[1;32m-> 2211\u001b[1;33m                           width, dodge, fliersize, linewidth)\n\u001b[0m\u001b[0;32m   2212\u001b[0m \u001b[1;33m\u001b[0m\u001b[0m\n\u001b[0;32m   2213\u001b[0m     \u001b[1;32mif\u001b[0m \u001b[0max\u001b[0m \u001b[1;32mis\u001b[0m \u001b[1;32mNone\u001b[0m\u001b[1;33m:\u001b[0m\u001b[1;33m\u001b[0m\u001b[0m\n",
          "\u001b[1;32m~\\Anaconda3\\lib\\site-packages\\seaborn\\categorical.py\u001b[0m in \u001b[0;36m__init__\u001b[1;34m(self, x, y, hue, data, order, hue_order, orient, color, palette, saturation, width, dodge, fliersize, linewidth)\u001b[0m\n\u001b[0;32m    440\u001b[0m \u001b[1;33m\u001b[0m\u001b[0m\n\u001b[0;32m    441\u001b[0m         \u001b[0mself\u001b[0m\u001b[1;33m.\u001b[0m\u001b[0mestablish_variables\u001b[0m\u001b[1;33m(\u001b[0m\u001b[0mx\u001b[0m\u001b[1;33m,\u001b[0m \u001b[0my\u001b[0m\u001b[1;33m,\u001b[0m \u001b[0mhue\u001b[0m\u001b[1;33m,\u001b[0m \u001b[0mdata\u001b[0m\u001b[1;33m,\u001b[0m \u001b[0morient\u001b[0m\u001b[1;33m,\u001b[0m \u001b[0morder\u001b[0m\u001b[1;33m,\u001b[0m \u001b[0mhue_order\u001b[0m\u001b[1;33m)\u001b[0m\u001b[1;33m\u001b[0m\u001b[0m\n\u001b[1;32m--> 442\u001b[1;33m         \u001b[0mself\u001b[0m\u001b[1;33m.\u001b[0m\u001b[0mestablish_colors\u001b[0m\u001b[1;33m(\u001b[0m\u001b[0mcolor\u001b[0m\u001b[1;33m,\u001b[0m \u001b[0mpalette\u001b[0m\u001b[1;33m,\u001b[0m \u001b[0msaturation\u001b[0m\u001b[1;33m)\u001b[0m\u001b[1;33m\u001b[0m\u001b[0m\n\u001b[0m\u001b[0;32m    443\u001b[0m \u001b[1;33m\u001b[0m\u001b[0m\n\u001b[0;32m    444\u001b[0m         \u001b[0mself\u001b[0m\u001b[1;33m.\u001b[0m\u001b[0mdodge\u001b[0m \u001b[1;33m=\u001b[0m \u001b[0mdodge\u001b[0m\u001b[1;33m\u001b[0m\u001b[0m\n",
          "\u001b[1;32m~\\Anaconda3\\lib\\site-packages\\seaborn\\categorical.py\u001b[0m in \u001b[0;36mestablish_colors\u001b[1;34m(self, color, palette, saturation)\u001b[0m\n\u001b[0;32m    309\u001b[0m         \u001b[1;31m# Determine the gray color to use for the lines framing the plot\u001b[0m\u001b[1;33m\u001b[0m\u001b[1;33m\u001b[0m\u001b[0m\n\u001b[0;32m    310\u001b[0m         \u001b[0mlight_vals\u001b[0m \u001b[1;33m=\u001b[0m \u001b[1;33m[\u001b[0m\u001b[0mcolorsys\u001b[0m\u001b[1;33m.\u001b[0m\u001b[0mrgb_to_hls\u001b[0m\u001b[1;33m(\u001b[0m\u001b[1;33m*\u001b[0m\u001b[0mc\u001b[0m\u001b[1;33m)\u001b[0m\u001b[1;33m[\u001b[0m\u001b[1;36m1\u001b[0m\u001b[1;33m]\u001b[0m \u001b[1;32mfor\u001b[0m \u001b[0mc\u001b[0m \u001b[1;32min\u001b[0m \u001b[0mrgb_colors\u001b[0m\u001b[1;33m]\u001b[0m\u001b[1;33m\u001b[0m\u001b[0m\n\u001b[1;32m--> 311\u001b[1;33m         \u001b[0ml\u001b[0m \u001b[1;33m=\u001b[0m \u001b[0mmin\u001b[0m\u001b[1;33m(\u001b[0m\u001b[0mlight_vals\u001b[0m\u001b[1;33m)\u001b[0m \u001b[1;33m*\u001b[0m \u001b[1;36m.6\u001b[0m\u001b[1;33m\u001b[0m\u001b[0m\n\u001b[0m\u001b[0;32m    312\u001b[0m         \u001b[0mgray\u001b[0m \u001b[1;33m=\u001b[0m \u001b[0mmpl\u001b[0m\u001b[1;33m.\u001b[0m\u001b[0mcolors\u001b[0m\u001b[1;33m.\u001b[0m\u001b[0mrgb2hex\u001b[0m\u001b[1;33m(\u001b[0m\u001b[1;33m(\u001b[0m\u001b[0ml\u001b[0m\u001b[1;33m,\u001b[0m \u001b[0ml\u001b[0m\u001b[1;33m,\u001b[0m \u001b[0ml\u001b[0m\u001b[1;33m)\u001b[0m\u001b[1;33m)\u001b[0m\u001b[1;33m\u001b[0m\u001b[0m\n\u001b[0;32m    313\u001b[0m \u001b[1;33m\u001b[0m\u001b[0m\n",
          "\u001b[1;31mValueError\u001b[0m: min() arg is an empty sequence"
         ]
        }
       ]
      }
     },
     "98759dc4d4154a778e8cb36255fac91c": {
      "model_module": "@jupyter-widgets/controls",
      "model_module_version": "1.2.0",
      "model_name": "VBoxModel",
      "state": {
       "_dom_classes": [
        "widget-interact"
       ],
       "children": [
        "IPY_MODEL_409ab6f45dea4f0eb6e4c3a8e07ea840",
        "IPY_MODEL_85865d770c574ca78e582c2e22e05b50"
       ],
       "layout": "IPY_MODEL_0faa67b2b929467789c14d8ab5035e4d"
      }
     },
     "9a1d821780da4e1bb137bfccbd5ea7b9": {
      "model_module": "@jupyter-widgets/controls",
      "model_module_version": "1.2.0",
      "model_name": "DropdownModel",
      "state": {
       "_options_labels": [
        "Opioid",
        "Antibiotics",
        "Antipsychotic"
       ],
       "description": "drug_type",
       "index": 2,
       "layout": "IPY_MODEL_ef123676e394444d9b298d7d47c6a1e8",
       "style": "IPY_MODEL_b68eb6152f8c43d2b73339710b936f15"
      }
     },
     "9bc65c6aca004c7e975270d6e3156ddd": {
      "model_module": "@jupyter-widgets/controls",
      "model_module_version": "1.2.0",
      "model_name": "SliderStyleModel",
      "state": {
       "description_width": ""
      }
     },
     "9c519c6e2e9f4ecd80c4e4968a7d4901": {
      "model_module": "@jupyter-widgets/base",
      "model_module_version": "1.0.0",
      "model_name": "LayoutModel",
      "state": {}
     },
     "9ded4bd1432b429b8194b91768c43024": {
      "model_module": "@jupyter-widgets/base",
      "model_module_version": "1.0.0",
      "model_name": "LayoutModel",
      "state": {}
     },
     "9eb90780686b4a2b9f45a6309c174338": {
      "model_module": "@jupyter-widgets/controls",
      "model_module_version": "1.2.0",
      "model_name": "DescriptionStyleModel",
      "state": {
       "description_width": ""
      }
     },
     "9ed79913a0e7400090b08e8f89b2524a": {
      "model_module": "@jupyter-widgets/base",
      "model_module_version": "1.0.0",
      "model_name": "LayoutModel",
      "state": {}
     },
     "9f0f547b2e0d455a93be70c4fd082ad0": {
      "model_module": "@jupyter-widgets/controls",
      "model_module_version": "1.2.0",
      "model_name": "DescriptionStyleModel",
      "state": {
       "description_width": ""
      }
     },
     "a0dd51f6cda84fbe92afc9d047ea6eea": {
      "model_module": "@jupyter-widgets/base",
      "model_module_version": "1.0.0",
      "model_name": "LayoutModel",
      "state": {}
     },
     "a151e541911a466785ac700c0f7c61ef": {
      "model_module": "@jupyter-widgets/base",
      "model_module_version": "1.0.0",
      "model_name": "LayoutModel",
      "state": {}
     },
     "a1bfc2f640c445baa8836c1975438ff4": {
      "model_module": "@jupyter-widgets/controls",
      "model_module_version": "1.2.0",
      "model_name": "SliderStyleModel",
      "state": {
       "description_width": ""
      }
     },
     "a248753990b648f6ac3c290c3342dfaa": {
      "model_module": "@jupyter-widgets/controls",
      "model_module_version": "1.2.0",
      "model_name": "VBoxModel",
      "state": {
       "_dom_classes": [
        "widget-interact"
       ],
       "children": [
        "IPY_MODEL_da1a2fdf363d447fa35061d057674db3",
        "IPY_MODEL_3f74fec499114dbda199a170368f0601"
       ],
       "layout": "IPY_MODEL_7324d9abe080417c9af7bb103bdd4c76"
      }
     },
     "a26e184785bb4ab580fb2b73d37d32dd": {
      "model_module": "@jupyter-widgets/controls",
      "model_module_version": "1.2.0",
      "model_name": "VBoxModel",
      "state": {
       "_dom_classes": [
        "widget-interact"
       ],
       "children": [
        "IPY_MODEL_d9804e5a144f4c3e8bdae245a4e56e9c",
        "IPY_MODEL_4b47e286c7904766a511c2a572379f75"
       ],
       "layout": "IPY_MODEL_ec7db41136f14b0cb2f1698216960ce9"
      }
     },
     "a345dea38535442f8d098403e53abdf1": {
      "model_module": "@jupyter-widgets/base",
      "model_module_version": "1.0.0",
      "model_name": "LayoutModel",
      "state": {}
     },
     "a3c9884c2aab4442b0667864c7ef2af3": {
      "model_module": "@jupyter-widgets/base",
      "model_module_version": "1.0.0",
      "model_name": "LayoutModel",
      "state": {}
     },
     "a4cf54283f354efaae6587bae0ed9775": {
      "model_module": "@jupyter-widgets/output",
      "model_module_version": "1.0.0",
      "model_name": "OutputModel",
      "state": {
       "layout": "IPY_MODEL_5a5c2a6c4cbe4e918af4b25c3e3c20fa"
      }
     },
     "a8b305bb3d3c4e5e8d53ed7570af6181": {
      "model_module": "@jupyter-widgets/base",
      "model_module_version": "1.0.0",
      "model_name": "LayoutModel",
      "state": {}
     },
     "a8da3933aaae4f43984ca6ee779ebfbb": {
      "model_module": "@jupyter-widgets/base",
      "model_module_version": "1.0.0",
      "model_name": "LayoutModel",
      "state": {}
     },
     "a8fb66e1fe9f4aea8fc253aeb7ba281c": {
      "model_module": "@jupyter-widgets/controls",
      "model_module_version": "1.2.0",
      "model_name": "VBoxModel",
      "state": {
       "_dom_classes": [
        "widget-interact"
       ],
       "children": [
        "IPY_MODEL_0b53c3443ed34e10901d1fe3b1ff6620",
        "IPY_MODEL_110784d6176b4fcf8d138f6e48c63676"
       ],
       "layout": "IPY_MODEL_4d87a006cc0c487a9c52d0ce2fa3f212"
      }
     },
     "a928c6f781494735a9cab7798cf113c4": {
      "model_module": "@jupyter-widgets/controls",
      "model_module_version": "1.2.0",
      "model_name": "VBoxModel",
      "state": {
       "_dom_classes": [
        "widget-interact"
       ],
       "children": [
        "IPY_MODEL_2ac9d630d68641169388ae8c91142c93",
        "IPY_MODEL_34652c90ec674d8f9517506ecb02dcaf"
       ],
       "layout": "IPY_MODEL_305ef6925b424c23bb04b408f9cd468a"
      }
     },
     "a99074ce9638446989670bda882dda47": {
      "model_module": "@jupyter-widgets/base",
      "model_module_version": "1.0.0",
      "model_name": "LayoutModel",
      "state": {}
     },
     "a9e538f3e4714a708a15f8334e4c32af": {
      "model_module": "@jupyter-widgets/controls",
      "model_module_version": "1.2.0",
      "model_name": "DescriptionStyleModel",
      "state": {
       "description_width": ""
      }
     },
     "aa0b3aa2234c41f8a06f04b7eeafac15": {
      "model_module": "@jupyter-widgets/controls",
      "model_module_version": "1.2.0",
      "model_name": "DropdownModel",
      "state": {
       "_options_labels": [
        "all",
        "ARIPIPRAZOLE",
        "ARIPIPRAZOLE LAUROXIL",
        "ASENAPINE MALEATE",
        "BREXPIPRAZOLE",
        "CARIPRAZINE HCL",
        "CHLORPROMAZINE HCL",
        "CLOZAPINE",
        "FLUPHENAZINE DECANOATE",
        "FLUPHENAZINE HCL",
        "HALOPERIDOL",
        "HALOPERIDOL DECANOATE",
        "HALOPERIDOL LACTATE",
        "ILOPERIDONE",
        "LOXAPINE SUCCINATE",
        "LURASIDONE HCL",
        "MOLINDONE HCL",
        "OLANZAPINE",
        "OLANZAPINE PAMOATE",
        "OLANZAPINE/FLUOXETINE HCL",
        "PALIPERIDONE",
        "PALIPERIDONE PALMITATE",
        "PERPHENAZINE",
        "PERPHENAZINE/AMITRIPTYLINE HCL",
        "PIMAVANSERIN TARTRATE",
        "PIMOZIDE",
        "QUETIAPINE FUMARATE",
        "RISPERIDONE",
        "RISPERIDONE MICROSPHERES",
        "THIORIDAZINE HCL",
        "THIOTHIXENE",
        "TRIFLUOPERAZINE HCL",
        "ZIPRASIDONE HCL",
        "ZIPRASIDONE MESYLATE"
       ],
       "description": "drug_name",
       "index": 0,
       "layout": "IPY_MODEL_89070415eade4bc4933e8180dc5e1b01",
       "style": "IPY_MODEL_3697f0e098c843ef969c8514c43ac657"
      }
     },
     "ab23ec8df8b34b97a23558c7aeab8b6c": {
      "model_module": "@jupyter-widgets/base",
      "model_module_version": "1.0.0",
      "model_name": "LayoutModel",
      "state": {}
     },
     "ab74a8decb5c43a39bd869d7a9584fa2": {
      "model_module": "@jupyter-widgets/base",
      "model_module_version": "1.0.0",
      "model_name": "LayoutModel",
      "state": {}
     },
     "aeb237c3abc04c5c8f84f90aea58ce73": {
      "model_module": "@jupyter-widgets/controls",
      "model_module_version": "1.2.0",
      "model_name": "VBoxModel",
      "state": {
       "_dom_classes": [
        "widget-interact"
       ],
       "children": [
        "IPY_MODEL_33d6590eadcc4823abe2ed31544ac15a",
        "IPY_MODEL_af2d35de314e479a98ca9c099a84fd56"
       ],
       "layout": "IPY_MODEL_d6be4239c3744a56a57fcb0c7d1975f8"
      }
     },
     "af2d35de314e479a98ca9c099a84fd56": {
      "model_module": "@jupyter-widgets/output",
      "model_module_version": "1.0.0",
      "model_name": "OutputModel",
      "state": {
       "layout": "IPY_MODEL_7c21a2132ba84ef9b6417a7a2ace684d",
       "outputs": [
        {
         "data": {
          "text/html": "<div>\n<style scoped>\n    .dataframe tbody tr th:only-of-type {\n        vertical-align: middle;\n    }\n\n    .dataframe tbody tr th {\n        vertical-align: top;\n    }\n\n    .dataframe thead th {\n        text-align: right;\n    }\n</style>\n<table border=\"1\" class=\"dataframe\">\n  <thead>\n    <tr style=\"text-align: right;\">\n      <th></th>\n      <th>ratio</th>\n      <th>year</th>\n    </tr>\n    <tr>\n      <th>generic_name</th>\n      <th></th>\n      <th></th>\n    </tr>\n  </thead>\n  <tbody>\n    <tr>\n      <th>HYDROCODONE/ACETAMINOPHEN</th>\n      <td>1.523605e+08</td>\n      <td>2013</td>\n    </tr>\n    <tr>\n      <th>HYDROCODONE/ACETAMINOPHEN</th>\n      <td>1.419633e+08</td>\n      <td>2014</td>\n    </tr>\n    <tr>\n      <th>HYDROCODONE/ACETAMINOPHEN</th>\n      <td>1.180416e+08</td>\n      <td>2015</td>\n    </tr>\n    <tr>\n      <th>HYDROCODONE/ACETAMINOPHEN</th>\n      <td>1.138375e+08</td>\n      <td>2016</td>\n    </tr>\n  </tbody>\n</table>\n</div>",
          "text/plain": "                                   ratio  year\ngeneric_name                                  \nHYDROCODONE/ACETAMINOPHEN   1.523605e+08  2013\nHYDROCODONE/ACETAMINOPHEN   1.419633e+08  2014\nHYDROCODONE/ACETAMINOPHEN   1.180416e+08  2015\nHYDROCODONE/ACETAMINOPHEN   1.138375e+08  2016"
         },
         "metadata": {},
         "output_type": "display_data"
        }
       ]
      }
     },
     "aff54154948e4773bc3318a368410ff8": {
      "model_module": "@jupyter-widgets/output",
      "model_module_version": "1.0.0",
      "model_name": "OutputModel",
      "state": {
       "layout": "IPY_MODEL_57ae3432eab044788e361bacdc924584",
       "outputs": [
        {
         "data": {
          "text/html": "<div>\n<style scoped>\n    .dataframe tbody tr th:only-of-type {\n        vertical-align: middle;\n    }\n\n    .dataframe tbody tr th {\n        vertical-align: top;\n    }\n\n    .dataframe thead th {\n        text-align: right;\n    }\n</style>\n<table border=\"1\" class=\"dataframe\">\n  <thead>\n    <tr style=\"text-align: right;\">\n      <th></th>\n      <th>ratio</th>\n      <th>year</th>\n    </tr>\n    <tr>\n      <th>generic_name</th>\n      <th></th>\n      <th></th>\n    </tr>\n  </thead>\n  <tbody>\n    <tr>\n      <th>AZITHROMYCIN</th>\n      <td>1.035387e+07</td>\n      <td>2013</td>\n    </tr>\n    <tr>\n      <th>CIPROFLOXACIN HCL</th>\n      <td>1.057970e+07</td>\n      <td>2013</td>\n    </tr>\n    <tr>\n      <th>AZITHROMYCIN</th>\n      <td>1.032743e+07</td>\n      <td>2014</td>\n    </tr>\n    <tr>\n      <th>CIPROFLOXACIN HCL</th>\n      <td>1.076489e+07</td>\n      <td>2014</td>\n    </tr>\n    <tr>\n      <th>AZITHROMYCIN</th>\n      <td>1.119904e+07</td>\n      <td>2015</td>\n    </tr>\n    <tr>\n      <th>CIPROFLOXACIN HCL</th>\n      <td>1.090640e+07</td>\n      <td>2015</td>\n    </tr>\n    <tr>\n      <th>AZITHROMYCIN</th>\n      <td>1.113716e+07</td>\n      <td>2016</td>\n    </tr>\n  </tbody>\n</table>\n</div>",
          "text/plain": "                           ratio  year\ngeneric_name                          \nAZITHROMYCIN        1.035387e+07  2013\nCIPROFLOXACIN HCL   1.057970e+07  2013\nAZITHROMYCIN        1.032743e+07  2014\nCIPROFLOXACIN HCL   1.076489e+07  2014\nAZITHROMYCIN        1.119904e+07  2015\nCIPROFLOXACIN HCL   1.090640e+07  2015\nAZITHROMYCIN        1.113716e+07  2016"
         },
         "metadata": {},
         "output_type": "display_data"
        }
       ]
      }
     },
     "b1d4b81abe36483bbbf439a3e7c8cfdd": {
      "model_module": "@jupyter-widgets/controls",
      "model_module_version": "1.2.0",
      "model_name": "DescriptionStyleModel",
      "state": {
       "description_width": ""
      }
     },
     "b1f6af6f1d364ac2b6e8698b2f6dbbef": {
      "model_module": "@jupyter-widgets/controls",
      "model_module_version": "1.2.0",
      "model_name": "VBoxModel",
      "state": {
       "_dom_classes": [
        "widget-interact"
       ],
       "children": [
        "IPY_MODEL_57c6376e761749eaaabbc4b9df95ea1c",
        "IPY_MODEL_2c4a4cc0100a49328e0995e26ff3182a"
       ],
       "layout": "IPY_MODEL_a3c9884c2aab4442b0667864c7ef2af3"
      }
     },
     "b22cfca92d664cf3a5ecb0afdbfa3bbb": {
      "model_module": "@jupyter-widgets/controls",
      "model_module_version": "1.2.0",
      "model_name": "SliderStyleModel",
      "state": {
       "description_width": ""
      }
     },
     "b27dfa55715246d2ae6d1214c93dd5d8": {
      "model_module": "@jupyter-widgets/controls",
      "model_module_version": "1.2.0",
      "model_name": "VBoxModel",
      "state": {
       "_dom_classes": [
        "widget-interact"
       ],
       "children": [
        "IPY_MODEL_7042434dac7c40dd975e34817a2615df",
        "IPY_MODEL_04fcc3d1901147199cec210aaef3cd28"
       ],
       "layout": "IPY_MODEL_b96a179566b3415eae9844f19b33d390"
      }
     },
     "b385263e7b054b1292f823f6bf4915c4": {
      "model_module": "@jupyter-widgets/controls",
      "model_module_version": "1.2.0",
      "model_name": "FloatSliderModel",
      "state": {
       "description": "threshold",
       "layout": "IPY_MODEL_4a0dbf8863f64b61a9af549fdccb5e71",
       "max": 11199044.716295814,
       "step": 0.1,
       "style": "IPY_MODEL_3620a9541f784e31810f42b7f6059d66",
       "value": 5599522.358147907
      }
     },
     "b41b22b9423845aa8c744928be311e16": {
      "model_module": "@jupyter-widgets/controls",
      "model_module_version": "1.2.0",
      "model_name": "DescriptionStyleModel",
      "state": {
       "description_width": ""
      }
     },
     "b58016876eb946ac974313538a2a6c1c": {
      "model_module": "@jupyter-widgets/base",
      "model_module_version": "1.0.0",
      "model_name": "LayoutModel",
      "state": {}
     },
     "b5bb79475c974ce780e953f6515abb37": {
      "model_module": "@jupyter-widgets/controls",
      "model_module_version": "1.2.0",
      "model_name": "DropdownModel",
      "state": {
       "_options_labels": [
        "Opioid",
        "Antibiotics",
        "Antipsychotic"
       ],
       "description": "drug_type",
       "index": 0,
       "layout": "IPY_MODEL_ec5f386c01144918bc16d044c48ddbe9",
       "style": "IPY_MODEL_41369fb9468246348596697c48868dc9"
      }
     },
     "b68eb6152f8c43d2b73339710b936f15": {
      "model_module": "@jupyter-widgets/controls",
      "model_module_version": "1.2.0",
      "model_name": "DescriptionStyleModel",
      "state": {
       "description_width": ""
      }
     },
     "b6dd78ce7f9f4df8981d25b45410b0cb": {
      "model_module": "@jupyter-widgets/controls",
      "model_module_version": "1.2.0",
      "model_name": "DropdownModel",
      "state": {
       "_options_labels": [
        "all",
        "ACETAMINOPHEN WITH CODEINE",
        "ACETAMINOPHEN/CAFF/DIHYDROCOD",
        "ASPIRIN/CAFFEIN/DIHYDROCODEINE",
        "BUPRENORPHINE",
        "BUPRENORPHINE HCL",
        "BUTALBIT/ACETAMIN/CAFF/CODEINE",
        "BUTORPHANOL TARTRATE",
        "CARISOPRODOL/ASPIRIN/CODEINE",
        "CODEINE SULFATE",
        "CODEINE/BUTALBITAL/ASA/CAFFEIN",
        "FENTANYL",
        "FENTANYL CITRATE",
        "HYDROCODONE BITARTRATE",
        "HYDROCODONE/ACETAMINOPHEN",
        "HYDROCODONE/IBUPROFEN",
        "HYDROMORPHONE HCL",
        "IBUPROFEN/OXYCODONE HCL",
        "LEVORPHANOL TARTRATE",
        "MEPERIDINE HCL",
        "METHADONE HCL",
        "MORPHINE SULFATE",
        "MORPHINE SULFATE/NALTREXONE",
        "OPIUM TINCTURE",
        "OPIUM/BELLADONNA ALKALOIDS",
        "OXYCODONE HCL",
        "OXYCODONE HCL/ACETAMINOPHEN",
        "OXYCODONE HCL/ASPIRIN",
        "OXYCODONE MYRISTATE",
        "OXYMORPHONE HCL",
        "PENTAZOCINE HCL/NALOXONE HCL",
        "TAPENTADOL HCL",
        "TRAMADOL HCL",
        "TRAMADOL HCL/ACETAMINOPHEN"
       ],
       "description": "drug_name",
       "index": 0,
       "layout": "IPY_MODEL_09c8113bb49b41f9b6d58b953b078b50",
       "style": "IPY_MODEL_a9e538f3e4714a708a15f8334e4c32af"
      }
     },
     "b77233e89e974dbc9115c0a24ae208b1": {
      "model_module": "@jupyter-widgets/controls",
      "model_module_version": "1.2.0",
      "model_name": "VBoxModel",
      "state": {
       "_dom_classes": [
        "widget-interact"
       ],
       "children": [
        "IPY_MODEL_b6dd78ce7f9f4df8981d25b45410b0cb",
        "IPY_MODEL_72801670ca214c30ad2a178dbcfaab86"
       ],
       "layout": "IPY_MODEL_0bcc7aa5610646cfb198bb92b094cc6a"
      }
     },
     "b7f3066f0d9e4627890723d9abe37e8a": {
      "model_module": "@jupyter-widgets/controls",
      "model_module_version": "1.2.0",
      "model_name": "DropdownModel",
      "state": {
       "_options_labels": [
        "Opioid",
        "Antibiotics",
        "Antipsychotic"
       ],
       "description": "drug_type",
       "index": 0,
       "layout": "IPY_MODEL_a99074ce9638446989670bda882dda47",
       "style": "IPY_MODEL_50f5245b36644de3b1a1745fc2ee45db"
      }
     },
     "b85309ceca5442c698f1113f7ea07622": {
      "model_module": "@jupyter-widgets/base",
      "model_module_version": "1.0.0",
      "model_name": "LayoutModel",
      "state": {}
     },
     "b8f4c5a7e60041ea9f227c2b8a849335": {
      "model_module": "@jupyter-widgets/controls",
      "model_module_version": "1.2.0",
      "model_name": "SliderStyleModel",
      "state": {
       "description_width": ""
      }
     },
     "b96a179566b3415eae9844f19b33d390": {
      "model_module": "@jupyter-widgets/base",
      "model_module_version": "1.0.0",
      "model_name": "LayoutModel",
      "state": {}
     },
     "bc0b4b779e1549689e210e59849d6dd0": {
      "model_module": "@jupyter-widgets/base",
      "model_module_version": "1.0.0",
      "model_name": "LayoutModel",
      "state": {}
     },
     "bc132b26756043f7bcd83e953753d97c": {
      "model_module": "@jupyter-widgets/controls",
      "model_module_version": "1.2.0",
      "model_name": "VBoxModel",
      "state": {
       "_dom_classes": [
        "widget-interact"
       ],
       "children": [
        "IPY_MODEL_e8c5dfa9ce924ca9afb742d67b6acbaf",
        "IPY_MODEL_37c7b60f9a2d454b8a0caf4dedca2d58"
       ],
       "layout": "IPY_MODEL_e41e79f1024e40898d29f0b71dbccd45"
      }
     },
     "bc67a9d5df0944eda15dc2717e63fd03": {
      "model_module": "@jupyter-widgets/controls",
      "model_module_version": "1.2.0",
      "model_name": "VBoxModel",
      "state": {
       "_dom_classes": [
        "widget-interact"
       ],
       "children": [
        "IPY_MODEL_13bf4d4289af4c12abf77cdf69a937f2",
        "IPY_MODEL_5cb52ca953aa4ef8b9564260d6508741"
       ],
       "layout": "IPY_MODEL_381e1da545ce49e48ed02500258d574b"
      }
     },
     "bdba81ffe12f4ed8a7290166bd1eb21e": {
      "model_module": "@jupyter-widgets/base",
      "model_module_version": "1.0.0",
      "model_name": "LayoutModel",
      "state": {}
     },
     "bf35f2e22af249e29b8f2a7e9dff2ff2": {
      "model_module": "@jupyter-widgets/controls",
      "model_module_version": "1.2.0",
      "model_name": "DescriptionStyleModel",
      "state": {
       "description_width": ""
      }
     },
     "bfc12220776748ef94a7dd7e5b2be304": {
      "model_module": "@jupyter-widgets/controls",
      "model_module_version": "1.2.0",
      "model_name": "DropdownModel",
      "state": {
       "_options_labels": [
        "all",
        "ACETAMINOPHEN WITH CODEINE",
        "ACETAMINOPHEN/CAFF/DIHYDROCOD",
        "ASPIRIN/CAFFEIN/DIHYDROCODEINE",
        "BUPRENORPHINE",
        "BUPRENORPHINE HCL",
        "BUTALBIT/ACETAMIN/CAFF/CODEINE",
        "BUTORPHANOL TARTRATE",
        "CARISOPRODOL/ASPIRIN/CODEINE",
        "CODEINE SULFATE",
        "CODEINE/BUTALBITAL/ASA/CAFFEIN",
        "FENTANYL",
        "FENTANYL CITRATE",
        "HYDROCODONE BITARTRATE",
        "HYDROCODONE/ACETAMINOPHEN",
        "HYDROCODONE/IBUPROFEN",
        "HYDROMORPHONE HCL",
        "IBUPROFEN/OXYCODONE HCL",
        "LEVORPHANOL TARTRATE",
        "MEPERIDINE HCL",
        "METHADONE HCL",
        "MORPHINE SULFATE",
        "MORPHINE SULFATE/NALTREXONE",
        "OPIUM TINCTURE",
        "OPIUM/BELLADONNA ALKALOIDS",
        "OXYCODONE HCL",
        "OXYCODONE HCL/ACETAMINOPHEN",
        "OXYCODONE HCL/ASPIRIN",
        "OXYCODONE MYRISTATE",
        "OXYMORPHONE HCL",
        "PENTAZOCINE HCL/NALOXONE HCL",
        "TAPENTADOL HCL",
        "TRAMADOL HCL",
        "TRAMADOL HCL/ACETAMINOPHEN"
       ],
       "description": "drug_name",
       "index": 20,
       "layout": "IPY_MODEL_1c86dffd8f884bf199ab7c902939ac22",
       "style": "IPY_MODEL_e86dcb29a07d47d08ff83b22515496f6"
      }
     },
     "bfcdada302d34af198339b3067e1399b": {
      "model_module": "@jupyter-widgets/output",
      "model_module_version": "1.0.0",
      "model_name": "OutputModel",
      "state": {
       "layout": "IPY_MODEL_661e04d970a84eceb6a979adb2ada021"
      }
     },
     "c051caff84704dedb2f3ca5bdf3e3b40": {
      "model_module": "@jupyter-widgets/output",
      "model_module_version": "1.0.0",
      "model_name": "OutputModel",
      "state": {
       "layout": "IPY_MODEL_a151e541911a466785ac700c0f7c61ef",
       "outputs": [
        {
         "data": {
          "image/png": "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\n",
          "text/plain": "<Figure size 432x288 with 1 Axes>"
         },
         "metadata": {},
         "output_type": "display_data"
        },
        {
         "data": {
          "application/vnd.jupyter.widget-view+json": {
           "model_id": "8a1677bfcb894edfb948ce86af566925",
           "version_major": 2,
           "version_minor": 0
          },
          "text/plain": "interactive(children=(Dropdown(description='drug_name', options=('all', 'ACETAMINOPHEN WITH CODEINE', 'ACETAMI…"
         },
         "metadata": {},
         "output_type": "display_data"
        },
        {
         "data": {
          "application/vnd.jupyter.widget-view+json": {
           "model_id": "aeb237c3abc04c5c8f84f90aea58ce73",
           "version_major": 2,
           "version_minor": 0
          },
          "text/plain": "interactive(children=(FloatSlider(value=76180248.27045034, description='threshold', max=152360496.54090068), O…"
         },
         "metadata": {},
         "output_type": "display_data"
        }
       ]
      }
     },
     "c0e2ce2848304dc78f0d179ecbe945ea": {
      "model_module": "@jupyter-widgets/base",
      "model_module_version": "1.0.0",
      "model_name": "LayoutModel",
      "state": {}
     },
     "c0faf307d7b74e4da5d21e572bd3db1e": {
      "model_module": "@jupyter-widgets/output",
      "model_module_version": "1.0.0",
      "model_name": "OutputModel",
      "state": {
       "layout": "IPY_MODEL_a8da3933aaae4f43984ca6ee779ebfbb"
      }
     },
     "c1dc4e56e6da43fdb27ff1105fbe656c": {
      "model_module": "@jupyter-widgets/output",
      "model_module_version": "1.0.0",
      "model_name": "OutputModel",
      "state": {
       "layout": "IPY_MODEL_1303f31283b0476bb3851e961f25a9c0",
       "outputs": [
        {
         "data": {
          "text/html": "<div>\n<style scoped>\n    .dataframe tbody tr th:only-of-type {\n        vertical-align: middle;\n    }\n\n    .dataframe tbody tr th {\n        vertical-align: top;\n    }\n\n    .dataframe thead th {\n        text-align: right;\n    }\n</style>\n<table border=\"1\" class=\"dataframe\">\n  <thead>\n    <tr style=\"text-align: right;\">\n      <th></th>\n      <th>ratio</th>\n      <th>year</th>\n    </tr>\n    <tr>\n      <th>generic_name</th>\n      <th></th>\n      <th></th>\n    </tr>\n  </thead>\n  <tbody>\n  </tbody>\n</table>\n</div>",
          "text/plain": "Empty DataFrame\nColumns: [ratio, year]\nIndex: []"
         },
         "metadata": {},
         "output_type": "display_data"
        }
       ]
      }
     },
     "c2639c869d5a4e92ad95465234d63ad5": {
      "model_module": "@jupyter-widgets/controls",
      "model_module_version": "1.2.0",
      "model_name": "SliderStyleModel",
      "state": {
       "description_width": ""
      }
     },
     "c39ab8de22ae402eaeb4f8328e9598c9": {
      "model_module": "@jupyter-widgets/base",
      "model_module_version": "1.0.0",
      "model_name": "LayoutModel",
      "state": {}
     },
     "c43b2156c8744c6f90f384b682270332": {
      "model_module": "@jupyter-widgets/output",
      "model_module_version": "1.0.0",
      "model_name": "OutputModel",
      "state": {
       "layout": "IPY_MODEL_04720490da394ea294cb3486aa0d0f2f",
       "outputs": [
        {
         "data": {
          "text/html": "<div>\n<style scoped>\n    .dataframe tbody tr th:only-of-type {\n        vertical-align: middle;\n    }\n\n    .dataframe tbody tr th {\n        vertical-align: top;\n    }\n\n    .dataframe thead th {\n        text-align: right;\n    }\n</style>\n<table border=\"1\" class=\"dataframe\">\n  <thead>\n    <tr style=\"text-align: right;\">\n      <th></th>\n      <th>ratio</th>\n      <th>year</th>\n    </tr>\n    <tr>\n      <th>generic_name</th>\n      <th></th>\n      <th></th>\n    </tr>\n  </thead>\n  <tbody>\n    <tr>\n      <th>HYDROCODONE/ACETAMINOPHEN</th>\n      <td>1.523605e+08</td>\n      <td>2013</td>\n    </tr>\n    <tr>\n      <th>HYDROCODONE/ACETAMINOPHEN</th>\n      <td>1.419633e+08</td>\n      <td>2014</td>\n    </tr>\n    <tr>\n      <th>HYDROCODONE/ACETAMINOPHEN</th>\n      <td>1.180416e+08</td>\n      <td>2015</td>\n    </tr>\n    <tr>\n      <th>HYDROCODONE/ACETAMINOPHEN</th>\n      <td>1.138375e+08</td>\n      <td>2016</td>\n    </tr>\n  </tbody>\n</table>\n</div>",
          "text/plain": "                                   ratio  year\ngeneric_name                                  \nHYDROCODONE/ACETAMINOPHEN   1.523605e+08  2013\nHYDROCODONE/ACETAMINOPHEN   1.419633e+08  2014\nHYDROCODONE/ACETAMINOPHEN   1.180416e+08  2015\nHYDROCODONE/ACETAMINOPHEN   1.138375e+08  2016"
         },
         "metadata": {},
         "output_type": "display_data"
        }
       ]
      }
     },
     "c7b3a5abf9f04558b0bc541cdd2b4f0e": {
      "model_module": "@jupyter-widgets/base",
      "model_module_version": "1.0.0",
      "model_name": "LayoutModel",
      "state": {}
     },
     "c7c58f1b041144938c4c33786bd7e407": {
      "model_module": "@jupyter-widgets/controls",
      "model_module_version": "1.2.0",
      "model_name": "VBoxModel",
      "state": {
       "_dom_classes": [
        "widget-interact"
       ],
       "children": [
        "IPY_MODEL_1b47c7146a4047849d040884bcd6113b",
        "IPY_MODEL_8476c841ebe5492bb122273d6d9d6f66"
       ],
       "layout": "IPY_MODEL_3cce3983c8014291a825561347bf165f"
      }
     },
     "c80be8875f0f46989be121bd17a898d4": {
      "model_module": "@jupyter-widgets/controls",
      "model_module_version": "1.2.0",
      "model_name": "SliderStyleModel",
      "state": {
       "description_width": ""
      }
     },
     "cad6c041e2054558a8ce5d981ed4c617": {
      "model_module": "@jupyter-widgets/controls",
      "model_module_version": "1.2.0",
      "model_name": "DropdownModel",
      "state": {
       "_options_labels": [
        "Opioid",
        "Antibiotics",
        "Antipsychotic"
       ],
       "description": "drug_type",
       "index": 0,
       "layout": "IPY_MODEL_399f82e4a9414643a2eacf2ede77977f",
       "style": "IPY_MODEL_bf35f2e22af249e29b8f2a7e9dff2ff2"
      }
     },
     "cb408a39c1124c8da4ceba87ee5fa00a": {
      "model_module": "@jupyter-widgets/output",
      "model_module_version": "1.0.0",
      "model_name": "OutputModel",
      "state": {
       "layout": "IPY_MODEL_85286b9d0696443cadc46a3fbb21cd71",
       "outputs": [
        {
         "data": {
          "text/html": "<div>\n<style scoped>\n    .dataframe tbody tr th:only-of-type {\n        vertical-align: middle;\n    }\n\n    .dataframe tbody tr th {\n        vertical-align: top;\n    }\n\n    .dataframe thead th {\n        text-align: right;\n    }\n</style>\n<table border=\"1\" class=\"dataframe\">\n  <thead>\n    <tr style=\"text-align: right;\">\n      <th></th>\n      <th>ratio</th>\n      <th>year</th>\n    </tr>\n    <tr>\n      <th>generic_name</th>\n      <th></th>\n      <th></th>\n    </tr>\n  </thead>\n  <tbody>\n    <tr>\n      <th>AMOXICILLIN</th>\n      <td>8.387936e+06</td>\n      <td>2013</td>\n    </tr>\n    <tr>\n      <th>AZITHROMYCIN</th>\n      <td>1.035387e+07</td>\n      <td>2013</td>\n    </tr>\n    <tr>\n      <th>CEPHALEXIN</th>\n      <td>6.984737e+06</td>\n      <td>2013</td>\n    </tr>\n    <tr>\n      <th>CIPROFLOXACIN HCL</th>\n      <td>1.057970e+07</td>\n      <td>2013</td>\n    </tr>\n    <tr>\n      <th>LEVOFLOXACIN</th>\n      <td>6.016443e+06</td>\n      <td>2013</td>\n    </tr>\n    <tr>\n      <th>SULFAMETHOXAZOLE/TRIMETHOPRIM</th>\n      <td>7.857411e+06</td>\n      <td>2013</td>\n    </tr>\n    <tr>\n      <th>AMOXICILLIN</th>\n      <td>9.101164e+06</td>\n      <td>2014</td>\n    </tr>\n    <tr>\n      <th>AZITHROMYCIN</th>\n      <td>1.032743e+07</td>\n      <td>2014</td>\n    </tr>\n    <tr>\n      <th>CEPHALEXIN</th>\n      <td>7.390844e+06</td>\n      <td>2014</td>\n    </tr>\n    <tr>\n      <th>CIPROFLOXACIN HCL</th>\n      <td>1.076489e+07</td>\n      <td>2014</td>\n    </tr>\n    <tr>\n      <th>LEVOFLOXACIN</th>\n      <td>6.312666e+06</td>\n      <td>2014</td>\n    </tr>\n    <tr>\n      <th>SULFAMETHOXAZOLE/TRIMETHOPRIM</th>\n      <td>8.004389e+06</td>\n      <td>2014</td>\n    </tr>\n    <tr>\n      <th>AMOXICILLIN</th>\n      <td>9.678725e+06</td>\n      <td>2015</td>\n    </tr>\n    <tr>\n      <th>AZITHROMYCIN</th>\n      <td>1.119904e+07</td>\n      <td>2015</td>\n    </tr>\n    <tr>\n      <th>CEPHALEXIN</th>\n      <td>7.838375e+06</td>\n      <td>2015</td>\n    </tr>\n    <tr>\n      <th>CIPROFLOXACIN HCL</th>\n      <td>1.090640e+07</td>\n      <td>2015</td>\n    </tr>\n    <tr>\n      <th>LEVOFLOXACIN</th>\n      <td>6.761938e+06</td>\n      <td>2015</td>\n    </tr>\n    <tr>\n      <th>SULFAMETHOXAZOLE/TRIMETHOPRIM</th>\n      <td>7.959069e+06</td>\n      <td>2015</td>\n    </tr>\n    <tr>\n      <th>AMOXICILLIN</th>\n      <td>9.961257e+06</td>\n      <td>2016</td>\n    </tr>\n    <tr>\n      <th>AMOXICILLIN/POTASSIUM CLAV</th>\n      <td>5.628531e+06</td>\n      <td>2016</td>\n    </tr>\n    <tr>\n      <th>AZITHROMYCIN</th>\n      <td>1.113716e+07</td>\n      <td>2016</td>\n    </tr>\n    <tr>\n      <th>CEPHALEXIN</th>\n      <td>8.252320e+06</td>\n      <td>2016</td>\n    </tr>\n    <tr>\n      <th>CIPROFLOXACIN HCL</th>\n      <td>1.018421e+07</td>\n      <td>2016</td>\n    </tr>\n    <tr>\n      <th>LEVOFLOXACIN</th>\n      <td>6.131846e+06</td>\n      <td>2016</td>\n    </tr>\n    <tr>\n      <th>SULFAMETHOXAZOLE/TRIMETHOPRIM</th>\n      <td>8.107622e+06</td>\n      <td>2016</td>\n    </tr>\n  </tbody>\n</table>\n</div>",
          "text/plain": "                                       ratio  year\ngeneric_name                                      \nAMOXICILLIN                     8.387936e+06  2013\nAZITHROMYCIN                    1.035387e+07  2013\nCEPHALEXIN                      6.984737e+06  2013\nCIPROFLOXACIN HCL               1.057970e+07  2013\nLEVOFLOXACIN                    6.016443e+06  2013\nSULFAMETHOXAZOLE/TRIMETHOPRIM   7.857411e+06  2013\nAMOXICILLIN                     9.101164e+06  2014\nAZITHROMYCIN                    1.032743e+07  2014\nCEPHALEXIN                      7.390844e+06  2014\nCIPROFLOXACIN HCL               1.076489e+07  2014\nLEVOFLOXACIN                    6.312666e+06  2014\nSULFAMETHOXAZOLE/TRIMETHOPRIM   8.004389e+06  2014\nAMOXICILLIN                     9.678725e+06  2015\nAZITHROMYCIN                    1.119904e+07  2015\nCEPHALEXIN                      7.838375e+06  2015\nCIPROFLOXACIN HCL               1.090640e+07  2015\nLEVOFLOXACIN                    6.761938e+06  2015\nSULFAMETHOXAZOLE/TRIMETHOPRIM   7.959069e+06  2015\nAMOXICILLIN                     9.961257e+06  2016\nAMOXICILLIN/POTASSIUM CLAV      5.628531e+06  2016\nAZITHROMYCIN                    1.113716e+07  2016\nCEPHALEXIN                      8.252320e+06  2016\nCIPROFLOXACIN HCL               1.018421e+07  2016\nLEVOFLOXACIN                    6.131846e+06  2016\nSULFAMETHOXAZOLE/TRIMETHOPRIM   8.107622e+06  2016"
         },
         "metadata": {},
         "output_type": "display_data"
        }
       ]
      }
     },
     "cbf5d2231731461593270e8c9e6befc0": {
      "model_module": "@jupyter-widgets/base",
      "model_module_version": "1.0.0",
      "model_name": "LayoutModel",
      "state": {}
     },
     "ccaabcd5d57f44b5af23ea0738de99c0": {
      "model_module": "@jupyter-widgets/controls",
      "model_module_version": "1.2.0",
      "model_name": "VBoxModel",
      "state": {
       "_dom_classes": [
        "widget-interact"
       ],
       "children": [
        "IPY_MODEL_699a2cc792964b7bb5e13a4c2bc3674b",
        "IPY_MODEL_15ce8ef59f494e0a9a229856b815692c"
       ],
       "layout": "IPY_MODEL_1bc0baab9b7a43648ab04e386c43365f"
      }
     },
     "cd535ab2143f4bacaae75b12e7b8d633": {
      "model_module": "@jupyter-widgets/controls",
      "model_module_version": "1.2.0",
      "model_name": "DropdownModel",
      "state": {
       "_options_labels": [
        "all",
        "ACETAMINOPHEN WITH CODEINE",
        "ACETAMINOPHEN/CAFF/DIHYDROCOD",
        "ASPIRIN/CAFFEIN/DIHYDROCODEINE",
        "BUPRENORPHINE",
        "BUPRENORPHINE HCL",
        "BUTALBIT/ACETAMIN/CAFF/CODEINE",
        "BUTORPHANOL TARTRATE",
        "CARISOPRODOL/ASPIRIN/CODEINE",
        "CODEINE SULFATE",
        "CODEINE/BUTALBITAL/ASA/CAFFEIN",
        "FENTANYL",
        "FENTANYL CITRATE",
        "HYDROCODONE BITARTRATE",
        "HYDROCODONE/ACETAMINOPHEN",
        "HYDROCODONE/IBUPROFEN",
        "HYDROMORPHONE HCL",
        "IBUPROFEN/OXYCODONE HCL",
        "LEVORPHANOL TARTRATE",
        "MEPERIDINE HCL",
        "METHADONE HCL",
        "MORPHINE SULFATE",
        "MORPHINE SULFATE/NALTREXONE",
        "OPIUM TINCTURE",
        "OPIUM/BELLADONNA ALKALOIDS",
        "OXYCODONE HCL",
        "OXYCODONE HCL/ACETAMINOPHEN",
        "OXYCODONE HCL/ASPIRIN",
        "OXYCODONE MYRISTATE",
        "OXYMORPHONE HCL",
        "PENTAZOCINE HCL/NALOXONE HCL",
        "TAPENTADOL HCL",
        "TRAMADOL HCL",
        "TRAMADOL HCL/ACETAMINOPHEN"
       ],
       "description": "drug_name",
       "index": 0,
       "layout": "IPY_MODEL_36913dfd6d5046e9a65b6aa931d8e5eb",
       "style": "IPY_MODEL_2f33910fcaf243e98c5452bfe677e160"
      }
     },
     "cf8d70677f444fc08617db2aa986a5f0": {
      "model_module": "@jupyter-widgets/controls",
      "model_module_version": "1.2.0",
      "model_name": "DescriptionStyleModel",
      "state": {
       "description_width": ""
      }
     },
     "d09ec7e63ae641c380d9005b43e229c8": {
      "model_module": "@jupyter-widgets/base",
      "model_module_version": "1.0.0",
      "model_name": "LayoutModel",
      "state": {}
     },
     "d0b74fdc4ca94465a2d0eb97363ed463": {
      "model_module": "@jupyter-widgets/controls",
      "model_module_version": "1.2.0",
      "model_name": "VBoxModel",
      "state": {
       "_dom_classes": [
        "widget-interact"
       ],
       "children": [
        "IPY_MODEL_106ac6ed451a47dabc8d88362d995ecf",
        "IPY_MODEL_aff54154948e4773bc3318a368410ff8"
       ],
       "layout": "IPY_MODEL_43e01411660c4ab5acb1ddac00bc13fb"
      }
     },
     "d1292d8a45694b6e8335339b43e061dc": {
      "model_module": "@jupyter-widgets/controls",
      "model_module_version": "1.2.0",
      "model_name": "VBoxModel",
      "state": {
       "_dom_classes": [
        "widget-interact"
       ],
       "children": [
        "IPY_MODEL_f5c5d162a74b43ca923b94cf28be646f",
        "IPY_MODEL_c0faf307d7b74e4da5d21e572bd3db1e"
       ],
       "layout": "IPY_MODEL_0467ea0ee6774a70bf8861d7dd562e80"
      }
     },
     "d1c76d1a4b3b47e4b3e8d76d6bbee7d8": {
      "model_module": "@jupyter-widgets/controls",
      "model_module_version": "1.2.0",
      "model_name": "DescriptionStyleModel",
      "state": {
       "description_width": ""
      }
     },
     "d23137e47b404f649e2003580a1f66ff": {
      "model_module": "@jupyter-widgets/base",
      "model_module_version": "1.0.0",
      "model_name": "LayoutModel",
      "state": {}
     },
     "d30b3dc99dea4c38900bd2d788b58102": {
      "model_module": "@jupyter-widgets/base",
      "model_module_version": "1.0.0",
      "model_name": "LayoutModel",
      "state": {}
     },
     "d42b7715edaa4c38b8b12be753ec8a9e": {
      "model_module": "@jupyter-widgets/controls",
      "model_module_version": "1.2.0",
      "model_name": "DescriptionStyleModel",
      "state": {
       "description_width": ""
      }
     },
     "d6be4239c3744a56a57fcb0c7d1975f8": {
      "model_module": "@jupyter-widgets/base",
      "model_module_version": "1.0.0",
      "model_name": "LayoutModel",
      "state": {}
     },
     "d8ff9c4de3ab4d469ccfdaa6a102c8f7": {
      "model_module": "@jupyter-widgets/base",
      "model_module_version": "1.0.0",
      "model_name": "LayoutModel",
      "state": {}
     },
     "d91295077ebb4737a50989ae1eb68402": {
      "model_module": "@jupyter-widgets/controls",
      "model_module_version": "1.2.0",
      "model_name": "SliderStyleModel",
      "state": {
       "description_width": ""
      }
     },
     "d931a338bc3d45bfa7cf0447bcaf8e42": {
      "model_module": "@jupyter-widgets/output",
      "model_module_version": "1.0.0",
      "model_name": "OutputModel",
      "state": {
       "layout": "IPY_MODEL_140fbf83e82d4813bd96eb340ff2243b"
      }
     },
     "d9804e5a144f4c3e8bdae245a4e56e9c": {
      "model_module": "@jupyter-widgets/controls",
      "model_module_version": "1.2.0",
      "model_name": "DropdownModel",
      "state": {
       "_options_labels": [
        "all",
        "ACETAMINOPHEN WITH CODEINE",
        "ACETAMINOPHEN/CAFF/DIHYDROCOD",
        "ASPIRIN/CAFFEIN/DIHYDROCODEINE",
        "BUPRENORPHINE",
        "BUPRENORPHINE HCL",
        "BUTALBIT/ACETAMIN/CAFF/CODEINE",
        "BUTORPHANOL TARTRATE",
        "CARISOPRODOL/ASPIRIN/CODEINE",
        "CODEINE SULFATE",
        "CODEINE/BUTALBITAL/ASA/CAFFEIN",
        "FENTANYL",
        "FENTANYL CITRATE",
        "HYDROCODONE BITARTRATE",
        "HYDROCODONE/ACETAMINOPHEN",
        "HYDROCODONE/IBUPROFEN",
        "HYDROMORPHONE HCL",
        "IBUPROFEN/OXYCODONE HCL",
        "LEVORPHANOL TARTRATE",
        "MEPERIDINE HCL",
        "METHADONE HCL",
        "MORPHINE SULFATE",
        "MORPHINE SULFATE/NALTREXONE",
        "OPIUM TINCTURE",
        "OPIUM/BELLADONNA ALKALOIDS",
        "OXYCODONE HCL",
        "OXYCODONE HCL/ACETAMINOPHEN",
        "OXYCODONE HCL/ASPIRIN",
        "OXYCODONE MYRISTATE",
        "OXYMORPHONE HCL",
        "PENTAZOCINE HCL/NALOXONE HCL",
        "TAPENTADOL HCL",
        "TRAMADOL HCL",
        "TRAMADOL HCL/ACETAMINOPHEN"
       ],
       "description": "drug_name",
       "index": 0,
       "layout": "IPY_MODEL_69b40bd951e04b26992867f686ab95fe",
       "style": "IPY_MODEL_9eb90780686b4a2b9f45a6309c174338"
      }
     },
     "d9e5acfa0bc44bb18ce158a318547be6": {
      "model_module": "@jupyter-widgets/base",
      "model_module_version": "1.0.0",
      "model_name": "LayoutModel",
      "state": {}
     },
     "da1a2fdf363d447fa35061d057674db3": {
      "model_module": "@jupyter-widgets/controls",
      "model_module_version": "1.2.0",
      "model_name": "FloatSliderModel",
      "state": {
       "description": "threshold",
       "layout": "IPY_MODEL_581fcd8300e94837accccab0d5014a2d",
       "max": 71164534.01037252,
       "step": 0.1,
       "style": "IPY_MODEL_788ad3e6326648fbaa1d3f753406210a",
       "value": 23644990.3
      }
     },
     "da3c74ee68864eba8311c3fa1017af96": {
      "model_module": "@jupyter-widgets/controls",
      "model_module_version": "1.2.0",
      "model_name": "VBoxModel",
      "state": {
       "_dom_classes": [
        "widget-interact"
       ],
       "children": [
        "IPY_MODEL_6dd56420bf844fb49f098b612758d4bb",
        "IPY_MODEL_c43b2156c8744c6f90f384b682270332"
       ],
       "layout": "IPY_MODEL_778a76a88caa4391a6e157317601ef2f"
      }
     },
     "db04c7365b064c108aa0381f965c399b": {
      "model_module": "@jupyter-widgets/base",
      "model_module_version": "1.0.0",
      "model_name": "LayoutModel",
      "state": {}
     },
     "dd30d25c76104aa18b972dea79d411b9": {
      "model_module": "@jupyter-widgets/controls",
      "model_module_version": "1.2.0",
      "model_name": "VBoxModel",
      "state": {
       "_dom_classes": [
        "widget-interact"
       ],
       "children": [
        "IPY_MODEL_f67f6bf772e04cadad6fe1100878a3db",
        "IPY_MODEL_13f4437f68594c35afb63eb56a99fc01"
       ],
       "layout": "IPY_MODEL_20e4cd1c489645a5916b7dd2d28e4357"
      }
     },
     "df8d736f32f24208b7b992e501135825": {
      "model_module": "@jupyter-widgets/base",
      "model_module_version": "1.0.0",
      "model_name": "LayoutModel",
      "state": {}
     },
     "dfbc77403ff2447db8bc909304ae8224": {
      "model_module": "@jupyter-widgets/controls",
      "model_module_version": "1.2.0",
      "model_name": "DropdownModel",
      "state": {
       "_options_labels": [
        "Opioid",
        "Antibiotics",
        "Antipsychotic"
       ],
       "description": "drug_type",
       "index": 0,
       "layout": "IPY_MODEL_bdba81ffe12f4ed8a7290166bd1eb21e",
       "style": "IPY_MODEL_74b8a596cba9432f99ede1bd0657bd91"
      }
     },
     "dfd06f570c464415aa55f152dc761dc0": {
      "model_module": "@jupyter-widgets/base",
      "model_module_version": "1.0.0",
      "model_name": "LayoutModel",
      "state": {}
     },
     "dff66855539c4ff9b937247172512431": {
      "model_module": "@jupyter-widgets/controls",
      "model_module_version": "1.2.0",
      "model_name": "VBoxModel",
      "state": {
       "_dom_classes": [
        "widget-interact"
       ],
       "children": [
        "IPY_MODEL_cd535ab2143f4bacaae75b12e7b8d633",
        "IPY_MODEL_ebc6b0d4a7154b40954f278fb5e75bf2"
       ],
       "layout": "IPY_MODEL_581072a351fa496399f56f6371cc1ee5"
      }
     },
     "e0cf8e6c0ae446a4af87190582062587": {
      "model_module": "@jupyter-widgets/controls",
      "model_module_version": "1.2.0",
      "model_name": "DropdownModel",
      "state": {
       "_options_labels": [
        "all",
        "AMIKACIN SULFATE",
        "AMOXICILLIN",
        "AMOXICILLIN/POTASSIUM CLAV",
        "AMPICILLIN SODIUM",
        "AMPICILLIN SODIUM/SULBACTAM NA",
        "AMPICILLIN TRIHYDRATE",
        "AZITHROMYCIN",
        "AZTREONAM",
        "AZTREONAM/DEXTROSE-WATER",
        "CEFACLOR",
        "CEFADROXIL",
        "CEFAZOLIN SODIUM",
        "CEFAZOLIN SODIUM/DEXTROSE,ISO",
        "CEFDINIR",
        "CEFEPIME HCL",
        "CEFEPIME HCL IN DEXTROSE 5 %",
        "CEFEPIME IN ISO-OSM DEXTROSE",
        "CEFIXIME",
        "CEFOTAXIME SODIUM",
        "CEFOTETAN DISOD/ISOSM DEXTROSE",
        "CEFOTETAN DISODIUM",
        "CEFOXITIN SODIUM",
        "CEFOXITIN SODIUM/DEXTROSE,ISO",
        "CEFPODOXIME PROXETIL",
        "CEFPROZIL",
        "CEFTAROLINE FOSAMIL ACETATE",
        "CEFTAZIDIME",
        "CEFTAZIDIME IN DEXTROSE5%WATER",
        "CEFTAZIDIME IN IS-OSM DEXTROSE",
        "CEFTAZIDIME/AVIBACTAM",
        "CEFTIBUTEN",
        "CEFTOLOZANE/TAZOBACTAM",
        "CEFTRIAXONE IN IS-OSM DEXTROSE",
        "CEFTRIAXONE SODIUM",
        "CEFUROXIME AXETIL",
        "CEFUROXIME SODIUM",
        "CEPHALEXIN",
        "CIPROFLOXACIN",
        "CIPROFLOXACIN HCL",
        "CIPROFLOXACIN LACTATE",
        "CIPROFLOXACIN LACTATE/D5W",
        "CIPROFLOXACIN/CIPROFLOXA HCL",
        "CLARITHROMYCIN",
        "CLINDAMYCIN HCL",
        "CLINDAMYCIN PALMITATE HCL",
        "CLINDAMYCIN PHOSPHATE",
        "CLINDAMYCIN PHOSPHATE/D5W",
        "DALBAVANCIN HCL",
        "DAPTOMYCIN",
        "DEMECLOCYCLINE HCL",
        "DICLOXACILLIN SODIUM",
        "DORIPENEM",
        "DOXYCYCLINE CALCIUM",
        "DOXYCYCLINE HYCLATE",
        "DOXYCYCLINE MONOHYDRATE",
        "ERTAPENEM SODIUM",
        "ERYTHROMYCIN BASE",
        "ERYTHROMYCIN ETHYLSUCCINATE",
        "ERYTHROMYCIN LACTOBIONATE",
        "ERYTHROMYCIN STEARATE",
        "FIDAXOMICIN",
        "FOSFOMYCIN TROMETHAMINE",
        "GENTAMICIN IN NACL, ISO-OSM",
        "GENTAMICIN SULFATE",
        "GENTAMICIN SULFATE/PF",
        "IMIPENEM/CILASTATIN SODIUM",
        "LEVOFLOXACIN",
        "LEVOFLOXACIN/D5W",
        "LINCOMYCIN HCL",
        "LINEZOLID",
        "LINEZOLID-0.9% SODIUM CHLORIDE",
        "MEROPENEM",
        "MEROPENEM-0.9% SODIUM CHLORIDE",
        "METRONIDAZOLE",
        "METRONIDAZOLE/SODIUM CHLORIDE",
        "MINOCYCLINE HCL",
        "MOXIFLOXACIN HCL",
        "MOXIFLOXACIN IN NACL (ISO-OSM)",
        "MOXIFLOXACIN/SOD.ACE,SUL/WATER",
        "NAFCILLIN IN DEXTROSE,ISO-OSM",
        "NAFCILLIN SODIUM",
        "NEOMYCIN SULFATE",
        "NITROFURANTOIN",
        "NITROFURANTOIN MACROCRYSTAL",
        "NITROFURANTOIN MONOHYD/M-CRYST",
        "OFLOXACIN",
        "ORITAVANCIN DIPHOSPHATE",
        "OXACILLIN IN DEXTROSE(ISO-OSM)",
        "OXACILLIN SODIUM",
        "PEN G BENZ/PEN G PROCAINE",
        "PEN G POT/DEXTROSE-WATER",
        "PENICILLIN G BENZATHINE",
        "PENICILLIN G POTASSIUM",
        "PENICILLIN G PROCAINE",
        "PENICILLIN G SODIUM",
        "PENICILLIN V POTASSIUM",
        "PIPERACILLIN SODIUM/TAZOBACTAM",
        "PIPERACILLIN-TAZO-DEXTROSE,ISO",
        "QUINUPRISTIN/DALFOPRISTIN",
        "RIFAXIMIN",
        "STREPTOMYCIN SULFATE",
        "SULFADIAZINE",
        "SULFAMETHOXAZOLE/TRIMETHOPRIM",
        "TEDIZOLID PHOSPHATE",
        "TETRACYCLINE HCL",
        "TIGECYCLINE",
        "TOBRAMYCIN SULFATE",
        "TRIMETHOPRIM",
        "VANCOMYCIN HCL",
        "VANCOMYCIN HCL IN DEXTROSE 5 %",
        "VANCOMYCIN/0.9 % SOD CHLORIDE"
       ],
       "description": "drug_name",
       "index": 10,
       "layout": "IPY_MODEL_3cd6b41e22c449b880781c4b639da4fe",
       "style": "IPY_MODEL_10643cf083994da9bce2b6b0ecf88e7e"
      }
     },
     "e161ef603853428185f8a3dffa833a6a": {
      "model_module": "@jupyter-widgets/controls",
      "model_module_version": "1.2.0",
      "model_name": "VBoxModel",
      "state": {
       "_dom_classes": [
        "widget-interact"
       ],
       "children": [
        "IPY_MODEL_b7f3066f0d9e4627890723d9abe37e8a",
        "IPY_MODEL_978416e68bb840e5b4a0428b8d9f826b"
       ],
       "layout": "IPY_MODEL_24aa30b4784e4204a55650fba537c7a4"
      }
     },
     "e41e79f1024e40898d29f0b71dbccd45": {
      "model_module": "@jupyter-widgets/base",
      "model_module_version": "1.0.0",
      "model_name": "LayoutModel",
      "state": {}
     },
     "e483f01ef70944b3aaa9b5b36455e33a": {
      "model_module": "@jupyter-widgets/base",
      "model_module_version": "1.0.0",
      "model_name": "LayoutModel",
      "state": {}
     },
     "e6dbc99ea894443092275d5a73231a04": {
      "model_module": "@jupyter-widgets/controls",
      "model_module_version": "1.2.0",
      "model_name": "SliderStyleModel",
      "state": {
       "description_width": ""
      }
     },
     "e86dcb29a07d47d08ff83b22515496f6": {
      "model_module": "@jupyter-widgets/controls",
      "model_module_version": "1.2.0",
      "model_name": "DescriptionStyleModel",
      "state": {
       "description_width": ""
      }
     },
     "e8c5dfa9ce924ca9afb742d67b6acbaf": {
      "model_module": "@jupyter-widgets/controls",
      "model_module_version": "1.2.0",
      "model_name": "DropdownModel",
      "state": {
       "_options_labels": [
        "all",
        "ACETAMINOPHEN WITH CODEINE",
        "ACETAMINOPHEN/CAFF/DIHYDROCOD",
        "ASPIRIN/CAFFEIN/DIHYDROCODEINE",
        "BUPRENORPHINE",
        "BUPRENORPHINE HCL",
        "BUTALBIT/ACETAMIN/CAFF/CODEINE",
        "BUTORPHANOL TARTRATE",
        "CARISOPRODOL/ASPIRIN/CODEINE",
        "CODEINE SULFATE",
        "CODEINE/BUTALBITAL/ASA/CAFFEIN",
        "FENTANYL",
        "FENTANYL CITRATE",
        "HYDROCODONE BITARTRATE",
        "HYDROCODONE/ACETAMINOPHEN",
        "HYDROCODONE/IBUPROFEN",
        "HYDROMORPHONE HCL",
        "IBUPROFEN/OXYCODONE HCL",
        "LEVORPHANOL TARTRATE",
        "MEPERIDINE HCL",
        "METHADONE HCL",
        "MORPHINE SULFATE",
        "MORPHINE SULFATE/NALTREXONE",
        "OPIUM TINCTURE",
        "OPIUM/BELLADONNA ALKALOIDS",
        "OXYCODONE HCL",
        "OXYCODONE HCL/ACETAMINOPHEN",
        "OXYCODONE HCL/ASPIRIN",
        "OXYCODONE MYRISTATE",
        "OXYMORPHONE HCL",
        "PENTAZOCINE HCL/NALOXONE HCL",
        "TAPENTADOL HCL",
        "TRAMADOL HCL",
        "TRAMADOL HCL/ACETAMINOPHEN"
       ],
       "description": "drug_name",
       "index": 0,
       "layout": "IPY_MODEL_311738bd56be4b5d91e8ceffb7c3c5e8",
       "style": "IPY_MODEL_57c4891ea62b4884a41d07684db7aeda"
      }
     },
     "eb95d9f496274cf490735bf5ed88d041": {
      "model_module": "@jupyter-widgets/controls",
      "model_module_version": "1.2.0",
      "model_name": "DescriptionStyleModel",
      "state": {
       "description_width": ""
      }
     },
     "ebc6b0d4a7154b40954f278fb5e75bf2": {
      "model_module": "@jupyter-widgets/output",
      "model_module_version": "1.0.0",
      "model_name": "OutputModel",
      "state": {
       "layout": "IPY_MODEL_7b62909af4d74f81b2016caaad2858ea"
      }
     },
     "ec5f386c01144918bc16d044c48ddbe9": {
      "model_module": "@jupyter-widgets/base",
      "model_module_version": "1.0.0",
      "model_name": "LayoutModel",
      "state": {}
     },
     "ec7db41136f14b0cb2f1698216960ce9": {
      "model_module": "@jupyter-widgets/base",
      "model_module_version": "1.0.0",
      "model_name": "LayoutModel",
      "state": {}
     },
     "ecde07604ecd44edb4087e634cb6e3a7": {
      "model_module": "@jupyter-widgets/base",
      "model_module_version": "1.0.0",
      "model_name": "LayoutModel",
      "state": {}
     },
     "ed61f1c8dca44fd89ef302bdc88f8712": {
      "model_module": "@jupyter-widgets/base",
      "model_module_version": "1.0.0",
      "model_name": "LayoutModel",
      "state": {}
     },
     "ed86f9392d674278b55b3d683ba2ea9a": {
      "model_module": "@jupyter-widgets/output",
      "model_module_version": "1.0.0",
      "model_name": "OutputModel",
      "state": {
       "layout": "IPY_MODEL_1fc68e2902a24bc4b7e45a9ffa227b4d",
       "outputs": [
        {
         "data": {
          "image/png": "iVBORw0KGgoAAAANSUhEUgAAAYUAAAETCAYAAADZHBoWAAAABHNCSVQICAgIfAhkiAAAAAlwSFlzAAALEgAACxIB0t1+/AAAADl0RVh0U29mdHdhcmUAbWF0cGxvdGxpYiB2ZXJzaW9uIDIuMi4yLCBodHRwOi8vbWF0cGxvdGxpYi5vcmcvhp/UCwAAIABJREFUeJzs3XVUVHkbwPHvUKIgSBhrJxjYuooNdmCs2GLHvvZa2N2LicK67rq7dvfquirWKiYGGKiogKKg0iA1c98/0KsjICLCMPr7nOM53js3nhlm7nPvLxWSJEkIgiAIAqCj6QAEQRCEnEMkBUEQBEEmkoIgCIIgE0lBEARBkImkIAiCIMhEUhAEQRBkIilkoydPnlChQgU6dOhAhw4dcHBwoHv37hw+fFjToX0R9vb2eHt74+3tzahRozK8f/Xq1Xny5EkWRPbppk2bho+PDwBTp07l/PnzWXKePXv20KRJEwYOHJjpY3l4eGBtbZ2h79Hq1as5fvw4ACtXrmTfvn2ZjuNT7Nmzh6FDh2Z4v6z4uzg5OfHPP/9k+jhfGz1NB/CtMTQ0ZP/+/fLy06dP6devH7q6urRs2VKDkX05lStXZtWqVZoO47OcP3+ebt26ATB//vwsO8++ffv46aef6NChQ6aPtWXLFhwcHPjzzz9p06bNJ+1z8eJFypYtC8Do0aMzHUNWy66/iyCSgsYVKVKEUaNG8fvvv9OyZUsmTZpEeHg4gYGBNGnShFevXlGuXDn5jnLSpEny8s2bN5k1axaJiYkUL16coKAgJk2aRJ06ddTOsWXLFrZt24a+vj65cuVizpw5lC1bFnt7e1auXEnlypUB5GUzMzOcnJxo2LAhN27cQJIkZsyYQa1atXB1dcXf35/nz5/z4sULypcvz/z58zE2NpbPd/HiRebOncuhQ4dISEjAxcWFy5cvo1QqqVixItOmTcPY2JgrV64wd+5cFAoFlStXRqVSpfoZ3b9/nzlz5hAeHo5CoWDAgAF07NiRcePGUalSJQYMGCC/z0uXLrFixQo8PDxwd3cnMTERQ0NDnJ2dqV69Oq6urly/fp2QkBCsra1xcXGRz7N8+XJCQkIYP348S5YswcXFhV69emFjY0Pfvn2pX78+Pj4+KJVKRo0axfbt23n48CE2NjYsW7YMHR0dvLy8cHFx4fXr1+jo6DBixAjs7OzU3s+CBQvw9vbmyZMnhIWF0blzZ2bPns3du3dRKBQ0bNiQsWPHoqenh42NDU2bNuXu3bu4uLjIf6u3AgMDuXTpEidPnqRNmzZcv36datWqyd8VY2NjfH19ef78OdbW1ixevJh9+/bh4+PDkiVL0NXV5cSJE/J3qmLFigwePJizZ88SGxvL2LFjadGiBS9evMDZ2ZmwsDAAGjduzJgxY+jfvz+tW7ema9euALi5uREeHs6UKVNYu3Yte/fuRU9PjxIlSrBo0SIAXrx4wZAhQ3j27Bm6urosXbqUMmXK8Pz5c2bNmsXTp0+RJImOHTsyaNCgNP8urVq14uTJk6xYsQKVSkWePHmYPXs25cuXV/uMXrx4wcyZM3n48CE6Ojp0796dPn36qG3zyy+/cOLECeLi4nj9+jXOzs40b94cPz8/pk6dSkJCApIk4ejoSK9evdJc/1WQhGwTGBgoVatWLcX6e/fuSVWrVpUkSZKcnZ2lvn37yq85OztLv/32W4rlxMREqVGjRtKpU6ckSZIkT09PydraWrpw4YLasZOSkqRKlSpJwcHBkiRJ0t69e6Vt27ZJkiRJdnZ20s2bN+Vt3y4HBgZKVlZW0oEDByRJkqRTp05J9evXlxISEqRVq1ZJjRo1kl68eCEplUpp7Nix0qJFi9T2v3DhgtS2bVtJkiTJ1dVVWrRokaRSqSRJkqSlS5dKM2fOlOLj46V69epJ58+flyRJkg4ePChZWVlJgYGBavEnJiZKTZs2lY4ePSpJkiQ9f/5catiwoeTl5SV5enpK7dq1k7d1dHSUzp07Jz169Ehq166dFBoaKn++9evXl2JiYqRVq1ZJLVu2lBITE1P9G73/mfTu3Vs6cuSI/HkcP35ckiRJmjFjhmRnZydFRUVJcXFxUv369aWrV69K4eHhUosWLeT38Pz5c6lRo0bS06dPU5zn7bElSZImTpwozZ07V1KpVFJ8fLw0YMAAae3atZIkSZKVlZW0d+/eVGOVJElavHixNHLkSEmSJGnWrFnS6NGj5decnZ2lbt26SfHx8VJCQoLUsWNHadeuXSnO//53zMrKSnJ3d5ckSZLu3Lkj1axZU3r16pW0evVqafr06ZIkSVJMTIw0ZswYKTIyUjp27JjUuXNnSZIkSalUSnZ2dpKfn590/PhxqUWLFlJ4eLgkSZK0YMECyc3NTdq9e7dUq1Yt6fHjx5IkSdLcuXOlyZMnS5IkSb169ZLWr18vSZIkRUZGSg4ODtKhQ4fS/Lu8ePFCqlmzpnTr1i1JkiTp6NGj0sCBA1N8RsOHD5cWL14sH7dt27bS48eP5eM8efJEcnJykl6/fi1JkiQdOnRI/l5NnjxZ/luEhIRIY8aMkZRKZZrrvwbiSSEHUCgUGBoayss1a9ZMd5979+4ByXdsAHXr1qVcuXIpttPV1aVVq1Z0796dJk2a0KBBA3mfjzE1NcXBwUE+h66uLr6+vgC0atUKS0tLABwdHVmwYAHOzs6pHufUqVNERUXJZcCJiYlYWFhw79499PT0sLW1BaBdu3bMmDEjxf6PHz8mPj6eFi1aAFCwYEFatGjB2bNnGTlyJPHx8Xh7e5M7d25CQ0OxtbVly5YthISE0K9fP/k4CoWCgIAAAKpVq4aeXsa++vr6+tjb2wNQvHhxqlevLj8dFShQgIiICK5fv86LFy8YPny42nl9fX0pXLhwmsc+c+YMW7duRaFQYGBgQPfu3fnrr78YMmQIALVq1Up1v4SEBPbs2cOCBQsA6NSpEz169ODZs2d89913ADRs2BADAwMArKysiIiISPe99u7dG4Dy5ctjZWXF5cuXadiwoXx3X69ePcaNG0fevHmxs7Nj/vz53L17l+DgYIoWLUrp0qXZsmULrVq1wtTUFIDJkycDyXUKVapUoUSJEgBUqFCBY8eOERsbi5eXF+vXrwcgb968/PDDD5w5c4a2bdumGqeXlxflypWjYsWKALRo0UL+nrzv/PnzTJgwQT7uoUOH1F4vUqQIS5Ys4eDBg/j7+3Pjxg1iYmIAaN68Oc7Ozty8eRNbW1umTZuGjo5Omuu/BiIp5ADe3t5YWVnJy3ny5JH/r1AokN4bnioxMRFIvthLHwxbpaurm+rxXVxcuHfvHufPn+fXX39l//79rFy5EkDtGAkJCWkeS6VSyevef02lUn30x6BSqZgyZYqciGJiYoiPjycoKChF/KldqJVKJQqFQm2dJEkkJSWhUChwdHRk//796Ovr4+joiEKhQKVSYWtry4oVK+R9nj17RoECBTh27Jja5/up9PX11eLQ19dPNdYyZcqwc+dOeV1wcDDm5uYfPbZKpVI7tkqlIikpSV5OK97Dhw8TGRnJ3LlzmTdvHpD8fdm4cSMTJ04EULvZ+PC7lJYP/766urpUqVKFEydO4OnpyYULF+jSpQvr1q3DxsaGbt26sWvXLkJCQujevbt8jPffU2RkJJGRkYD63/ltTCqVKkVsH34OqcX5/jkkScLX1zdF8ZGenp7adoGBgZiZmcnLt27dYtiwYfTr14/69etTu3ZtZs+eDYCdnR1Hjx7l/PnzeHp6smbNGvbs2ZPm+kKFCqX7+eZ0X0dq02KPHj3Czc1NLhf/kJmZmdzqIjg4mEuXLgFQpkwZDAwMOHPmDAA3b97k3r17KS6goaGhNG7cmHz58tGvXz/GjBmDt7c3AObm5vKxL168yIsXL9T2e3tsDw8P9PX15cR14sQJoqKiUKlU7NixI0WZ+fsaNGjA5s2bSUhIQKVSMX36dJYtW4a1tTWSJHH69Gn5mKndxZYuXRo9PT3+/fdf+TM4evQo9erVA5Lvjj08PDh69Cg//PADALa2tpw7dw4/Pz8ATp8+Tfv27YmLi0szzrd0dXU/eiH6mGrVquHv78/ly5cBuHPnDi1btiQ4OPij+zVo0IBNmzYhSRIJCQns2LFDfn8fs23bNn788UdOnjyJh4cHHh4ezJo1i507dxIbG/vRfT/2Pt+2RLp16xaPHj2idu3auLi44ObmRrNmzZg6dSply5bl/v37AHTp0oXjx49z69YtmjdvDkC9evU4duwY0dHRALi6uvLnn3+mGY+xsTFVq1Zl8+bNAERFRbFv3z75c0gt3qpVq+Ln5yfHceLECfmJ4H22trbs3r1bPm7fvn15/Pix/Prly5exsbGhf//+fP/995w4cQKlUgnAuHHjOHz4MG3btmXmzJkYGxsTEBCQ5vqvgXhSyGZxcXFyixMdHR1y5crF2LFjadKkSarbOzk5MX78eFq2bEnRokWpW7cukHz34+rqysyZM1m2bBklS5bE0tJS7c4Qki/8//vf/+jXrx+Ghobo6urKd5Xjx49n1qxZbN++nUqVKlGpUiV5v1y5crF//35cXFwwNDRkzZo18h2kpaUlgwcPJiwsjNq1a/Pjjz+m+X6HDRvG4sWL6dSpE0qlkgoVKjBp0iT09fVZs2YNs2bNYtmyZVSoUAELC4sU++vr6+Pm5sa8efNwdXVFqVQyfPhw+XPInz8/FStWJCkpiYIFCwJQtmxZ5syZw9ixY5EkCT09Pdzd3TEyMkr379O8eXMmTJjArFmz0t32Q+bm5qxatYolS5YQHx+PJEksWbKEokWLfnS/adOmMW/ePBwcHEhMTKRhw4Yf/UwB7t69y507d3Bzc1Nb37FjR9zd3dm7d+9H97e3t2fZsmXyk+f7vLy82LFjByqViuXLl2Nqakrfvn2ZNGkS7dq1w8DAAGtra7lYx8LCAhsbG8qUKSM/QTVu3JgHDx7Qo0cPIPlvMnfuXDm5p8bFxYU5c+awZ88eEhIScHBwkBN9an8XS0tLXFxccHZ2RqlUYmxszPLly1Mcd8aMGcyaNQsHBwckSWLo0KHY2NjIr7dr145///2X1q1bo1KpsLOzIyIigujoaIYNG8bUqVPZvn07urq6NGvWjNq1a2NhYZHq+q+BQvqU50khR1q8eDEDBw7E0tKSZ8+e0aFDB44fP46JiUmmjvvkyRMcHBy4du1aitdcXV0JCwtLtfxf0H7W1tZ4enqmW+T1vtDQUBwdHdm8ebNclyFoL/GkoMWKFClCv3790NPTQ5Ik5s2bl+mEIAgZsWPHDpYtW8bIkSNFQvhKiCcFQRAEQSYqmgVBEASZSAqCIAiCTOvrFK5evarpEARBELRSah1ltT4pwKf1ABYEQRDeSeuGWhQfCYIgCDKRFARBEASZSAqCIAiCTCQFQRAEQSaSgiAIgiATSUEQBEGQiaQgCIIgyERSELTK3bt3uXv3rqbD+GqIz1P4kEgKgtZ4+PAhPXr0oEWLFixevBiVSqXpkLTe3r170517Qfi2fBU9mnO6t3diH04TKHw6lUqFvb09/v7+AEyaNAldXV3Gjx+v4ci0148//sjvv/8OJE9R+eGEPULGfQ2/dfGkkIXi4uKYNGkSzZo1w8nJiefPn2s6JK1169YtOSG8Je5wP98///zD2rVrSUpKIikpCXd394/OiiakLykpCTc3N7Zs2aLpUDJFPClkIWdnZ1atWgXA06dPadeuHVeuXNFwVNqpaNGi6Onpqc3TW65cOQ1GpN1S+x5euXKFFi1aaCAa7ffgwQPs7Ox48uQJOjo6KJVK5s+fr+mwPot4UshCbydAf+vq1auEhoZqKBrtZmZmxvTp0+V5ot/Owyx8Hjs7u09aJ3yaGTNm8OTJEyC5qHPJkiVa+1sXTwpZyNramoCAAHk5b968YrrMTJgxYwaSJBEVFcXPP/+MQqHQdEhaq379+vzyyy9MmTIFgIULF2Jra6vhqLTX48eP1ZaTkpJ4/vx5hua6zilEUshCy5Yto1WrVjx9+hQDAwMWLVqEnp74yDOjW7duACIhfAFDhw6lcePGgHZXjOYEXbt2xdPTU14uV64cFSpU0GBEn09cobKQjY0N/v7+ODs7Y2ZmxrBhwzQdktYTF68vS3yeX8bo0aPR09NjxYoVWFhYsHv3bq29ccnSpHDjxg1cXFzYuHEjP/30Ey9fvgSSK12rVq3K8uXL5W0lSaJRo0aULFkSgGrVqjFu3LisDC9b6OrqMmjQIE2HIQhCFlIoFIwYMYJmzZoByQ0jtFWWJYV169Zx4MABcufODSAngIiICPr06cPkyZPVtg8ICKBSpUr88ssvWRWSxoi7MUH4NnwNv/UsSwrFixfH1dWViRMnqq13dXWld+/eFChQQG39rVu3CA4OxsnJCUNDQyZPnkzp0qU/6VxinmZBEIQvI8uSQsuWLeUmWm+9evUKT0/PFE8JAPnz52fIkCG0bt2aK1euMGHCBHbv3v1J5xJzNAuCIGRMWjfT2VrR/M8//9CuXTu5rfn7bGxs5PW1atUiODgYSZK0trJGEARBG2Vr5zVPT08aNWqU6murV6/mr7/+ApLHDylcuLBICIIgCNksW5PCo0ePKFasmNq6AQMGkJCQwJAhQ7h8+TK9e/dm4cKFLFy4MDtDEwRBEACFJEmSpoPIjKtXr4o6BUEQhAxK69opxj4SBEEQZCIpCIIgCDKRFARBEASZSAqCIAiCTCQFQRAEQSaSgiAIgiATSUEQBEGQiaQgCIIgyERSEARBEGQiKQiCIAgykRQEQRAEmUgKgiAIgkwkBUEQBEEmkoIgCIIgE0lBEARBkImkIAiCIMhEUhAEQRBkIikIgiAIMr1P2ejevXtcunSJpKQk6tSpQ4UKFbI6LkEQBEED0n1S2LdvH8OGDSMwMJCgoCCGDx/Orl27siM2QRAEIZul+6Twxx9/sHPnTszMzAD48ccf6dOnD46OjlkenCAIgpC90n1SUKlUckIAMDc3R6FQfNLBb9y4gZOTEwC3bt2iYcOGODk54eTkxOHDh9W2jYuLY+TIkfTs2ZPBgwcTGhqakfchCIIgfAHpPilYW1szf/58+clg165dlC9fPt0Dr1u3jgMHDpA7d24Abt++Tf/+/RkwYECq22/duhUrKytGjhzJ33//jZubG9OmTcvIexEEQRAyKd2kMG/ePFatWsWUKVOQJIk6deowc+bMdA9cvHhxXF1dmThxIgA+Pj48evSIEydOUKJECaZMmYKxsbG8/dWrVxk0aBAAjRo1ws3N7ZPfxNWrVz95W0EQBCFt6SYFQ0ND+cKeES1btuTJkyfycpUqVejSpQs2Nja4u7uzZs0anJ2d5dejo6PJmzcvAEZGRkRFRX3yuWrWrJnh+ARBEL5lad1Mp5kUOnXqxN69eylfvrxaHYIkSSgUCu7cuZOhAJo3b46JiYn8/7lz56q9bmxsTExMDAAxMTHytoIgCEL2STMp7N27F4C7d++meC0hISHDJxo4cCDTp0+nSpUqeHp6UqlSJbXXa9SowenTp6lSpQpnzpwRd/+CIAgakG7ro27duqktq1QqOnfunOETzZo1iwULFuDk5ISXlxfDhg0DYMCAASQkJNCjRw/u379Pjx492L59OyNGjMjwOQRBEITMUUiSJKX2Qp8+fbh06VKK9Xp6etjb27Nq1aosD+5TXL16VTxVCIIgZFBa1840i482bNgAJLc+Ek1DBUEQvg3ptj6aMGECx44dkyuBlUolT548YfTo0VkenCAIgpC90k0K48aNIyIigoCAAGrVqsXFixepUaNGdsQmCIIgZLN0K5p9fX3ZsGEDzZs3Z9CgQWzdupWnT59mR2yCIAhCNks3KVhYWKBQKChVqhS+vr4UK1aMxMTE7IhNEARByGbpFh+VK1eOuXPn0qNHD8aPH09ISAhpNFgSBEEQtFy6TwozZ86kdevWlC1blpEjRxISEsLSpUuzIzZBEAQhm6X7pNClSxe5d3PTpk1p2rRplgclCIIgaEa6TwqWlpZcuXLls4a2EARBELRLuk8KPj4+9O7dWx4U73MHxBMEQRByvnSTgqenZ3bEIQiCIOQA6RYfCYIgCN8OkRQEQRAEmUgKgiAIgizdpBAQEMCBAweQJInp06fTuXNnvL29syM2QRAEIZulmxQmT56MSqXixIkTPH78mMmTJzN//vzsiE0QBEHIZukmhfj4eDp27MjJkydxcHCgVq1aos+CIAjCVyrdpKCrq8vRo0c5deoUTZo04fjx4+joiKoIQRCEr1G6V/c5c+Zw6tQpZs6cSYECBfj777+ZN29edsQmCIIgZLN0k4K1tTXDhg3DwMAApVLJ2LFjKV++fHbEJgiCIGSzdJPC4cOHGTZsGPPnzyc8PJzu3buzf//+7IhNEARByGbpJoV169axdetWjIyMsLCwYO/evfz666+fdPAbN27g5OQEwJ07d+jZsydOTk4MHDiQly9fpti+Y8eOODk54eTkxOTJkzP4VgRBEITMSnfsIx0dHYyNjeXlAgUKfFJF87p16zhw4AC5c+cGYP78+UyfPp0KFSqwbds21q1bp3bhj4+PB2Djxo0ZfhOCIAjCl/FJM69t2rSJpKQk7ty5w5YtWz6pTqF48eK4uroyceJEAJYtW0aBAgUAUCqV5MqVS237u3fv8vr1awYMGEBSUhJjx46lWrVqn/Qmrl69+knbCYIgCB+XblKYMWMG7u7u5MqViylTplC3bl2cnZ3TPXDLli158uSJvPw2IXh5ebFp0yY2b96str2hoSEDBw6kS5cuPH78mMGDB/PPP/+gp5duiNSsWTPdbQRBEIR30rqZTveKmydPHsaNG8e4ceMyHcThw4dxd3fn119/xdzcXO21UqVKUaJECRQKBaVKlSJfvny8ePGC7777LtPnFQRBED5NmkmhU6dO7N27l/Lly8sT7MDnT7Kzf/9+tm/fzsaNG8mXL1+K13ft2sW9e/eYNWsWwcHBREdHkz9//gydQxAEQcicNJPC23mZ9+3bl+l+CUqlkvnz5/Pdd98xcuRIAGrXrs2oUaOYOHEiY8aMwdHRkcmTJ9OjRw8UCgULFiz4pKIjQRAE4ctRSJIkfWyD1q1bc+TIkeyKJ8OuXr0q6hQEQRAyKK1rZ7q34mXLlmX16tVUrVoVQ0NDeX3t2rW/bISCIAiCxqWbFMLDw7l48SIXL16U1ykUCjZs2JClgQmCIAjZL92kIDqTCYIgfDvSTQrXr19n7dq1xMbGIkkSKpWKoKAgPDw8siM+QRAEIRulO17FlClTaNasGUqlkl69elGwYEGaNWuWHbEJgiBoBUmSWLlyJY0bN2bgwIEEBgZqOqTPlu6TgoGBAZ07d+bp06eYmJiwZMkSHBwcsiM2QRAErbB8+XK5g++ZM2e4ePEi3t7ean28tEW6SSFXrlyEh4dTqlQpbty4ga2tLUqlMjtiEwQhC12+fBlXV1cARo0aRa1atTQckWbt3LmTK1eufNa+mzZtUlu+desWgwYNwtLSMsPHqlWrFl26dPmsOL6EdJNCv379+Omnn3B1daVLly4cPHgQGxub7IhNEIQs8uDBAxo1akRcXByQPKKAj48PpUuX1nBk2ilfvnwEBQXJy3p6emqjS2uTdDuvwbuhLWJjY3n8+DEVKlTIMY9FovPat+Xu3bv4+fnRuHFjrf3RfSmZubO9ePEip0+fVlvXuHFj6tSp81nH0/Tdrab5+fnRsmVL/Pz80NXVZeXKlQwfPlzTYX1Uhjuvubq6MnLkyDQnu1m4cOGXi04QPsH06dPl+cEtLCzw8PCgSpUqGo5KO6WWUL/1JJtR165dw9TUlNKlS1OmTBl8fX0ZOHAgefPmzfEJ4WPSTAqVKlUC4Pvvv8+2YISv3+fe3cbExODm5iYvv3r1iq5du9KhQ4fPiuNruLPt0qXLZ7+H+Ph4WrduzcmTJwGwt7dn9+7dKeY5EVKKiIigRYsWXLp0CYAhQ4awdu1adHV1KViwoIajy7w0m6Ta29sD0Lx5c2JjY+nUqRP16tUjICCAVq1aZVuA2iwpKYnFixfTrFkzxo0bR1hYmKZD0lpxcXF8WNIZExOjoWi00+vXr9mwYQMrV67k5cuXeHh4yNPfnjhxQiSET+Tm5iYnBIBff/2VCxcuEB8fT2BgIFFRURqMLvPSrWgeP3481tbWABgZGaFSqZg4caLcakFI27Rp01i8eDEAJ06cwMfHh6NHj2o4Ks3KzN2tj4+P2nArc+bMoX///l8qtK+aUqmkSZMm8sVs5syZXLx4UcxX8hn8/f1TrDt//jydO3cmKChInhNmwoQJGogu89JNCkFBQfzyyy9AcpnjTz/99NmP7NooM5V5a9euVVv+999/GT16tNrAgp/qayjuyKzDhw/Trl07wsPDmTNnDo6OjpoOSWt4eHio3d1GRETIMyoKGdO1a1e133a+fPn477//5NZHkiQxbdo0BgwYgIWFhabC/Gzp9mhWKBT4+vrKy35+fmKeg09kYmKitpw7d2709fU1FI32Mzc3p2HDhjg4OIiEkEEqlSrVdYmJiSQmJmogIu1lb2/Pvn37aNOmDT179uT06dMEBwerbZOQkEBISIiGIsycdK/uzs7ODBgwQK5ACQsLY8mSJVkeWE6RmeIOR0dH2rZty4sXL9DT0+O3336jZ8+eXzhCQUhf06ZNqV69OteuXQOSn/qjoqLkAS/19PS+qd91ZnXo0EGtxKRnz56cP39eXq5evToVKlTQRGiZlm5SqFevHidPnuTevXvo6elRunRpDAwMsiM2rVe7dm0CAgIYNGgQ5ubmIiEIGqOnp8fZs2fZvHkzYWFh5M+fn4EDB8qv//zzz9jZ2dG6dWsNRqm9hg8fjqGhIQsWLMDMzIxDhw5pOqTPJvopZDFDQ0OKFCmi6TC0XmhoKJGRkZoOQ6sZGRkxZMgQALm/x/uuXbsmkkImDBw4kHv37gFQqFAhDUfz+dJMCmZmZoDop5BZoaGh+Pn5fdYYKEKyOXPmMG/ePBITEylevDidOnXSdEhar1mzZkyfPj3FOuHzBQcH4+PjI187tZaUhnbt2kmSJEn/+9//0tokR7hy5YqmQ0jTyZMnJSMjIwkhgz+IAAAgAElEQVSQFAqF5O7urumQtM7t27clQO1fgwYNNB3WV2H9+vWShYWFZGFhIf3xxx+aDkereXp6yr91QBo1apSmQ0pXWtfONMc+6ty5MwYGBvj6+qY6AF5OmY4zJ499VK9ePTw9PeVlU1NTQkJCRJ1MBuzbty/Fk0HFihW5deuWhiL6ujg7OwPI/WmEz9O+fXsOHjwoL+vo6PDkyZMc3Q8kw2Mf/fXXX9y5c4epU6cyYsSIzzrpjRs3cHFxYePGjfj7+zNp0iQUCgXlypVj5syZ6Oi8axEbFxfHhAkTePXqFUZGRixevBhzc/PPOm9O8WGTtMjISF6/fi2SQgY0adIEExMTtfqEcuXKaTAiQUjpw17MKpVKa3vcp9lPwdjYmNq1a7Nt2zZsbGwwMTGhdu3a2NjYfFI9w7p165g2bRrx8fFAcsX0mDFj2LJlC5IkceLECbXtt27dipWVFVu2bKFjx45q49xoq759+6otd+zYEVNTUw1Fo53y5cvH8ePHadu2LbVr18ba2prAwEB5zB5ByAl+/PFHteVmzZpRtmxZDUWTOek2SfX19WXGjBkolUq2b99Ou3btWLp0KQ0aNPjofsWLF8fV1ZWJEycCyZNOvE0mjRo14ty5czRv3lze/urVqwwaNEh+PSNJ4erVq5+8bXZq3bo1CQkJbN++nfz58zNu3LgcG2tOpqOjw+zZsxk2bJjckdLe3p5FixaJytFMSkhIAHLub0hblC1bFjc3N9auXYupqSmzZs3S2s803aSwbNkytmzZwuDBg8mfPz+bN29m7Nix6SaFli1b8uTJE3lZejMnAyQ3jfvwcSs6Opq8efOm+frH5NQ6BUgenuLtD69+/foajkZ73bt3T22YBoCjR4/KZeJCxsXHx8vj+FSuXFkUa2ZSzZo1efz4MaAdv/W0kla6SUGlUpE/f355+XMfid6vP4iJiUkxBISxsbFcBpfa68K3zcjICIVCoTZS6tubCCHjoqKiqFevHj4+PkDyzcv58+fFnApC+mMfFSpUiJMnT6JQKIiMjMTd3Z3ChQtn+EQVK1aUR7g8c+ZMivlga9SoIc8EdebMmRx99y9kvyJFijBs2DB52cjIKM2OlUL6tm3bJicEAG9vb7Zv367BiL4OiYmJ3L9/nzNnzqQY6l1bpJsU5syZw8GDB3n27BnNmjXjzp07zJkzJ8MncnZ2xtXVlW7dupGYmEjLli0BGDBgAAkJCfTo0YP79+/To0cPtm/f/tktnoSv1+rVq+nZsydt2rTBz8+PunXrajokrZVa8azoMZ45z5494/fff2fv3r00btyY9u3ba2Vi+KQ5mnOynNxP4S3RFvzLEZ/ll/H06VMqV64sT/xkZmaGj4/PZ5UCfAv8/PzYtGkTefPmpV+/fnJz+eDgYKKioihbtizTpk1j/vz5avudOnWKxo0bayLkdGW4n8JbZ8+eZcWKFURERKhlvQ+blAqfJi4ujsTERFEeLmhUkSJFuHLlijxI45YtW1JNCJcuXWLJkiXExsYybNgw2rVrl92hapyvry+1atUiOjoaAHd3d27evMmMGTNYvnw5SqUSOzs7SpcunWLf0NDQ7A4309JNCvPmzWPSpEmUK1dObj0kfJ6lS5cya9YsYmNj6dGjB+vXrxctPoQs8eDBA3bs2EH+/Pnp2bMnRkZGQPIUsSqVCgMDA0qXLi3fxaZ2QQsKCsLe3l5uAHL06FH+++8/bG1ts++N5ADr16+XEwIkf7arVq3CxcVFXnfy5EkqVaqEjo6OPHdFsWLFqFixIps2baJGjRpUrFgx22P/HOkmBTMzM+zs7LIjlq/ay5cv1car37x5M3Xr1hV1J8IXd+3aNerXr8/r168B+O233/D09GTRokUsXLiQpKQkhg0bpnZReyspKQlfX19KlSrFkSNH1HrlqlQqdu3a9c0lhdRu3F69epViXVxcHD179sTHx4dWrVpRrlw5bGxsSEpKAmDFihWMHj06y+PNrHSTQs2aNVm4cCENGzZUm7qvdu3aWRrY1ya1WZhu3LihgUi+fkuXLmXjxo0UKlSIefPmpWjp9rVzc3OTEwIkFwG5u7szdepUed2yZcuoV6+e2n43btzAwcGBwMBATE1NGTduXIpjlypVKusCz4RFixbJ9SNfWmRkJEZGRnKCLFSoEDExMRgYGMh9kAAePXpEeHg4ZmZmJCYmMmnSJDkhQHJ9WGBgILq6ulkS5/vMzMyYNGnSZ+2bblK4efMmALdv35bXKRSKHDMgniZ5e3szd+5cQkJC6NevH/369UOpVLJhwwa8vLxo2rQpHTt2BJIfJT/8Er3fo/tb5u/vz7Bhw7h06RKNGjXC3d2dAgUKfNaxfv/9d8aPHw8kX+QuXbpEQEBAjmx/n1UXssuXL6dY98cff6RY9/PPP1OlShUg+YK1bds2AgMDgeQ5nBctWkSlSpXkwQeLFy/Ow4cPs6TDYGYuYpA8I2Toq1fkyYLpbg2Anl264PfwYXKxW8mS6KlUdGrXjkteXsTHx1Mwf348PDzketdAf3/i3kvMkNxc9XVERJZPZxybyelV043u7XR9grro6Gjs7e15+fIlAKdPn8bY2Jhjx47x66+/AslNKN9/RJ8wYQKHDh0iNjaWIUOGUKxYMcaOHUuxYsUYNGjQN1v57OTkxNmzZwHYs2cPSqWSffv2ffL+Xl5eBAQE0LRpU/7++2+118LCwjh//jwtWrT4ojF/CWFhYYSFhmLyhf/u1apU4c6dO/INSNEiRahQvnyKHqyGBgYcP34cgO9r1UpRKRobG4td48bY1qlDUlKSPAm98gvP6RyZgdELPiaPvj6OVlk43lCVD0aLtirL8AbJT1tjf1mr1hDnwcOHdLdrwraTp+R1rWrVonvF8sQlJKCnq4teFj0x7Lr3IFP7p5sUnj59yrRp03j69CmbN29m3LhxLFiwgKJFi2bqxNruzJkzckJ4a8eOHSkuZmvWrKFy5cocOnQIlUqFnp4eGzZswNzcnAYNGsiVUjt37lSb4/VbkZSUJCeEtzw8PPD392f58uWEhoYyYMAAmjRpkur+I0eOZPXq1QBYWlryww8/qL2uo6ODtbV1lsT+JZjkzcvEwYO++HHH9O/HoWPHsDQ3p23z5uQyMKCOTSVWrP2VhIQEOrVti/sff5D4pnjj6ZMntG/dil0H3g3/XL/O90wfMfyLx/ahJet+y/JzZDUdhXqXL4VCQecGDbAuWhSv+/exKlqEVrVqsXDrNv696oWhgQH9W7aga+NGGoo4bekmhRkzZjBw4EBcXFywtLSkXbt2ODs7s3nz5uyIL1OyspwxtYqmgICAFC20oqOjOXnypHzxT0pKYujQoRQsWFBeB+Dp6Um/fv0oWLBglsQLmX9Ezwp6enpUqVJFLqaE5EnP69evz9OnT4HkSvlTp05RoUIFTp06RXh4OFWrVsXW1pY1a9bI+718+ZKIiAjs7e3x8PAgT548zJ8/nxIlSmT7+9K0woUKMcTJSW1d1w4d6PpmsvlV69bJCQEgITGRsiVLMmrwYM5c8MSmfHkmv6kUVSqV/HfxIqCgQZ3vs6VMPKdTqVR43rnD89Aw6lWqSHe7xng9eECSUglA0+rV2HnmDMe9rlEgnynNa9TgyOUrHLl8BYCYuDhW7z/A99ZWlMxhU3emmxTCwsJo0KABLi4uKBQKunbtqhUJAZJjf/UqFP1ceb74sfVzGVGjZm2ueV1BkiTyFyhIhUpVUejoccHzHJB8t1C9Rm1OehxT2/f169egSPnDik9UERkd98VjBUiMj830MT43yUqSxIsXLzA2NiZPnpR/i+rVqxMUFMTLly8pWLAguXLlkhMCJP8AR4wYQXBwMMHBwQD06tULW1vbFD1GL1++jKOjI9bW1uTKlYtnz55l2aB5OTHJpiUuPp7jp0+jo6ND00aNKJpKn4RSJUrQsXVrpjJGXhf7+jWd+vbluk9yvUK1yjbs++svchsaZlvsOdHsTZs5eT25oYj7wUOsGPYjf04Yx/nbtyliaYn/82B+PXwEgNCoKKas/4MGlVNOVnbvaZD2JQVDQ0OeP38u3wFfuXJFq9rW6+fKg1WdDllybKs6HWgfHkpsTCSWBQrjffU/ipWvQ/XGnXgV8oyy5athWbAwryVDzv67R96vTuO21G3chtULfiI+LvliXcO2Kd+37JclcQLcu7g/08cICwsjNDSUvBkYrDAqKoo9u3cTGhqKjo4O9Rs0SNEayNzCAqc+fUhMTERfX5+goKAUx5EkSU4Ib/n7+1OgQAG1ll0VK1UiMSkJw9y5AdTuhr+kKC0aEiIqOpq2PXri6+cHQAUrK/Zt+IvmTRpz7FTyeGMt7exo26wZYeHhbN+/n9jYWDo7OHDu4iU5IQBc9/Zh/5EjdP+G58kODHkhJwSAhKQktp86zdx+fSn+poHE/nOeavtEx8VR0Cyf2jo9XV2qptI/RNPSTQqTJ09m6NChBAQE0KFDByIiIli5cmV2xKYVTPKZY2Rswqp5owh8lDzWv7FJPn6alTwfxNZ1iwl59gSbmg0w0M9FyXIVsbVzQFdXlyk/b+DOjYuYWRSkbIVqmnwbnyyviQn/G/bTJ28/Y/pkuQJTpVLhef48Cxctw8TEBF/fu5QpXRbjVCpao6JiOPx3cvl2iRIlWbh4GR3bt1Zr4le1Wg1mz1nAhr/+ICjoCW3aONCo8af1qYmOjubQof3EREfRtm0HCmVw2kR3t+UZ2l6T9hz6W04IAHfu3ePwseP8sXIlm3fvRkehQ48fOpGkVNK6ew8eBQQA4PbHn/Tt1i3F8cLCI7It9pxIqVKmWJeYpGTnmbOc9famiKUlRfNbcunN3B8ABnp6ODZsSC59Aw56XsA4tyEDWrVMkShygnSTQuXKldm1axePHz9GpVJRqlQprXpSyA53fS7LCQEgOjIcz5OH8PE6z/Onj+X1bbsOokGzjvJyXhMzvm/YKjtDzXaBAf5qy0lJSZw+5YHLz4sICwslT548/Lx0Jc2btyIqKpLz589RrGgxVqx0Y9DgH4kID+f7Orbo6+szbPhoXFctQ5IkLC3zM2LEGPLlM2PU6LEfjcF11XK2btmIkZERo38aT4vmrejetSP37iX/zdzdVrNn7yGKlyiZVR+DRsXEpiw6DIsIp1W37vjcvQvAhh07GNq3j5wQIPkJIzomBmMjI6LftNE3NjKifauW2RN4DlWyUCFqW1tx2fceALo6OliamuC6L/lp/LrfQ0oUyE/jKpU56+1DPmNjRnXqgKmREb2b2tO7qb0mw09XukkhKiqKNWvWcOnSJfT09KhXrx5Dhw4l95vH829B6MtgLp45DBLUadQa8/zvygAlSUKZShFFZHioWkIA8L7yH03b9vikc/p6X+Hxg9uUsrLBqlKNTMWvSS1bt+XcuXeti4oWK872bVsIC0t+eoiNjWX2rGkULVqMvk7dCQ8PB6Bvv4FMnTaL169f4+FxnLx58zJ8xGjat+9IYGAANWvV5vKli/z99wGqVa9Jkyb2xMW9ZtbMqRz++yCFixRl+vTZhIWH4bpqGQAvX75gwrjRRM2YIycEgMjICLZv38qEiV/nUNwd27Rm5a+/Ev6myMs8Xz50dHTkhADgfecOXjduptjX3Cwfh7du4c9t21EoFPTr3o0iOXgy+uyyYEB/jntd43loKI2qVGbZ7j1qr/uHvGBuv75M69UTfV1dtflkcrp0k8LUqVMpWrQoCxcuRJIkdu/ezfTp01PtIv81igwPZfms/xETlfzIfO7EfibM/w1/v7vs37KGyPBQqn7fCMsCRXgZklw5msswN/XsHbh28SSJCfHysSwKFCbw0T2SkhIpWbYiCoWCR/dvsX+LG6Evn1Pt+ya07/EjJ//ezpE97zobte8+lCatu2bvG09FTEwM8fHxGS46sW/alHu+vuQ1MaFu3bps37ZN7fWQ4GDGjx0pJwSAv/78nYSE1/x96JA8pHOJEiXo9MMPKBQKfv/Nnf/++0/e3tbWFpVKJc/Z8dDvAUOH9KeclZXauZRKJXv37UoR4/VrlzP0vqIiI9V6+OdkhQsV4ujOHaz9awOP/P1pZW8v3/m/r0jh76hSsSI333RUzW9hgVOXLhQuVIiF06am2P5blktfn7Z13s1V/525Obcev3sqNtDTw8LEhFxZ0Jkuq6WbFPz9/Vm1apW8PHXqVBwcHLI0qJzk+qWTckIAiI2J4uKZIxw/uIWkxOTOQV6eHjRt1wPjvPmIex1LzXrNsCxYmI69hrN302qSEhOwLFiEqPBXLJ/1PwCKlbJm0E/zWb9iGjHRyRe9/47vwyivKaePql+0Th7ZkSOSwueqWrUqVatWlZetrKy4fv26vFy6dGm1nt5v+Xh7q43x7+/vT2BgIMWLF0/REcvLyytFL+iEhIRUWztVqlSJJ4GBcj8TQ0NDbCpX/rw3pyViX79mx/79RMfEcPLcOerUrIlJ3rxyxzGTvHn5oW1bBvXuzeHjx4mJjaVt8+aY58t5Zd450cBWLbntH0DQq1fo6+oyrL0DeVP57mmDdJNCqVKl8PLyokaN5CKMu3fvUrJkyayO64uIiYkhMT4+Uy1vwp7eTbHu6YPrckJ46763J8WLl8DL6wpn/91F1eo1qFq1Ok5O/YiOiSYyIoKj/7zrbRv4yJfdv8+XE8Jb3hePo1KqF0cpExMy3XooMT6WGEXKCrKMMDIywiBXrgxVNKdm4KDh/LrWjQue56hkU5kRI8fw39kzjB71P3mbylWqUq1aDby9vdX2bdKkOS1btWHTxk1q4/vkzp2bdg4dcXdzfS9eY9zc17NyhQs7tm8lj1EeRo8eR6/efZkwcTqH/z5AdHQ0bdo6UKBAxvqHuLstRz+Lhyv4kn7btEnt6eDi1av8umwZXjduoFAo6NO1K4XfNI38oW1bTYWptYpYWrJ5sjN+Qc8okC8f+YyNNB3SZ0vzW21vb49CoSA+Pp6jR49SunRpdHR0ePjw4TfVGahsOStu3rxO2JsWNGZmZlSpUo07t33UWsIYGxvz39nT8rLnubNYWlpSpEgxchkaEvz8earH19PTJynp3bAB+fMXoFjxEly88K53c/UaOXsSoYwyMDBgxMgxjBj5rj186zbtyGNkxD9HDlGkSDGc+vTjSWAg27ZuJvFNAi5U6DuePQti0cK5tG3Xnj//eNcTduiPI+jZqw9Pnz7lyOFDFClShGnTZ2NqasqMmXOZOm0WOjo6ctPqPHny4Nile/a+cQ1KSqXeyzSvMRWtk4vXCua3zO6QtNqhCxc586alkVOzppjnzYuujg5WRYtoOrRMSzMpfA1jHhkZGaGUdDPdT8Hq+w7cvuGJJEGlarboGxiQp6A1B7a6ExH+ipq2TTHJZ8HtWz5q+yXomKBjWpJ7PlcpWKoahpcuEPc6uSWIrq4eLRz/R83Gz9i9YRVREaFUrGZL1yHO5M5jTE27G/j73aZ0ucqUskrZ6SWj7l3cj5FRzu5w1LixHY3fa1JqapqPHTv3sXv3DvLmzcvVK5dZMH82kNwxcNyESejp6lKtek1q1kwetddl6UpclqZsMp0Te+G+raPJjmEedHPnQVdXF+WbHrcFCxRgyLjxRLwpnpux5Gd69+ypkXqSiKgoramfAdh77hzLd++Vl28+fMjv48aiUql49DyYAvlMtbboCD6SFIoUSZnxpk+fzty5c7M0oJxI38CAqrXVp9SrUOV7KlR5V9F0/861FPu9jonCbeG75pLV6jQhV67cJCYmUN++PYWLl6Fw8TJUql6PpKREDAze/TDKlq9K2fJVUxzzW1PJpjKVbCrj//iRWtGQJEmcP/cff23YqsHotMd3hQrh1Ls3vr6+GOXJQ5JSyanT755sw8PDuevrS9U3o6YKaTvupf5bv/80iMu+vqzYs4/AFy8w0NNjZMf2dPhgaHJtkaFCUR8fn/Q3+kaVq1CdNo4D8Ti8DSRo0roL1y6cVNvG+8p/zHPbRy5D9ea8Ojo6aglBSClXLkMUCoXasBbaPtSCkZERhgYGWTIgXnp+3bhRLSkANPn+ewY79c72WJas+w1dLWqlk99UvfJdX1eXgxcuEvjiBZDcw3n1/oPYV69OXi1sup+hxrMfjjMjqGvm0JMF7geY776fFh2c0PmgyELxXpm2kDGFvvuOLl3f9fEwNDRk8NBhGoxIu3Vq04b8b4bCBihgaUmntm00GJH26N+yBflNTYHkjmuDWrfiRYR6L+/4xEReRmhnz+8MPSnMnz8/Uyfbs2cPe/cml8XFx8dz584dzp07h8mbsXTmzZuHl5eXPJ+sm5ubVs0xoFKpeHDnOsqkRKwq1aSZQ082uS9AkpJHQ23csjMGubT77laT5s1fTLt2HfD3f0zjxnYZHppCeCe/hQUn9uxm+5uh3rt17IilubmGo9IOJQoWYNvUydwOCOA7c3MK5MsHCoVaP4USBQtQMgtHPM5K6SaF0NBQZs+ezYULF1AqldSpU4fZs2djaZnx1go//PCDPN797Nmz6dy5s5wQAG7dusVvv/2GuRZ+OZOSEnFfNJ5H95OL2L4rWoqR01Yybu5a7t/yonCJMpSrUF3DUWq/urb1qGurnWW1OU3B/PkZNXiwpsPQSvp6epgaGfHXv8eIS0jEwbYuw9q348xNH4pYWjCwVUutLRX4pPkUqlevzvz585EkiW3btjF16lTWrl372Sf19vbmwYMHzJw5U16nUqnw9/dnxowZvHz5EkdHRxwdHT/peB92ZHortQ5RWcXn6jk5IQA8e/KIy/8do2HzjhQuljNGQkxISEjzs/rU/RVa1F0/q32Jz1NXSy8cX9qX+CyzU3h0DMNXrSbqTV8Zj+vXWTtmNN3TmAwqu2Xm80w3KQQGBsozWwEMHjyYAwcOfNbJ3lq7di3Dh6vP6BQbG0vv3r3p378/SqWSPn36YGNjQ/ny5dM9Xs2aqbfj37FjB3EJWTM/wYdiY1JOKRgVGcqeTau553OFwsXK4NB9KGYWnzf38JdgYGCQ5mf1KXbs2JFlQ1F/Ci+vK8ydPYOAAH9atGzFjJnzNDoG15f4PL/01JbaKrOf5R9//EF8YmKmp6L8VLfv3pUTAoBSpcLthAfVqlThkb8/xkZGlCxeXCNPC7GJieTS1U3380wraaSbFBQKBc+ePeO7N+W3QUFBmZp4OjIykocPH1K3bl219blz56ZPnz7yj7xu3brcvXv3k5JCTlC5Zn0O7/pdTg4GBoa8Cg7i2sXkFkghzwIJfRXMmBmrP3YYIQ0J8fEM/99gXr1KHppi964dmJtbfrWD2Ak5Q0JiIgnx8RgbG6utT234FJUksXHbNhLfJPoypUvT9hPmBo+IjOTM+fO8evWKEsWK0cA2eVRgTUn36j569Gi6detG1apVkSSJGzduZKqvwuXLl6mXSvvdx48f89NPP7F3715UKhVeXl500qKJPPKamjN65hrOHd+PUpmErV07fl+uPohYgN8dYqIjMDI21VCU2svvoZ+cEN66fOmChqIRchojIyN0lUocrcp+sWPuPHOWPw8fJi4hkeplyzCvfz+5iamqbGle+j/m/K3kwQPLFSlCPoVCTggAfg8fUtPEmFLvzaymUqk4d+s2/iEh2FYoT5nChen/81IePXsGgPft25Qxy8fYzupzjWfErnsPMDT6/GE20k0KdnZ2VKlSBW9vb1QqFbNnz85Ui6BHjx5RtGhRefmPP/6gePHiNG3aFAcHB7p27Yq+vj4dOnSgXLlyn30eTchfsAgde71rJlmwcAnCXr2bFczUzJLceYxT21VIR8mSpTAxMSUy8l0zvypVq3Hv3l3OnjmNlZU1DRo21trKPSFnCQ4LY83+A6jeNMO/9sCPbSdP0cCmEqv27efpy5c0tKnMmhEjUKGicsmSzNq4KcVxEhLVi1t/3rmLvy9eAuC3w0eY2K0Lfm8SwluX7/qiSekmhW7durF9+3aavKlAUalUdOjQgYMHD37WCQcNUu+o079/f/n/gwcPZvBX1BqiY6/hrF85g5BnAeQ1NaP7wAno6OS84Ra0Qe7cuVm+YjUzZ04l6OkT7Js2p3KVKrRv1xKVKrnJ79s5GISUJEnimrc3hoaGVPxgOPEPBT1/TlxcPKVLfjtjnH0oIOSFnBDeevjsGYcvXebVm6FBDl64gEmePAxt14bEpCRa1arFWW8flG++j+WLFWPPf//xIOgZ31tb07FBPY5cuiwfTyVJ/H3hEhYmJvIxAUpruKl1mkmhT58+XLqUnNEqVKgAJH+x9PT0sLfP2TMH5RQFviuG88L1hIeGYGJqga4WjaqpaQkJCZz0OE5MTDRNm7XA1DQfDRs1wePkOZKSktDT08Oxs4OcEAA2b/qLkaN+wsREFM+9LyYmhi6DBnP1RvK8wm2bN+O35ctTnfhl/MxZbNq1C0mSaFK/Hn+6ump9z/HPYVOyBCZ58hD53qx1VkWLcu5NcdFbXg/us//8edYeOkxMfDzVypTBqmgRvjM3598rVzly+QoA958+JTI25RwWKGBKj+4s3LqNl5GRlCtShOEdNDs1QZpXqQ0bNgDJHcqmTZuWbQF9bRQKBWYW2tmJRVOSkpJw6tWVa9eSW0fkz1+AXbsPYpzXmE0b/0xufdSiNSql+lDgkiSpJQkh2ZY9e+WEAPD3seOc/O8cjwICWLN+PQAjBg6gfLlybNy5U97u1LnzbNu7l/49Pm22wK9J7ly5cBk6mN+P/MOryCia16xBp/r12HnmLNHvtToqlj8/y3fvfa+Y6QG1rcphX60qK/bsVTvmlXv3aVW7FoffPC3oKBR0b9KE2tZW7Jg+lajYWMxyQGfddG9d308I3+qAeMI7UZGRWT5p/aOHD+WEAPDiRQgTJ4wiMDCQoKAgILn1UZWq6gMGVqhQga1b/szS2N6KiozUmk6Wz0OCU6z77+JF3P54N7vflPkLGDFwYIrt3p+z+VtTvscL5GAAABxnSURBVFgxfh6iXpw9vVdPlu7azYuICL63tqZuhQr8e9VLbZv7QUEY586NmbExYdHR8vriBfIzsWsXbCtWxD84GNuKFSj3ZuBRPV3dHJEQQAyIlyM8f/KYv3f+RujL51T9vjHNHHrmyLoHMzOzbDlPamNsxcTEyAnhrbDQUHr37s3Dhw+xtLTE2to62yqazc3Ns+3zyKwOrVvzy18b5DkVjI2MUOik/jnlNjTkdVxy3x6FQkHbZs2yLU5tYFuxAjunTyUhKYlc+vpExsSS28CA1+91nrMuWpS9587TolYN/r54iejXcRS2sGB4ewd0dHRoXKUykHNn+stQUhAD4n15yqQkfl06ifDQ5BEWnz15hIFBrhw5/eakSZOy5TyvX7+mcuXK+Pn5AcnNDdesWYOdnZ1a8VCtWrW+ink/vqSQFy9Y9ssvPHj0mFb29gzs1ZMqFSuy47d1/LltO7kNczG0b19evnrFmt/Xq+3byNaWVk3tcV33G6/j4ujfozt1MtGh7GulUCjkuZdNjPKwcOAA1h0+Qlh0NN9bW/Pnv8eIe5MkqpUpzfgujhS1tEy1DicnylBSmDdvXlbFodWeBvhx7YIHeU3NqdOoFYa5P95GWJIknj15hJGxCZHhr+SE8Nat6xdyZFLILrlz5+bChQusX7+eqKgonJycsLKyYty4cfz8888AmJqairquVPQeNpwbt24BcPbCBeLi4+jt6Mi+w0e4//AhdWpUp1jhwlSytmbiiOG4/fEnAMMH9KdxPVuu3LjBdwULkM/UlFpviuc27NjBz6vXEBcfz4CePZg0alSObPobm409mt9KSkri4ePHFC1blkYlS3Lyv//khABw3e8h+33v81145EeO8mXFJiaSmaYB6SaFmzdvcvXqVXr16sWyZcu4ffs2S5YsoVGjRpk47dfj8YNbrFkwFuWbeZWvnPuXn2a5y3cFNy6fxtfnKkWKl6FO4zbExcaw1sWZp/4P0NHRoWHzH9DTN1Cb87lg4W+rKaBSqWTOnDls27aNYsWKsXjxYmrWrMnEiRPVtluyZAkhISGEh4fz559/kk9MKq/mcUCAnBDeOvDPUa7euMnh48cBuHPvHqHhEaycP4+Qly8xMTamXJnStGvRgsvXrtGxbz+5mGnP34dZt2wpE2bNlo+3Yu2vVLIuT/tWLbPvjX0CTRTlJSQksH3jRl69eiXHkFo9k37u3Bi+N/BnVjMkc59Huklh3rx5jBo1iqNHj2JoaPj/9u40KqrzjAP4fwSHbWQVENGAuJyWGCNoVMSKgHGJaxuXSl0SMFWPFiNqorghDlE8lRoSjEvU2KFxiQZjo8SkWElQUERjFEUQU2VRGBUCA2QY5OkH6q0jIsLA3Bl4fuf44d6ZufO/r5f7zN3eFwkJCVi0aJHRFAWNulLnQe+f51TSt0JBAICC2zfx/Vfb0bWrKy7/eBGpZ1OE135KOwkrKxkKbtf9mqmtrUXyycMYNMgHly5dgEajgZOzM3q95NTimTXqSkBmmLcWxsbGIjIyEgCQnZ2NsWPH4s6dOzB/xq2Qzs7OcHZ2bjMFoay8vMWG41Sr1TA1NdUaj7lSrUZiUpLW+0589x3yi4pw8VLdCGKFRUWYOHsOXF1dtT57Jz8f70d9UO97PlEokJWX1yKZgbo2sNPxor2+Tm0+ac+ePUJBAICSkhL07t0bt2/fFtrRx8cH8fHxBnlk1ZBGi0JtbS2GDRuGpUuXYtSoUXBxcRHGeTV0+vj1YGFef8Q0m06WsJaZI+u69q+2mznZ6NWr/mP4bm7d4Os7BFVVVVpdibcombnBXhhNTEzUmlYqlcjIyICvr+8Lff7LL7/E2bNn4evra1Rdo7T0/4dlx47w9/dHUlISamtr0alTJwz380NJaSnu3/9/FyH2Dg6489ROvaSkBN27d6+3zK6urvjxidtZAaBb9+4tOlKanRFdtH9S5RPPMDxmaWmJt956C+7u7nB2dkZQUJBRFQQAADVi5syZtHv3bho6dCiVlpbSvn37KCgoqLGP6c2FCxdE/f5r166Rra0tASAANGrUKLp58yYREQ0cOFCYD4CsrKwoPj5ea56TkxNVVFSIug5iCwsL02oTqVRKUVFR1LlzZ7K2tqa1a9cSEVFmZib17NmTHBwcaNWqVaTRaGj16tVan123bp24K2MAioqKKC0tjaqrq4mIKCUlhVxcXAgAde3alVJTUykoKEir3RwdHenmzZvUrVs3Yd6kSZOIiGjHjh3k4uJCNjY2tGrVKjFXzaAUFxeTk5OT0F4ODg40Z84cCgsLEzvaC2lo39loUbh37x599NFHlJGRQUREmzdvprt377ZsOh2IXRSI6jaOTz/9lEJDQ8nS0pIA0Kuvvkr79u0jqVQqbDSbN28mIqJ9+/ZRQEAAzZgxgzIzM0VOL74HDx5QQEAAASBbW1tas2aN1g4LACUkJJCbm5vWPLlcTtbW1lrz7OzsxF4dg1RdXU3Z2dmk0WiIiCg/P5+GDh1KAEgmk1FiYiIREVVUVNCXX35JycnJYsY1Gnl5ebR+/XoKCwsjLy8vAkDm5uZ04MABsaM1qqF9p4To+feZpqena01LJBKYmZnBzc2t9U51NEFGRoZO/bC3lJKSEri6uqLqiacdQ0JCEBERgfnz58PJyQl79ux5zhLahy+++AIXLlx45muVlZWQSqW4fPkykp46D963b996z8l07doVpaWlWofxVlZW9cbqeJaBAwdi6tSpzViDtmPv3r0ICwuDRCJBTEwM3nrrLbEjGa25c+di9+7dwrRMJkNhYaFBDyfc0L6z0WsKcXFxuHr1Knx8fEBEOH/+PFxdXaFSqbB48WKMHz++VQIbmzt37mgVBADIysqCTCaDhYXFMy+aMm2P+6jv2rVrvdd69OiBGzduaHVN3LlzZ7z88sv47rvvhHkveh2ivUtLS0NwcLAw/fbbb8PT0xODBg0SMZXxevoHi0qlwu3bt9G3b1+REumgsUOM2bNnU0FBgTB97949Cg4OpvLycpo8eXILHcg0nyGcPiIiqqmpIQ8PD61TGfPmzSOZTEYASCKR0I4dO8SOaTTi4uLIxcWF7O3tacOGDUREFB8fL1y/GTRoEBUWFhIR0cWLFykuLo4uXbokZmSjsmHDhnqn6KKiosSOZbQiIiK02tLd3Z1qamrEjvVczb6mMGbMmHrzxo8fT0QkXIgSk6EUBSKiGzdu0JQpU8jLy4vkcjn5+PhobSi2trakVqvFjmnUqqqqKC8vT+wYRu/48eP1isKJEyfEjmW0qquracWKFWRvb08eHh5Gca2woX1no6ePvLy8sHTpUkyYUNdN8fHjx+Hl5YXTp08/c0i69qxPnz744oleJp++hvDLL7+gqqoKUqlU39HaDHNzc61BmljzvPHGG1i+fDliYmIgkUgQFhaGsWPHih3LaHXs2BEbN24UumHx9PQUOVHzNVoUHj9pevDgQZiYmMDHxwfTp0/HmTNnsHnzZn1kNFqzZ89GRESEMD1x4kTY2HBf/8wwbN68GTU1NZBIJIiOjhY7DjMQjRaF4uJiBAQEaA2sU1xcDD8/v1YN1hasXbsWXbp0QUxMDJycnPCPf/xD7EiMCfbs2YN9+/YBqLu768lREFn71WhRmDlzpvBEnkajwf379/Hb3/4WR44cafVwxk4ikWDevHm4desWgLrbJRkzBKmpqQh5YvyE4OBgeHp6YvDgwSKmYoag0aJw6tQpremffvqJf/EyZuSefg7k8TwuCqzJHXz369cPmU/1xMgYMy7e3t715nl5eYmQhBmaRo8UPv74Y63pnJwcODg4NPsLJ0+eLDzl161bN2zcuFF47dChQzhw4ABMTU2xYMEC+Pv7N/t7GGMNe+ONN/Dee+8hJiYGALB06VK++4gBaOIgOwAwaNAgjBs3rllfplarAeCZo2UplUooFAocOXIEarUaQUFB8PX15ds3GWsl0dHRQhfPmzZtEjmN8SorK0OnTp2MrzfUBjRaFAoKCrR+zesiKysLVVVVCA4ORk1NDcLCwtC/f38AddcqvLy8IJVKIZVK8dJLLyErKwv9+vVrdLkZGRmNvkdM1f8bicnQc7L25/F99bxtNl1BQQFWrlyJa9euoXv37li/fn2b+FtvtChkZ2ejoqKiRe6cMTc3R0hICKZOnYr//Oc/eOedd/DNN9/A1NQUKpVKq/MoKysrqFSqF1quIXSI9zyHDh0CYPg5WfvD22bzrV27FteuXQMA5OXlQS6X480334REIjGK9myocDVaFDp06AB/f3/06NEDZmb/H1Dm73//e5ND9OjRA25ubpBIJOjRowdsbW2hVCrh4uICmUyGiooK4b0VFRUG3cPgi1Cr1ZDL5VAoFHB0dMTSpUvh5OQkdizGWAu49L+R6x67desWqqurtfaTxqjRorB8+fIW+7LDhw8jOzsbERERKCoqgkqlgqOjI4C6u5q2bt0KtVqN6upq5Obmok+fPi323WJYsWIFtm7dCgC4e/cupk2bhtOnT4sbijHWIgIDAxEfHy9MDxgwACYmJqDnj0Zg8BotCra2trh16xbMzc3Rs2fPZw7Z96KmTJmClStXYsaMGZBIJPjggw+gUCjw0ksvITAwELNmzUJQUBCICEuWLDGIivu8/v8b83TfR8nJyQgNDYWFhUWTl8X9/zNmWGJjYwEA//rXv9C3b1/U1NQgJiYG1tbWCAgIwJgxY0RO2DwNFoUHDx4gNDQUOTk5wimfn3/+Gf3790dMTEyzTu1IpVJs2bJFa96T90tPmzYN06ZNa/JyDZWdnR3KysqEaSsrK4ModIwx3dnZ2Ql3Ui5atAhxcXEA6u5GmjFjBgoKCoyy09AGi8KWLVswYMAAfPbZZ+j4v0G6q6ur8dFHHyEqKqrd3MI2derUZv9C/9Of/oTx48cjLy8P1tbW+Oyzz4xqYHnG2It5eoTK0tJS5Obm4pVXXhEpUfM1WBQuXbqExMRErXlSqRRhYWGYNGlSqwdrC/r164dbt24hKysLPXr04L6PGGuj/P39cf78eWHaxcUFv/nNb0RM1HwNFoWGTnNIJBJ06NDk3jHaLVNTU+Mcko8x9sLWrVuHhw8fIj4+HnZ2dkhISBDOsBibBovC857OaytP7jHGWEuwsLDAzp07YWdnBwBGPdZ1g0UhJycHgYGB9eYTEZRKZauGYowxJo4Gi8LJkyf1mYMxxpgBaLAouLq66jMHY4wxA8BXjBljjAm4KDDGGBNwUWCMMSbgosAYY0zQ5JHXGGOMAVVVVdi/fz8KCwsxZcoUo32C+WlcFBhjrBlGjx6NH374AQAgl8vbTLf4fPqIMcaa6Pz580JBAOoG1Pr4449FTNRyuCgwxlgTPav/NxMTExGStDwuCowx1kQDBw7E66+/LkxbWlrC0dERn3/+ORITE5GXlydiOt3wNQXGGGuG48ePIyEhAYWFhbh//z6ioqIAAPn5+Rg7diyuXLlilJ2HclFgjDHoNvTuk2M1A0BmZibmzp2Lzp07N3lZYg+9y6ePGGNMR7a2tlrTpqamkMlkIqXRDR8pMMYYdBt6989//jNGjx6N3NxcmJmZYcuWLVi4cGELJ9QPLgrMqGRlZQFAm3lQiLUNPXv2xI0bN/DVV1/BxcUFPj4+YkdqNr0WBY1Gg/DwcBQUFKC6uhoLFizQGshn7969OHz4MOzt7QEA69evh4eHhz4jtgrekTXfmTNnUFlZCX9/f5iamuLYsWMAuC2Z4TExMcHNmzdx8+ZNoy4Ker2mcOzYMdja2uLzzz/Hrl27sGHDBq3XMzMzER0dDYVCAYVCYVQFQa1WY/HixXBzc0NgYCB++ukn4bUDBw7gwIEDIqYzPo8ePcKYMWMwbNgwjBo1Cv3798e5c+eQnZ2N7OxsodCylvX9999j3bp1OHbsGIhI7DgGKzc3F8OGDYOJiQmGDRuG3NxcZGVltYntU0J6/J+vqKgAEUEmk6GkpARTpkxBUlKS8PrYsWPRu3dvKJVKjBgxAvPmzWt0mRkZGa0Z+YXFxcVh7969wnSXLl3w1Vdf4d69e9i/fz8sLCwwefJkHrzoBaWkpODdd9/Vmjdy5Ei4ubkBALp27YpJkyaJEa1N2b17NwAgJCQER44cwcaNG4XXZs2ahcWLF4sVzaC98847uHTpkjDt5eWF8ePHo7CwEIDxbJ8DBgyoN0+vp4+srKwAACqVCqGhofX+6MeNG4egoCDIZDIsWrQI//73v+Hv79/ocp+1Yvp29epVrel79+5BqVRi7ty5UCqVsLCwgEajgUKhECmhcbly5Uq9eRqNBg8ePEB5eTm6d+9uEP/vYmrKLZQajQb5+fmwtraGg4ODML+qqgoAcOjQIezcuVPrM/v374ejoyNMTRvfTYh9G6W+Pb19XrlyBX/84x+FaZlMZvDbZ0M/qPV+ofnu3btYuHAhgoKCMGHCBGE+EWHOnDno1KkTAMDPzw/Xrl17oaJgCPr374/09HRh2sbGBrGxsVAqlQDq/vgSEhLw6NGjNvM4fGuaOHEiHBwc8ODBAwCAVCqFVCrF0aNHAQBpaWmYMGECvL29xYxpFB4+fIgDBw5ApVIBAF577TX4+/sjKSkJP/74I4C67ffprhskEolRPnylD76+vkhOThamhwwZguPHjyMlJQXW1tYIDw8XMZ2OSI+USiWNGTOGzp49W++1srIyGj58OKlUKqqtraW//OUvdPr06UaXeeHChdaI2mRFRUXk5+dHAMjZ2ZmOHj1K3bt3JwBa/+7fvy92VKORk5NDoaGhFBISQidOnCCJRKLVln/4wx/EjmgU3n77ba12k0gktHfv3nrbZlhYmFYbr169WuzoBuvnn38mf39/MjMzI39//3ptbGlpSVVVVWLHfK6G9p16PVLYvn07ysrKsG3bNmzbtg1A3b3BVVVVmD59OpYsWYLZs2dDKpXCx8cHfn5++oynEycnJ5w+fRolJSXo1KkTTE1NkZiYiB07dgjv6devn9ahO3u+Xr164cMPPwRQdwcXPXX56/FRBHu+4uJirWkiQlpaWr33OTg4ID09HadOnYK3t7fWnYFMm7u7O06dOiVMDx48WOv1yspK5OTk4JVXXtF3NN3ptTS1AkM5UngWlUpFixYtIgcHB/L09KQ7d+6IHcmoeXt7a/0aUygUYkcyCgcPHtRqN09PT/rhhx/qHSmkpqaKHdVoLVmyRKst7e3t6ddffxU71nM1tO/koqAH169fp+vXr4sdw+iVlpbS6NGjacCAAfTPf/5T7DhGJSEhgaZPn07Lly+ne/fuERHRzp07ycbGhmxsbGjXrl0iJzRuZWVlNGPGDDI1NaUuXbpQcnKy2JEa1dC+U6+3pLaGjIwMg7/Kz1oOPwjYsh535DZz5kyRk7QNxrR9NrTv5G4umFExhj82Y2LM/f4borawfXJRYKydWrBgAT799FMAdcXh8c0frH3jrrMZa4e++eYbbN++HTU1NaipqcEnn3yCb7/9VuxYzABwUWCsHXrWk9DNHWCGtS1cFBhrh0aMGPFC81j7w0WBsXZo2LBh+OSTT2Bvbw97e3ts374dQ4cOFTsWMwB8oZmxdmr+/PnC0UFbuGuGtQwuCoy1Y1wM2NP49BFjjDEBFwXGGGMCLgqMMcYEXBQYY4wJuCgwxhgTcFFgjDEm4KLAGGNMwEWBMcaYoE08vJaRkSF2BMYYaxOMfuQ1xhhjLYdPHzHGGBNwUWCMMSbgosAYY0zARYExxpiAiwJjjDEBFwXGGGOCNvGcglg0Gg3Cw8NRUFCA6upqLFiwAL169cKKFSsgkUjQu3dvrFu3Dh061NXe27dvY+HChfj6668BAEqlEsuWLYNGo4GjoyM2bdoECwsLMVdJNLq25WPp6elYtmwZkpOTxVgNg6Fre5aWlmL06NHo06cPAGDkyJGYM2eOaOsjNl3bs7KyEhEREcjPz4dGo8GaNWvQr18/MVepYcSa7fDhwySXy4mI6OHDh+Tn50fz5s2jtLQ0IiJas2YNffvtt0RElJCQQL///e9p6NChwuflcjklJCQQEVFsbCzt3btXvytgQHRtSyKiwsJCmj9/fr357ZGu7XnmzBmKjIzUf3ADpWt7xsbG0s6dO4mI6Pr168LfvSHi00c6GDNmDBYvXixMm5iYIDMzE4MGDQIADB8+HGfPngUA2NjYID4+Xuvz4eHhmDhxImpra3H37l04ODjoL7yB0bUt1Wo11q1bh4iICL1lNmS6tufVq1eRmZmJmTNnIjQ0FMXFxfoLb4B0bc+UlBR07NgRISEh2LZtG373u9/pL3wTcVHQgZWVFWQyGVQqFUJDQ/Huu++CiCCRSITXy8vLAQD+/v6wtLTU+rxEIsGjR48wfvx4nDt3Dt7e3npfB0Oha1tGRkYiODgYzs7Oes9uiHRtTw8PD4SGhiI+Ph4jR46EXC7X+zoYEl3bs6SkBGVlZdi9ezcCAgIQHR2t93V4UVwUdHT37l3Mnj0bkyZNwoQJE4RzigBQUVEBa2vr536+Y8eOOHHiBDZs2ID333+/teMatOa2ZVFRES5cuIC4uDjMmjULv/zyC5YsWaKv2AZLl21zyJAhGDx4MADg9ddfx7Vr11o9r6HTpT1tbW0REBAAoK5oXL16tdXzNhcXBR3cv38fwcHBWL58OaZMmQIA8PT0xLlz5wAA33//PQYOHNjg5yMiIpCWlgag7pfG418d7ZEubens7IyTJ09CoVBAoVDAxsYGf/vb3/SW3RDpum2uXr0aJ0+eBACkpqbi5Zdfbv3QBkzX9hwwYIBw80N6ejp69erV+qGbiTvE04FcLkdiYiI8PDyEeatWrYJcLodGo4GHhwfkcjlMTEyE1319fXHmzBkAQG5urnAOvEOHDli7di169uyp13UwFLq25ZMamt+e6NqeeXl5CA8PBwBYWFhALpfDyclJvythQHRtz9LSUqxevRpKpRKmpqaIjo5Gt27d9L4eL4KLAmOMMQGfPmKMMSbgosAYY0zARYExxpiAiwJjjDEBFwXGGGMCLgqMNUFkZCRCQ0O15qWkpCAwMBAqlUqkVIy1HC4KjDXB0qVLcfXqVSQlJQH4f++XH3zwAWQymcjpGNMdP6fAWBOdPXsW4eHhOHHiBGJjY1FbW4vw8HBcvnwZGzduhFqthr29PSIjI+Hq6orU1FR8+OGHUKvVKC8vR3h4OAICArBs2TKoVCrcvn0bK1asgJ+fn9irxhgXBcaaY/Xq1SgvL8etW7fwxRdfoEOHDnjzzTexa9cudOnSBadPn4ZCocDu3buxcOFCLF++HO7u7khJScFf//pXHD16FMuWLYOZmRmioqLEXh3GBDzIDmPNsGLFCowYMQJxcXEwNzfH9evXkZ+fj3nz5gEAiAhqtRoAEBMTg1OnTuHrr7/G5cuXUVlZKSzn1VdfFSU/Yw3hosBYM8hkMlhbW8PV1RUA8OjRI7i7uyMhIUGYfvDgAYgIM2bMwNChQ/Haa69hyJAhWLlypbAcMzMzUfIz1hC+0MxYC+jVqxeUSiUuXrwIADh48CDee+89PHz4EPn5+QgNDcXw4cORlJSER48eiZyWsYbxkQJjLcDc3Bxbt25FVFQUqqurYW1tjU2bNsHBwQETJ07EuHHjYGJiAh8fH1RUVODXX38VOzJjz8QXmhljjAn49BFjjDEBFwXGGGMCLgqMMcYEXBQYY4wJuCgwxhgTcFFgjDEm4KLAGGNM8F803tEchxVGyQAAAABJRU5ErkJggg==\n",
          "text/plain": "<Figure size 432x288 with 1 Axes>"
         },
         "metadata": {},
         "output_type": "display_data"
        },
        {
         "data": {
          "application/vnd.jupyter.widget-view+json": {
           "model_id": "464d7f97a293445d80900f51f7bad550",
           "version_major": 2,
           "version_minor": 0
          },
          "text/plain": "interactive(children=(Dropdown(description='drug_name', options=('all', 'ARIPIPRAZOLE', 'ARIPIPRAZOLE LAUROXIL…"
         },
         "metadata": {},
         "output_type": "display_data"
        },
        {
         "data": {
          "application/vnd.jupyter.widget-view+json": {
           "model_id": "ccaabcd5d57f44b5af23ea0738de99c0",
           "version_major": 2,
           "version_minor": 0
          },
          "text/plain": "interactive(children=(FloatSlider(value=9.570684721512519, description='threshold', max=19.141369443025038), O…"
         },
         "metadata": {},
         "output_type": "display_data"
        }
       ]
      }
     },
     "ed8cd63dd90d4fb4a588351ee29cc4ed": {
      "model_module": "@jupyter-widgets/controls",
      "model_module_version": "1.2.0",
      "model_name": "FloatSliderModel",
      "state": {
       "description": "threshold",
       "layout": "IPY_MODEL_4e0aa5e6d1c344378c565741b5547c8c",
       "max": 6.913043478260869,
       "step": 0.1,
       "style": "IPY_MODEL_8383543cf34945678dbb71b953a99f3d",
       "value": 4.5
      }
     },
     "eed22f7d72ab4a2faac127619308ed20": {
      "model_module": "@jupyter-widgets/base",
      "model_module_version": "1.0.0",
      "model_name": "LayoutModel",
      "state": {}
     },
     "ef123676e394444d9b298d7d47c6a1e8": {
      "model_module": "@jupyter-widgets/base",
      "model_module_version": "1.0.0",
      "model_name": "LayoutModel",
      "state": {}
     },
     "f15de3079d544dad97bb2be828e9c5af": {
      "model_module": "@jupyter-widgets/controls",
      "model_module_version": "1.2.0",
      "model_name": "FloatSliderModel",
      "state": {
       "description": "threshold",
       "layout": "IPY_MODEL_2bf5fd959c0240038df5d603cfd2f8eb",
       "max": 19.141369443025038,
       "step": 0.1,
       "style": "IPY_MODEL_b8f4c5a7e60041ea9f227c2b8a849335",
       "value": 11
      }
     },
     "f2a8c379985f44cbbe29d22c11836dde": {
      "model_module": "@jupyter-widgets/controls",
      "model_module_version": "1.2.0",
      "model_name": "DropdownModel",
      "state": {
       "_options_labels": [
        "all",
        "ACETAMINOPHEN WITH CODEINE",
        "ACETAMINOPHEN/CAFF/DIHYDROCOD",
        "ASPIRIN/CAFFEIN/DIHYDROCODEINE",
        "BUPRENORPHINE",
        "BUPRENORPHINE HCL",
        "BUTALBIT/ACETAMIN/CAFF/CODEINE",
        "BUTORPHANOL TARTRATE",
        "CARISOPRODOL/ASPIRIN/CODEINE",
        "CODEINE SULFATE",
        "CODEINE/BUTALBITAL/ASA/CAFFEIN",
        "FENTANYL",
        "FENTANYL CITRATE",
        "HYDROCODONE BITARTRATE",
        "HYDROCODONE/ACETAMINOPHEN",
        "HYDROCODONE/IBUPROFEN",
        "HYDROMORPHONE HCL",
        "IBUPROFEN/OXYCODONE HCL",
        "LEVORPHANOL TARTRATE",
        "MEPERIDINE HCL",
        "METHADONE HCL",
        "MORPHINE SULFATE",
        "MORPHINE SULFATE/NALTREXONE",
        "OPIUM TINCTURE",
        "OPIUM/BELLADONNA ALKALOIDS",
        "OXYCODONE HCL",
        "OXYCODONE HCL/ACETAMINOPHEN",
        "OXYCODONE HCL/ASPIRIN",
        "OXYCODONE MYRISTATE",
        "OXYMORPHONE HCL",
        "PENTAZOCINE HCL/NALOXONE HCL",
        "TAPENTADOL HCL",
        "TRAMADOL HCL",
        "TRAMADOL HCL/ACETAMINOPHEN"
       ],
       "description": "drug_name",
       "index": 2,
       "layout": "IPY_MODEL_4f1dd8a48a884677b8a0459e24b591c2",
       "style": "IPY_MODEL_4e113daaf10d4de19f44afc85dc6df6b"
      }
     },
     "f36561ff34d343649c4b343beb0798ce": {
      "model_module": "@jupyter-widgets/base",
      "model_module_version": "1.0.0",
      "model_name": "LayoutModel",
      "state": {}
     },
     "f5c5d162a74b43ca923b94cf28be646f": {
      "model_module": "@jupyter-widgets/controls",
      "model_module_version": "1.2.0",
      "model_name": "DropdownModel",
      "state": {
       "_options_labels": [
        "all",
        "ARIPIPRAZOLE",
        "ARIPIPRAZOLE LAUROXIL",
        "ASENAPINE MALEATE",
        "BREXPIPRAZOLE",
        "CARIPRAZINE HCL",
        "CHLORPROMAZINE HCL",
        "CLOZAPINE",
        "FLUPHENAZINE DECANOATE",
        "FLUPHENAZINE HCL",
        "HALOPERIDOL",
        "HALOPERIDOL DECANOATE",
        "HALOPERIDOL LACTATE",
        "ILOPERIDONE",
        "LOXAPINE SUCCINATE",
        "LURASIDONE HCL",
        "MOLINDONE HCL",
        "OLANZAPINE",
        "OLANZAPINE PAMOATE",
        "OLANZAPINE/FLUOXETINE HCL",
        "PALIPERIDONE",
        "PALIPERIDONE PALMITATE",
        "PERPHENAZINE",
        "PERPHENAZINE/AMITRIPTYLINE HCL",
        "PIMAVANSERIN TARTRATE",
        "PIMOZIDE",
        "QUETIAPINE FUMARATE",
        "RISPERIDONE",
        "RISPERIDONE MICROSPHERES",
        "THIORIDAZINE HCL",
        "THIOTHIXENE",
        "TRIFLUOPERAZINE HCL",
        "ZIPRASIDONE HCL",
        "ZIPRASIDONE MESYLATE"
       ],
       "description": "drug_name",
       "index": 0,
       "layout": "IPY_MODEL_dfd06f570c464415aa55f152dc761dc0",
       "style": "IPY_MODEL_eb95d9f496274cf490735bf5ed88d041"
      }
     },
     "f5ef194890ac4ea0845c08012cdbcf64": {
      "model_module": "@jupyter-widgets/base",
      "model_module_version": "1.0.0",
      "model_name": "LayoutModel",
      "state": {}
     },
     "f67f6bf772e04cadad6fe1100878a3db": {
      "model_module": "@jupyter-widgets/controls",
      "model_module_version": "1.2.0",
      "model_name": "DropdownModel",
      "state": {
       "_options_labels": [
        "all",
        "AMIKACIN SULFATE",
        "AMOXICILLIN",
        "AMOXICILLIN/POTASSIUM CLAV",
        "AMPICILLIN SODIUM",
        "AMPICILLIN SODIUM/SULBACTAM NA",
        "AMPICILLIN TRIHYDRATE",
        "AZITHROMYCIN",
        "AZTREONAM",
        "AZTREONAM/DEXTROSE-WATER",
        "CEFACLOR",
        "CEFADROXIL",
        "CEFAZOLIN SODIUM",
        "CEFAZOLIN SODIUM/DEXTROSE,ISO",
        "CEFDINIR",
        "CEFEPIME HCL",
        "CEFEPIME HCL IN DEXTROSE 5 %",
        "CEFEPIME IN ISO-OSM DEXTROSE",
        "CEFIXIME",
        "CEFOTAXIME SODIUM",
        "CEFOTETAN DISOD/ISOSM DEXTROSE",
        "CEFOTETAN DISODIUM",
        "CEFOXITIN SODIUM",
        "CEFOXITIN SODIUM/DEXTROSE,ISO",
        "CEFPODOXIME PROXETIL",
        "CEFPROZIL",
        "CEFTAROLINE FOSAMIL ACETATE",
        "CEFTAZIDIME",
        "CEFTAZIDIME IN DEXTROSE5%WATER",
        "CEFTAZIDIME IN IS-OSM DEXTROSE",
        "CEFTAZIDIME/AVIBACTAM",
        "CEFTIBUTEN",
        "CEFTOLOZANE/TAZOBACTAM",
        "CEFTRIAXONE IN IS-OSM DEXTROSE",
        "CEFTRIAXONE SODIUM",
        "CEFUROXIME AXETIL",
        "CEFUROXIME SODIUM",
        "CEPHALEXIN",
        "CIPROFLOXACIN",
        "CIPROFLOXACIN HCL",
        "CIPROFLOXACIN LACTATE",
        "CIPROFLOXACIN LACTATE/D5W",
        "CIPROFLOXACIN/CIPROFLOXA HCL",
        "CLARITHROMYCIN",
        "CLINDAMYCIN HCL",
        "CLINDAMYCIN PALMITATE HCL",
        "CLINDAMYCIN PHOSPHATE",
        "CLINDAMYCIN PHOSPHATE/D5W",
        "DALBAVANCIN HCL",
        "DAPTOMYCIN",
        "DEMECLOCYCLINE HCL",
        "DICLOXACILLIN SODIUM",
        "DORIPENEM",
        "DOXYCYCLINE CALCIUM",
        "DOXYCYCLINE HYCLATE",
        "DOXYCYCLINE MONOHYDRATE",
        "ERTAPENEM SODIUM",
        "ERYTHROMYCIN BASE",
        "ERYTHROMYCIN ETHYLSUCCINATE",
        "ERYTHROMYCIN LACTOBIONATE",
        "ERYTHROMYCIN STEARATE",
        "FIDAXOMICIN",
        "FOSFOMYCIN TROMETHAMINE",
        "GENTAMICIN IN NACL, ISO-OSM",
        "GENTAMICIN SULFATE",
        "GENTAMICIN SULFATE/PF",
        "IMIPENEM/CILASTATIN SODIUM",
        "LEVOFLOXACIN",
        "LEVOFLOXACIN/D5W",
        "LINCOMYCIN HCL",
        "LINEZOLID",
        "LINEZOLID-0.9% SODIUM CHLORIDE",
        "MEROPENEM",
        "MEROPENEM-0.9% SODIUM CHLORIDE",
        "METRONIDAZOLE",
        "METRONIDAZOLE/SODIUM CHLORIDE",
        "MINOCYCLINE HCL",
        "MOXIFLOXACIN HCL",
        "MOXIFLOXACIN IN NACL (ISO-OSM)",
        "MOXIFLOXACIN/SOD.ACE,SUL/WATER",
        "NAFCILLIN IN DEXTROSE,ISO-OSM",
        "NAFCILLIN SODIUM",
        "NEOMYCIN SULFATE",
        "NITROFURANTOIN",
        "NITROFURANTOIN MACROCRYSTAL",
        "NITROFURANTOIN MONOHYD/M-CRYST",
        "OFLOXACIN",
        "ORITAVANCIN DIPHOSPHATE",
        "OXACILLIN IN DEXTROSE(ISO-OSM)",
        "OXACILLIN SODIUM",
        "PEN G BENZ/PEN G PROCAINE",
        "PEN G POT/DEXTROSE-WATER",
        "PENICILLIN G BENZATHINE",
        "PENICILLIN G POTASSIUM",
        "PENICILLIN G PROCAINE",
        "PENICILLIN G SODIUM",
        "PENICILLIN V POTASSIUM",
        "PIPERACILLIN SODIUM/TAZOBACTAM",
        "PIPERACILLIN-TAZO-DEXTROSE,ISO",
        "QUINUPRISTIN/DALFOPRISTIN",
        "RIFAXIMIN",
        "STREPTOMYCIN SULFATE",
        "SULFADIAZINE",
        "SULFAMETHOXAZOLE/TRIMETHOPRIM",
        "TEDIZOLID PHOSPHATE",
        "TETRACYCLINE HCL",
        "TIGECYCLINE",
        "TOBRAMYCIN SULFATE",
        "TRIMETHOPRIM",
        "VANCOMYCIN HCL",
        "VANCOMYCIN HCL IN DEXTROSE 5 %",
        "VANCOMYCIN/0.9 % SOD CHLORIDE"
       ],
       "description": "drug_name",
       "index": 0,
       "layout": "IPY_MODEL_2391ca43943f4172be570116d28cf930",
       "style": "IPY_MODEL_83aa011b080f4f82a2a4f328aa7bfa83"
      }
     },
     "f7a0378b1c42413ca7a77aab24ee5e7c": {
      "model_module": "@jupyter-widgets/base",
      "model_module_version": "1.0.0",
      "model_name": "LayoutModel",
      "state": {}
     },
     "f8ae1bce328d454193c7d714cf6264d1": {
      "model_module": "@jupyter-widgets/controls",
      "model_module_version": "1.2.0",
      "model_name": "VBoxModel",
      "state": {
       "_dom_classes": [
        "widget-interact"
       ],
       "children": [
        "IPY_MODEL_dfbc77403ff2447db8bc909304ae8224",
        "IPY_MODEL_58e9c0464ad541a6ac8aadff4dc6559e"
       ],
       "layout": "IPY_MODEL_6891139848354dda84713873d02269b1"
      }
     },
     "fac81c797a6a42cab7616e5878c45061": {
      "model_module": "@jupyter-widgets/controls",
      "model_module_version": "1.2.0",
      "model_name": "DropdownModel",
      "state": {
       "_options_labels": [
        "all",
        "ACETAMINOPHEN WITH CODEINE",
        "ACETAMINOPHEN/CAFF/DIHYDROCOD",
        "ASPIRIN/CAFFEIN/DIHYDROCODEINE",
        "BUPRENORPHINE",
        "BUPRENORPHINE HCL",
        "BUTALBIT/ACETAMIN/CAFF/CODEINE",
        "BUTORPHANOL TARTRATE",
        "CARISOPRODOL/ASPIRIN/CODEINE",
        "CODEINE SULFATE",
        "CODEINE/BUTALBITAL/ASA/CAFFEIN",
        "FENTANYL",
        "FENTANYL CITRATE",
        "HYDROCODONE BITARTRATE",
        "HYDROCODONE/ACETAMINOPHEN",
        "HYDROCODONE/IBUPROFEN",
        "HYDROMORPHONE HCL",
        "IBUPROFEN/OXYCODONE HCL",
        "LEVORPHANOL TARTRATE",
        "MEPERIDINE HCL",
        "METHADONE HCL",
        "MORPHINE SULFATE",
        "MORPHINE SULFATE/NALTREXONE",
        "OPIUM TINCTURE",
        "OPIUM/BELLADONNA ALKALOIDS",
        "OXYCODONE HCL",
        "OXYCODONE HCL/ACETAMINOPHEN",
        "OXYCODONE HCL/ASPIRIN",
        "OXYCODONE MYRISTATE",
        "OXYMORPHONE HCL",
        "PENTAZOCINE HCL/NALOXONE HCL",
        "TAPENTADOL HCL",
        "TRAMADOL HCL",
        "TRAMADOL HCL/ACETAMINOPHEN"
       ],
       "description": "drug_name",
       "index": 0,
       "layout": "IPY_MODEL_59686d5b64fd4f8a85ab2620dbb7355e",
       "style": "IPY_MODEL_fccbb054bf004a1488da7cd444bcd8e7"
      }
     },
     "fb3fbf1e46874cd486c64783996c36b3": {
      "model_module": "@jupyter-widgets/base",
      "model_module_version": "1.0.0",
      "model_name": "LayoutModel",
      "state": {}
     },
     "fc0af1aaa6df4f93abfea9af693f4186": {
      "model_module": "@jupyter-widgets/base",
      "model_module_version": "1.0.0",
      "model_name": "LayoutModel",
      "state": {}
     },
     "fc339192266b4537a7526fd2ab6bc656": {
      "model_module": "@jupyter-widgets/base",
      "model_module_version": "1.0.0",
      "model_name": "LayoutModel",
      "state": {}
     },
     "fccbb054bf004a1488da7cd444bcd8e7": {
      "model_module": "@jupyter-widgets/controls",
      "model_module_version": "1.2.0",
      "model_name": "DescriptionStyleModel",
      "state": {
       "description_width": ""
      }
     },
     "fcde1aa6c0c24c928b390dcabc47c3f5": {
      "model_module": "@jupyter-widgets/base",
      "model_module_version": "1.0.0",
      "model_name": "LayoutModel",
      "state": {}
     },
     "ff5cbf7e75634371b7aee29ab34d7594": {
      "model_module": "@jupyter-widgets/output",
      "model_module_version": "1.0.0",
      "model_name": "OutputModel",
      "state": {
       "layout": "IPY_MODEL_b85309ceca5442c698f1113f7ea07622"
      }
     }
    },
    "version_major": 2,
    "version_minor": 0
   }
  }
 },
 "nbformat": 4,
 "nbformat_minor": 2
}

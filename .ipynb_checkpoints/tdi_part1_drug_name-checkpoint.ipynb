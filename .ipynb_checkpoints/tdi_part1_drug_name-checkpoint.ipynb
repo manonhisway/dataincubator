{
 "cells": [
  {
   "cell_type": "markdown",
   "metadata": {
    "extensions": {
     "jupyter_dashboards": {
      "version": 1,
      "views": {
       "grid_default": {
        "col": 4,
        "height": 4,
        "hidden": false,
        "row": 23,
        "width": 4
       },
       "report_default": {
        "hidden": false
       }
      }
     }
    }
   },
   "source": [
    "## TDI Project Part 1: Drug utilization by drug name"
   ]
  },
  {
   "cell_type": "markdown",
   "metadata": {
    "extensions": {
     "jupyter_dashboards": {
      "version": 1,
      "views": {
       "grid_default": {
        "hidden": true
       },
       "report_default": {
        "hidden": false
       }
      }
     }
    }
   },
   "source": [
    "Objective: Develop a dashboard app that enables us to browse through drugs and assess the level of prescription compared to other drugs in the same category over time.\n",
    "\n",
    "Deliverables:\n",
    "1. A method of displaying the level of prescription for every drug in a given category over the years, so that we can observe population-wide trends over time.\n",
    "\n",
    "2. Ability to identify the most prescribed drugs based on the level of prescription, so that we know which drugs we are interested in focusing on for further study.\n",
    "\n",
    "3. A method of visualizing trends for a specific drug.\n",
    "\n",
    "Approach:\n",
    "- We will use pandas module in Python to perform data manipulations for this app.\n",
    "- We will use seaborn module in Python to visualize our data in a box-and-whisker plot.\n",
    "- We will use a swarm plot overlay to identify outliers.\n",
    "- We will implement several UI controls to allow ease of selecting our variables of interest. \n",
    "- We will use the Medicare Part D Prescriber dataset, a publicly available dataset.\n",
    "\n",
    "This dataset is from the Center for Medicare and Medicaid Services website (https://www.cms.gov/Research-Statistics-Data-and-Systems/Statistics-Trends-and-Reports/Medicare-Provider-Charge-Data/Part-D-Prescriber.html). The shape of dataset from each year is as follows:\n",
    "\n",
    "2013: (3447, 17)\n",
    "2014: (3362, 17)\n",
    "2015: (3395, 17)\n",
    "2016: (3393, 19)"
   ]
  },
  {
   "cell_type": "code",
   "execution_count": 1,
   "metadata": {
    "extensions": {
     "jupyter_dashboards": {
      "version": 1,
      "views": {
       "grid_default": {
        "hidden": true
       },
       "report_default": {
        "hidden": true
       }
      }
     }
    }
   },
   "outputs": [],
   "source": [
    "# import modules, read data and create a dict of data\n",
    "%matplotlib inline\n",
    "import seaborn as sns\n",
    "import numpy as np\n",
    "import pandas as pd\n",
    "from ipywidgets import interact\n",
    "\n",
    "data_2013=pd.read_csv('Part_D_Prescriber_National_Summary_Report__Calendar_Year_2013.csv')\n",
    "data_2014=pd.read_csv('Part_D_Prescriber_National_Summary_Report__Calendar_Year_2014.csv')\n",
    "data_2015=pd.read_csv('Part_D_Prescriber_National_Summary_Report__Calendar_Year_2015.csv')\n",
    "data_2016=pd.read_csv('Part_D_Prescriber_National_Summary_Report__Calendar_Year_2016.csv')\n",
    "\n",
    "data = {2013: data_2013,\n",
    "        2014: data_2014,\n",
    "        2015: data_2015,\n",
    "        2016: data_2016}"
   ]
  },
  {
   "cell_type": "code",
   "execution_count": 2,
   "metadata": {
    "extensions": {
     "jupyter_dashboards": {
      "version": 1,
      "views": {
       "grid_default": {
        "col": 0,
        "height": 4,
        "hidden": false,
        "row": 0,
        "width": 4
       },
       "report_default": {
        "hidden": false
       }
      }
     }
    }
   },
   "outputs": [
    {
     "name": "stdout",
     "output_type": "stream",
     "text": [
      "(3393, 19) (3395, 17) (3362, 17) (3447, 17)\n"
     ]
    }
   ],
   "source": [
    "print(data_2016.shape, data_2015.shape, data_2014.shape, data_2013.shape)"
   ]
  },
  {
   "cell_type": "code",
   "execution_count": 3,
   "metadata": {
    "extensions": {
     "jupyter_dashboards": {
      "version": 1,
      "views": {
       "grid_default": {
        "hidden": true
       },
       "report_default": {
        "hidden": true
       }
      }
     }
    }
   },
   "outputs": [],
   "source": [
    "# relabel columns for ease of use\n",
    "col_mapper= {\n",
    "    'Drug Name': 'drug_name',\n",
    "    'Generic Name': 'generic_name',\n",
    "    ' Number of Prescribers ': 'num_rx',\n",
    "    ' Number of Medicare Part D Claims ': 'num_claims',\n",
    "    ' Number of Standardized 30-Day Part D Fills ': 'num_30d_fills',\n",
    "    'Aggregate Cost Paid for Part D Claims':'agg_cost_paid_claims',\n",
    "    ' Number of Medicare Beneficiaries ': 'num_bene',\n",
    "    ' GE65 Suppression Flag ': 'ge65_flag',\n",
    "    ' Number of Medicare Part D Claims for Beneficiaries 65+ ': 'claims_65',\n",
    "    ' Number of Standardized 30-Day Part D Fills for Beneficiaries 65+ ': 'num_30d_fills_65',\n",
    "    'Aggregate Cost Paid for Part D Claims for Beneficiaries 65+': 'agg_paid_claims_65',\n",
    "    ' Beneficiary 65+ Suppression Flag ': 'bene_65_flag',\n",
    "    ' Number of Medicare Beneficiaries 65+ ': 'num_bene_65',\n",
    "    'Aggregate Cost Share for Beneficiaries with Low Income Subsidy': 'agg_share_subsidy',\n",
    "    'Aggregate Cost Share for Beneficiaries with No Low Income Subsidy': 'agg_share_no_subsidy',\n",
    "    ' Opioid Drug Flag ': 'opioid',\n",
    "    'Extended-Release Opioid Drug Flag': 'er_opioid',\n",
    "    ' Antibiotic Drug Flag ':'abx',\n",
    "    ' Antipsychotic Drug Flag ':'apsy',\n",
    "    ' High Risk Medication (HRM) Drug Flag ':'hrm'\n",
    "}\n",
    "for y in [2013, 2014, 2015, 2016]:\n",
    "    data[y] = data[y].rename(col_mapper, axis='columns')"
   ]
  },
  {
   "cell_type": "code",
   "execution_count": 6,
   "metadata": {
    "extensions": {
     "jupyter_dashboards": {
      "version": 1,
      "views": {
       "grid_default": {
        "col": 7,
        "height": 23,
        "hidden": false,
        "row": 0,
        "width": 5
       },
       "report_default": {
        "hidden": false
       }
      }
     }
    },
    "scrolled": false
   },
   "outputs": [
    {
     "data": {
      "application/vnd.jupyter.widget-view+json": {
       "model_id": "1c93a699b68c4a7f84cc5d4da5c570aa",
       "version_major": 2,
       "version_minor": 0
      },
      "text/html": [
       "<p>Failed to display Jupyter Widget of type <code>interactive</code>.</p>\n",
       "<p>\n",
       "  If you're reading this message in the Jupyter Notebook or JupyterLab Notebook, it may mean\n",
       "  that the widgets JavaScript is still loading. If this message persists, it\n",
       "  likely means that the widgets JavaScript library is either not installed or\n",
       "  not enabled. See the <a href=\"https://ipywidgets.readthedocs.io/en/stable/user_install.html\">Jupyter\n",
       "  Widgets Documentation</a> for setup instructions.\n",
       "</p>\n",
       "<p>\n",
       "  If you're reading this message in another frontend (for example, a static\n",
       "  rendering on GitHub or <a href=\"https://nbviewer.jupyter.org/\">NBViewer</a>),\n",
       "  it may mean that your frontend doesn't currently support widgets.\n",
       "</p>\n"
      ],
      "text/plain": [
       "interactive(children=(Dropdown(description='drug_type', options=('Opioid', 'Antibiotics', 'Antipsychotic'), value='Opioid'), Output()), _dom_classes=('widget-interact',))"
      ]
     },
     "metadata": {},
     "output_type": "display_data"
    }
   ],
   "source": [
    "# In this section, I created an interactive code to compare the ratio of prescribed drugs to beneficiaries over the years.\n",
    "data_storage={}\n",
    "year = [2013, 2014, 2015, 2016]\n",
    "\n",
    "# function generates a swarmplot of a single drug in the observed category selected by the user\n",
    "def g(drug_name):\n",
    "    df_sum = pd.DataFrame()\n",
    "    if drug_name == 'all':\n",
    "        return\n",
    "    else:\n",
    "        # handles spacing issues in index labels\n",
    "        for y in year:\n",
    "            try:\n",
    "                df_sum = pd.concat([df_sum, data_storage[y].loc[drug_name.strip()]], axis=1)\n",
    "            except:\n",
    "                try:\n",
    "                    df_sum = pd.concat([df_sum, data_storage[y].loc[drug_name.strip()+\" \"]], axis=1)\n",
    "                except:\n",
    "                    df_sum\n",
    "            finally:\n",
    "                df_sum\n",
    "        if len(df_sum)>0:\n",
    "            df_sum = df_sum.transpose()\n",
    "            ax = sns.swarmplot(x='year',y='ratio', data=df_sum,\n",
    "                          color='red', size=6)\n",
    "            ax.set_ylabel('Drugs-to-beneficiaries ratio')\n",
    "            ax.set_xlabel('Year')\n",
    "            ax.set_title('Drug supplied over time for {}'.format(drug_name))\n",
    "        return\n",
    "\n",
    "# function returns a table of drugs based on the observation threshold set by the user    \n",
    "def h(threshold):\n",
    "    df_sum = pd.DataFrame()\n",
    "    for y in year:\n",
    "        df_sum = pd.concat([df_sum, data_storage[y][data_storage[y]['ratio']>threshold]], axis=0)\n",
    "    return df_sum\n",
    "    \n",
    "# function generates a boxplot of a drug category selected by the user\n",
    "def f(drug_type):\n",
    "    d = {'Opioid': 'opioid', 'Antibiotics': 'abx', 'Antipsychotic': 'apsy', 'all':'all'}\n",
    "    dx = d[drug_type]\n",
    "    df_sum = pd.DataFrame()\n",
    "    data_print=pd.DataFrame()\n",
    "    for y in year:\n",
    "        if dx == 'all':\n",
    "            data_print = data[y]\n",
    "        else:\n",
    "            data_print = data[y][data[y][dx].str.strip()=='Y']\n",
    "        data_print = data_print.pivot_table(index = 'generic_name', aggfunc = np.sum)\n",
    "        data_print = data_print.dropna(axis=0)[data_print.num_bene>0]\n",
    "        df = pd.DataFrame()\n",
    "        df['ratio'] = data_print['num_claims']*data_print['num_30d_fills']/data_print['num_bene']\n",
    "        df['year'] = y\n",
    "        data_print=pd.concat([data_print,df],axis=1)\n",
    "        data_storage[y] = data_print.loc[:,['ratio','year']]\n",
    "        df_sum = pd.concat([df_sum, df], axis=0)\n",
    "        \n",
    "    sns.set(style='whitegrid')\n",
    "    ax = sns.boxplot(x='year', y='ratio', data=df_sum, palette = 'vlag')\n",
    "    ax = sns.swarmplot(x='year',y='ratio', data=df_sum,\n",
    "                      color='black', size=5)\n",
    "    ax.set_ylabel('Drugs-to-beneficiaries ratio')\n",
    "    #ax.set_yscale('log')\n",
    "    ax.set_xlabel('Year')\n",
    "    ax.set_title('Drug supplied over time for {} class'.format(drug_type))\n",
    "    \n",
    "    ax = interact(g, drug_name=['all'] + list(data_print.index))\n",
    "    interact(h, threshold = (0.0, df_sum.ratio.max()+1))\n",
    "    return\n",
    "\n",
    "interact(f, drug_type=['Opioid', 'Antibiotics', 'Antipsychotic']);"
   ]
  },
  {
   "cell_type": "markdown",
   "metadata": {},
   "source": [
    "Using the interactive dashboard above, we can make the following observations:\n",
    "\n",
    "1. Among opioids, hydrocodone/acetaminophen leads the category as the most prescribed drug, followed by tramadol and oxycodone.\n",
    "\n",
    "2. Among antibiotics, popular broad-spectrum drugs for such as azithromycin, amoxicillin and ciprofloxacin lead the category.\n",
    "\n",
    "3. Among antipsychotics, common medications such as quentiapine and risperidone lead the category."
   ]
  },
  {
   "cell_type": "code",
   "execution_count": null,
   "metadata": {
    "collapsed": true,
    "extensions": {
     "jupyter_dashboards": {
      "version": 1,
      "views": {
       "grid_default": {},
       "report_default": {
        "hidden": true
       }
      }
     }
    }
   },
   "outputs": [],
   "source": []
  }
 ],
 "metadata": {
  "extensions": {
   "jupyter_dashboards": {
    "activeView": "report_default",
    "version": 1,
    "views": {
     "grid_default": {
      "cellMargin": 10,
      "defaultCellHeight": 20,
      "maxColumns": 12,
      "name": "grid",
      "type": "grid"
     },
     "report_default": {
      "name": "report",
      "type": "report"
     }
    }
   }
  },
  "kernelspec": {
   "display_name": "Python 3",
   "language": "python",
   "name": "python3"
  },
  "language_info": {
   "codemirror_mode": {
    "name": "ipython",
    "version": 3
   },
   "file_extension": ".py",
   "mimetype": "text/x-python",
   "name": "python",
   "nbconvert_exporter": "python",
   "pygments_lexer": "ipython3",
   "version": "3.6.4"
  }
 },
 "nbformat": 4,
 "nbformat_minor": 2
}

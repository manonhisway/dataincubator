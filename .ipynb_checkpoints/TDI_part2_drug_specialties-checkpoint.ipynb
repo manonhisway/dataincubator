{
 "cells": [
  {
   "cell_type": "markdown",
   "metadata": {
    "extensions": {
     "jupyter_dashboards": {
      "version": 1,
      "views": {
       "grid_default": {
        "col": 4,
        "height": 4,
        "hidden": false,
        "row": 23,
        "width": 4
       },
       "report_default": {
        "hidden": false
       }
      }
     }
    }
   },
   "source": [
    "## TDI Project Part 2 - in-depth view of 2016 Medicare Part D Prescriber dataset"
   ]
  },
  {
   "cell_type": "markdown",
   "metadata": {
    "extensions": {
     "jupyter_dashboards": {
      "version": 1,
      "views": {
       "grid_default": {
        "hidden": true
       },
       "report_default": {
        "hidden": false
       }
      }
     }
    }
   },
   "source": [
    "This dataset is from the Center for Medicare and Medicaid Services website (https://www.cms.gov/Research-Statistics-Data-and-Systems/Statistics-Trends-and-Reports/Medicare-Provider-Charge-Data/Part-D-Prescriber.html). The shape of dataset is as follows:\n",
    "\n",
    "(1131550, 84)"
   ]
  },
  {
   "cell_type": "code",
   "execution_count": 69,
   "metadata": {
    "extensions": {
     "jupyter_dashboards": {
      "version": 1,
      "views": {
       "grid_default": {
        "hidden": true
       },
       "report_default": {
        "hidden": true
       }
      }
     }
    }
   },
   "outputs": [],
   "source": [
    "# import modules, read data and create a dict of data\n",
    "%matplotlib inline\n",
    "import numpy as np\n",
    "import pandas as pd\n",
    "from ipywidgets import interact\n",
    "\n",
    "data=pd.read_csv('Medicare_Provider_Utilization_and_Payment_Data__Part_D_Prescriber_Summary_Table_CY2016.csv')\n"
   ]
  },
  {
   "cell_type": "code",
   "execution_count": 70,
   "metadata": {
    "extensions": {
     "jupyter_dashboards": {
      "version": 1,
      "views": {
       "grid_default": {
        "col": 0,
        "height": 4,
        "hidden": false,
        "row": 0,
        "width": 4
       },
       "report_default": {
        "hidden": false
       }
      }
     }
    }
   },
   "outputs": [
    {
     "name": "stdout",
     "output_type": "stream",
     "text": [
      "(1131550, 84)\n"
     ]
    },
    {
     "data": {
      "text/plain": [
       "Index(['npi', 'nppes_provider_last_org_name', 'nppes_provider_first_name',\n",
       "       'nppes_provider_mi', 'nppes_credentials', 'nppes_provider_gender',\n",
       "       'nppes_entity_code', 'nppes_provider_street1', 'nppes_provider_street2',\n",
       "       'nppes_provider_city', 'nppes_provider_zip5', 'nppes_provider_zip4',\n",
       "       'nppes_provider_state', 'nppes_provider_country',\n",
       "       'specialty_description', 'description_flag',\n",
       "       'medicare_prvdr_enroll_status', 'total_claim_count',\n",
       "       'total_30_day_fill_count', 'total_drug_cost', 'total_day_supply',\n",
       "       'bene_count', 'ge65_suppress_flag', 'total_claim_count_ge65',\n",
       "       'total_30_day_fill_count_ge65', 'total_drug_cost_ge65',\n",
       "       'total_day_supply_ge65', 'bene_count_ge65_suppress_flag',\n",
       "       'bene_count_ge65', 'brand_suppress_flag', 'brand_claim_count',\n",
       "       'brand_drug_cost', 'generic_suppress_flag', 'generic_claim_count',\n",
       "       'generic_drug_cost', 'other_suppress_flag', 'other_claim_count',\n",
       "       'other_drug_cost', 'mapd_suppress_flag', 'mapd_claim_count',\n",
       "       'mapd_drug_cost', 'pdp_suppress_flag', 'pdp_claim_count',\n",
       "       'pdp_drug_cost', 'lis_suppress_flag', 'lis_claim_count',\n",
       "       'lis_drug_cost', 'nonlis_suppress_flag', 'nonlis_claim_count',\n",
       "       'nonlis_drug_cost', 'opioid_claim_count', 'opioid_drug_cost',\n",
       "       'opioid_day_supply', 'opioid_bene_count', 'opioid_prescriber_rate',\n",
       "       'er_opioid_claim_count', 'er_opioid_drug_cost', 'er_opioid_day_supply',\n",
       "       'er_opioid_bene_count', 'er_opioid_prescriber_rate',\n",
       "       'antibiotic_claim_count', 'antibiotic_drug_cost',\n",
       "       'antibiotic_bene_count', 'antipsych_ge65_suppress_flag',\n",
       "       'antipsych_claim_count_ge65', 'antipsych_drug_cost_ge65',\n",
       "       'antipsych_bene_ge65_suppress_flg', 'antipsych_bene_count_ge65',\n",
       "       'average_age_of_beneficiaries', 'beneficiary_age_less_65_count',\n",
       "       'beneficiary_age_65_74_count', 'beneficiary_age_75_84_count',\n",
       "       'beneficiary_age_greater_84_count', 'beneficiary_female_count',\n",
       "       'beneficiary_male_count', 'beneficiary_race_white_count',\n",
       "       'beneficiary_race_black_count', 'beneficiary_race_asian_pi_count',\n",
       "       'beneficiary_race_hispanic_count', 'beneficiary_race_nat_ind_count',\n",
       "       'beneficiary_race_other_count', 'beneficiary_nondual_count',\n",
       "       'beneficiary_dual_count', 'beneficiary_average_risk_score'],\n",
       "      dtype='object')"
      ]
     },
     "execution_count": 70,
     "metadata": {},
     "output_type": "execute_result"
    }
   ],
   "source": [
    "print(data.shape)\n",
    "data.columns"
   ]
  },
  {
   "cell_type": "code",
   "execution_count": 197,
   "metadata": {},
   "outputs": [],
   "source": [
    "data1 = pd.DataFrame()\n",
    "data_index = pd.DataFrame()\n",
    "data_calc = pd.DataFrame()\n",
    "data1 = data.loc[:,['specialty_description', 'total_claim_count']]\n",
    "data_calc['ratio_agg'] = data.total_day_supply*data.total_claim_count/data.bene_count\n",
    "data_calc['ratio_day_er_op'] = data.er_opioid_day_supply*data.er_opioid_claim_count/data.er_opioid_bene_count\n",
    "data_calc['ratio_day_op'] = data.opioid_day_supply*data.opioid_claim_count/data.opioid_bene_count\n",
    "data_calc['ratio_day_abx'] = data.antibiotic_claim_count/data.antibiotic_bene_count\n",
    "data_calc['ratio_day_apsy'] = data.antipsych_claim_count_ge65/data.antipsych_bene_count_ge65\n",
    "data_calc['num_prescribers'] = 1\n",
    "data1 = pd.concat([data1, data_calc], axis=1)"
   ]
  },
  {
   "cell_type": "code",
   "execution_count": 198,
   "metadata": {
    "extensions": {
     "jupyter_dashboards": {
      "version": 1,
      "views": {
       "grid_default": {
        "hidden": true
       },
       "report_default": {
        "hidden": true
       }
      }
     }
    }
   },
   "outputs": [
    {
     "data": {
      "text/html": [
       "<div>\n",
       "<style scoped>\n",
       "    .dataframe tbody tr th:only-of-type {\n",
       "        vertical-align: middle;\n",
       "    }\n",
       "\n",
       "    .dataframe tbody tr th {\n",
       "        vertical-align: top;\n",
       "    }\n",
       "\n",
       "    .dataframe thead th {\n",
       "        text-align: right;\n",
       "    }\n",
       "</style>\n",
       "<table border=\"1\" class=\"dataframe\">\n",
       "  <thead>\n",
       "    <tr style=\"text-align: right;\">\n",
       "      <th></th>\n",
       "      <th>total_claim_count</th>\n",
       "      <th>ratio_agg</th>\n",
       "      <th>ratio_day_er_op</th>\n",
       "      <th>ratio_day_op</th>\n",
       "      <th>ratio_day_abx</th>\n",
       "      <th>ratio_day_apsy</th>\n",
       "      <th>num_prescribers</th>\n",
       "    </tr>\n",
       "  </thead>\n",
       "  <tbody>\n",
       "    <tr>\n",
       "      <th>count</th>\n",
       "      <td>1.131550e+06</td>\n",
       "      <td>9.996170e+05</td>\n",
       "      <td>2.133200e+04</td>\n",
       "      <td>4.414950e+05</td>\n",
       "      <td>590823.000000</td>\n",
       "      <td>40338.000000</td>\n",
       "      <td>1131550.0</td>\n",
       "    </tr>\n",
       "    <tr>\n",
       "      <th>mean</th>\n",
       "      <td>1.308800e+03</td>\n",
       "      <td>1.017396e+06</td>\n",
       "      <td>3.109347e+04</td>\n",
       "      <td>2.180187e+04</td>\n",
       "      <td>1.470075</td>\n",
       "      <td>6.259980</td>\n",
       "      <td>1.0</td>\n",
       "    </tr>\n",
       "    <tr>\n",
       "      <th>std</th>\n",
       "      <td>3.147395e+03</td>\n",
       "      <td>3.533881e+06</td>\n",
       "      <td>5.636408e+04</td>\n",
       "      <td>1.024479e+05</td>\n",
       "      <td>0.518976</td>\n",
       "      <td>2.947722</td>\n",
       "      <td>0.0</td>\n",
       "    </tr>\n",
       "    <tr>\n",
       "      <th>min</th>\n",
       "      <td>1.100000e+01</td>\n",
       "      <td>1.100000e+01</td>\n",
       "      <td>1.309091e+01</td>\n",
       "      <td>1.200000e+01</td>\n",
       "      <td>1.000000</td>\n",
       "      <td>1.000000</td>\n",
       "      <td>1.0</td>\n",
       "    </tr>\n",
       "    <tr>\n",
       "      <th>25%</th>\n",
       "      <td>5.400000e+01</td>\n",
       "      <td>2.739176e+03</td>\n",
       "      <td>4.687496e+03</td>\n",
       "      <td>1.939394e+02</td>\n",
       "      <td>1.144928</td>\n",
       "      <td>4.317350</td>\n",
       "      <td>1.0</td>\n",
       "    </tr>\n",
       "    <tr>\n",
       "      <th>50%</th>\n",
       "      <td>2.000000e+02</td>\n",
       "      <td>2.361512e+04</td>\n",
       "      <td>1.391220e+04</td>\n",
       "      <td>1.094026e+03</td>\n",
       "      <td>1.322222</td>\n",
       "      <td>5.818182</td>\n",
       "      <td>1.0</td>\n",
       "    </tr>\n",
       "    <tr>\n",
       "      <th>75%</th>\n",
       "      <td>1.000000e+03</td>\n",
       "      <td>3.566650e+05</td>\n",
       "      <td>3.338556e+04</td>\n",
       "      <td>1.076462e+04</td>\n",
       "      <td>1.620690</td>\n",
       "      <td>7.625000</td>\n",
       "      <td>1.0</td>\n",
       "    </tr>\n",
       "    <tr>\n",
       "      <th>max</th>\n",
       "      <td>3.242090e+05</td>\n",
       "      <td>4.317326e+08</td>\n",
       "      <td>1.634756e+06</td>\n",
       "      <td>1.186733e+07</td>\n",
       "      <td>28.800000</td>\n",
       "      <td>55.714286</td>\n",
       "      <td>1.0</td>\n",
       "    </tr>\n",
       "  </tbody>\n",
       "</table>\n",
       "</div>"
      ],
      "text/plain": [
       "       total_claim_count     ratio_agg  ratio_day_er_op  ratio_day_op  \\\n",
       "count       1.131550e+06  9.996170e+05     2.133200e+04  4.414950e+05   \n",
       "mean        1.308800e+03  1.017396e+06     3.109347e+04  2.180187e+04   \n",
       "std         3.147395e+03  3.533881e+06     5.636408e+04  1.024479e+05   \n",
       "min         1.100000e+01  1.100000e+01     1.309091e+01  1.200000e+01   \n",
       "25%         5.400000e+01  2.739176e+03     4.687496e+03  1.939394e+02   \n",
       "50%         2.000000e+02  2.361512e+04     1.391220e+04  1.094026e+03   \n",
       "75%         1.000000e+03  3.566650e+05     3.338556e+04  1.076462e+04   \n",
       "max         3.242090e+05  4.317326e+08     1.634756e+06  1.186733e+07   \n",
       "\n",
       "       ratio_day_abx  ratio_day_apsy  num_prescribers  \n",
       "count  590823.000000    40338.000000        1131550.0  \n",
       "mean        1.470075        6.259980              1.0  \n",
       "std         0.518976        2.947722              0.0  \n",
       "min         1.000000        1.000000              1.0  \n",
       "25%         1.144928        4.317350              1.0  \n",
       "50%         1.322222        5.818182              1.0  \n",
       "75%         1.620690        7.625000              1.0  \n",
       "max        28.800000       55.714286              1.0  "
      ]
     },
     "execution_count": 198,
     "metadata": {},
     "output_type": "execute_result"
    }
   ],
   "source": [
    "data1.describe()"
   ]
  },
  {
   "cell_type": "code",
   "execution_count": 199,
   "metadata": {},
   "outputs": [
    {
     "data": {
      "text/plain": [
       "223"
      ]
     },
     "execution_count": 199,
     "metadata": {},
     "output_type": "execute_result"
    }
   ],
   "source": [
    "# There are a total of 223 unique categories\n",
    "data1.specialty_description.unique().size"
   ]
  },
  {
   "cell_type": "code",
   "execution_count": 200,
   "metadata": {},
   "outputs": [],
   "source": [
    "# Group individual practices by specialty description and sum columns.\n",
    "\n",
    "data_index = data1.groupby(['specialty_description'], as_index=True).sum()\n",
    "\n",
    "# overlapping entries identified and consolidated\n",
    "\n",
    "data_index.loc['Allergy/Immunology'] = data_index.loc['Allergy/Immunology']+ data_index.loc['Allergy/ Immunology']\n",
    "data_index.drop('Allergy/ Immunology', inplace=True)\n",
    "\n",
    "data_index.loc['Clinical Cardiatric Electrophysiology'] = data_index.loc['Clinical Cardiatric Electrophysiology']+ data_index.loc['Cardiac Electrophysiology']\n",
    "data_index.drop('Cardiac Electrophysiology', inplace=True)\n",
    "\n",
    "data_index.loc['Orthopedic Surgery'] = data_index.loc['Orthopedic Surgery']+ data_index.loc['Orthopaedic Surgery']\n",
    "data_index.drop('Orthopaedic Surgery', inplace=True)\n",
    "\n",
    "data_index.loc['Colorectal Surgery (Proctology)'] = data_index.loc['Colorectal Surgery (Proctology)']+ data_index.loc['Colon & Rectal Surgery']\n",
    "data_index.drop('Colon & Rectal Surgery', inplace=True)\n",
    "\n",
    "# Normalize per-prescriber value for each of the ratios calculated in previous cell.\n",
    "data_index['ratio_agg']=data_index['ratio_agg']/data_index['num_prescribers']\n",
    "data_index['ratio_day_er_op']=data_index['ratio_day_er_op']/data_index['num_prescribers']\n",
    "data_index['ratio_day_op']=data_index['ratio_day_op']/data_index['num_prescribers']\n",
    "data_index['ratio_day_abx']=data_index['ratio_day_abx']/data_index['num_prescribers']\n",
    "data_index['ratio_day_apsy']=data_index['ratio_day_apsy']/data_index['num_prescribers']"
   ]
  },
  {
   "cell_type": "code",
   "execution_count": 204,
   "metadata": {},
   "outputs": [
    {
     "data": {
      "text/html": [
       "<div>\n",
       "<style scoped>\n",
       "    .dataframe tbody tr th:only-of-type {\n",
       "        vertical-align: middle;\n",
       "    }\n",
       "\n",
       "    .dataframe tbody tr th {\n",
       "        vertical-align: top;\n",
       "    }\n",
       "\n",
       "    .dataframe thead th {\n",
       "        text-align: right;\n",
       "    }\n",
       "</style>\n",
       "<table border=\"1\" class=\"dataframe\">\n",
       "  <thead>\n",
       "    <tr style=\"text-align: right;\">\n",
       "      <th></th>\n",
       "      <th>total_claim_count</th>\n",
       "      <th>ratio_agg</th>\n",
       "      <th>ratio_day_er_op</th>\n",
       "      <th>ratio_day_op</th>\n",
       "      <th>ratio_day_abx</th>\n",
       "      <th>ratio_day_apsy</th>\n",
       "      <th>num_prescribers</th>\n",
       "    </tr>\n",
       "    <tr>\n",
       "      <th>specialty_description</th>\n",
       "      <th></th>\n",
       "      <th></th>\n",
       "      <th></th>\n",
       "      <th></th>\n",
       "      <th></th>\n",
       "      <th></th>\n",
       "      <th></th>\n",
       "    </tr>\n",
       "  </thead>\n",
       "  <tbody>\n",
       "    <tr>\n",
       "      <th>Clinical Neuropsychologist</th>\n",
       "      <td>4122.0</td>\n",
       "      <td>172320.480228</td>\n",
       "      <td>0.000000</td>\n",
       "      <td>0.000000</td>\n",
       "      <td>0.000000</td>\n",
       "      <td>0.444444</td>\n",
       "      <td>15.0</td>\n",
       "    </tr>\n",
       "    <tr>\n",
       "      <th>Neurological Surgery</th>\n",
       "      <td>33958.0</td>\n",
       "      <td>12791.829477</td>\n",
       "      <td>0.000000</td>\n",
       "      <td>1180.638071</td>\n",
       "      <td>0.037635</td>\n",
       "      <td>0.000000</td>\n",
       "      <td>576.0</td>\n",
       "    </tr>\n",
       "    <tr>\n",
       "      <th>Neurology</th>\n",
       "      <td>22280390.0</td>\n",
       "      <td>601111.763908</td>\n",
       "      <td>1157.858901</td>\n",
       "      <td>13615.051946</td>\n",
       "      <td>0.056565</td>\n",
       "      <td>0.638619</td>\n",
       "      <td>13656.0</td>\n",
       "    </tr>\n",
       "    <tr>\n",
       "      <th>Neuromusculoskeletal Medicine, Sports Medicine</th>\n",
       "      <td>13730.0</td>\n",
       "      <td>144183.651228</td>\n",
       "      <td>4063.083330</td>\n",
       "      <td>22665.151412</td>\n",
       "      <td>0.215502</td>\n",
       "      <td>0.113659</td>\n",
       "      <td>59.0</td>\n",
       "    </tr>\n",
       "    <tr>\n",
       "      <th>Neuropsychiatry</th>\n",
       "      <td>753691.0</td>\n",
       "      <td>172808.692949</td>\n",
       "      <td>290.236059</td>\n",
       "      <td>2140.003914</td>\n",
       "      <td>0.013520</td>\n",
       "      <td>0.272834</td>\n",
       "      <td>2323.0</td>\n",
       "    </tr>\n",
       "  </tbody>\n",
       "</table>\n",
       "</div>"
      ],
      "text/plain": [
       "                                                total_claim_count  \\\n",
       "specialty_description                                               \n",
       "Clinical Neuropsychologist                                 4122.0   \n",
       "Neurological Surgery                                      33958.0   \n",
       "Neurology                                              22280390.0   \n",
       "Neuromusculoskeletal Medicine, Sports Medicine            13730.0   \n",
       "Neuropsychiatry                                          753691.0   \n",
       "\n",
       "                                                    ratio_agg  \\\n",
       "specialty_description                                           \n",
       "Clinical Neuropsychologist                      172320.480228   \n",
       "Neurological Surgery                             12791.829477   \n",
       "Neurology                                       601111.763908   \n",
       "Neuromusculoskeletal Medicine, Sports Medicine  144183.651228   \n",
       "Neuropsychiatry                                 172808.692949   \n",
       "\n",
       "                                                ratio_day_er_op  ratio_day_op  \\\n",
       "specialty_description                                                           \n",
       "Clinical Neuropsychologist                             0.000000      0.000000   \n",
       "Neurological Surgery                                   0.000000   1180.638071   \n",
       "Neurology                                           1157.858901  13615.051946   \n",
       "Neuromusculoskeletal Medicine, Sports Medicine      4063.083330  22665.151412   \n",
       "Neuropsychiatry                                      290.236059   2140.003914   \n",
       "\n",
       "                                                ratio_day_abx  ratio_day_apsy  \\\n",
       "specialty_description                                                           \n",
       "Clinical Neuropsychologist                           0.000000        0.444444   \n",
       "Neurological Surgery                                 0.037635        0.000000   \n",
       "Neurology                                            0.056565        0.638619   \n",
       "Neuromusculoskeletal Medicine, Sports Medicine       0.215502        0.113659   \n",
       "Neuropsychiatry                                      0.013520        0.272834   \n",
       "\n",
       "                                                num_prescribers  \n",
       "specialty_description                                            \n",
       "Clinical Neuropsychologist                                 15.0  \n",
       "Neurological Surgery                                      576.0  \n",
       "Neurology                                               13656.0  \n",
       "Neuromusculoskeletal Medicine, Sports Medicine             59.0  \n",
       "Neuropsychiatry                                          2323.0  "
      ]
     },
     "execution_count": 204,
     "metadata": {},
     "output_type": "execute_result"
    }
   ],
   "source": [
    "# Function used to identify duplicates in specialties and manually consolidate data\n",
    "\n",
    "import re\n",
    "a = data_index.index.str.contains('neu', flags=re.IGNORECASE)\n",
    "data_index.loc[a].head()"
   ]
  },
  {
   "cell_type": "code",
   "execution_count": 202,
   "metadata": {},
   "outputs": [
    {
     "data": {
      "text/html": [
       "<div>\n",
       "<style scoped>\n",
       "    .dataframe tbody tr th:only-of-type {\n",
       "        vertical-align: middle;\n",
       "    }\n",
       "\n",
       "    .dataframe tbody tr th {\n",
       "        vertical-align: top;\n",
       "    }\n",
       "\n",
       "    .dataframe thead th {\n",
       "        text-align: right;\n",
       "    }\n",
       "</style>\n",
       "<table border=\"1\" class=\"dataframe\">\n",
       "  <thead>\n",
       "    <tr style=\"text-align: right;\">\n",
       "      <th></th>\n",
       "      <th>total_claim_count</th>\n",
       "      <th>ratio_agg</th>\n",
       "      <th>ratio_day_er_op</th>\n",
       "      <th>ratio_day_op</th>\n",
       "      <th>ratio_day_abx</th>\n",
       "      <th>ratio_day_apsy</th>\n",
       "      <th>num_prescribers</th>\n",
       "    </tr>\n",
       "    <tr>\n",
       "      <th>specialty_description</th>\n",
       "      <th></th>\n",
       "      <th></th>\n",
       "      <th></th>\n",
       "      <th></th>\n",
       "      <th></th>\n",
       "      <th></th>\n",
       "      <th></th>\n",
       "    </tr>\n",
       "  </thead>\n",
       "  <tbody>\n",
       "    <tr>\n",
       "      <th>Acupuncturist</th>\n",
       "      <td>7237.0</td>\n",
       "      <td>17009.731716</td>\n",
       "      <td>0.000000</td>\n",
       "      <td>6.524742</td>\n",
       "      <td>0.143676</td>\n",
       "      <td>0.000000</td>\n",
       "      <td>86.0</td>\n",
       "    </tr>\n",
       "    <tr>\n",
       "      <th>Addiction Medicine</th>\n",
       "      <td>205317.0</td>\n",
       "      <td>566074.197042</td>\n",
       "      <td>5754.996008</td>\n",
       "      <td>35300.179667</td>\n",
       "      <td>0.218327</td>\n",
       "      <td>0.317555</td>\n",
       "      <td>217.0</td>\n",
       "    </tr>\n",
       "    <tr>\n",
       "      <th>Advanced Practice Dental Therapist</th>\n",
       "      <td>106.0</td>\n",
       "      <td>1712.809524</td>\n",
       "      <td>0.000000</td>\n",
       "      <td>0.000000</td>\n",
       "      <td>1.589744</td>\n",
       "      <td>0.000000</td>\n",
       "      <td>2.0</td>\n",
       "    </tr>\n",
       "    <tr>\n",
       "      <th>Allergy/Immunology</th>\n",
       "      <td>2728386.0</td>\n",
       "      <td>189808.001399</td>\n",
       "      <td>29.930126</td>\n",
       "      <td>912.773510</td>\n",
       "      <td>0.831476</td>\n",
       "      <td>0.011768</td>\n",
       "      <td>4016.0</td>\n",
       "    </tr>\n",
       "    <tr>\n",
       "      <th>Alzheimer Center (Dementia Center)</th>\n",
       "      <td>24.0</td>\n",
       "      <td>0.000000</td>\n",
       "      <td>0.000000</td>\n",
       "      <td>0.000000</td>\n",
       "      <td>0.000000</td>\n",
       "      <td>0.000000</td>\n",
       "      <td>1.0</td>\n",
       "    </tr>\n",
       "  </tbody>\n",
       "</table>\n",
       "</div>"
      ],
      "text/plain": [
       "                                    total_claim_count      ratio_agg  \\\n",
       "specialty_description                                                  \n",
       "Acupuncturist                                  7237.0   17009.731716   \n",
       "Addiction Medicine                           205317.0  566074.197042   \n",
       "Advanced Practice Dental Therapist              106.0    1712.809524   \n",
       "Allergy/Immunology                          2728386.0  189808.001399   \n",
       "Alzheimer Center (Dementia Center)               24.0       0.000000   \n",
       "\n",
       "                                    ratio_day_er_op  ratio_day_op  \\\n",
       "specialty_description                                               \n",
       "Acupuncturist                              0.000000      6.524742   \n",
       "Addiction Medicine                      5754.996008  35300.179667   \n",
       "Advanced Practice Dental Therapist         0.000000      0.000000   \n",
       "Allergy/Immunology                        29.930126    912.773510   \n",
       "Alzheimer Center (Dementia Center)         0.000000      0.000000   \n",
       "\n",
       "                                    ratio_day_abx  ratio_day_apsy  \\\n",
       "specialty_description                                               \n",
       "Acupuncturist                            0.143676        0.000000   \n",
       "Addiction Medicine                       0.218327        0.317555   \n",
       "Advanced Practice Dental Therapist       1.589744        0.000000   \n",
       "Allergy/Immunology                       0.831476        0.011768   \n",
       "Alzheimer Center (Dementia Center)       0.000000        0.000000   \n",
       "\n",
       "                                    num_prescribers  \n",
       "specialty_description                                \n",
       "Acupuncturist                                  86.0  \n",
       "Addiction Medicine                            217.0  \n",
       "Advanced Practice Dental Therapist              2.0  \n",
       "Allergy/Immunology                           4016.0  \n",
       "Alzheimer Center (Dementia Center)              1.0  "
      ]
     },
     "execution_count": 202,
     "metadata": {},
     "output_type": "execute_result"
    }
   ],
   "source": [
    "data_index.head()"
   ]
  },
  {
   "cell_type": "code",
   "execution_count": 206,
   "metadata": {},
   "outputs": [
    {
     "data": {
      "image/png": "[encoded data removed]",
      "text/plain": [
       "<matplotlib.figure.Figure at 0x24894502e80>"
      ]
     },
     "metadata": {},
     "output_type": "display_data"
    }
   ],
   "source": [
    "# View distribution of specialties by number of prescribers.\n",
    "# I used this as a surrogate for the level of prevalence of each specialty.\n",
    "\n",
    "import matplotlib.pyplot as plt\n",
    "a = data_index.sort_values(by='num_prescribers', ascending=False).dropna(axis=0).loc[:,['num_prescribers']]\n",
    "ax = plt.plot(np.arange(len(data_index)),a.values)\n",
    "plt.xlabel('Specialty by cumulative count')\n",
    "plt.ylabel('Number of prescribers')\n",
    "plt.title('Number of prescribers by specialty in descending order')\n",
    "\n",
    "# We will analyze the top 50 specialties by number of prescribers to exclude esoteric categories (e.g. drivers)\n",
    "data_index = data_index.sort_values(by='num_prescribers', ascending=False).dropna(axis=0).head(50)"
   ]
  },
  {
   "cell_type": "code",
   "execution_count": 207,
   "metadata": {
    "extensions": {
     "jupyter_dashboards": {
      "version": 1,
      "views": {
       "grid_default": {
        "col": 7,
        "height": 23,
        "hidden": false,
        "row": 0,
        "width": 5
       },
       "report_default": {
        "hidden": false
       }
      }
     }
    },
    "scrolled": false
   },
   "outputs": [
    {
     "data": {
      "application/vnd.jupyter.widget-view+json": {
       "model_id": "a1f4db31298248de9ec27316920df31f",
       "version_major": 2,
       "version_minor": 0
      },
      "text/html": [
       "<p>Failed to display Jupyter Widget of type <code>interactive</code>.</p>\n",
       "<p>\n",
       "  If you're reading this message in the Jupyter Notebook or JupyterLab Notebook, it may mean\n",
       "  that the widgets JavaScript is still loading. If this message persists, it\n",
       "  likely means that the widgets JavaScript library is either not installed or\n",
       "  not enabled. See the <a href=\"https://ipywidgets.readthedocs.io/en/stable/user_install.html\">Jupyter\n",
       "  Widgets Documentation</a> for setup instructions.\n",
       "</p>\n",
       "<p>\n",
       "  If you're reading this message in another frontend (for example, a static\n",
       "  rendering on GitHub or <a href=\"https://nbviewer.jupyter.org/\">NBViewer</a>),\n",
       "  it may mean that your frontend doesn't currently support widgets.\n",
       "</p>\n"
      ],
      "text/plain": [
       "interactive(children=(Dropdown(description='drug_type', options=('Aggregate', 'Extended-Release Opioid', 'Opioid', 'Antibiotics', 'Antipsychotic'), value='Aggregate'), Output()), _dom_classes=('widget-interact',))"
      ]
     },
     "metadata": {},
     "output_type": "display_data"
    }
   ],
   "source": [
    "# In this section, I created an interactive code to pull the 20 specialties with highest prescription-to-beneficiary ratio for each drug class.\n",
    "\n",
    "def f(drug_type):\n",
    "    top20_data = pd.DataFrame()\n",
    "    d = {'Extended-Release Opioid':'day_er_op', 'Opioid': 'day_op', 'Antibiotics': 'day_abx', 'Antipsychotic': 'day_apsy', 'Aggregate':'agg'}\n",
    "    sns.set(style='whitegrid')\n",
    "    probe = 'ratio_{}'.format(d[drug_type])\n",
    "    top20_data= data_index.sort_values(by=probe, ascending=False).dropna(axis=0).head(20).loc[:,[probe]]\n",
    "    print(top20_data)\n",
    "    \n",
    "    return\n",
    "\n",
    "interact(f, drug_type=['Aggregate', 'Extended-Release Opioid','Opioid', 'Antibiotics', 'Antipsychotic']);"
   ]
  },
  {
   "cell_type": "markdown",
   "metadata": {},
   "source": [
    "Aggregate result shows that primary care specialties (geriatrics, family medicine, general practice and internal medicine) have the highest ratio of drug prescription to beneficiaries. This is of note, because each of these practices prescribe approximately 2-10x more per beneficiary compared to the drug category-specific specialties (pain management, infectious diseases, psychiatry).\n",
    "\n",
    "Within each drug sub-category, the category-specific specialties rank at the top. However, we still find the primary care specialties within the top 20 list in each drug sub-category. Based on this information, patterns of drug prescription in general practices merit further scrutiny.\n",
    "\n",
    "Now we look at potential predictors of drug prescription in one of the four primary care specialties (family practice) from our original dataset:"
   ]
  },
  {
   "cell_type": "code",
   "execution_count": 210,
   "metadata": {},
   "outputs": [],
   "source": [
    "data_family = data.loc[data.specialty_description=='Family Practice']"
   ]
  },
  {
   "cell_type": "code",
   "execution_count": 213,
   "metadata": {},
   "outputs": [
    {
     "data": {
      "text/plain": [
       "Index(['npi', 'nppes_provider_last_org_name', 'nppes_provider_first_name',\n",
       "       'nppes_provider_mi', 'nppes_credentials', 'nppes_provider_gender',\n",
       "       'nppes_entity_code', 'nppes_provider_street1', 'nppes_provider_street2',\n",
       "       'nppes_provider_city', 'nppes_provider_zip5', 'nppes_provider_zip4',\n",
       "       'nppes_provider_state', 'nppes_provider_country',\n",
       "       'specialty_description', 'description_flag',\n",
       "       'medicare_prvdr_enroll_status', 'total_claim_count',\n",
       "       'total_30_day_fill_count', 'total_drug_cost', 'total_day_supply',\n",
       "       'bene_count', 'ge65_suppress_flag', 'total_claim_count_ge65',\n",
       "       'total_30_day_fill_count_ge65', 'total_drug_cost_ge65',\n",
       "       'total_day_supply_ge65', 'bene_count_ge65_suppress_flag',\n",
       "       'bene_count_ge65', 'brand_suppress_flag', 'brand_claim_count',\n",
       "       'brand_drug_cost', 'generic_suppress_flag', 'generic_claim_count',\n",
       "       'generic_drug_cost', 'other_suppress_flag', 'other_claim_count',\n",
       "       'other_drug_cost', 'mapd_suppress_flag', 'mapd_claim_count',\n",
       "       'mapd_drug_cost', 'pdp_suppress_flag', 'pdp_claim_count',\n",
       "       'pdp_drug_cost', 'lis_suppress_flag', 'lis_claim_count',\n",
       "       'lis_drug_cost', 'nonlis_suppress_flag', 'nonlis_claim_count',\n",
       "       'nonlis_drug_cost', 'opioid_claim_count', 'opioid_drug_cost',\n",
       "       'opioid_day_supply', 'opioid_bene_count', 'opioid_prescriber_rate',\n",
       "       'er_opioid_claim_count', 'er_opioid_drug_cost', 'er_opioid_day_supply',\n",
       "       'er_opioid_bene_count', 'er_opioid_prescriber_rate',\n",
       "       'antibiotic_claim_count', 'antibiotic_drug_cost',\n",
       "       'antibiotic_bene_count', 'antipsych_ge65_suppress_flag',\n",
       "       'antipsych_claim_count_ge65', 'antipsych_drug_cost_ge65',\n",
       "       'antipsych_bene_ge65_suppress_flg', 'antipsych_bene_count_ge65',\n",
       "       'average_age_of_beneficiaries', 'beneficiary_age_less_65_count',\n",
       "       'beneficiary_age_65_74_count', 'beneficiary_age_75_84_count',\n",
       "       'beneficiary_age_greater_84_count', 'beneficiary_female_count',\n",
       "       'beneficiary_male_count', 'beneficiary_race_white_count',\n",
       "       'beneficiary_race_black_count', 'beneficiary_race_asian_pi_count',\n",
       "       'beneficiary_race_hispanic_count', 'beneficiary_race_nat_ind_count',\n",
       "       'beneficiary_race_other_count', 'beneficiary_nondual_count',\n",
       "       'beneficiary_dual_count', 'beneficiary_average_risk_score'],\n",
       "      dtype='object')"
      ]
     },
     "execution_count": 213,
     "metadata": {},
     "output_type": "execute_result"
    }
   ],
   "source": [
    "data_family.columns"
   ]
  },
  {
   "cell_type": "code",
   "execution_count": 219,
   "metadata": {},
   "outputs": [
    {
     "data": {
      "text/plain": [
       "(109334, 84)"
      ]
     },
     "execution_count": 219,
     "metadata": {},
     "output_type": "execute_result"
    }
   ],
   "source": [
    "data_family.shape"
   ]
  },
  {
   "cell_type": "code",
   "execution_count": 299,
   "metadata": {},
   "outputs": [],
   "source": [
    "# I created a list of predictors for the linear regression.\n",
    "# The list excludes parameters used to calculate the score (ratio of prescription volume to beneficiaries).\n",
    "# All parameters based on beneficiary counts are normalized to aggregate bene_count.\n",
    "# All parameters based on drug cost is normalized to total_drug_cost.\n",
    "data_family_score = pd.DataFrame()\n",
    "norm_predictors = pd.DataFrame()\n",
    "list_predictors = ['brand_claim_count',\n",
    "       'generic_claim_count','other_claim_count','mapd_claim_count',\n",
    "       'pdp_claim_count','lis_claim_count','nonlis_claim_count',\n",
    "       'total_claim_count_ge65','beneficiary_age_less_65_count',\n",
    "       'beneficiary_age_65_74_count', 'beneficiary_age_75_84_count',\n",
    "       'beneficiary_age_greater_84_count', 'beneficiary_female_count',\n",
    "       'beneficiary_male_count', 'beneficiary_race_white_count',\n",
    "       'beneficiary_race_black_count', 'beneficiary_race_asian_pi_count',\n",
    "       'beneficiary_race_hispanic_count', 'beneficiary_race_nat_ind_count',\n",
    "       'beneficiary_race_other_count','beneficiary_average_risk_score']\n",
    "for elem in list_predictors:\n",
    "    if elem[-11:]=='claim_count':\n",
    "        norm_predictors[elem] = data_family[elem]/data_family['total_claim_count']\n",
    "    elif elem[-5:]=='count':\n",
    "        norm_predictors[elem] = data_family[elem]/data_family['bene_count']\n",
    "    elif elem[-4:]=='ge65':\n",
    "        norm_predictors[elem] = data_family[elem]/data_family['total_claim_count']\n",
    "    else:\n",
    "        norm_predictors[elem] = data_family[elem]\n",
    "\n",
    "norm_predictors['score']= data_family.total_day_supply*data_family.total_claim_count/data_family.bene_count\n",
    "norm_predictors=norm_predictors.dropna(axis=0)"
   ]
  },
  {
   "cell_type": "code",
   "execution_count": 300,
   "metadata": {},
   "outputs": [
    {
     "data": {
      "text/plain": [
       "(1316, 22)"
      ]
     },
     "execution_count": 300,
     "metadata": {},
     "output_type": "execute_result"
    }
   ],
   "source": [
    "norm_predictors.shape"
   ]
  },
  {
   "cell_type": "code",
   "execution_count": 301,
   "metadata": {},
   "outputs": [
    {
     "data": {
      "text/plain": [
       "LinearRegression(copy_X=True, fit_intercept=True, n_jobs=1, normalize=False)"
      ]
     },
     "execution_count": 301,
     "metadata": {},
     "output_type": "execute_result"
    }
   ],
   "source": [
    "# We will perform linear regression on the indicators to  \n",
    "\n",
    "from sklearn import linear_model\n",
    "\n",
    "x = np.array(norm_predictors[list_predictors])\n",
    "y = np.array(norm_predictors['score'])[:,np.newaxis]\n",
    "lr_family = linear_model.LinearRegression()\n",
    "lr_family.fit(x,y)"
   ]
  },
  {
   "cell_type": "code",
   "execution_count": 302,
   "metadata": {},
   "outputs": [
    {
     "data": {
      "text/plain": [
       "array([[ 25465485.99625984,  27862862.32126928, -53328348.31752948,\n",
       "         -1189368.56735076,   1189368.56735082,   2729388.46878692,\n",
       "         -2729388.46878701,   3750845.95349678,  -8740421.43677571,\n",
       "          1460621.34832586,   2194818.03224457,   5084982.05620524,\n",
       "         -5067086.48617226,   5067086.4861723 ,  -1620028.76972561,\n",
       "           772746.92726105,  -8124515.09853986,   -651799.49358972,\n",
       "         -6058699.80669542,  15682296.24129053,   7726537.93640894]])"
      ]
     },
     "execution_count": 302,
     "metadata": {},
     "output_type": "execute_result"
    }
   ],
   "source": [
    "lr_family.coef_"
   ]
  },
  {
   "cell_type": "code",
   "execution_count": 303,
   "metadata": {},
   "outputs": [
    {
     "data": {
      "text/plain": [
       "0.06952222434127286"
      ]
     },
     "execution_count": 303,
     "metadata": {},
     "output_type": "execute_result"
    }
   ],
   "source": [
    "lr_family.score(x,y)"
   ]
  },
  {
   "cell_type": "code",
   "execution_count": 304,
   "metadata": {},
   "outputs": [],
   "source": [
    "xhat = lr_family.predict(x)"
   ]
  },
  {
   "cell_type": "code",
   "execution_count": 305,
   "metadata": {},
   "outputs": [
    {
     "data": {
      "image/png": "[encoded data removed]",
      "text/plain": [
       "<matplotlib.figure.Figure at 0x247bd3e8f28>"
      ]
     },
     "metadata": {},
     "output_type": "display_data"
    }
   ],
   "source": [
    "fig, ax = plt.subplots()\n",
    "ax.scatter(y, xhat, edgecolors=(0, 0, 0))\n",
    "ax.plot([y.min(), y.max()], [y.min(), y.max()], 'k--', lw=2)\n",
    "ax.set_xlabel('Measured')\n",
    "ax.set_ylabel('Predicted')\n",
    "ax.set_xscale(\"log\")\n",
    "ax.set_yscale(\"log\")"
   ]
  },
  {
   "cell_type": "markdown",
   "metadata": {},
   "source": [
    "We observe a weak correlation between the predictor variables and the score. As next steps for this project, I will use other modeling techniques to incorporate non-numeric data such as geography and specialties, while adding orthogonal datasets from other sources to further refine the model."
   ]
  },
  {
   "cell_type": "code",
   "execution_count": null,
   "metadata": {},
   "outputs": [],
   "source": []
  }
 ],
 "metadata": {
  "extensions": {
   "jupyter_dashboards": {
    "activeView": "report_default",
    "version": 1,
    "views": {
     "grid_default": {
      "cellMargin": 10,
      "defaultCellHeight": 20,
      "maxColumns": 12,
      "name": "grid",
      "type": "grid"
     },
     "report_default": {
      "name": "report",
      "type": "report"
     }
    }
   }
  },
  "kernelspec": {
   "display_name": "Python 3",
   "language": "python",
   "name": "python3"
  },
  "language_info": {
   "codemirror_mode": {
    "name": "ipython",
    "version": 3
   },
   "file_extension": ".py",
   "mimetype": "text/x-python",
   "name": "python",
   "nbconvert_exporter": "python",
   "pygments_lexer": "ipython3",
   "version": "3.6.4"
  }
 },
 "nbformat": 4,
 "nbformat_minor": 2
}

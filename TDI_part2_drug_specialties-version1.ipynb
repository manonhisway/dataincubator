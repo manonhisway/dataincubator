{
 "cells": [
  {
   "cell_type": "markdown",
   "metadata": {
    "extensions": {
     "jupyter_dashboards": {
      "version": 1,
      "views": {
       "grid_default": {
        "col": 4,
        "height": 4,
        "hidden": false,
        "row": 23,
        "width": 4
       },
       "report_default": {
        "hidden": false
       }
      }
     }
    }
   },
   "source": [
    "## TDI Project Part 2 - in-depth view of 2016 Medicare Part D Prescriber dataset"
   ]
  },
  {
   "cell_type": "markdown",
   "metadata": {
    "extensions": {
     "jupyter_dashboards": {
      "version": 1,
      "views": {
       "grid_default": {
        "hidden": true
       },
       "report_default": {
        "hidden": false
       }
      }
     }
    }
   },
   "source": [
    "This dataset is from the Center for Medicare and Medicaid Services website (https://www.cms.gov/Research-Statistics-Data-and-Systems/Statistics-Trends-and-Reports/Medicare-Provider-Charge-Data/Part-D-Prescriber.html). The shape of dataset is as follows:\n",
    "\n",
    "(1131550, 84)"
   ]
  },
  {
   "cell_type": "code",
   "execution_count": 11,
   "metadata": {
    "extensions": {
     "jupyter_dashboards": {
      "version": 1,
      "views": {
       "grid_default": {
        "hidden": true
       },
       "report_default": {
        "hidden": true
       }
      }
     }
    }
   },
   "outputs": [],
   "source": [
    "# import modules, read data and create a dict of data\n",
    "%matplotlib inline\n",
    "import numpy as np\n",
    "import pandas as pd\n",
    "from ipywidgets import interact\n",
    "\n",
    "data=pd.read_csv('Medicare_Provider_Utilization_and_Payment_Data__Part_D_Prescriber_Summary_Table_CY2016.csv')\n"
   ]
  },
  {
   "cell_type": "code",
   "execution_count": 12,
   "metadata": {
    "extensions": {
     "jupyter_dashboards": {
      "version": 1,
      "views": {
       "grid_default": {
        "col": 0,
        "height": 4,
        "hidden": false,
        "row": 0,
        "width": 4
       },
       "report_default": {
        "hidden": false
       }
      }
     }
    }
   },
   "outputs": [
    {
     "name": "stdout",
     "output_type": "stream",
     "text": [
      "(1131550, 84)\n"
     ]
    },
    {
     "data": {
      "text/plain": [
       "Index(['npi', 'nppes_provider_last_org_name', 'nppes_provider_first_name',\n",
       "       'nppes_provider_mi', 'nppes_credentials', 'nppes_provider_gender',\n",
       "       'nppes_entity_code', 'nppes_provider_street1', 'nppes_provider_street2',\n",
       "       'nppes_provider_city', 'nppes_provider_zip5', 'nppes_provider_zip4',\n",
       "       'nppes_provider_state', 'nppes_provider_country',\n",
       "       'specialty_description', 'description_flag',\n",
       "       'medicare_prvdr_enroll_status', 'total_claim_count',\n",
       "       'total_30_day_fill_count', 'total_drug_cost', 'total_day_supply',\n",
       "       'bene_count', 'ge65_suppress_flag', 'total_claim_count_ge65',\n",
       "       'total_30_day_fill_count_ge65', 'total_drug_cost_ge65',\n",
       "       'total_day_supply_ge65', 'bene_count_ge65_suppress_flag',\n",
       "       'bene_count_ge65', 'brand_suppress_flag', 'brand_claim_count',\n",
       "       'brand_drug_cost', 'generic_suppress_flag', 'generic_claim_count',\n",
       "       'generic_drug_cost', 'other_suppress_flag', 'other_claim_count',\n",
       "       'other_drug_cost', 'mapd_suppress_flag', 'mapd_claim_count',\n",
       "       'mapd_drug_cost', 'pdp_suppress_flag', 'pdp_claim_count',\n",
       "       'pdp_drug_cost', 'lis_suppress_flag', 'lis_claim_count',\n",
       "       'lis_drug_cost', 'nonlis_suppress_flag', 'nonlis_claim_count',\n",
       "       'nonlis_drug_cost', 'opioid_claim_count', 'opioid_drug_cost',\n",
       "       'opioid_day_supply', 'opioid_bene_count', 'opioid_prescriber_rate',\n",
       "       'er_opioid_claim_count', 'er_opioid_drug_cost', 'er_opioid_day_supply',\n",
       "       'er_opioid_bene_count', 'er_opioid_prescriber_rate',\n",
       "       'antibiotic_claim_count', 'antibiotic_drug_cost',\n",
       "       'antibiotic_bene_count', 'antipsych_ge65_suppress_flag',\n",
       "       'antipsych_claim_count_ge65', 'antipsych_drug_cost_ge65',\n",
       "       'antipsych_bene_ge65_suppress_flg', 'antipsych_bene_count_ge65',\n",
       "       'average_age_of_beneficiaries', 'beneficiary_age_less_65_count',\n",
       "       'beneficiary_age_65_74_count', 'beneficiary_age_75_84_count',\n",
       "       'beneficiary_age_greater_84_count', 'beneficiary_female_count',\n",
       "       'beneficiary_male_count', 'beneficiary_race_white_count',\n",
       "       'beneficiary_race_black_count', 'beneficiary_race_asian_pi_count',\n",
       "       'beneficiary_race_hispanic_count', 'beneficiary_race_nat_ind_count',\n",
       "       'beneficiary_race_other_count', 'beneficiary_nondual_count',\n",
       "       'beneficiary_dual_count', 'beneficiary_average_risk_score'],\n",
       "      dtype='object')"
      ]
     },
     "execution_count": 12,
     "metadata": {},
     "output_type": "execute_result"
    }
   ],
   "source": [
    "print(data.shape)\n",
    "data.columns"
   ]
  },
  {
   "cell_type": "code",
   "execution_count": 13,
   "metadata": {},
   "outputs": [],
   "source": [
    "data1 = pd.DataFrame()\n",
    "data_index = pd.DataFrame()\n",
    "data_calc = pd.DataFrame()\n",
    "data1 = data.loc[:,['specialty_description', 'total_claim_count']]\n",
    "data_calc['ratio_agg'] = data.total_day_supply/data.bene_count\n",
    "data_calc['ratio_day_er_op'] = data.er_opioid_day_supply/data.er_opioid_bene_count\n",
    "data_calc['ratio_day_op'] = data.opioid_day_supply/data.opioid_bene_count\n",
    "data_calc['ratio_day_abx'] = data.antibiotic_claim_count/data.antibiotic_bene_count\n",
    "data_calc['ratio_day_apsy'] = data.antipsych_claim_count_ge65/data.antipsych_bene_count_ge65\n",
    "data_calc['num_prescribers'] = 1\n",
    "data1 = pd.concat([data1, data_calc], axis=1)"
   ]
  },
  {
   "cell_type": "code",
   "execution_count": 14,
   "metadata": {
    "extensions": {
     "jupyter_dashboards": {
      "version": 1,
      "views": {
       "grid_default": {
        "hidden": true
       },
       "report_default": {
        "hidden": true
       }
      }
     }
    }
   },
   "outputs": [
    {
     "data": {
      "text/html": [
       "<div>\n",
       "<style scoped>\n",
       "    .dataframe tbody tr th:only-of-type {\n",
       "        vertical-align: middle;\n",
       "    }\n",
       "\n",
       "    .dataframe tbody tr th {\n",
       "        vertical-align: top;\n",
       "    }\n",
       "\n",
       "    .dataframe thead th {\n",
       "        text-align: right;\n",
       "    }\n",
       "</style>\n",
       "<table border=\"1\" class=\"dataframe\">\n",
       "  <thead>\n",
       "    <tr style=\"text-align: right;\">\n",
       "      <th></th>\n",
       "      <th>total_claim_count</th>\n",
       "      <th>ratio_agg</th>\n",
       "      <th>ratio_day_er_op</th>\n",
       "      <th>ratio_day_op</th>\n",
       "      <th>ratio_day_abx</th>\n",
       "      <th>ratio_day_apsy</th>\n",
       "      <th>num_prescribers</th>\n",
       "    </tr>\n",
       "  </thead>\n",
       "  <tbody>\n",
       "    <tr>\n",
       "      <th>count</th>\n",
       "      <td>1.131550e+06</td>\n",
       "      <td>999617.000000</td>\n",
       "      <td>21332.000000</td>\n",
       "      <td>441495.000000</td>\n",
       "      <td>590823.000000</td>\n",
       "      <td>40338.000000</td>\n",
       "      <td>1131550.0</td>\n",
       "    </tr>\n",
       "    <tr>\n",
       "      <th>mean</th>\n",
       "      <td>1.308800e+03</td>\n",
       "      <td>231.587998</td>\n",
       "      <td>135.858999</td>\n",
       "      <td>48.678325</td>\n",
       "      <td>1.470075</td>\n",
       "      <td>6.259980</td>\n",
       "      <td>1.0</td>\n",
       "    </tr>\n",
       "    <tr>\n",
       "      <th>std</th>\n",
       "      <td>3.147395e+03</td>\n",
       "      <td>289.359034</td>\n",
       "      <td>72.853634</td>\n",
       "      <td>58.015491</td>\n",
       "      <td>0.518976</td>\n",
       "      <td>2.947722</td>\n",
       "      <td>0.0</td>\n",
       "    </tr>\n",
       "    <tr>\n",
       "      <th>min</th>\n",
       "      <td>1.100000e+01</td>\n",
       "      <td>1.000000</td>\n",
       "      <td>1.028571</td>\n",
       "      <td>1.000000</td>\n",
       "      <td>1.000000</td>\n",
       "      <td>1.000000</td>\n",
       "      <td>1.0</td>\n",
       "    </tr>\n",
       "    <tr>\n",
       "      <th>25%</th>\n",
       "      <td>5.400000e+01</td>\n",
       "      <td>27.705882</td>\n",
       "      <td>76.666667</td>\n",
       "      <td>5.533333</td>\n",
       "      <td>1.144928</td>\n",
       "      <td>4.317350</td>\n",
       "      <td>1.0</td>\n",
       "    </tr>\n",
       "    <tr>\n",
       "      <th>50%</th>\n",
       "      <td>2.000000e+02</td>\n",
       "      <td>107.475610</td>\n",
       "      <td>126.000000</td>\n",
       "      <td>22.372549</td>\n",
       "      <td>1.322222</td>\n",
       "      <td>5.818182</td>\n",
       "      <td>1.0</td>\n",
       "    </tr>\n",
       "    <tr>\n",
       "      <th>75%</th>\n",
       "      <td>1.000000e+03</td>\n",
       "      <td>317.902778</td>\n",
       "      <td>188.236869</td>\n",
       "      <td>77.627513</td>\n",
       "      <td>1.620690</td>\n",
       "      <td>7.625000</td>\n",
       "      <td>1.0</td>\n",
       "    </tr>\n",
       "    <tr>\n",
       "      <th>max</th>\n",
       "      <td>3.242090e+05</td>\n",
       "      <td>3311.567797</td>\n",
       "      <td>430.642857</td>\n",
       "      <td>725.480000</td>\n",
       "      <td>28.800000</td>\n",
       "      <td>55.714286</td>\n",
       "      <td>1.0</td>\n",
       "    </tr>\n",
       "  </tbody>\n",
       "</table>\n",
       "</div>"
      ],
      "text/plain": [
       "       total_claim_count      ratio_agg  ratio_day_er_op   ratio_day_op  \\\n",
       "count       1.131550e+06  999617.000000     21332.000000  441495.000000   \n",
       "mean        1.308800e+03     231.587998       135.858999      48.678325   \n",
       "std         3.147395e+03     289.359034        72.853634      58.015491   \n",
       "min         1.100000e+01       1.000000         1.028571       1.000000   \n",
       "25%         5.400000e+01      27.705882        76.666667       5.533333   \n",
       "50%         2.000000e+02     107.475610       126.000000      22.372549   \n",
       "75%         1.000000e+03     317.902778       188.236869      77.627513   \n",
       "max         3.242090e+05    3311.567797       430.642857     725.480000   \n",
       "\n",
       "       ratio_day_abx  ratio_day_apsy  num_prescribers  \n",
       "count  590823.000000    40338.000000        1131550.0  \n",
       "mean        1.470075        6.259980              1.0  \n",
       "std         0.518976        2.947722              0.0  \n",
       "min         1.000000        1.000000              1.0  \n",
       "25%         1.144928        4.317350              1.0  \n",
       "50%         1.322222        5.818182              1.0  \n",
       "75%         1.620690        7.625000              1.0  \n",
       "max        28.800000       55.714286              1.0  "
      ]
     },
     "execution_count": 14,
     "metadata": {},
     "output_type": "execute_result"
    }
   ],
   "source": [
    "data1.describe()"
   ]
  },
  {
   "cell_type": "code",
   "execution_count": 15,
   "metadata": {},
   "outputs": [
    {
     "data": {
      "text/plain": [
       "223"
      ]
     },
     "execution_count": 15,
     "metadata": {},
     "output_type": "execute_result"
    }
   ],
   "source": [
    "# There are a total of 223 unique categories\n",
    "data1.specialty_description.unique().size"
   ]
  },
  {
   "cell_type": "code",
   "execution_count": 16,
   "metadata": {},
   "outputs": [],
   "source": [
    "# Group individual practices by specialty description and sum columns.\n",
    "\n",
    "data_index = data1.groupby(['specialty_description'], as_index=True).sum()\n",
    "\n",
    "# overlapping entries identified and consolidated\n",
    "\n",
    "data_index.loc['Allergy/Immunology'] = data_index.loc['Allergy/Immunology']+ data_index.loc['Allergy/ Immunology']\n",
    "data_index.drop('Allergy/ Immunology', inplace=True)\n",
    "\n",
    "data_index.loc['Clinical Cardiatric Electrophysiology'] = data_index.loc['Clinical Cardiatric Electrophysiology']+ data_index.loc['Cardiac Electrophysiology']\n",
    "data_index.drop('Cardiac Electrophysiology', inplace=True)\n",
    "\n",
    "data_index.loc['Orthopedic Surgery'] = data_index.loc['Orthopedic Surgery']+ data_index.loc['Orthopaedic Surgery']\n",
    "data_index.drop('Orthopaedic Surgery', inplace=True)\n",
    "\n",
    "data_index.loc['Colorectal Surgery (Proctology)'] = data_index.loc['Colorectal Surgery (Proctology)']+ data_index.loc['Colon & Rectal Surgery']\n",
    "data_index.drop('Colon & Rectal Surgery', inplace=True)\n",
    "\n",
    "# Normalize per-prescriber value for each of the ratios calculated in previous cell.\n",
    "data_index['ratio_agg']=data_index['ratio_agg']/data_index['num_prescribers']\n",
    "data_index['ratio_day_er_op']=data_index['ratio_day_er_op']/data_index['num_prescribers']\n",
    "data_index['ratio_day_op']=data_index['ratio_day_op']/data_index['num_prescribers']\n",
    "data_index['ratio_day_abx']=data_index['ratio_day_abx']/data_index['num_prescribers']\n",
    "data_index['ratio_day_apsy']=data_index['ratio_day_apsy']/data_index['num_prescribers']"
   ]
  },
  {
   "cell_type": "code",
   "execution_count": 17,
   "metadata": {},
   "outputs": [
    {
     "data": {
      "text/html": [
       "<div>\n",
       "<style scoped>\n",
       "    .dataframe tbody tr th:only-of-type {\n",
       "        vertical-align: middle;\n",
       "    }\n",
       "\n",
       "    .dataframe tbody tr th {\n",
       "        vertical-align: top;\n",
       "    }\n",
       "\n",
       "    .dataframe thead th {\n",
       "        text-align: right;\n",
       "    }\n",
       "</style>\n",
       "<table border=\"1\" class=\"dataframe\">\n",
       "  <thead>\n",
       "    <tr style=\"text-align: right;\">\n",
       "      <th></th>\n",
       "      <th>total_claim_count</th>\n",
       "      <th>ratio_agg</th>\n",
       "      <th>ratio_day_er_op</th>\n",
       "      <th>ratio_day_op</th>\n",
       "      <th>ratio_day_abx</th>\n",
       "      <th>ratio_day_apsy</th>\n",
       "      <th>num_prescribers</th>\n",
       "    </tr>\n",
       "    <tr>\n",
       "      <th>specialty_description</th>\n",
       "      <th></th>\n",
       "      <th></th>\n",
       "      <th></th>\n",
       "      <th></th>\n",
       "      <th></th>\n",
       "      <th></th>\n",
       "      <th></th>\n",
       "    </tr>\n",
       "  </thead>\n",
       "  <tbody>\n",
       "    <tr>\n",
       "      <th>Clinical Neuropsychologist</th>\n",
       "      <td>4122.0</td>\n",
       "      <td>133.378693</td>\n",
       "      <td>0.000000</td>\n",
       "      <td>0.000000</td>\n",
       "      <td>0.000000</td>\n",
       "      <td>0.444444</td>\n",
       "      <td>15.0</td>\n",
       "    </tr>\n",
       "    <tr>\n",
       "      <th>Neurological Surgery</th>\n",
       "      <td>33958.0</td>\n",
       "      <td>31.399751</td>\n",
       "      <td>0.000000</td>\n",
       "      <td>6.432077</td>\n",
       "      <td>0.037635</td>\n",
       "      <td>0.000000</td>\n",
       "      <td>576.0</td>\n",
       "    </tr>\n",
       "    <tr>\n",
       "      <th>Neurology</th>\n",
       "      <td>22280390.0</td>\n",
       "      <td>273.646314</td>\n",
       "      <td>3.916885</td>\n",
       "      <td>30.691743</td>\n",
       "      <td>0.056565</td>\n",
       "      <td>0.638619</td>\n",
       "      <td>13656.0</td>\n",
       "    </tr>\n",
       "    <tr>\n",
       "      <th>Neuromusculoskeletal Medicine, Sports Medicine</th>\n",
       "      <td>13730.0</td>\n",
       "      <td>121.802216</td>\n",
       "      <td>10.763420</td>\n",
       "      <td>30.428219</td>\n",
       "      <td>0.215502</td>\n",
       "      <td>0.113659</td>\n",
       "      <td>59.0</td>\n",
       "    </tr>\n",
       "    <tr>\n",
       "      <th>Neuropsychiatry</th>\n",
       "      <td>753691.0</td>\n",
       "      <td>182.001871</td>\n",
       "      <td>1.009370</td>\n",
       "      <td>2.469370</td>\n",
       "      <td>0.013520</td>\n",
       "      <td>0.272834</td>\n",
       "      <td>2323.0</td>\n",
       "    </tr>\n",
       "  </tbody>\n",
       "</table>\n",
       "</div>"
      ],
      "text/plain": [
       "                                                total_claim_count   ratio_agg  \\\n",
       "specialty_description                                                           \n",
       "Clinical Neuropsychologist                                 4122.0  133.378693   \n",
       "Neurological Surgery                                      33958.0   31.399751   \n",
       "Neurology                                              22280390.0  273.646314   \n",
       "Neuromusculoskeletal Medicine, Sports Medicine            13730.0  121.802216   \n",
       "Neuropsychiatry                                          753691.0  182.001871   \n",
       "\n",
       "                                                ratio_day_er_op  ratio_day_op  \\\n",
       "specialty_description                                                           \n",
       "Clinical Neuropsychologist                             0.000000      0.000000   \n",
       "Neurological Surgery                                   0.000000      6.432077   \n",
       "Neurology                                              3.916885     30.691743   \n",
       "Neuromusculoskeletal Medicine, Sports Medicine        10.763420     30.428219   \n",
       "Neuropsychiatry                                        1.009370      2.469370   \n",
       "\n",
       "                                                ratio_day_abx  ratio_day_apsy  \\\n",
       "specialty_description                                                           \n",
       "Clinical Neuropsychologist                           0.000000        0.444444   \n",
       "Neurological Surgery                                 0.037635        0.000000   \n",
       "Neurology                                            0.056565        0.638619   \n",
       "Neuromusculoskeletal Medicine, Sports Medicine       0.215502        0.113659   \n",
       "Neuropsychiatry                                      0.013520        0.272834   \n",
       "\n",
       "                                                num_prescribers  \n",
       "specialty_description                                            \n",
       "Clinical Neuropsychologist                                 15.0  \n",
       "Neurological Surgery                                      576.0  \n",
       "Neurology                                               13656.0  \n",
       "Neuromusculoskeletal Medicine, Sports Medicine             59.0  \n",
       "Neuropsychiatry                                          2323.0  "
      ]
     },
     "execution_count": 17,
     "metadata": {},
     "output_type": "execute_result"
    }
   ],
   "source": [
    "# Function used to identify duplicates in specialties and manually consolidate data\n",
    "\n",
    "import re\n",
    "a = data_index.index.str.contains('neu', flags=re.IGNORECASE)\n",
    "data_index.loc[a].head()"
   ]
  },
  {
   "cell_type": "code",
   "execution_count": 18,
   "metadata": {},
   "outputs": [
    {
     "data": {
      "text/html": [
       "<div>\n",
       "<style scoped>\n",
       "    .dataframe tbody tr th:only-of-type {\n",
       "        vertical-align: middle;\n",
       "    }\n",
       "\n",
       "    .dataframe tbody tr th {\n",
       "        vertical-align: top;\n",
       "    }\n",
       "\n",
       "    .dataframe thead th {\n",
       "        text-align: right;\n",
       "    }\n",
       "</style>\n",
       "<table border=\"1\" class=\"dataframe\">\n",
       "  <thead>\n",
       "    <tr style=\"text-align: right;\">\n",
       "      <th></th>\n",
       "      <th>total_claim_count</th>\n",
       "      <th>ratio_agg</th>\n",
       "      <th>ratio_day_er_op</th>\n",
       "      <th>ratio_day_op</th>\n",
       "      <th>ratio_day_abx</th>\n",
       "      <th>ratio_day_apsy</th>\n",
       "      <th>num_prescribers</th>\n",
       "    </tr>\n",
       "    <tr>\n",
       "      <th>specialty_description</th>\n",
       "      <th></th>\n",
       "      <th></th>\n",
       "      <th></th>\n",
       "      <th></th>\n",
       "      <th></th>\n",
       "      <th></th>\n",
       "      <th></th>\n",
       "    </tr>\n",
       "  </thead>\n",
       "  <tbody>\n",
       "    <tr>\n",
       "      <th>Acupuncturist</th>\n",
       "      <td>7237.0</td>\n",
       "      <td>64.850262</td>\n",
       "      <td>0.000000</td>\n",
       "      <td>0.350323</td>\n",
       "      <td>0.143676</td>\n",
       "      <td>0.000000</td>\n",
       "      <td>86.0</td>\n",
       "    </tr>\n",
       "    <tr>\n",
       "      <th>Addiction Medicine</th>\n",
       "      <td>205317.0</td>\n",
       "      <td>286.767328</td>\n",
       "      <td>16.732671</td>\n",
       "      <td>41.744060</td>\n",
       "      <td>0.218327</td>\n",
       "      <td>0.317555</td>\n",
       "      <td>217.0</td>\n",
       "    </tr>\n",
       "    <tr>\n",
       "      <th>Advanced Practice Dental Therapist</th>\n",
       "      <td>106.0</td>\n",
       "      <td>30.190476</td>\n",
       "      <td>0.000000</td>\n",
       "      <td>0.000000</td>\n",
       "      <td>1.589744</td>\n",
       "      <td>0.000000</td>\n",
       "      <td>2.0</td>\n",
       "    </tr>\n",
       "    <tr>\n",
       "      <th>Allergy/Immunology</th>\n",
       "      <td>2728386.0</td>\n",
       "      <td>181.699000</td>\n",
       "      <td>0.232146</td>\n",
       "      <td>2.139729</td>\n",
       "      <td>0.831476</td>\n",
       "      <td>0.011768</td>\n",
       "      <td>4016.0</td>\n",
       "    </tr>\n",
       "    <tr>\n",
       "      <th>Alzheimer Center (Dementia Center)</th>\n",
       "      <td>24.0</td>\n",
       "      <td>0.000000</td>\n",
       "      <td>0.000000</td>\n",
       "      <td>0.000000</td>\n",
       "      <td>0.000000</td>\n",
       "      <td>0.000000</td>\n",
       "      <td>1.0</td>\n",
       "    </tr>\n",
       "  </tbody>\n",
       "</table>\n",
       "</div>"
      ],
      "text/plain": [
       "                                    total_claim_count   ratio_agg  \\\n",
       "specialty_description                                               \n",
       "Acupuncturist                                  7237.0   64.850262   \n",
       "Addiction Medicine                           205317.0  286.767328   \n",
       "Advanced Practice Dental Therapist              106.0   30.190476   \n",
       "Allergy/Immunology                          2728386.0  181.699000   \n",
       "Alzheimer Center (Dementia Center)               24.0    0.000000   \n",
       "\n",
       "                                    ratio_day_er_op  ratio_day_op  \\\n",
       "specialty_description                                               \n",
       "Acupuncturist                              0.000000      0.350323   \n",
       "Addiction Medicine                        16.732671     41.744060   \n",
       "Advanced Practice Dental Therapist         0.000000      0.000000   \n",
       "Allergy/Immunology                         0.232146      2.139729   \n",
       "Alzheimer Center (Dementia Center)         0.000000      0.000000   \n",
       "\n",
       "                                    ratio_day_abx  ratio_day_apsy  \\\n",
       "specialty_description                                               \n",
       "Acupuncturist                            0.143676        0.000000   \n",
       "Addiction Medicine                       0.218327        0.317555   \n",
       "Advanced Practice Dental Therapist       1.589744        0.000000   \n",
       "Allergy/Immunology                       0.831476        0.011768   \n",
       "Alzheimer Center (Dementia Center)       0.000000        0.000000   \n",
       "\n",
       "                                    num_prescribers  \n",
       "specialty_description                                \n",
       "Acupuncturist                                  86.0  \n",
       "Addiction Medicine                            217.0  \n",
       "Advanced Practice Dental Therapist              2.0  \n",
       "Allergy/Immunology                           4016.0  \n",
       "Alzheimer Center (Dementia Center)              1.0  "
      ]
     },
     "execution_count": 18,
     "metadata": {},
     "output_type": "execute_result"
    }
   ],
   "source": [
    "data_index.head()"
   ]
  },
  {
   "cell_type": "code",
   "execution_count": 19,
   "metadata": {},
   "outputs": [
    {
     "data": {
      "image/png": "[encoded data removed]",
      "text/plain": [
       "<Figure size 432x288 with 1 Axes>"
      ]
     },
     "metadata": {},
     "output_type": "display_data"
    }
   ],
   "source": [
    "# View distribution of specialties by number of prescribers.\n",
    "# I used this as a surrogate for the level of prevalence of each specialty.\n",
    "\n",
    "import matplotlib.pyplot as plt\n",
    "a = data_index.sort_values(by='num_prescribers', ascending=False).dropna(axis=0).loc[:,['num_prescribers']]\n",
    "ax = plt.plot(np.arange(len(data_index)),a.values)\n",
    "plt.xlabel('Specialty by cumulative count')\n",
    "plt.ylabel('Number of prescribers')\n",
    "plt.title('Number of prescribers by specialty in descending order')\n",
    "\n",
    "# We will analyze the top 50 specialties by number of prescribers to exclude esoteric categories (e.g. drivers)\n",
    "data_index = data_index.sort_values(by='num_prescribers', ascending=False).dropna(axis=0).head(50)"
   ]
  },
  {
   "cell_type": "code",
   "execution_count": 20,
   "metadata": {
    "extensions": {
     "jupyter_dashboards": {
      "version": 1,
      "views": {
       "grid_default": {
        "col": 7,
        "height": 23,
        "hidden": false,
        "row": 0,
        "width": 5
       },
       "report_default": {
        "hidden": false
       }
      }
     }
    },
    "scrolled": false
   },
   "outputs": [
    {
     "data": {
      "application/vnd.jupyter.widget-view+json": {
       "model_id": "0d1dd2e416d94674a3c47e29dca3a5a5",
       "version_major": 2,
       "version_minor": 0
      },
      "text/plain": [
       "interactive(children=(Dropdown(description='drug_type', options=('Aggregate', 'Extended-Release Opioid', 'Opio…"
      ]
     },
     "metadata": {},
     "output_type": "display_data"
    }
   ],
   "source": [
    "# In this section, I created an interactive code to pull the 20 specialties with highest prescription-to-beneficiary ratio for each drug class.\n",
    "def f(drug_type):\n",
    "    top20_data = pd.DataFrame()\n",
    "    d = {'Extended-Release Opioid':'day_er_op', 'Opioid': 'day_op', 'Antibiotics': 'day_abx', 'Antipsychotic': 'day_apsy', 'Aggregate':'agg'}\n",
    "    probe = 'ratio_{}'.format(d[drug_type])\n",
    "    top20_data= data_index.sort_values(by=probe, ascending=False).dropna(axis=0).head(20).loc[:,[probe]]\n",
    "    print(top20_data)\n",
    "    \n",
    "    return\n",
    "\n",
    "interact(f, drug_type=['Aggregate', 'Extended-Release Opioid','Opioid', 'Antibiotics', 'Antipsychotic']);"
   ]
  },
  {
   "cell_type": "markdown",
   "metadata": {},
   "source": [
    "Aggregate result shows that primary care specialties (geriatrics, family medicine, general practice and internal medicine) have the highest ratio of drug prescription to beneficiaries.\n",
    "\n",
    "Within each drug sub-category, the category-specific specialties rank at the top. However, we still find the primary care specialties within the top 20 list in each drug sub-category. Based on this information, patterns of drug prescription in general practices merit further scrutiny.\n",
    "\n",
    "Now we look at potential predictors of drug prescription in one of the four primary care specialties (family practice) from our original dataset:"
   ]
  },
  {
   "cell_type": "code",
   "execution_count": 21,
   "metadata": {},
   "outputs": [],
   "source": [
    "data_family = data.loc[data.specialty_description=='Family Practice']"
   ]
  },
  {
   "cell_type": "code",
   "execution_count": 22,
   "metadata": {},
   "outputs": [
    {
     "data": {
      "text/plain": [
       "Index(['npi', 'nppes_provider_last_org_name', 'nppes_provider_first_name',\n",
       "       'nppes_provider_mi', 'nppes_credentials', 'nppes_provider_gender',\n",
       "       'nppes_entity_code', 'nppes_provider_street1', 'nppes_provider_street2',\n",
       "       'nppes_provider_city', 'nppes_provider_zip5', 'nppes_provider_zip4',\n",
       "       'nppes_provider_state', 'nppes_provider_country',\n",
       "       'specialty_description', 'description_flag',\n",
       "       'medicare_prvdr_enroll_status', 'total_claim_count',\n",
       "       'total_30_day_fill_count', 'total_drug_cost', 'total_day_supply',\n",
       "       'bene_count', 'ge65_suppress_flag', 'total_claim_count_ge65',\n",
       "       'total_30_day_fill_count_ge65', 'total_drug_cost_ge65',\n",
       "       'total_day_supply_ge65', 'bene_count_ge65_suppress_flag',\n",
       "       'bene_count_ge65', 'brand_suppress_flag', 'brand_claim_count',\n",
       "       'brand_drug_cost', 'generic_suppress_flag', 'generic_claim_count',\n",
       "       'generic_drug_cost', 'other_suppress_flag', 'other_claim_count',\n",
       "       'other_drug_cost', 'mapd_suppress_flag', 'mapd_claim_count',\n",
       "       'mapd_drug_cost', 'pdp_suppress_flag', 'pdp_claim_count',\n",
       "       'pdp_drug_cost', 'lis_suppress_flag', 'lis_claim_count',\n",
       "       'lis_drug_cost', 'nonlis_suppress_flag', 'nonlis_claim_count',\n",
       "       'nonlis_drug_cost', 'opioid_claim_count', 'opioid_drug_cost',\n",
       "       'opioid_day_supply', 'opioid_bene_count', 'opioid_prescriber_rate',\n",
       "       'er_opioid_claim_count', 'er_opioid_drug_cost', 'er_opioid_day_supply',\n",
       "       'er_opioid_bene_count', 'er_opioid_prescriber_rate',\n",
       "       'antibiotic_claim_count', 'antibiotic_drug_cost',\n",
       "       'antibiotic_bene_count', 'antipsych_ge65_suppress_flag',\n",
       "       'antipsych_claim_count_ge65', 'antipsych_drug_cost_ge65',\n",
       "       'antipsych_bene_ge65_suppress_flg', 'antipsych_bene_count_ge65',\n",
       "       'average_age_of_beneficiaries', 'beneficiary_age_less_65_count',\n",
       "       'beneficiary_age_65_74_count', 'beneficiary_age_75_84_count',\n",
       "       'beneficiary_age_greater_84_count', 'beneficiary_female_count',\n",
       "       'beneficiary_male_count', 'beneficiary_race_white_count',\n",
       "       'beneficiary_race_black_count', 'beneficiary_race_asian_pi_count',\n",
       "       'beneficiary_race_hispanic_count', 'beneficiary_race_nat_ind_count',\n",
       "       'beneficiary_race_other_count', 'beneficiary_nondual_count',\n",
       "       'beneficiary_dual_count', 'beneficiary_average_risk_score'],\n",
       "      dtype='object')"
      ]
     },
     "execution_count": 22,
     "metadata": {},
     "output_type": "execute_result"
    }
   ],
   "source": [
    "data_family.columns"
   ]
  },
  {
   "cell_type": "code",
   "execution_count": 23,
   "metadata": {},
   "outputs": [
    {
     "data": {
      "text/plain": [
       "(109334, 84)"
      ]
     },
     "execution_count": 23,
     "metadata": {},
     "output_type": "execute_result"
    }
   ],
   "source": [
    "data_family.shape"
   ]
  },
  {
   "cell_type": "code",
   "execution_count": 24,
   "metadata": {},
   "outputs": [],
   "source": [
    "# I created a list of predictors for the linear regression.\n",
    "# The list excludes parameters used to calculate the score (ratio of prescription volume to beneficiaries).\n",
    "# All parameters based on beneficiary counts are normalized to aggregate bene_count.\n",
    "# All parameters based on drug cost is normalized to total_drug_cost.\n",
    "data_family_score = pd.DataFrame()\n",
    "norm_predictors = pd.DataFrame()\n",
    "list_predictors = ['brand_claim_count',\n",
    "       'generic_claim_count','other_claim_count','mapd_claim_count',\n",
    "       'pdp_claim_count','lis_claim_count','nonlis_claim_count',\n",
    "       'total_claim_count_ge65','beneficiary_age_less_65_count',\n",
    "       'beneficiary_age_65_74_count', 'beneficiary_age_75_84_count',\n",
    "       'beneficiary_age_greater_84_count', 'beneficiary_female_count',\n",
    "       'beneficiary_male_count', 'beneficiary_race_white_count',\n",
    "       'beneficiary_race_black_count', 'beneficiary_race_asian_pi_count',\n",
    "       'beneficiary_race_hispanic_count', 'beneficiary_race_nat_ind_count',\n",
    "       'beneficiary_race_other_count','beneficiary_average_risk_score']\n",
    "for elem in list_predictors:\n",
    "    if elem[-11:]=='claim_count':\n",
    "        norm_predictors[elem] = data_family[elem]/data_family['total_claim_count']\n",
    "    elif elem[-5:]=='count':\n",
    "        norm_predictors[elem] = data_family[elem]/data_family['bene_count']\n",
    "    elif elem[-4:]=='ge65':\n",
    "        norm_predictors[elem] = data_family[elem]/data_family['total_claim_count']\n",
    "    else:\n",
    "        norm_predictors[elem] = data_family[elem]\n",
    "\n",
    "norm_predictors['score']= data_family.total_day_supply*data_family.total_claim_count/data_family.bene_count\n",
    "norm_predictors=norm_predictors.dropna(axis=0)"
   ]
  },
  {
   "cell_type": "code",
   "execution_count": 25,
   "metadata": {},
   "outputs": [
    {
     "data": {
      "text/plain": [
       "(1316, 22)"
      ]
     },
     "execution_count": 25,
     "metadata": {},
     "output_type": "execute_result"
    }
   ],
   "source": [
    "norm_predictors.shape"
   ]
  },
  {
   "cell_type": "code",
   "execution_count": 26,
   "metadata": {},
   "outputs": [
    {
     "data": {
      "text/plain": [
       "LinearRegression(copy_X=True, fit_intercept=True, n_jobs=1, normalize=False)"
      ]
     },
     "execution_count": 26,
     "metadata": {},
     "output_type": "execute_result"
    }
   ],
   "source": [
    "# We will perform linear regression on the indicators to generate a model using our predictors \n",
    "\n",
    "from sklearn import linear_model\n",
    "\n",
    "x = np.array(norm_predictors[list_predictors])\n",
    "y = np.array(norm_predictors['score'])[:,np.newaxis]\n",
    "lr_family = linear_model.LinearRegression()\n",
    "lr_family.fit(x,y)"
   ]
  },
  {
   "cell_type": "code",
   "execution_count": 27,
   "metadata": {},
   "outputs": [
    {
     "data": {
      "text/plain": [
       "array([[ 2.14253121e+19,  2.14253121e+19,  2.14253121e+19,\n",
       "        -1.77694309e+20, -1.77694309e+20, -3.49970953e+19,\n",
       "        -3.49970953e+19,  3.77127326e+06,  1.94996978e+18,\n",
       "         1.94996978e+18,  1.94996978e+18,  1.94996978e+18,\n",
       "         2.34087771e+19,  2.34087771e+19, -5.54334945e+17,\n",
       "        -5.54334945e+17, -5.54334945e+17, -5.54334945e+17,\n",
       "        -5.54334945e+17, -5.54334945e+17,  7.73157528e+06]])"
      ]
     },
     "execution_count": 27,
     "metadata": {},
     "output_type": "execute_result"
    }
   ],
   "source": [
    "lr_family.coef_"
   ]
  },
  {
   "cell_type": "code",
   "execution_count": 28,
   "metadata": {},
   "outputs": [
    {
     "data": {
      "text/plain": [
       "0.06933289499806228"
      ]
     },
     "execution_count": 28,
     "metadata": {},
     "output_type": "execute_result"
    }
   ],
   "source": [
    "lr_family.score(x,y)"
   ]
  },
  {
   "cell_type": "code",
   "execution_count": 29,
   "metadata": {},
   "outputs": [],
   "source": [
    "xhat = lr_family.predict(x)"
   ]
  },
  {
   "cell_type": "code",
   "execution_count": 30,
   "metadata": {},
   "outputs": [
    {
     "data": {
      "image/png": "[encoded data removed]",
      "text/plain": [
       "<Figure size 432x288 with 1 Axes>"
      ]
     },
     "metadata": {},
     "output_type": "display_data"
    }
   ],
   "source": [
    "fig, ax = plt.subplots()\n",
    "ax.scatter(y, xhat, edgecolors=(0, 0, 0))\n",
    "ax.plot([y.min(), y.max()], [y.min(), y.max()], 'k--', lw=2)\n",
    "ax.set_xlabel('Measured')\n",
    "ax.set_ylabel('Predicted')\n",
    "ax.set_xscale(\"log\")\n",
    "ax.set_yscale(\"log\")"
   ]
  },
  {
   "cell_type": "markdown",
   "metadata": {},
   "source": [
    "We observe a weak correlation between the predictor variables and the score. As next steps for this project, I will use other modeling techniques to incorporate non-numeric data such as geography and specialties, while adding orthogonal datasets from other sources to further refine the model."
   ]
  },
  {
   "cell_type": "code",
   "execution_count": null,
   "metadata": {},
   "outputs": [],
   "source": []
  }
 ],
 "metadata": {
  "extensions": {
   "jupyter_dashboards": {
    "activeView": "report_default",
    "version": 1,
    "views": {
     "grid_default": {
      "cellMargin": 10,
      "defaultCellHeight": 20,
      "maxColumns": 12,
      "name": "grid",
      "type": "grid"
     },
     "report_default": {
      "name": "report",
      "type": "report"
     }
    }
   }
  },
  "kernelspec": {
   "display_name": "Python 3",
   "language": "python",
   "name": "python3"
  },
  "language_info": {
   "codemirror_mode": {
    "name": "ipython",
    "version": 3
   },
   "file_extension": ".py",
   "mimetype": "text/x-python",
   "name": "python",
   "nbconvert_exporter": "python",
   "pygments_lexer": "ipython3",
   "version": "3.6.5"
  },
  "widgets": {
   "application/vnd.jupyter.widget-state+json": {
    "state": {
     "0d1dd2e416d94674a3c47e29dca3a5a5": {
      "model_module": "@jupyter-widgets/controls",
      "model_module_version": "1.2.0",
      "model_name": "VBoxModel",
      "state": {
       "_dom_classes": [
        "widget-interact"
       ],
       "children": [
        "IPY_MODEL_4d596e78f1954081a3d1ce17b049d1a4",
        "IPY_MODEL_365df5bcef9f4ae08816c4f0ae36ac9b"
       ],
       "layout": "IPY_MODEL_990f3fbe64574b9db83d09dea110b020"
      }
     },
     "3111006e37304d658bb8d40521b9c246": {
      "model_module": "@jupyter-widgets/controls",
      "model_module_version": "1.2.0",
      "model_name": "DropdownModel",
      "state": {
       "_options_labels": [
        "Aggregate",
        "Extended-Release Opioid",
        "Opioid",
        "Antibiotics",
        "Antipsychotic"
       ],
       "description": "drug_type",
       "index": 3,
       "layout": "IPY_MODEL_99c3a7e87d20490dbd86050c64cba0a1",
       "style": "IPY_MODEL_57182bd058e144098c80792b04b07e5b"
      }
     },
     "365df5bcef9f4ae08816c4f0ae36ac9b": {
      "model_module": "@jupyter-widgets/output",
      "model_module_version": "1.0.0",
      "model_name": "OutputModel",
      "state": {
       "layout": "IPY_MODEL_b84e52de827240ccbaf40894c84b403e",
       "outputs": [
        {
         "name": "stdout",
         "output_type": "stream",
         "text": "                                    ratio_day_abx\nspecialty_description                            \nInfectious Disease                       2.524198\nGeriatric Medicine                       1.696812\nUrology                                  1.563340\nPulmonary Disease                        1.515123\nDermatology                              1.272110\nGastroenterology                         1.258979\nFamily Practice                          1.244530\nNephrology                               1.072591\nOral Surgery (Dentists only)             1.063894\nPodiatry                                 1.061311\nHematology-Oncology                      1.056058\nGeneral Practice                         1.053454\nInternal Medicine                        1.044004\nDentist                                  1.036522\nOtolaryngology                           1.033359\nEmergency Medicine                       0.958409\nMedical Oncology                         0.864497\nPlastic and Reconstructive Surgery       0.862011\nAllergy/Immunology                       0.831476\nPhysician Assistant                      0.772633\n"
        }
       ]
      }
     },
     "4d596e78f1954081a3d1ce17b049d1a4": {
      "model_module": "@jupyter-widgets/controls",
      "model_module_version": "1.2.0",
      "model_name": "DropdownModel",
      "state": {
       "_options_labels": [
        "Aggregate",
        "Extended-Release Opioid",
        "Opioid",
        "Antibiotics",
        "Antipsychotic"
       ],
       "description": "drug_type",
       "index": 3,
       "layout": "IPY_MODEL_6d6e353e074b4142bca49b49d2f5c300",
       "style": "IPY_MODEL_d3f6ade43b4643b3b0692da5dd5f2c60"
      }
     },
     "57182bd058e144098c80792b04b07e5b": {
      "model_module": "@jupyter-widgets/controls",
      "model_module_version": "1.2.0",
      "model_name": "DescriptionStyleModel",
      "state": {
       "description_width": ""
      }
     },
     "6abc1b6f2b0c4aa49f8621e35063924b": {
      "model_module": "@jupyter-widgets/base",
      "model_module_version": "1.0.0",
      "model_name": "LayoutModel",
      "state": {}
     },
     "6d6e353e074b4142bca49b49d2f5c300": {
      "model_module": "@jupyter-widgets/base",
      "model_module_version": "1.0.0",
      "model_name": "LayoutModel",
      "state": {}
     },
     "7bda304ae9424b5991a3c7332a739e18": {
      "model_module": "@jupyter-widgets/base",
      "model_module_version": "1.0.0",
      "model_name": "LayoutModel",
      "state": {}
     },
     "990f3fbe64574b9db83d09dea110b020": {
      "model_module": "@jupyter-widgets/base",
      "model_module_version": "1.0.0",
      "model_name": "LayoutModel",
      "state": {}
     },
     "99c3a7e87d20490dbd86050c64cba0a1": {
      "model_module": "@jupyter-widgets/base",
      "model_module_version": "1.0.0",
      "model_name": "LayoutModel",
      "state": {}
     },
     "b84e52de827240ccbaf40894c84b403e": {
      "model_module": "@jupyter-widgets/base",
      "model_module_version": "1.0.0",
      "model_name": "LayoutModel",
      "state": {}
     },
     "c7aa8287f814495283edfb180b18f009": {
      "model_module": "@jupyter-widgets/controls",
      "model_module_version": "1.2.0",
      "model_name": "VBoxModel",
      "state": {
       "_dom_classes": [
        "widget-interact"
       ],
       "children": [
        "IPY_MODEL_3111006e37304d658bb8d40521b9c246",
        "IPY_MODEL_e6c7d7fb3e4f4e4cb49cf3497d9a97f3"
       ],
       "layout": "IPY_MODEL_6abc1b6f2b0c4aa49f8621e35063924b"
      }
     },
     "d3f6ade43b4643b3b0692da5dd5f2c60": {
      "model_module": "@jupyter-widgets/controls",
      "model_module_version": "1.2.0",
      "model_name": "DescriptionStyleModel",
      "state": {
       "description_width": ""
      }
     },
     "e6c7d7fb3e4f4e4cb49cf3497d9a97f3": {
      "model_module": "@jupyter-widgets/output",
      "model_module_version": "1.0.0",
      "model_name": "OutputModel",
      "state": {
       "layout": "IPY_MODEL_7bda304ae9424b5991a3c7332a739e18",
       "outputs": [
        {
         "name": "stdout",
         "output_type": "stream",
         "text": "                                    ratio_day_abx\nspecialty_description                            \nInfectious Disease                       2.524198\nGeriatric Medicine                       1.696812\nUrology                                  1.563340\nPulmonary Disease                        1.515123\nDermatology                              1.272110\nGastroenterology                         1.258979\nFamily Practice                          1.244530\nNephrology                               1.072591\nOral Surgery (Dentists only)             1.063894\nPodiatry                                 1.061311\nHematology-Oncology                      1.056058\nGeneral Practice                         1.053454\nInternal Medicine                        1.044004\nDentist                                  1.036522\nOtolaryngology                           1.033359\nEmergency Medicine                       0.958409\nMedical Oncology                         0.864497\nPlastic and Reconstructive Surgery       0.862011\nAllergy/Immunology                       0.831476\nPhysician Assistant                      0.772633\n"
        }
       ]
      }
     }
    },
    "version_major": 2,
    "version_minor": 0
   }
  }
 },
 "nbformat": 4,
 "nbformat_minor": 2
}
